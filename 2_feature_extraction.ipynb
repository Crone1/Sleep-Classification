{
  "nbformat": 4,
  "nbformat_minor": 0,
  "metadata": {
    "colab": {
      "name": "2-feature-extraction.ipynb",
      "provenance": [],
      "collapsed_sections": [
        "59zzSDpHn7Uf",
        "ptNp4gASm2H5",
        "jdrjjNei3cQg",
        "1iFzjTax3q7v",
        "aBLWa3wX-W1g",
        "IrqfjdME18qj",
        "M1Fqi2bHnKam",
        "0pQxo4jEocYc",
        "nB28ZakajI_o",
        "Zo1STHWKYH50",
        "15GBSk5RrZuY",
        "RLRZJidvU_4L",
        "bJhXGOpZnC-h",
        "83GOPRBXwwP_",
        "qIV0PXB1rU5K",
        "WxA9RM7DXvGw",
        "j3RunwNFZDi-",
        "T1oYByXIMSEB",
        "3KiVs-u_wV7S",
        "D-55gPKrnclE",
        "3xIiAWnenlrc",
        "UCUQNKm4xKsX"
      ],
      "toc_visible": true
    },
    "kernelspec": {
      "display_name": "Python 3",
      "name": "python3"
    },
    "widgets": {
      "application/vnd.jupyter.widget-state+json": {
        "e97318ad9f60406d83e19a15436b4903": {
          "model_module": "@jupyter-widgets/controls",
          "model_name": "HBoxModel",
          "state": {
            "_view_name": "HBoxView",
            "_dom_classes": [],
            "_model_name": "HBoxModel",
            "_view_module": "@jupyter-widgets/controls",
            "_model_module_version": "1.5.0",
            "_view_count": null,
            "_view_module_version": "1.5.0",
            "box_style": "",
            "layout": "IPY_MODEL_4e7f07179dec4e1abf23c13e738601b2",
            "_model_module": "@jupyter-widgets/controls",
            "children": [
              "IPY_MODEL_1f214657012e4242a2bebe03331a17c8",
              "IPY_MODEL_39085b9c064142d89fc819eac7dc3358"
            ]
          }
        },
        "4e7f07179dec4e1abf23c13e738601b2": {
          "model_module": "@jupyter-widgets/base",
          "model_name": "LayoutModel",
          "state": {
            "_view_name": "LayoutView",
            "grid_template_rows": null,
            "right": null,
            "justify_content": null,
            "_view_module": "@jupyter-widgets/base",
            "overflow": null,
            "_model_module_version": "1.2.0",
            "_view_count": null,
            "flex_flow": null,
            "width": null,
            "min_width": null,
            "border": null,
            "align_items": null,
            "bottom": null,
            "_model_module": "@jupyter-widgets/base",
            "top": null,
            "grid_column": null,
            "overflow_y": null,
            "overflow_x": null,
            "grid_auto_flow": null,
            "grid_area": null,
            "grid_template_columns": null,
            "flex": null,
            "_model_name": "LayoutModel",
            "justify_items": null,
            "grid_row": null,
            "max_height": null,
            "align_content": null,
            "visibility": null,
            "align_self": null,
            "height": null,
            "min_height": null,
            "padding": null,
            "grid_auto_rows": null,
            "grid_gap": null,
            "max_width": null,
            "order": null,
            "_view_module_version": "1.2.0",
            "grid_template_areas": null,
            "object_position": null,
            "object_fit": null,
            "grid_auto_columns": null,
            "margin": null,
            "display": null,
            "left": null
          }
        },
        "1f214657012e4242a2bebe03331a17c8": {
          "model_module": "@jupyter-widgets/controls",
          "model_name": "FloatProgressModel",
          "state": {
            "_view_name": "ProgressView",
            "style": "IPY_MODEL_002140cfdd754fb5a11a92f1d1c9ef3b",
            "_dom_classes": [],
            "description": "100%",
            "_model_name": "FloatProgressModel",
            "bar_style": "success",
            "max": 31,
            "_view_module": "@jupyter-widgets/controls",
            "_model_module_version": "1.5.0",
            "value": 31,
            "_view_count": null,
            "_view_module_version": "1.5.0",
            "orientation": "horizontal",
            "min": 0,
            "description_tooltip": null,
            "_model_module": "@jupyter-widgets/controls",
            "layout": "IPY_MODEL_acf4f69510ec4ec5b7aa170b22ef9719"
          }
        },
        "39085b9c064142d89fc819eac7dc3358": {
          "model_module": "@jupyter-widgets/controls",
          "model_name": "HTMLModel",
          "state": {
            "_view_name": "HTMLView",
            "style": "IPY_MODEL_a46cbac987204c33a47b41ce48030c14",
            "_dom_classes": [],
            "description": "",
            "_model_name": "HTMLModel",
            "placeholder": "​",
            "_view_module": "@jupyter-widgets/controls",
            "_model_module_version": "1.5.0",
            "value": " 31/31 [03:03&lt;00:00,  5.91s/it]",
            "_view_count": null,
            "_view_module_version": "1.5.0",
            "description_tooltip": null,
            "_model_module": "@jupyter-widgets/controls",
            "layout": "IPY_MODEL_fd5018e001074704847c346262ddb1c7"
          }
        },
        "002140cfdd754fb5a11a92f1d1c9ef3b": {
          "model_module": "@jupyter-widgets/controls",
          "model_name": "ProgressStyleModel",
          "state": {
            "_view_name": "StyleView",
            "_model_name": "ProgressStyleModel",
            "description_width": "initial",
            "_view_module": "@jupyter-widgets/base",
            "_model_module_version": "1.5.0",
            "_view_count": null,
            "_view_module_version": "1.2.0",
            "bar_color": null,
            "_model_module": "@jupyter-widgets/controls"
          }
        },
        "acf4f69510ec4ec5b7aa170b22ef9719": {
          "model_module": "@jupyter-widgets/base",
          "model_name": "LayoutModel",
          "state": {
            "_view_name": "LayoutView",
            "grid_template_rows": null,
            "right": null,
            "justify_content": null,
            "_view_module": "@jupyter-widgets/base",
            "overflow": null,
            "_model_module_version": "1.2.0",
            "_view_count": null,
            "flex_flow": null,
            "width": null,
            "min_width": null,
            "border": null,
            "align_items": null,
            "bottom": null,
            "_model_module": "@jupyter-widgets/base",
            "top": null,
            "grid_column": null,
            "overflow_y": null,
            "overflow_x": null,
            "grid_auto_flow": null,
            "grid_area": null,
            "grid_template_columns": null,
            "flex": null,
            "_model_name": "LayoutModel",
            "justify_items": null,
            "grid_row": null,
            "max_height": null,
            "align_content": null,
            "visibility": null,
            "align_self": null,
            "height": null,
            "min_height": null,
            "padding": null,
            "grid_auto_rows": null,
            "grid_gap": null,
            "max_width": null,
            "order": null,
            "_view_module_version": "1.2.0",
            "grid_template_areas": null,
            "object_position": null,
            "object_fit": null,
            "grid_auto_columns": null,
            "margin": null,
            "display": null,
            "left": null
          }
        },
        "a46cbac987204c33a47b41ce48030c14": {
          "model_module": "@jupyter-widgets/controls",
          "model_name": "DescriptionStyleModel",
          "state": {
            "_view_name": "StyleView",
            "_model_name": "DescriptionStyleModel",
            "description_width": "",
            "_view_module": "@jupyter-widgets/base",
            "_model_module_version": "1.5.0",
            "_view_count": null,
            "_view_module_version": "1.2.0",
            "_model_module": "@jupyter-widgets/controls"
          }
        },
        "fd5018e001074704847c346262ddb1c7": {
          "model_module": "@jupyter-widgets/base",
          "model_name": "LayoutModel",
          "state": {
            "_view_name": "LayoutView",
            "grid_template_rows": null,
            "right": null,
            "justify_content": null,
            "_view_module": "@jupyter-widgets/base",
            "overflow": null,
            "_model_module_version": "1.2.0",
            "_view_count": null,
            "flex_flow": null,
            "width": null,
            "min_width": null,
            "border": null,
            "align_items": null,
            "bottom": null,
            "_model_module": "@jupyter-widgets/base",
            "top": null,
            "grid_column": null,
            "overflow_y": null,
            "overflow_x": null,
            "grid_auto_flow": null,
            "grid_area": null,
            "grid_template_columns": null,
            "flex": null,
            "_model_name": "LayoutModel",
            "justify_items": null,
            "grid_row": null,
            "max_height": null,
            "align_content": null,
            "visibility": null,
            "align_self": null,
            "height": null,
            "min_height": null,
            "padding": null,
            "grid_auto_rows": null,
            "grid_gap": null,
            "max_width": null,
            "order": null,
            "_view_module_version": "1.2.0",
            "grid_template_areas": null,
            "object_position": null,
            "object_fit": null,
            "grid_auto_columns": null,
            "margin": null,
            "display": null,
            "left": null
          }
        },
        "481e6c369ee1439a8be1ee31f2fd5a6c": {
          "model_module": "@jupyter-widgets/controls",
          "model_name": "HBoxModel",
          "state": {
            "_view_name": "HBoxView",
            "_dom_classes": [],
            "_model_name": "HBoxModel",
            "_view_module": "@jupyter-widgets/controls",
            "_model_module_version": "1.5.0",
            "_view_count": null,
            "_view_module_version": "1.5.0",
            "box_style": "",
            "layout": "IPY_MODEL_5845e4a0181d472488c8e767c5a12a1d",
            "_model_module": "@jupyter-widgets/controls",
            "children": [
              "IPY_MODEL_d23a794035ee4d55b3e85d23a5018f13",
              "IPY_MODEL_695315e16bab47e69cd212467167d07d"
            ]
          }
        },
        "5845e4a0181d472488c8e767c5a12a1d": {
          "model_module": "@jupyter-widgets/base",
          "model_name": "LayoutModel",
          "state": {
            "_view_name": "LayoutView",
            "grid_template_rows": null,
            "right": null,
            "justify_content": null,
            "_view_module": "@jupyter-widgets/base",
            "overflow": null,
            "_model_module_version": "1.2.0",
            "_view_count": null,
            "flex_flow": null,
            "width": null,
            "min_width": null,
            "border": null,
            "align_items": null,
            "bottom": null,
            "_model_module": "@jupyter-widgets/base",
            "top": null,
            "grid_column": null,
            "overflow_y": null,
            "overflow_x": null,
            "grid_auto_flow": null,
            "grid_area": null,
            "grid_template_columns": null,
            "flex": null,
            "_model_name": "LayoutModel",
            "justify_items": null,
            "grid_row": null,
            "max_height": null,
            "align_content": null,
            "visibility": null,
            "align_self": null,
            "height": null,
            "min_height": null,
            "padding": null,
            "grid_auto_rows": null,
            "grid_gap": null,
            "max_width": null,
            "order": null,
            "_view_module_version": "1.2.0",
            "grid_template_areas": null,
            "object_position": null,
            "object_fit": null,
            "grid_auto_columns": null,
            "margin": null,
            "display": null,
            "left": null
          }
        },
        "d23a794035ee4d55b3e85d23a5018f13": {
          "model_module": "@jupyter-widgets/controls",
          "model_name": "FloatProgressModel",
          "state": {
            "_view_name": "ProgressView",
            "style": "IPY_MODEL_b759963a837c4157936234e5ce7ce698",
            "_dom_classes": [],
            "description": "100%",
            "_model_name": "FloatProgressModel",
            "bar_style": "success",
            "max": 31,
            "_view_module": "@jupyter-widgets/controls",
            "_model_module_version": "1.5.0",
            "value": 31,
            "_view_count": null,
            "_view_module_version": "1.5.0",
            "orientation": "horizontal",
            "min": 0,
            "description_tooltip": null,
            "_model_module": "@jupyter-widgets/controls",
            "layout": "IPY_MODEL_bac5117b87804dacb5906d5c79f16269"
          }
        },
        "695315e16bab47e69cd212467167d07d": {
          "model_module": "@jupyter-widgets/controls",
          "model_name": "HTMLModel",
          "state": {
            "_view_name": "HTMLView",
            "style": "IPY_MODEL_ac6b25de8bf048888c5563e6d42b2627",
            "_dom_classes": [],
            "description": "",
            "_model_name": "HTMLModel",
            "placeholder": "​",
            "_view_module": "@jupyter-widgets/controls",
            "_model_module_version": "1.5.0",
            "value": " 31/31 [02:21&lt;00:00,  4.55s/it]",
            "_view_count": null,
            "_view_module_version": "1.5.0",
            "description_tooltip": null,
            "_model_module": "@jupyter-widgets/controls",
            "layout": "IPY_MODEL_e9f23e21caf041a8a093e356e452b2b4"
          }
        },
        "b759963a837c4157936234e5ce7ce698": {
          "model_module": "@jupyter-widgets/controls",
          "model_name": "ProgressStyleModel",
          "state": {
            "_view_name": "StyleView",
            "_model_name": "ProgressStyleModel",
            "description_width": "initial",
            "_view_module": "@jupyter-widgets/base",
            "_model_module_version": "1.5.0",
            "_view_count": null,
            "_view_module_version": "1.2.0",
            "bar_color": null,
            "_model_module": "@jupyter-widgets/controls"
          }
        },
        "bac5117b87804dacb5906d5c79f16269": {
          "model_module": "@jupyter-widgets/base",
          "model_name": "LayoutModel",
          "state": {
            "_view_name": "LayoutView",
            "grid_template_rows": null,
            "right": null,
            "justify_content": null,
            "_view_module": "@jupyter-widgets/base",
            "overflow": null,
            "_model_module_version": "1.2.0",
            "_view_count": null,
            "flex_flow": null,
            "width": null,
            "min_width": null,
            "border": null,
            "align_items": null,
            "bottom": null,
            "_model_module": "@jupyter-widgets/base",
            "top": null,
            "grid_column": null,
            "overflow_y": null,
            "overflow_x": null,
            "grid_auto_flow": null,
            "grid_area": null,
            "grid_template_columns": null,
            "flex": null,
            "_model_name": "LayoutModel",
            "justify_items": null,
            "grid_row": null,
            "max_height": null,
            "align_content": null,
            "visibility": null,
            "align_self": null,
            "height": null,
            "min_height": null,
            "padding": null,
            "grid_auto_rows": null,
            "grid_gap": null,
            "max_width": null,
            "order": null,
            "_view_module_version": "1.2.0",
            "grid_template_areas": null,
            "object_position": null,
            "object_fit": null,
            "grid_auto_columns": null,
            "margin": null,
            "display": null,
            "left": null
          }
        },
        "ac6b25de8bf048888c5563e6d42b2627": {
          "model_module": "@jupyter-widgets/controls",
          "model_name": "DescriptionStyleModel",
          "state": {
            "_view_name": "StyleView",
            "_model_name": "DescriptionStyleModel",
            "description_width": "",
            "_view_module": "@jupyter-widgets/base",
            "_model_module_version": "1.5.0",
            "_view_count": null,
            "_view_module_version": "1.2.0",
            "_model_module": "@jupyter-widgets/controls"
          }
        },
        "e9f23e21caf041a8a093e356e452b2b4": {
          "model_module": "@jupyter-widgets/base",
          "model_name": "LayoutModel",
          "state": {
            "_view_name": "LayoutView",
            "grid_template_rows": null,
            "right": null,
            "justify_content": null,
            "_view_module": "@jupyter-widgets/base",
            "overflow": null,
            "_model_module_version": "1.2.0",
            "_view_count": null,
            "flex_flow": null,
            "width": null,
            "min_width": null,
            "border": null,
            "align_items": null,
            "bottom": null,
            "_model_module": "@jupyter-widgets/base",
            "top": null,
            "grid_column": null,
            "overflow_y": null,
            "overflow_x": null,
            "grid_auto_flow": null,
            "grid_area": null,
            "grid_template_columns": null,
            "flex": null,
            "_model_name": "LayoutModel",
            "justify_items": null,
            "grid_row": null,
            "max_height": null,
            "align_content": null,
            "visibility": null,
            "align_self": null,
            "height": null,
            "min_height": null,
            "padding": null,
            "grid_auto_rows": null,
            "grid_gap": null,
            "max_width": null,
            "order": null,
            "_view_module_version": "1.2.0",
            "grid_template_areas": null,
            "object_position": null,
            "object_fit": null,
            "grid_auto_columns": null,
            "margin": null,
            "display": null,
            "left": null
          }
        },
        "5d80e01edaac430282b4493d7eec7833": {
          "model_module": "@jupyter-widgets/controls",
          "model_name": "HBoxModel",
          "state": {
            "_view_name": "HBoxView",
            "_dom_classes": [],
            "_model_name": "HBoxModel",
            "_view_module": "@jupyter-widgets/controls",
            "_model_module_version": "1.5.0",
            "_view_count": null,
            "_view_module_version": "1.5.0",
            "box_style": "",
            "layout": "IPY_MODEL_5138581f68674be49356171927ee6e7a",
            "_model_module": "@jupyter-widgets/controls",
            "children": [
              "IPY_MODEL_e24d31207e7d4c958eb4a79278855bb7",
              "IPY_MODEL_d36338f88e41476ea59318d0d5d6b17f"
            ]
          }
        },
        "5138581f68674be49356171927ee6e7a": {
          "model_module": "@jupyter-widgets/base",
          "model_name": "LayoutModel",
          "state": {
            "_view_name": "LayoutView",
            "grid_template_rows": null,
            "right": null,
            "justify_content": null,
            "_view_module": "@jupyter-widgets/base",
            "overflow": null,
            "_model_module_version": "1.2.0",
            "_view_count": null,
            "flex_flow": null,
            "width": null,
            "min_width": null,
            "border": null,
            "align_items": null,
            "bottom": null,
            "_model_module": "@jupyter-widgets/base",
            "top": null,
            "grid_column": null,
            "overflow_y": null,
            "overflow_x": null,
            "grid_auto_flow": null,
            "grid_area": null,
            "grid_template_columns": null,
            "flex": null,
            "_model_name": "LayoutModel",
            "justify_items": null,
            "grid_row": null,
            "max_height": null,
            "align_content": null,
            "visibility": null,
            "align_self": null,
            "height": null,
            "min_height": null,
            "padding": null,
            "grid_auto_rows": null,
            "grid_gap": null,
            "max_width": null,
            "order": null,
            "_view_module_version": "1.2.0",
            "grid_template_areas": null,
            "object_position": null,
            "object_fit": null,
            "grid_auto_columns": null,
            "margin": null,
            "display": null,
            "left": null
          }
        },
        "e24d31207e7d4c958eb4a79278855bb7": {
          "model_module": "@jupyter-widgets/controls",
          "model_name": "FloatProgressModel",
          "state": {
            "_view_name": "ProgressView",
            "style": "IPY_MODEL_18b75323f1834f59ae394d19284bd85f",
            "_dom_classes": [],
            "description": "100%",
            "_model_name": "FloatProgressModel",
            "bar_style": "success",
            "max": 31,
            "_view_module": "@jupyter-widgets/controls",
            "_model_module_version": "1.5.0",
            "value": 31,
            "_view_count": null,
            "_view_module_version": "1.5.0",
            "orientation": "horizontal",
            "min": 0,
            "description_tooltip": null,
            "_model_module": "@jupyter-widgets/controls",
            "layout": "IPY_MODEL_84b0c365d97a45e8a2b167bdba7a3f49"
          }
        },
        "d36338f88e41476ea59318d0d5d6b17f": {
          "model_module": "@jupyter-widgets/controls",
          "model_name": "HTMLModel",
          "state": {
            "_view_name": "HTMLView",
            "style": "IPY_MODEL_a49fd1236017480e96c73c382337640c",
            "_dom_classes": [],
            "description": "",
            "_model_name": "HTMLModel",
            "placeholder": "​",
            "_view_module": "@jupyter-widgets/controls",
            "_model_module_version": "1.5.0",
            "value": " 31/31 [00:20&lt;00:00,  1.54it/s]",
            "_view_count": null,
            "_view_module_version": "1.5.0",
            "description_tooltip": null,
            "_model_module": "@jupyter-widgets/controls",
            "layout": "IPY_MODEL_d5b02bdcf36a445db1ad60c1e1fa38be"
          }
        },
        "18b75323f1834f59ae394d19284bd85f": {
          "model_module": "@jupyter-widgets/controls",
          "model_name": "ProgressStyleModel",
          "state": {
            "_view_name": "StyleView",
            "_model_name": "ProgressStyleModel",
            "description_width": "initial",
            "_view_module": "@jupyter-widgets/base",
            "_model_module_version": "1.5.0",
            "_view_count": null,
            "_view_module_version": "1.2.0",
            "bar_color": null,
            "_model_module": "@jupyter-widgets/controls"
          }
        },
        "84b0c365d97a45e8a2b167bdba7a3f49": {
          "model_module": "@jupyter-widgets/base",
          "model_name": "LayoutModel",
          "state": {
            "_view_name": "LayoutView",
            "grid_template_rows": null,
            "right": null,
            "justify_content": null,
            "_view_module": "@jupyter-widgets/base",
            "overflow": null,
            "_model_module_version": "1.2.0",
            "_view_count": null,
            "flex_flow": null,
            "width": null,
            "min_width": null,
            "border": null,
            "align_items": null,
            "bottom": null,
            "_model_module": "@jupyter-widgets/base",
            "top": null,
            "grid_column": null,
            "overflow_y": null,
            "overflow_x": null,
            "grid_auto_flow": null,
            "grid_area": null,
            "grid_template_columns": null,
            "flex": null,
            "_model_name": "LayoutModel",
            "justify_items": null,
            "grid_row": null,
            "max_height": null,
            "align_content": null,
            "visibility": null,
            "align_self": null,
            "height": null,
            "min_height": null,
            "padding": null,
            "grid_auto_rows": null,
            "grid_gap": null,
            "max_width": null,
            "order": null,
            "_view_module_version": "1.2.0",
            "grid_template_areas": null,
            "object_position": null,
            "object_fit": null,
            "grid_auto_columns": null,
            "margin": null,
            "display": null,
            "left": null
          }
        },
        "a49fd1236017480e96c73c382337640c": {
          "model_module": "@jupyter-widgets/controls",
          "model_name": "DescriptionStyleModel",
          "state": {
            "_view_name": "StyleView",
            "_model_name": "DescriptionStyleModel",
            "description_width": "",
            "_view_module": "@jupyter-widgets/base",
            "_model_module_version": "1.5.0",
            "_view_count": null,
            "_view_module_version": "1.2.0",
            "_model_module": "@jupyter-widgets/controls"
          }
        },
        "d5b02bdcf36a445db1ad60c1e1fa38be": {
          "model_module": "@jupyter-widgets/base",
          "model_name": "LayoutModel",
          "state": {
            "_view_name": "LayoutView",
            "grid_template_rows": null,
            "right": null,
            "justify_content": null,
            "_view_module": "@jupyter-widgets/base",
            "overflow": null,
            "_model_module_version": "1.2.0",
            "_view_count": null,
            "flex_flow": null,
            "width": null,
            "min_width": null,
            "border": null,
            "align_items": null,
            "bottom": null,
            "_model_module": "@jupyter-widgets/base",
            "top": null,
            "grid_column": null,
            "overflow_y": null,
            "overflow_x": null,
            "grid_auto_flow": null,
            "grid_area": null,
            "grid_template_columns": null,
            "flex": null,
            "_model_name": "LayoutModel",
            "justify_items": null,
            "grid_row": null,
            "max_height": null,
            "align_content": null,
            "visibility": null,
            "align_self": null,
            "height": null,
            "min_height": null,
            "padding": null,
            "grid_auto_rows": null,
            "grid_gap": null,
            "max_width": null,
            "order": null,
            "_view_module_version": "1.2.0",
            "grid_template_areas": null,
            "object_position": null,
            "object_fit": null,
            "grid_auto_columns": null,
            "margin": null,
            "display": null,
            "left": null
          }
        },
        "cf5ce30c097349db91b277b2ad48934e": {
          "model_module": "@jupyter-widgets/controls",
          "model_name": "HBoxModel",
          "state": {
            "_view_name": "HBoxView",
            "_dom_classes": [],
            "_model_name": "HBoxModel",
            "_view_module": "@jupyter-widgets/controls",
            "_model_module_version": "1.5.0",
            "_view_count": null,
            "_view_module_version": "1.5.0",
            "box_style": "",
            "layout": "IPY_MODEL_f3f592b60d474e119fdeeefd48dc85b7",
            "_model_module": "@jupyter-widgets/controls",
            "children": [
              "IPY_MODEL_169a64c3fc554417845b110ec5fbfcd0",
              "IPY_MODEL_af41be1e33e749669396c80bec86e070"
            ]
          }
        },
        "f3f592b60d474e119fdeeefd48dc85b7": {
          "model_module": "@jupyter-widgets/base",
          "model_name": "LayoutModel",
          "state": {
            "_view_name": "LayoutView",
            "grid_template_rows": null,
            "right": null,
            "justify_content": null,
            "_view_module": "@jupyter-widgets/base",
            "overflow": null,
            "_model_module_version": "1.2.0",
            "_view_count": null,
            "flex_flow": null,
            "width": null,
            "min_width": null,
            "border": null,
            "align_items": null,
            "bottom": null,
            "_model_module": "@jupyter-widgets/base",
            "top": null,
            "grid_column": null,
            "overflow_y": null,
            "overflow_x": null,
            "grid_auto_flow": null,
            "grid_area": null,
            "grid_template_columns": null,
            "flex": null,
            "_model_name": "LayoutModel",
            "justify_items": null,
            "grid_row": null,
            "max_height": null,
            "align_content": null,
            "visibility": null,
            "align_self": null,
            "height": null,
            "min_height": null,
            "padding": null,
            "grid_auto_rows": null,
            "grid_gap": null,
            "max_width": null,
            "order": null,
            "_view_module_version": "1.2.0",
            "grid_template_areas": null,
            "object_position": null,
            "object_fit": null,
            "grid_auto_columns": null,
            "margin": null,
            "display": null,
            "left": null
          }
        },
        "169a64c3fc554417845b110ec5fbfcd0": {
          "model_module": "@jupyter-widgets/controls",
          "model_name": "FloatProgressModel",
          "state": {
            "_view_name": "ProgressView",
            "style": "IPY_MODEL_d550b68c52024e1e8c36b1d8374c60e3",
            "_dom_classes": [],
            "description": "100%",
            "_model_name": "FloatProgressModel",
            "bar_style": "success",
            "max": 31,
            "_view_module": "@jupyter-widgets/controls",
            "_model_module_version": "1.5.0",
            "value": 31,
            "_view_count": null,
            "_view_module_version": "1.5.0",
            "orientation": "horizontal",
            "min": 0,
            "description_tooltip": null,
            "_model_module": "@jupyter-widgets/controls",
            "layout": "IPY_MODEL_6b7f63dba19147868a997484b3711564"
          }
        },
        "af41be1e33e749669396c80bec86e070": {
          "model_module": "@jupyter-widgets/controls",
          "model_name": "HTMLModel",
          "state": {
            "_view_name": "HTMLView",
            "style": "IPY_MODEL_cbe78c49335042c88b3fb6806f88cc54",
            "_dom_classes": [],
            "description": "",
            "_model_name": "HTMLModel",
            "placeholder": "​",
            "_view_module": "@jupyter-widgets/controls",
            "_model_module_version": "1.5.0",
            "value": " 31/31 [2:25:20&lt;00:00, 281.30s/it]",
            "_view_count": null,
            "_view_module_version": "1.5.0",
            "description_tooltip": null,
            "_model_module": "@jupyter-widgets/controls",
            "layout": "IPY_MODEL_1bce595500ff4165953386791e9478e1"
          }
        },
        "d550b68c52024e1e8c36b1d8374c60e3": {
          "model_module": "@jupyter-widgets/controls",
          "model_name": "ProgressStyleModel",
          "state": {
            "_view_name": "StyleView",
            "_model_name": "ProgressStyleModel",
            "description_width": "initial",
            "_view_module": "@jupyter-widgets/base",
            "_model_module_version": "1.5.0",
            "_view_count": null,
            "_view_module_version": "1.2.0",
            "bar_color": null,
            "_model_module": "@jupyter-widgets/controls"
          }
        },
        "6b7f63dba19147868a997484b3711564": {
          "model_module": "@jupyter-widgets/base",
          "model_name": "LayoutModel",
          "state": {
            "_view_name": "LayoutView",
            "grid_template_rows": null,
            "right": null,
            "justify_content": null,
            "_view_module": "@jupyter-widgets/base",
            "overflow": null,
            "_model_module_version": "1.2.0",
            "_view_count": null,
            "flex_flow": null,
            "width": null,
            "min_width": null,
            "border": null,
            "align_items": null,
            "bottom": null,
            "_model_module": "@jupyter-widgets/base",
            "top": null,
            "grid_column": null,
            "overflow_y": null,
            "overflow_x": null,
            "grid_auto_flow": null,
            "grid_area": null,
            "grid_template_columns": null,
            "flex": null,
            "_model_name": "LayoutModel",
            "justify_items": null,
            "grid_row": null,
            "max_height": null,
            "align_content": null,
            "visibility": null,
            "align_self": null,
            "height": null,
            "min_height": null,
            "padding": null,
            "grid_auto_rows": null,
            "grid_gap": null,
            "max_width": null,
            "order": null,
            "_view_module_version": "1.2.0",
            "grid_template_areas": null,
            "object_position": null,
            "object_fit": null,
            "grid_auto_columns": null,
            "margin": null,
            "display": null,
            "left": null
          }
        },
        "cbe78c49335042c88b3fb6806f88cc54": {
          "model_module": "@jupyter-widgets/controls",
          "model_name": "DescriptionStyleModel",
          "state": {
            "_view_name": "StyleView",
            "_model_name": "DescriptionStyleModel",
            "description_width": "",
            "_view_module": "@jupyter-widgets/base",
            "_model_module_version": "1.5.0",
            "_view_count": null,
            "_view_module_version": "1.2.0",
            "_model_module": "@jupyter-widgets/controls"
          }
        },
        "1bce595500ff4165953386791e9478e1": {
          "model_module": "@jupyter-widgets/base",
          "model_name": "LayoutModel",
          "state": {
            "_view_name": "LayoutView",
            "grid_template_rows": null,
            "right": null,
            "justify_content": null,
            "_view_module": "@jupyter-widgets/base",
            "overflow": null,
            "_model_module_version": "1.2.0",
            "_view_count": null,
            "flex_flow": null,
            "width": null,
            "min_width": null,
            "border": null,
            "align_items": null,
            "bottom": null,
            "_model_module": "@jupyter-widgets/base",
            "top": null,
            "grid_column": null,
            "overflow_y": null,
            "overflow_x": null,
            "grid_auto_flow": null,
            "grid_area": null,
            "grid_template_columns": null,
            "flex": null,
            "_model_name": "LayoutModel",
            "justify_items": null,
            "grid_row": null,
            "max_height": null,
            "align_content": null,
            "visibility": null,
            "align_self": null,
            "height": null,
            "min_height": null,
            "padding": null,
            "grid_auto_rows": null,
            "grid_gap": null,
            "max_width": null,
            "order": null,
            "_view_module_version": "1.2.0",
            "grid_template_areas": null,
            "object_position": null,
            "object_fit": null,
            "grid_auto_columns": null,
            "margin": null,
            "display": null,
            "left": null
          }
        },
        "15338ed7b74542a4a504764ef43242af": {
          "model_module": "@jupyter-widgets/controls",
          "model_name": "HBoxModel",
          "state": {
            "_view_name": "HBoxView",
            "_dom_classes": [],
            "_model_name": "HBoxModel",
            "_view_module": "@jupyter-widgets/controls",
            "_model_module_version": "1.5.0",
            "_view_count": null,
            "_view_module_version": "1.5.0",
            "box_style": "",
            "layout": "IPY_MODEL_e416b584f57e4322adb2dd695b00779e",
            "_model_module": "@jupyter-widgets/controls",
            "children": [
              "IPY_MODEL_855c97c9afff4a768c867dcf0c0775fa",
              "IPY_MODEL_90b8ff2a3eca4d02b08c17a9daabd7fb"
            ]
          }
        },
        "e416b584f57e4322adb2dd695b00779e": {
          "model_module": "@jupyter-widgets/base",
          "model_name": "LayoutModel",
          "state": {
            "_view_name": "LayoutView",
            "grid_template_rows": null,
            "right": null,
            "justify_content": null,
            "_view_module": "@jupyter-widgets/base",
            "overflow": null,
            "_model_module_version": "1.2.0",
            "_view_count": null,
            "flex_flow": null,
            "width": null,
            "min_width": null,
            "border": null,
            "align_items": null,
            "bottom": null,
            "_model_module": "@jupyter-widgets/base",
            "top": null,
            "grid_column": null,
            "overflow_y": null,
            "overflow_x": null,
            "grid_auto_flow": null,
            "grid_area": null,
            "grid_template_columns": null,
            "flex": null,
            "_model_name": "LayoutModel",
            "justify_items": null,
            "grid_row": null,
            "max_height": null,
            "align_content": null,
            "visibility": null,
            "align_self": null,
            "height": null,
            "min_height": null,
            "padding": null,
            "grid_auto_rows": null,
            "grid_gap": null,
            "max_width": null,
            "order": null,
            "_view_module_version": "1.2.0",
            "grid_template_areas": null,
            "object_position": null,
            "object_fit": null,
            "grid_auto_columns": null,
            "margin": null,
            "display": null,
            "left": null
          }
        },
        "855c97c9afff4a768c867dcf0c0775fa": {
          "model_module": "@jupyter-widgets/controls",
          "model_name": "FloatProgressModel",
          "state": {
            "_view_name": "ProgressView",
            "style": "IPY_MODEL_1cc020a067da4578b0d9121b4940df41",
            "_dom_classes": [],
            "description": "100%",
            "_model_name": "FloatProgressModel",
            "bar_style": "success",
            "max": 31,
            "_view_module": "@jupyter-widgets/controls",
            "_model_module_version": "1.5.0",
            "value": 31,
            "_view_count": null,
            "_view_module_version": "1.5.0",
            "orientation": "horizontal",
            "min": 0,
            "description_tooltip": null,
            "_model_module": "@jupyter-widgets/controls",
            "layout": "IPY_MODEL_bdcf45715a0d4023a5b83d8325bcffe2"
          }
        },
        "90b8ff2a3eca4d02b08c17a9daabd7fb": {
          "model_module": "@jupyter-widgets/controls",
          "model_name": "HTMLModel",
          "state": {
            "_view_name": "HTMLView",
            "style": "IPY_MODEL_95a2904066c3417f86f7bf90942145c8",
            "_dom_classes": [],
            "description": "",
            "_model_name": "HTMLModel",
            "placeholder": "​",
            "_view_module": "@jupyter-widgets/controls",
            "_model_module_version": "1.5.0",
            "value": " 31/31 [06:59&lt;00:00, 13.54s/it]",
            "_view_count": null,
            "_view_module_version": "1.5.0",
            "description_tooltip": null,
            "_model_module": "@jupyter-widgets/controls",
            "layout": "IPY_MODEL_5a877267fb3345dc93a9c927b784230c"
          }
        },
        "1cc020a067da4578b0d9121b4940df41": {
          "model_module": "@jupyter-widgets/controls",
          "model_name": "ProgressStyleModel",
          "state": {
            "_view_name": "StyleView",
            "_model_name": "ProgressStyleModel",
            "description_width": "initial",
            "_view_module": "@jupyter-widgets/base",
            "_model_module_version": "1.5.0",
            "_view_count": null,
            "_view_module_version": "1.2.0",
            "bar_color": null,
            "_model_module": "@jupyter-widgets/controls"
          }
        },
        "bdcf45715a0d4023a5b83d8325bcffe2": {
          "model_module": "@jupyter-widgets/base",
          "model_name": "LayoutModel",
          "state": {
            "_view_name": "LayoutView",
            "grid_template_rows": null,
            "right": null,
            "justify_content": null,
            "_view_module": "@jupyter-widgets/base",
            "overflow": null,
            "_model_module_version": "1.2.0",
            "_view_count": null,
            "flex_flow": null,
            "width": null,
            "min_width": null,
            "border": null,
            "align_items": null,
            "bottom": null,
            "_model_module": "@jupyter-widgets/base",
            "top": null,
            "grid_column": null,
            "overflow_y": null,
            "overflow_x": null,
            "grid_auto_flow": null,
            "grid_area": null,
            "grid_template_columns": null,
            "flex": null,
            "_model_name": "LayoutModel",
            "justify_items": null,
            "grid_row": null,
            "max_height": null,
            "align_content": null,
            "visibility": null,
            "align_self": null,
            "height": null,
            "min_height": null,
            "padding": null,
            "grid_auto_rows": null,
            "grid_gap": null,
            "max_width": null,
            "order": null,
            "_view_module_version": "1.2.0",
            "grid_template_areas": null,
            "object_position": null,
            "object_fit": null,
            "grid_auto_columns": null,
            "margin": null,
            "display": null,
            "left": null
          }
        },
        "95a2904066c3417f86f7bf90942145c8": {
          "model_module": "@jupyter-widgets/controls",
          "model_name": "DescriptionStyleModel",
          "state": {
            "_view_name": "StyleView",
            "_model_name": "DescriptionStyleModel",
            "description_width": "",
            "_view_module": "@jupyter-widgets/base",
            "_model_module_version": "1.5.0",
            "_view_count": null,
            "_view_module_version": "1.2.0",
            "_model_module": "@jupyter-widgets/controls"
          }
        },
        "5a877267fb3345dc93a9c927b784230c": {
          "model_module": "@jupyter-widgets/base",
          "model_name": "LayoutModel",
          "state": {
            "_view_name": "LayoutView",
            "grid_template_rows": null,
            "right": null,
            "justify_content": null,
            "_view_module": "@jupyter-widgets/base",
            "overflow": null,
            "_model_module_version": "1.2.0",
            "_view_count": null,
            "flex_flow": null,
            "width": null,
            "min_width": null,
            "border": null,
            "align_items": null,
            "bottom": null,
            "_model_module": "@jupyter-widgets/base",
            "top": null,
            "grid_column": null,
            "overflow_y": null,
            "overflow_x": null,
            "grid_auto_flow": null,
            "grid_area": null,
            "grid_template_columns": null,
            "flex": null,
            "_model_name": "LayoutModel",
            "justify_items": null,
            "grid_row": null,
            "max_height": null,
            "align_content": null,
            "visibility": null,
            "align_self": null,
            "height": null,
            "min_height": null,
            "padding": null,
            "grid_auto_rows": null,
            "grid_gap": null,
            "max_width": null,
            "order": null,
            "_view_module_version": "1.2.0",
            "grid_template_areas": null,
            "object_position": null,
            "object_fit": null,
            "grid_auto_columns": null,
            "margin": null,
            "display": null,
            "left": null
          }
        }
      }
    }
  },
  "cells": [
    {
      "cell_type": "markdown",
      "metadata": {
        "id": "59zzSDpHn7Uf"
      },
      "source": [
        "\n",
        "---\n",
        "---\n",
        "\n",
        "# 1. Setup\n",
        "\n",
        "---\n",
        "---"
      ]
    },
    {
      "cell_type": "markdown",
      "metadata": {
        "id": "ptNp4gASm2H5"
      },
      "source": [
        "### Import Packages"
      ]
    },
    {
      "cell_type": "markdown",
      "metadata": {
        "id": "hk2oSP7V3mJ2"
      },
      "source": [
        "##### Import the general packages"
      ]
    },
    {
      "cell_type": "code",
      "metadata": {
        "id": "S-9Kv0qNm7UZ"
      },
      "source": [
        "from google.colab import drive\n",
        "import os\n",
        "import numpy as np\n",
        "import pandas as pd\n",
        "from tqdm.auto import tqdm\n",
        "from collections import Counter"
      ],
      "execution_count": null,
      "outputs": []
    },
    {
      "cell_type": "markdown",
      "metadata": {
        "id": "jdrjjNei3cQg"
      },
      "source": [
        "##### Install & import the tsfresh libraries"
      ]
    },
    {
      "cell_type": "code",
      "metadata": {
        "id": "WerezuKFhQiN",
        "colab": {
          "base_uri": "https://localhost:8080/"
        },
        "outputId": "130c8afd-b075-4a3a-db9b-32638503ae61"
      },
      "source": [
        "!pip install tsfresh"
      ],
      "execution_count": null,
      "outputs": [
        {
          "output_type": "stream",
          "text": [
            "Collecting tsfresh\n",
            "\u001b[?25l  Downloading https://files.pythonhosted.org/packages/35/b7/cbbfb02d50a93dbb710a730f168711eb343829e1cdea9f0d001d91aeefd6/tsfresh-0.17.0-py2.py3-none-any.whl (91kB)\n",
            "\r\u001b[K     |███▋                            | 10kB 15.9MB/s eta 0:00:01\r\u001b[K     |███████▏                        | 20kB 21.0MB/s eta 0:00:01\r\u001b[K     |██████████▉                     | 30kB 22.9MB/s eta 0:00:01\r\u001b[K     |██████████████▍                 | 40kB 12.1MB/s eta 0:00:01\r\u001b[K     |██████████████████              | 51kB 7.7MB/s eta 0:00:01\r\u001b[K     |█████████████████████▋          | 61kB 7.8MB/s eta 0:00:01\r\u001b[K     |█████████████████████████▏      | 71kB 7.8MB/s eta 0:00:01\r\u001b[K     |████████████████████████████▉   | 81kB 8.6MB/s eta 0:00:01\r\u001b[K     |████████████████████████████████| 92kB 3.9MB/s \n",
            "\u001b[?25hRequirement already satisfied: scipy>=1.2.0 in /usr/local/lib/python3.6/dist-packages (from tsfresh) (1.4.1)\n",
            "Collecting distributed>=2.11.0\n",
            "\u001b[?25l  Downloading https://files.pythonhosted.org/packages/88/38/d9f0e31c15de18cb124d1ed33cf9c99c84f05f251ff6767e7573c217725b/distributed-2.30.1-py3-none-any.whl (656kB)\n",
            "\u001b[K     |████████████████████████████████| 665kB 12.2MB/s \n",
            "\u001b[?25hRequirement already satisfied: numpy>=1.15.1 in /usr/local/lib/python3.6/dist-packages (from tsfresh) (1.18.5)\n",
            "Requirement already satisfied: scikit-learn>=0.19.2 in /usr/local/lib/python3.6/dist-packages (from tsfresh) (0.22.2.post1)\n",
            "Requirement already satisfied: requests>=2.9.1 in /usr/local/lib/python3.6/dist-packages (from tsfresh) (2.23.0)\n",
            "Requirement already satisfied: dask[dataframe]>=2.9.0 in /usr/local/lib/python3.6/dist-packages (from tsfresh) (2.12.0)\n",
            "Requirement already satisfied: patsy>=0.4.1 in /usr/local/lib/python3.6/dist-packages (from tsfresh) (0.5.1)\n",
            "Requirement already satisfied: tqdm>=4.10.0 in /usr/local/lib/python3.6/dist-packages (from tsfresh) (4.41.1)\n",
            "Requirement already satisfied: pandas>=0.25.0 in /usr/local/lib/python3.6/dist-packages (from tsfresh) (1.1.4)\n",
            "Requirement already satisfied: statsmodels>=0.9.0 in /usr/local/lib/python3.6/dist-packages (from tsfresh) (0.10.2)\n",
            "Requirement already satisfied: tornado>=5; python_version < \"3.8\" in /usr/local/lib/python3.6/dist-packages (from distributed>=2.11.0->tsfresh) (5.1.1)\n",
            "Requirement already satisfied: setuptools in /usr/local/lib/python3.6/dist-packages (from distributed>=2.11.0->tsfresh) (50.3.2)\n",
            "Requirement already satisfied: psutil>=5.0 in /usr/local/lib/python3.6/dist-packages (from distributed>=2.11.0->tsfresh) (5.4.8)\n",
            "Requirement already satisfied: click>=6.6 in /usr/local/lib/python3.6/dist-packages (from distributed>=2.11.0->tsfresh) (7.1.2)\n",
            "Requirement already satisfied: msgpack>=0.6.0 in /usr/local/lib/python3.6/dist-packages (from distributed>=2.11.0->tsfresh) (1.0.0)\n",
            "Collecting contextvars; python_version < \"3.7\"\n",
            "  Downloading https://files.pythonhosted.org/packages/83/96/55b82d9f13763be9d672622e1b8106c85acb83edd7cc2fa5bc67cd9877e9/contextvars-2.4.tar.gz\n",
            "Requirement already satisfied: zict>=0.1.3 in /usr/local/lib/python3.6/dist-packages (from distributed>=2.11.0->tsfresh) (2.0.0)\n",
            "Requirement already satisfied: toolz>=0.8.2 in /usr/local/lib/python3.6/dist-packages (from distributed>=2.11.0->tsfresh) (0.11.1)\n",
            "Requirement already satisfied: sortedcontainers!=2.0.0,!=2.0.1 in /usr/local/lib/python3.6/dist-packages (from distributed>=2.11.0->tsfresh) (2.2.2)\n",
            "Requirement already satisfied: pyyaml in /usr/local/lib/python3.6/dist-packages (from distributed>=2.11.0->tsfresh) (3.13)\n",
            "Requirement already satisfied: tblib>=1.6.0 in /usr/local/lib/python3.6/dist-packages (from distributed>=2.11.0->tsfresh) (1.7.0)\n",
            "Collecting cloudpickle>=1.5.0\n",
            "  Downloading https://files.pythonhosted.org/packages/e7/e3/898487e5dbeb612054cf2e0c188463acb358167fef749c53c8bb8918cea1/cloudpickle-1.6.0-py3-none-any.whl\n",
            "Requirement already satisfied: joblib>=0.11 in /usr/local/lib/python3.6/dist-packages (from scikit-learn>=0.19.2->tsfresh) (0.17.0)\n",
            "Requirement already satisfied: urllib3!=1.25.0,!=1.25.1,<1.26,>=1.21.1 in /usr/local/lib/python3.6/dist-packages (from requests>=2.9.1->tsfresh) (1.24.3)\n",
            "Requirement already satisfied: certifi>=2017.4.17 in /usr/local/lib/python3.6/dist-packages (from requests>=2.9.1->tsfresh) (2020.6.20)\n",
            "Requirement already satisfied: idna<3,>=2.5 in /usr/local/lib/python3.6/dist-packages (from requests>=2.9.1->tsfresh) (2.10)\n",
            "Requirement already satisfied: chardet<4,>=3.0.2 in /usr/local/lib/python3.6/dist-packages (from requests>=2.9.1->tsfresh) (3.0.4)\n",
            "Collecting fsspec>=0.6.0; extra == \"dataframe\"\n",
            "\u001b[?25l  Downloading https://files.pythonhosted.org/packages/a5/8b/1df260f860f17cb08698170153ef7db672c497c1840dcc8613ce26a8a005/fsspec-0.8.4-py3-none-any.whl (91kB)\n",
            "\u001b[K     |████████████████████████████████| 92kB 8.8MB/s \n",
            "\u001b[?25hCollecting partd>=0.3.10; extra == \"dataframe\"\n",
            "  Downloading https://files.pythonhosted.org/packages/44/e1/68dbe731c9c067655bff1eca5b7d40c20ca4b23fd5ec9f3d17e201a6f36b/partd-1.1.0-py3-none-any.whl\n",
            "Requirement already satisfied: six in /usr/local/lib/python3.6/dist-packages (from patsy>=0.4.1->tsfresh) (1.15.0)\n",
            "Requirement already satisfied: python-dateutil>=2.7.3 in /usr/local/lib/python3.6/dist-packages (from pandas>=0.25.0->tsfresh) (2.8.1)\n",
            "Requirement already satisfied: pytz>=2017.2 in /usr/local/lib/python3.6/dist-packages (from pandas>=0.25.0->tsfresh) (2018.9)\n",
            "Collecting immutables>=0.9\n",
            "\u001b[?25l  Downloading https://files.pythonhosted.org/packages/99/e0/ea6fd4697120327d26773b5a84853f897a68e33d3f9376b00a8ff96e4f63/immutables-0.14-cp36-cp36m-manylinux1_x86_64.whl (98kB)\n",
            "\u001b[K     |████████████████████████████████| 102kB 8.8MB/s \n",
            "\u001b[?25hRequirement already satisfied: heapdict in /usr/local/lib/python3.6/dist-packages (from zict>=0.1.3->distributed>=2.11.0->tsfresh) (1.0.1)\n",
            "Collecting locket\n",
            "  Downloading https://files.pythonhosted.org/packages/d0/22/3c0f97614e0be8386542facb3a7dcfc2584f7b83608c02333bced641281c/locket-0.2.0.tar.gz\n",
            "Building wheels for collected packages: contextvars, locket\n",
            "  Building wheel for contextvars (setup.py) ... \u001b[?25l\u001b[?25hdone\n",
            "  Created wheel for contextvars: filename=contextvars-2.4-cp36-none-any.whl size=7666 sha256=a4fd4f64c8f94088302e2c75e974bfbda5af65924f47d8ad83a0841c9585a833\n",
            "  Stored in directory: /root/.cache/pip/wheels/a5/7d/68/1ebae2668bda2228686e3c1cf16f2c2384cea6e9334ad5f6de\n",
            "  Building wheel for locket (setup.py) ... \u001b[?25l\u001b[?25hdone\n",
            "  Created wheel for locket: filename=locket-0.2.0-cp36-none-any.whl size=4040 sha256=be317318389cf691c3959cc73dbeebeee6f11a08d75e26d1e82b38d91e4f977c\n",
            "  Stored in directory: /root/.cache/pip/wheels/26/1e/e8/4fa236ec931b1a0cdd61578e20d4934d7bf188858723b84698\n",
            "Successfully built contextvars locket\n",
            "\u001b[31mERROR: tensorflow-probability 0.11.0 has requirement cloudpickle==1.3, but you'll have cloudpickle 1.6.0 which is incompatible.\u001b[0m\n",
            "Installing collected packages: immutables, contextvars, cloudpickle, distributed, tsfresh, fsspec, locket, partd\n",
            "  Found existing installation: cloudpickle 1.3.0\n",
            "    Uninstalling cloudpickle-1.3.0:\n",
            "      Successfully uninstalled cloudpickle-1.3.0\n",
            "  Found existing installation: distributed 1.25.3\n",
            "    Uninstalling distributed-1.25.3:\n",
            "      Successfully uninstalled distributed-1.25.3\n",
            "Successfully installed cloudpickle-1.6.0 contextvars-2.4 distributed-2.30.1 fsspec-0.8.4 immutables-0.14 locket-0.2.0 partd-1.1.0 tsfresh-0.17.0\n"
          ],
          "name": "stdout"
        }
      ]
    },
    {
      "cell_type": "code",
      "metadata": {
        "id": "Go5RTS_PhUC4",
        "colab": {
          "base_uri": "https://localhost:8080/"
        },
        "outputId": "03b54812-a779-4a57-8864-6f3bf01c2045"
      },
      "source": [
        "from tsfresh import select_features\n",
        "from tsfresh.utilities.dataframe_functions import impute\n",
        "from tsfresh import extract_features"
      ],
      "execution_count": null,
      "outputs": [
        {
          "output_type": "stream",
          "text": [
            "/usr/local/lib/python3.6/dist-packages/statsmodels/tools/_testing.py:19: FutureWarning: pandas.util.testing is deprecated. Use the functions in the public API at pandas.testing instead.\n",
            "  import pandas.util.testing as tm\n"
          ],
          "name": "stderr"
        }
      ]
    },
    {
      "cell_type": "markdown",
      "metadata": {
        "id": "1iFzjTax3q7v"
      },
      "source": [
        "##### Import and setup the Json package for loading in and storing data"
      ]
    },
    {
      "cell_type": "code",
      "metadata": {
        "id": "tywjCwViiLw5"
      },
      "source": [
        "import json\n",
        "\n",
        "class JSONEncoder(json.JSONEncoder):\n",
        "    def default(self, obj):\n",
        "        if hasattr(obj, 'to_json'):\n",
        "            return obj.to_json(orient='records')\n",
        "        return json.JSONEncoder.default(self, obj)"
      ],
      "execution_count": null,
      "outputs": []
    },
    {
      "cell_type": "markdown",
      "metadata": {
        "id": "aBLWa3wX-W1g"
      },
      "source": [
        "### Set the maximum number of rows and column in the outputs"
      ]
    },
    {
      "cell_type": "code",
      "metadata": {
        "id": "OoKWuPvN-XA7"
      },
      "source": [
        "pd.set_option('max_rows', 25)"
      ],
      "execution_count": null,
      "outputs": []
    },
    {
      "cell_type": "markdown",
      "metadata": {
        "id": "IrqfjdME18qj"
      },
      "source": [
        "### Mount the drive"
      ]
    },
    {
      "cell_type": "code",
      "metadata": {
        "id": "UnU2Cgu818yz",
        "colab": {
          "base_uri": "https://localhost:8080/"
        },
        "outputId": "a251ff44-551a-4114-e0e6-1037bfb720dd"
      },
      "source": [
        "drive.mount('/content/drive')"
      ],
      "execution_count": null,
      "outputs": [
        {
          "output_type": "stream",
          "text": [
            "Drive already mounted at /content/drive; to attempt to forcibly remount, call drive.mount(\"/content/drive\", force_remount=True).\n"
          ],
          "name": "stdout"
        }
      ]
    },
    {
      "cell_type": "markdown",
      "metadata": {
        "id": "M1Fqi2bHnKam"
      },
      "source": [
        "### Set the directory for reading the data"
      ]
    },
    {
      "cell_type": "code",
      "metadata": {
        "id": "cZjGedIWnFKj"
      },
      "source": [
        "os.chdir('/content/drive/My Drive/4th Year/CA4015/assignment2/Submission/data')    # Ivan's directory\n",
        "# os.chdir('/content/drive/My Drive/assignment2/Submission/data')                     # Nathan's directory"
      ],
      "execution_count": null,
      "outputs": []
    },
    {
      "cell_type": "markdown",
      "metadata": {
        "id": "0pQxo4jEocYc"
      },
      "source": [
        "---\n",
        "---\n",
        "\n",
        "# 2. Read in the data\n",
        "\n",
        "---\n",
        "---"
      ]
    },
    {
      "cell_type": "markdown",
      "metadata": {
        "id": "nB28ZakajI_o"
      },
      "source": [
        "### Read in the dictionary data from the Json file"
      ]
    },
    {
      "cell_type": "code",
      "metadata": {
        "id": "rPfGo394iFWq"
      },
      "source": [
        "json_df_data = json.load(open('map_of_subject_id_to_its_cleaned_sensor_data.json'))\n",
        "# for the no step data\n",
        "# json_df_data = json.load(open('no_step_map_of_subject_id_to_its_cleaned_sensor_data.json'))"
      ],
      "execution_count": null,
      "outputs": []
    },
    {
      "cell_type": "code",
      "metadata": {
        "id": "K94UIxSQiFZu",
        "colab": {
          "base_uri": "https://localhost:8080/",
          "height": 66,
          "referenced_widgets": [
            "e97318ad9f60406d83e19a15436b4903",
            "4e7f07179dec4e1abf23c13e738601b2",
            "1f214657012e4242a2bebe03331a17c8",
            "39085b9c064142d89fc819eac7dc3358",
            "002140cfdd754fb5a11a92f1d1c9ef3b",
            "acf4f69510ec4ec5b7aa170b22ef9719",
            "a46cbac987204c33a47b41ce48030c14",
            "fd5018e001074704847c346262ddb1c7"
          ]
        },
        "outputId": "ed059200-6785-4e58-89f1-9d1199d0eef8"
      },
      "source": [
        "id_to_df_map = {}\n",
        "for subject_id, sensor_df in tqdm(json_df_data.items()):\n",
        "    id_to_df_map[subject_id] = pd.read_json(json_df_data[subject_id])"
      ],
      "execution_count": null,
      "outputs": [
        {
          "output_type": "display_data",
          "data": {
            "application/vnd.jupyter.widget-view+json": {
              "model_id": "e97318ad9f60406d83e19a15436b4903",
              "version_minor": 0,
              "version_major": 2
            },
            "text/plain": [
              "HBox(children=(FloatProgress(value=0.0, max=31.0), HTML(value='')))"
            ]
          },
          "metadata": {
            "tags": []
          }
        },
        {
          "output_type": "stream",
          "text": [
            "\n"
          ],
          "name": "stdout"
        }
      ]
    },
    {
      "cell_type": "markdown",
      "metadata": {
        "id": "Zo1STHWKYH50"
      },
      "source": [
        "### Manually inspect the read in data"
      ]
    },
    {
      "cell_type": "code",
      "metadata": {
        "id": "JrQuUDPkP7la",
        "colab": {
          "base_uri": "https://localhost:8080/"
        },
        "outputId": "bf951a6b-8cad-4cc8-e3d6-2f1b47497a8b"
      },
      "source": [
        "i = 0\n",
        "for student_id, df in id_to_df_map.items():\n",
        "    print(\"--------------------\", student_id, \"--------------------\")\n",
        "    print(df)\n",
        "\n",
        "    # only output 3 subjects and their sensor data\n",
        "    if i == 2:\n",
        "        break\n",
        "    i = i + 1"
      ],
      "execution_count": null,
      "outputs": [
        {
          "output_type": "stream",
          "text": [
            "-------------------- 46343 --------------------\n",
            "       second    x_move    y_move    z_move  heart_rate  step_count  psg_status\n",
            "0         390 -0.540527  0.680496 -0.271774        90.0   79.820000           0\n",
            "1         391 -0.426881  0.920799 -0.093921        90.0  109.617059           0\n",
            "2         392 -0.448256  0.816442 -0.228871        90.0  125.870000           0\n",
            "3         393 -0.464479  0.765035 -0.432477        90.0  125.870000           0\n",
            "4         394 -0.494360  0.798880 -0.076882        90.0  125.870000           0\n",
            "...       ...       ...       ...       ...         ...         ...         ...\n",
            "16556   16946 -0.441763 -0.525671  0.723509        73.0    0.000000           0\n",
            "16557   16947 -0.441267 -0.525272  0.724310        73.0    0.000000           0\n",
            "16558   16948 -0.441876 -0.525352  0.724083        73.0    0.000000           0\n",
            "16559   16949 -0.442227 -0.525543  0.723603        73.0    0.000000           0\n",
            "16560   16950 -0.441905 -0.525534  0.723882        73.0    0.000000           0\n",
            "\n",
            "[16561 rows x 7 columns]\n",
            "-------------------- 759667 --------------------\n",
            "       second    x_move    y_move    z_move  heart_rate  step_count  psg_status\n",
            "0           7  0.176598  0.005585 -0.974216        75.0         0.0           0\n",
            "1           8  0.179751  0.007542 -0.976257        75.0         0.0           0\n",
            "2           9  0.171640  0.010070 -0.978475        75.0         0.0           0\n",
            "3          10  0.177361  0.020753 -0.976957        75.0         0.0           0\n",
            "4          11  0.157454  0.018493 -0.979429        75.0         0.0           0\n",
            "...       ...       ...       ...       ...         ...         ...         ...\n",
            "14179   14186 -0.124983 -0.968178 -0.200968        66.0         0.0           1\n",
            "14180   14187 -0.125358 -0.968028 -0.201479        66.0         0.0           1\n",
            "14181   14188 -0.125288 -0.967798 -0.200318        66.0         0.0           1\n",
            "14182   14189 -0.125436 -0.968168 -0.203684        66.0         0.0           1\n",
            "14183   14190 -0.125521 -0.967810 -0.203961        66.0         0.0           1\n",
            "\n",
            "[14184 rows x 7 columns]\n",
            "-------------------- 781756 --------------------\n",
            "       second    x_move    y_move    z_move  heart_rate  step_count  psg_status\n",
            "0           2 -0.484159  0.827394 -0.144834        65.0      178.06           0\n",
            "1           3 -0.504077  0.561891 -0.497203        65.0      178.06           0\n",
            "2           4  0.166481  0.512248 -0.691838        65.0      178.06           0\n",
            "3           5  0.951314  0.308661 -0.547155        65.0      178.06           0\n",
            "4           6 -0.189213 -0.109087 -0.734049        65.0      178.06           0\n",
            "...       ...       ...       ...       ...         ...         ...         ...\n",
            "29364   29366 -0.328940 -0.084280 -0.939244        46.0        0.00           5\n",
            "29365   29367 -0.328674 -0.079961 -0.939474        46.0        0.00           5\n",
            "29366   29368 -0.326509 -0.074846 -0.940762        46.0        0.00           5\n",
            "29367   29369 -0.325748 -0.078187 -0.940861        46.0        0.00           5\n",
            "29368   29370 -0.327856 -0.084254 -0.940070        46.0        0.00           5\n",
            "\n",
            "[29369 rows x 7 columns]\n"
          ],
          "name": "stdout"
        }
      ]
    },
    {
      "cell_type": "markdown",
      "metadata": {
        "id": "15GBSk5RrZuY"
      },
      "source": [
        "---\n",
        "---\n",
        "\n",
        "# 3. Get the data into the correct format for extracting the features\n",
        "\n",
        "---\n",
        "---"
      ]
    },
    {
      "cell_type": "markdown",
      "metadata": {
        "id": "RLRZJidvU_4L"
      },
      "source": [
        "### Add an 'id' column to each row specifying which bin of seconds each row falls in"
      ]
    },
    {
      "cell_type": "code",
      "metadata": {
        "id": "KRKnaDiBrkCh"
      },
      "source": [
        "bin_size = 30"
      ],
      "execution_count": null,
      "outputs": []
    },
    {
      "cell_type": "code",
      "metadata": {
        "id": "ZiwVae3xrkqh",
        "colab": {
          "base_uri": "https://localhost:8080/",
          "height": 1000,
          "referenced_widgets": [
            "481e6c369ee1439a8be1ee31f2fd5a6c",
            "5845e4a0181d472488c8e767c5a12a1d",
            "d23a794035ee4d55b3e85d23a5018f13",
            "695315e16bab47e69cd212467167d07d",
            "b759963a837c4157936234e5ce7ce698",
            "bac5117b87804dacb5906d5c79f16269",
            "ac6b25de8bf048888c5563e6d42b2627",
            "e9f23e21caf041a8a093e356e452b2b4"
          ]
        },
        "outputId": "7fec1181-cb50-41fe-e039-33cb4879623d"
      },
      "source": [
        "map_subject_to_df_with_id = {}\n",
        "for subject_id, fixed_sensor_df in tqdm(id_to_df_map.items()):\n",
        "\n",
        "    print(\"---------------\", subject_id, \"-----------------\")\n",
        "\n",
        "    print(fixed_sensor_df.shape)\n",
        "  \t# dropna's\n",
        "    no_nans_fixed_sensor_df = fixed_sensor_df.dropna()\n",
        "    print(no_nans_fixed_sensor_df.shape)\n",
        "\n",
        "    # get the value of the maximum second in this dataframe\n",
        "    max_second_in_df = int(round(max(no_nans_fixed_sensor_df.second) + 0.5))\n",
        "\n",
        "    # create a new dataframe that we will populate\n",
        "    new_df = pd.DataFrame(columns=(list(no_nans_fixed_sensor_df.columns).extend([\"session_id\"])))\n",
        "\n",
        "    session_number = 0\n",
        "    # iterate through each second interval in this dataframe\n",
        "    for i in np.arange(0, max_second_in_df + bin_size, bin_size):\n",
        "\n",
        "        # get the rows between second \"i - 1\" and second \"i\"\n",
        "        rows_in_session_df = pd.DataFrame(no_nans_fixed_sensor_df.loc[(no_nans_fixed_sensor_df.second >= (i)) & (no_nans_fixed_sensor_df.second < i + bin_size)])\n",
        "        \n",
        "        if not rows_in_session_df.empty:\n",
        "            # assign the session_id label to this row\n",
        "            rows_in_session_df['session_id'] = session_number\n",
        "\n",
        "            # join these rows to the rest of the rows\n",
        "            new_df = pd.concat([new_df, rows_in_session_df], axis=0)\n",
        "\n",
        "            session_number += 1\n",
        "\n",
        "    map_subject_to_df_with_id[subject_id] = new_df"
      ],
      "execution_count": null,
      "outputs": [
        {
          "output_type": "display_data",
          "data": {
            "application/vnd.jupyter.widget-view+json": {
              "model_id": "481e6c369ee1439a8be1ee31f2fd5a6c",
              "version_minor": 0,
              "version_major": 2
            },
            "text/plain": [
              "HBox(children=(FloatProgress(value=0.0, max=31.0), HTML(value='')))"
            ]
          },
          "metadata": {
            "tags": []
          }
        },
        {
          "output_type": "stream",
          "text": [
            "--------------- 46343 -----------------\n",
            "(16561, 7)\n",
            "(16561, 7)\n",
            "--------------- 759667 -----------------\n",
            "(14184, 7)\n",
            "(14184, 7)\n",
            "--------------- 781756 -----------------\n",
            "(29369, 7)\n",
            "(29369, 7)\n",
            "--------------- 844359 -----------------\n",
            "(26881, 7)\n",
            "(26881, 7)\n",
            "--------------- 1066528 -----------------\n",
            "(28389, 7)\n",
            "(28389, 7)\n",
            "--------------- 1360686 -----------------\n",
            "(27695, 7)\n",
            "(27695, 7)\n",
            "--------------- 1449548 -----------------\n",
            "(28561, 7)\n",
            "(28561, 7)\n",
            "--------------- 1455390 -----------------\n",
            "(28621, 7)\n",
            "(28621, 7)\n",
            "--------------- 1818471 -----------------\n",
            "(28711, 7)\n",
            "(28711, 7)\n",
            "--------------- 2598705 -----------------\n",
            "(28591, 7)\n",
            "(28591, 7)\n",
            "--------------- 2638030 -----------------\n",
            "(28411, 7)\n",
            "(28411, 7)\n",
            "--------------- 3509524 -----------------\n",
            "(12448, 7)\n",
            "(12448, 7)\n",
            "--------------- 3997827 -----------------\n",
            "(28711, 7)\n",
            "(28711, 7)\n",
            "--------------- 4018081 -----------------\n",
            "(14940, 7)\n",
            "(14940, 7)\n",
            "--------------- 4314139 -----------------\n",
            "(28801, 7)\n",
            "(28801, 7)\n",
            "--------------- 4426783 -----------------\n",
            "(29337, 7)\n",
            "(29337, 7)\n",
            "--------------- 5132496 -----------------\n",
            "(13884, 7)\n",
            "(13884, 7)\n",
            "--------------- 5383425 -----------------\n",
            "(29279, 7)\n",
            "(29279, 7)\n",
            "--------------- 5498603 -----------------\n",
            "(22291, 7)\n",
            "(22291, 7)\n",
            "--------------- 5797046 -----------------\n",
            "(28141, 7)\n",
            "(28141, 7)\n",
            "--------------- 6220552 -----------------\n",
            "(28591, 7)\n",
            "(28591, 7)\n",
            "--------------- 7749105 -----------------\n",
            "(3666, 7)\n",
            "(3666, 7)\n",
            "--------------- 8000685 -----------------\n",
            "(28711, 7)\n",
            "(28711, 7)\n",
            "--------------- 8173033 -----------------\n",
            "(28621, 7)\n",
            "(28621, 7)\n",
            "--------------- 8258170 -----------------\n",
            "(29100, 7)\n",
            "(29100, 7)\n",
            "--------------- 8530312 -----------------\n",
            "(28441, 7)\n",
            "(28441, 7)\n",
            "--------------- 8686948 -----------------\n",
            "(28621, 7)\n",
            "(28621, 7)\n",
            "--------------- 8692923 -----------------\n",
            "(28021, 7)\n",
            "(28021, 7)\n",
            "--------------- 9106476 -----------------\n",
            "(28771, 7)\n",
            "(28771, 7)\n",
            "--------------- 9618981 -----------------\n",
            "(28290, 7)\n",
            "(28290, 7)\n",
            "--------------- 9961348 -----------------\n",
            "(21540, 7)\n",
            "(21540, 7)\n",
            "\n"
          ],
          "name": "stdout"
        }
      ]
    },
    {
      "cell_type": "markdown",
      "metadata": {
        "id": "bnjEAER9rVFz"
      },
      "source": [
        "##### Have a look at the values in the 'id' column"
      ]
    },
    {
      "cell_type": "code",
      "metadata": {
        "id": "Ek2wRh0u9jbF",
        "colab": {
          "base_uri": "https://localhost:8080/"
        },
        "outputId": "95b0ac68-d297-443c-8324-c7f9eb9863f9"
      },
      "source": [
        "for sub_id, df in map_subject_to_df_with_id.items():\n",
        "    seen = {}\n",
        "    for v in df.session_id:\n",
        "\n",
        "        if v in seen:\n",
        "            seen[v] += 1\n",
        "            \n",
        "        else:\n",
        "            seen[v] = 1\n",
        "            \n",
        "    print(seen)"
      ],
      "execution_count": null,
      "outputs": [
        {
          "output_type": "stream",
          "text": [
            "{0: 30, 1: 30, 2: 30, 3: 30, 4: 30, 5: 30, 6: 30, 7: 30, 8: 30, 9: 30, 10: 30, 11: 30, 12: 30, 13: 30, 14: 30, 15: 30, 16: 30, 17: 30, 18: 30, 19: 30, 20: 30, 21: 30, 22: 30, 23: 30, 24: 30, 25: 30, 26: 30, 27: 30, 28: 30, 29: 30, 30: 30, 31: 30, 32: 30, 33: 30, 34: 30, 35: 30, 36: 30, 37: 30, 38: 30, 39: 30, 40: 30, 41: 30, 42: 30, 43: 30, 44: 30, 45: 30, 46: 30, 47: 30, 48: 30, 49: 30, 50: 30, 51: 30, 52: 30, 53: 30, 54: 30, 55: 30, 56: 30, 57: 30, 58: 30, 59: 30, 60: 30, 61: 30, 62: 30, 63: 30, 64: 30, 65: 30, 66: 30, 67: 30, 68: 30, 69: 30, 70: 30, 71: 30, 72: 30, 73: 30, 74: 30, 75: 30, 76: 30, 77: 30, 78: 30, 79: 30, 80: 30, 81: 30, 82: 30, 83: 30, 84: 30, 85: 30, 86: 30, 87: 30, 88: 30, 89: 30, 90: 30, 91: 30, 92: 30, 93: 30, 94: 30, 95: 30, 96: 30, 97: 30, 98: 30, 99: 30, 100: 30, 101: 30, 102: 30, 103: 30, 104: 30, 105: 30, 106: 30, 107: 30, 108: 30, 109: 30, 110: 30, 111: 30, 112: 30, 113: 30, 114: 30, 115: 30, 116: 30, 117: 30, 118: 30, 119: 30, 120: 30, 121: 30, 122: 30, 123: 30, 124: 30, 125: 30, 126: 30, 127: 30, 128: 30, 129: 30, 130: 30, 131: 30, 132: 30, 133: 30, 134: 30, 135: 30, 136: 30, 137: 30, 138: 30, 139: 30, 140: 30, 141: 30, 142: 30, 143: 30, 144: 30, 145: 30, 146: 30, 147: 30, 148: 30, 149: 30, 150: 30, 151: 30, 152: 30, 153: 30, 154: 30, 155: 30, 156: 30, 157: 30, 158: 30, 159: 30, 160: 30, 161: 30, 162: 30, 163: 30, 164: 30, 165: 30, 166: 30, 167: 30, 168: 30, 169: 30, 170: 30, 171: 30, 172: 30, 173: 30, 174: 30, 175: 30, 176: 30, 177: 30, 178: 30, 179: 30, 180: 30, 181: 30, 182: 30, 183: 30, 184: 30, 185: 30, 186: 30, 187: 30, 188: 30, 189: 30, 190: 30, 191: 30, 192: 30, 193: 30, 194: 30, 195: 30, 196: 30, 197: 30, 198: 30, 199: 30, 200: 30, 201: 30, 202: 30, 203: 30, 204: 30, 205: 30, 206: 30, 207: 30, 208: 30, 209: 30, 210: 30, 211: 30, 212: 30, 213: 30, 214: 30, 215: 30, 216: 30, 217: 30, 218: 30, 219: 30, 220: 30, 221: 30, 222: 30, 223: 30, 224: 30, 225: 30, 226: 30, 227: 30, 228: 30, 229: 30, 230: 30, 231: 30, 232: 30, 233: 30, 234: 30, 235: 30, 236: 30, 237: 30, 238: 30, 239: 30, 240: 30, 241: 30, 242: 30, 243: 30, 244: 30, 245: 30, 246: 30, 247: 30, 248: 30, 249: 30, 250: 30, 251: 30, 252: 30, 253: 30, 254: 30, 255: 30, 256: 30, 257: 30, 258: 30, 259: 30, 260: 30, 261: 30, 262: 30, 263: 30, 264: 30, 265: 30, 266: 30, 267: 30, 268: 30, 269: 30, 270: 30, 271: 30, 272: 30, 273: 30, 274: 30, 275: 30, 276: 30, 277: 30, 278: 30, 279: 30, 280: 30, 281: 30, 282: 30, 283: 30, 284: 30, 285: 30, 286: 30, 287: 30, 288: 30, 289: 30, 290: 30, 291: 30, 292: 30, 293: 30, 294: 30, 295: 30, 296: 30, 297: 30, 298: 30, 299: 30, 300: 30, 301: 30, 302: 30, 303: 30, 304: 30, 305: 30, 306: 30, 307: 30, 308: 30, 309: 30, 310: 30, 311: 30, 312: 30, 313: 30, 314: 30, 315: 30, 316: 30, 317: 30, 318: 30, 319: 30, 320: 30, 321: 30, 322: 30, 323: 30, 324: 30, 325: 30, 326: 30, 327: 30, 328: 30, 329: 30, 330: 30, 331: 30, 332: 30, 333: 30, 334: 30, 335: 30, 336: 30, 337: 30, 338: 30, 339: 30, 340: 30, 341: 30, 342: 30, 343: 30, 344: 30, 345: 30, 346: 30, 347: 30, 348: 30, 349: 30, 350: 30, 351: 30, 352: 30, 353: 30, 354: 30, 355: 30, 356: 30, 357: 30, 358: 30, 359: 30, 360: 30, 361: 30, 362: 30, 363: 30, 364: 30, 365: 30, 366: 30, 367: 30, 368: 30, 369: 30, 370: 30, 371: 30, 372: 30, 373: 30, 374: 30, 375: 30, 376: 30, 377: 30, 378: 30, 379: 30, 380: 30, 381: 30, 382: 30, 383: 30, 384: 30, 385: 30, 386: 30, 387: 30, 388: 30, 389: 30, 390: 30, 391: 30, 392: 30, 393: 30, 394: 30, 395: 30, 396: 30, 397: 30, 398: 30, 399: 30, 400: 30, 401: 30, 402: 30, 403: 30, 404: 30, 405: 30, 406: 30, 407: 30, 408: 30, 409: 30, 410: 30, 411: 30, 412: 30, 413: 30, 414: 30, 415: 30, 416: 30, 417: 30, 418: 30, 419: 30, 420: 30, 421: 30, 422: 30, 423: 30, 424: 30, 425: 30, 426: 30, 427: 30, 428: 30, 429: 30, 430: 30, 431: 30, 432: 30, 433: 30, 434: 30, 435: 30, 436: 30, 437: 30, 438: 30, 439: 30, 440: 30, 441: 30, 442: 30, 443: 30, 444: 30, 445: 30, 446: 30, 447: 30, 448: 30, 449: 30, 450: 30, 451: 30, 452: 30, 453: 30, 454: 30, 455: 30, 456: 30, 457: 30, 458: 30, 459: 30, 460: 30, 461: 30, 462: 30, 463: 30, 464: 30, 465: 30, 466: 30, 467: 30, 468: 30, 469: 30, 470: 30, 471: 30, 472: 30, 473: 30, 474: 30, 475: 30, 476: 30, 477: 30, 478: 30, 479: 30, 480: 30, 481: 30, 482: 30, 483: 30, 484: 30, 485: 30, 486: 30, 487: 30, 488: 30, 489: 30, 490: 30, 491: 30, 492: 30, 493: 30, 494: 30, 495: 30, 496: 30, 497: 30, 498: 30, 499: 30, 500: 30, 501: 30, 502: 30, 503: 30, 504: 30, 505: 30, 506: 30, 507: 30, 508: 30, 509: 30, 510: 30, 511: 30, 512: 30, 513: 30, 514: 30, 515: 30, 516: 30, 517: 30, 518: 30, 519: 30, 520: 30, 521: 30, 522: 30, 523: 30, 524: 30, 525: 30, 526: 30, 527: 30, 528: 30, 529: 30, 530: 30, 531: 30, 532: 30, 533: 30, 534: 30, 535: 30, 536: 30, 537: 30, 538: 30, 539: 30, 540: 30, 541: 30, 542: 30, 543: 30, 544: 30, 545: 30, 546: 30, 547: 30, 548: 30, 549: 30, 550: 30, 551: 30, 552: 1}\n",
            "{0: 23, 1: 30, 2: 30, 3: 30, 4: 30, 5: 30, 6: 30, 7: 30, 8: 30, 9: 30, 10: 30, 11: 30, 12: 30, 13: 30, 14: 30, 15: 30, 16: 30, 17: 30, 18: 30, 19: 30, 20: 30, 21: 30, 22: 30, 23: 30, 24: 30, 25: 30, 26: 30, 27: 30, 28: 30, 29: 30, 30: 30, 31: 30, 32: 30, 33: 30, 34: 30, 35: 30, 36: 30, 37: 30, 38: 30, 39: 30, 40: 30, 41: 30, 42: 30, 43: 30, 44: 30, 45: 30, 46: 30, 47: 30, 48: 30, 49: 30, 50: 30, 51: 30, 52: 30, 53: 30, 54: 30, 55: 30, 56: 30, 57: 30, 58: 30, 59: 30, 60: 30, 61: 30, 62: 30, 63: 30, 64: 30, 65: 30, 66: 30, 67: 30, 68: 30, 69: 30, 70: 30, 71: 30, 72: 30, 73: 30, 74: 30, 75: 30, 76: 30, 77: 30, 78: 30, 79: 30, 80: 30, 81: 30, 82: 30, 83: 30, 84: 30, 85: 30, 86: 30, 87: 30, 88: 30, 89: 30, 90: 30, 91: 30, 92: 30, 93: 30, 94: 30, 95: 30, 96: 30, 97: 30, 98: 30, 99: 30, 100: 30, 101: 30, 102: 30, 103: 30, 104: 30, 105: 30, 106: 30, 107: 30, 108: 30, 109: 30, 110: 30, 111: 30, 112: 30, 113: 30, 114: 30, 115: 30, 116: 30, 117: 30, 118: 30, 119: 30, 120: 30, 121: 30, 122: 30, 123: 30, 124: 30, 125: 30, 126: 30, 127: 30, 128: 30, 129: 30, 130: 30, 131: 30, 132: 30, 133: 30, 134: 30, 135: 30, 136: 30, 137: 30, 138: 30, 139: 30, 140: 30, 141: 30, 142: 30, 143: 30, 144: 30, 145: 30, 146: 30, 147: 30, 148: 30, 149: 30, 150: 30, 151: 30, 152: 30, 153: 30, 154: 30, 155: 30, 156: 30, 157: 30, 158: 30, 159: 30, 160: 30, 161: 30, 162: 30, 163: 30, 164: 30, 165: 30, 166: 30, 167: 30, 168: 30, 169: 30, 170: 30, 171: 30, 172: 30, 173: 30, 174: 30, 175: 30, 176: 30, 177: 30, 178: 30, 179: 30, 180: 30, 181: 30, 182: 30, 183: 30, 184: 30, 185: 30, 186: 30, 187: 30, 188: 30, 189: 30, 190: 30, 191: 30, 192: 30, 193: 30, 194: 30, 195: 30, 196: 30, 197: 30, 198: 30, 199: 30, 200: 30, 201: 30, 202: 30, 203: 30, 204: 30, 205: 30, 206: 30, 207: 30, 208: 30, 209: 30, 210: 30, 211: 30, 212: 30, 213: 30, 214: 30, 215: 30, 216: 30, 217: 30, 218: 30, 219: 30, 220: 30, 221: 30, 222: 30, 223: 30, 224: 30, 225: 30, 226: 30, 227: 30, 228: 30, 229: 30, 230: 30, 231: 30, 232: 30, 233: 30, 234: 30, 235: 30, 236: 30, 237: 30, 238: 30, 239: 30, 240: 30, 241: 30, 242: 30, 243: 30, 244: 30, 245: 30, 246: 30, 247: 30, 248: 30, 249: 30, 250: 30, 251: 30, 252: 30, 253: 30, 254: 30, 255: 30, 256: 30, 257: 30, 258: 30, 259: 30, 260: 30, 261: 30, 262: 30, 263: 30, 264: 30, 265: 30, 266: 30, 267: 30, 268: 30, 269: 30, 270: 30, 271: 30, 272: 30, 273: 30, 274: 30, 275: 30, 276: 30, 277: 30, 278: 30, 279: 30, 280: 30, 281: 30, 282: 30, 283: 30, 284: 30, 285: 30, 286: 30, 287: 30, 288: 30, 289: 30, 290: 30, 291: 30, 292: 30, 293: 30, 294: 30, 295: 30, 296: 30, 297: 30, 298: 30, 299: 30, 300: 30, 301: 30, 302: 30, 303: 30, 304: 30, 305: 30, 306: 30, 307: 30, 308: 30, 309: 30, 310: 30, 311: 30, 312: 30, 313: 30, 314: 30, 315: 30, 316: 30, 317: 30, 318: 30, 319: 30, 320: 30, 321: 30, 322: 30, 323: 30, 324: 30, 325: 30, 326: 30, 327: 30, 328: 30, 329: 30, 330: 30, 331: 30, 332: 30, 333: 30, 334: 30, 335: 30, 336: 30, 337: 30, 338: 30, 339: 30, 340: 30, 341: 30, 342: 30, 343: 30, 344: 30, 345: 30, 346: 30, 347: 30, 348: 30, 349: 30, 350: 30, 351: 30, 352: 30, 353: 30, 354: 30, 355: 30, 356: 30, 357: 30, 358: 30, 359: 30, 360: 30, 361: 30, 362: 30, 363: 30, 364: 30, 365: 30, 366: 30, 367: 30, 368: 30, 369: 30, 370: 30, 371: 30, 372: 30, 373: 30, 374: 30, 375: 30, 376: 30, 377: 30, 378: 30, 379: 30, 380: 30, 381: 30, 382: 30, 383: 30, 384: 30, 385: 30, 386: 30, 387: 30, 388: 30, 389: 30, 390: 30, 391: 30, 392: 30, 393: 30, 394: 30, 395: 30, 396: 30, 397: 30, 398: 30, 399: 30, 400: 30, 401: 30, 402: 30, 403: 30, 404: 30, 405: 30, 406: 30, 407: 30, 408: 30, 409: 30, 410: 30, 411: 30, 412: 30, 413: 30, 414: 30, 415: 30, 416: 30, 417: 30, 418: 30, 419: 30, 420: 30, 421: 30, 422: 30, 423: 30, 424: 30, 425: 30, 426: 30, 427: 30, 428: 30, 429: 30, 430: 30, 431: 30, 432: 30, 433: 30, 434: 30, 435: 30, 436: 30, 437: 30, 438: 30, 439: 30, 440: 30, 441: 30, 442: 30, 443: 30, 444: 30, 445: 30, 446: 30, 447: 30, 448: 30, 449: 30, 450: 30, 451: 30, 452: 30, 453: 30, 454: 30, 455: 30, 456: 30, 457: 30, 458: 30, 459: 30, 460: 30, 461: 30, 462: 30, 463: 30, 464: 30, 465: 30, 466: 30, 467: 30, 468: 30, 469: 30, 470: 30, 471: 30, 472: 30, 473: 1}\n",
            "{0: 28, 1: 30, 2: 30, 3: 30, 4: 30, 5: 30, 6: 30, 7: 30, 8: 30, 9: 30, 10: 30, 11: 30, 12: 30, 13: 30, 14: 30, 15: 30, 16: 30, 17: 30, 18: 30, 19: 30, 20: 30, 21: 30, 22: 30, 23: 30, 24: 30, 25: 30, 26: 30, 27: 30, 28: 30, 29: 30, 30: 30, 31: 30, 32: 30, 33: 30, 34: 30, 35: 30, 36: 30, 37: 30, 38: 30, 39: 30, 40: 30, 41: 30, 42: 30, 43: 30, 44: 30, 45: 30, 46: 30, 47: 30, 48: 30, 49: 30, 50: 30, 51: 30, 52: 30, 53: 30, 54: 30, 55: 30, 56: 30, 57: 30, 58: 30, 59: 30, 60: 30, 61: 30, 62: 30, 63: 30, 64: 30, 65: 30, 66: 30, 67: 30, 68: 30, 69: 30, 70: 30, 71: 30, 72: 30, 73: 30, 74: 30, 75: 30, 76: 30, 77: 30, 78: 30, 79: 30, 80: 30, 81: 30, 82: 30, 83: 30, 84: 30, 85: 30, 86: 30, 87: 30, 88: 30, 89: 30, 90: 30, 91: 30, 92: 30, 93: 30, 94: 30, 95: 30, 96: 30, 97: 30, 98: 30, 99: 30, 100: 30, 101: 30, 102: 30, 103: 30, 104: 30, 105: 30, 106: 30, 107: 30, 108: 30, 109: 30, 110: 30, 111: 30, 112: 30, 113: 30, 114: 30, 115: 30, 116: 30, 117: 30, 118: 30, 119: 30, 120: 30, 121: 30, 122: 30, 123: 30, 124: 30, 125: 30, 126: 30, 127: 30, 128: 30, 129: 30, 130: 30, 131: 30, 132: 30, 133: 30, 134: 30, 135: 30, 136: 30, 137: 30, 138: 30, 139: 30, 140: 30, 141: 30, 142: 30, 143: 30, 144: 30, 145: 30, 146: 30, 147: 30, 148: 30, 149: 30, 150: 30, 151: 30, 152: 30, 153: 30, 154: 30, 155: 30, 156: 30, 157: 30, 158: 30, 159: 30, 160: 30, 161: 30, 162: 30, 163: 30, 164: 30, 165: 30, 166: 30, 167: 30, 168: 30, 169: 30, 170: 30, 171: 30, 172: 30, 173: 30, 174: 30, 175: 30, 176: 30, 177: 30, 178: 30, 179: 30, 180: 30, 181: 30, 182: 30, 183: 30, 184: 30, 185: 30, 186: 30, 187: 30, 188: 30, 189: 30, 190: 30, 191: 30, 192: 30, 193: 30, 194: 30, 195: 30, 196: 30, 197: 30, 198: 30, 199: 30, 200: 30, 201: 30, 202: 30, 203: 30, 204: 30, 205: 30, 206: 30, 207: 30, 208: 30, 209: 30, 210: 30, 211: 30, 212: 30, 213: 30, 214: 30, 215: 30, 216: 30, 217: 30, 218: 30, 219: 30, 220: 30, 221: 30, 222: 30, 223: 30, 224: 30, 225: 30, 226: 30, 227: 30, 228: 30, 229: 30, 230: 30, 231: 30, 232: 30, 233: 30, 234: 30, 235: 30, 236: 30, 237: 30, 238: 30, 239: 30, 240: 30, 241: 30, 242: 30, 243: 30, 244: 30, 245: 30, 246: 30, 247: 30, 248: 30, 249: 30, 250: 30, 251: 30, 252: 30, 253: 30, 254: 30, 255: 30, 256: 30, 257: 30, 258: 30, 259: 30, 260: 30, 261: 30, 262: 30, 263: 30, 264: 30, 265: 30, 266: 30, 267: 30, 268: 30, 269: 30, 270: 30, 271: 30, 272: 30, 273: 30, 274: 30, 275: 30, 276: 30, 277: 30, 278: 30, 279: 30, 280: 30, 281: 30, 282: 30, 283: 30, 284: 30, 285: 30, 286: 30, 287: 30, 288: 30, 289: 30, 290: 30, 291: 30, 292: 30, 293: 30, 294: 30, 295: 30, 296: 30, 297: 30, 298: 30, 299: 30, 300: 30, 301: 30, 302: 30, 303: 30, 304: 30, 305: 30, 306: 30, 307: 30, 308: 30, 309: 30, 310: 30, 311: 30, 312: 30, 313: 30, 314: 30, 315: 30, 316: 30, 317: 30, 318: 30, 319: 30, 320: 30, 321: 30, 322: 30, 323: 30, 324: 30, 325: 30, 326: 30, 327: 30, 328: 30, 329: 30, 330: 30, 331: 30, 332: 30, 333: 30, 334: 30, 335: 30, 336: 30, 337: 30, 338: 30, 339: 30, 340: 30, 341: 30, 342: 30, 343: 30, 344: 30, 345: 30, 346: 30, 347: 30, 348: 30, 349: 30, 350: 30, 351: 30, 352: 30, 353: 30, 354: 30, 355: 30, 356: 30, 357: 30, 358: 30, 359: 30, 360: 30, 361: 30, 362: 30, 363: 30, 364: 30, 365: 30, 366: 30, 367: 30, 368: 30, 369: 30, 370: 30, 371: 30, 372: 30, 373: 30, 374: 30, 375: 30, 376: 30, 377: 30, 378: 30, 379: 30, 380: 30, 381: 30, 382: 30, 383: 30, 384: 30, 385: 30, 386: 30, 387: 30, 388: 30, 389: 30, 390: 30, 391: 30, 392: 30, 393: 30, 394: 30, 395: 30, 396: 30, 397: 30, 398: 30, 399: 30, 400: 30, 401: 30, 402: 30, 403: 30, 404: 30, 405: 30, 406: 30, 407: 30, 408: 30, 409: 30, 410: 30, 411: 30, 412: 30, 413: 30, 414: 30, 415: 30, 416: 30, 417: 30, 418: 30, 419: 30, 420: 30, 421: 30, 422: 30, 423: 30, 424: 30, 425: 30, 426: 30, 427: 30, 428: 30, 429: 30, 430: 30, 431: 30, 432: 30, 433: 30, 434: 30, 435: 30, 436: 30, 437: 30, 438: 30, 439: 30, 440: 30, 441: 30, 442: 30, 443: 30, 444: 30, 445: 30, 446: 30, 447: 30, 448: 30, 449: 30, 450: 30, 451: 30, 452: 30, 453: 30, 454: 30, 455: 30, 456: 30, 457: 30, 458: 30, 459: 30, 460: 30, 461: 30, 462: 30, 463: 30, 464: 30, 465: 30, 466: 30, 467: 30, 468: 30, 469: 30, 470: 30, 471: 30, 472: 30, 473: 30, 474: 30, 475: 30, 476: 30, 477: 30, 478: 30, 479: 30, 480: 30, 481: 30, 482: 30, 483: 30, 484: 30, 485: 30, 486: 30, 487: 30, 488: 30, 489: 30, 490: 30, 491: 30, 492: 30, 493: 30, 494: 30, 495: 30, 496: 30, 497: 30, 498: 30, 499: 30, 500: 30, 501: 30, 502: 30, 503: 30, 504: 30, 505: 30, 506: 30, 507: 30, 508: 30, 509: 30, 510: 30, 511: 30, 512: 30, 513: 30, 514: 30, 515: 30, 516: 30, 517: 30, 518: 30, 519: 30, 520: 30, 521: 30, 522: 30, 523: 30, 524: 30, 525: 30, 526: 30, 527: 30, 528: 30, 529: 30, 530: 30, 531: 30, 532: 30, 533: 30, 534: 30, 535: 30, 536: 30, 537: 30, 538: 30, 539: 30, 540: 30, 541: 30, 542: 30, 543: 30, 544: 30, 545: 30, 546: 30, 547: 30, 548: 30, 549: 30, 550: 30, 551: 30, 552: 30, 553: 30, 554: 30, 555: 30, 556: 30, 557: 30, 558: 30, 559: 30, 560: 30, 561: 30, 562: 30, 563: 30, 564: 30, 565: 30, 566: 30, 567: 30, 568: 30, 569: 30, 570: 30, 571: 30, 572: 30, 573: 30, 574: 30, 575: 30, 576: 30, 577: 30, 578: 30, 579: 30, 580: 30, 581: 30, 582: 30, 583: 30, 584: 30, 585: 30, 586: 30, 587: 30, 588: 30, 589: 30, 590: 30, 591: 30, 592: 30, 593: 30, 594: 30, 595: 30, 596: 30, 597: 30, 598: 30, 599: 30, 600: 30, 601: 30, 602: 30, 603: 30, 604: 30, 605: 30, 606: 30, 607: 30, 608: 30, 609: 30, 610: 30, 611: 30, 612: 30, 613: 30, 614: 30, 615: 30, 616: 30, 617: 30, 618: 30, 619: 30, 620: 30, 621: 30, 622: 30, 623: 30, 624: 30, 625: 30, 626: 30, 627: 30, 628: 30, 629: 30, 630: 30, 631: 30, 632: 30, 633: 30, 634: 30, 635: 30, 636: 30, 637: 30, 638: 30, 639: 30, 640: 30, 641: 30, 642: 30, 643: 30, 644: 30, 645: 30, 646: 30, 647: 30, 648: 30, 649: 30, 650: 30, 651: 30, 652: 30, 653: 30, 654: 30, 655: 30, 656: 30, 657: 30, 658: 30, 659: 30, 660: 30, 661: 30, 662: 30, 663: 30, 664: 30, 665: 30, 666: 30, 667: 30, 668: 30, 669: 30, 670: 30, 671: 30, 672: 30, 673: 30, 674: 30, 675: 30, 676: 30, 677: 30, 678: 30, 679: 30, 680: 30, 681: 30, 682: 30, 683: 30, 684: 30, 685: 30, 686: 30, 687: 30, 688: 30, 689: 30, 690: 30, 691: 30, 692: 30, 693: 30, 694: 30, 695: 30, 696: 30, 697: 30, 698: 30, 699: 30, 700: 30, 701: 30, 702: 30, 703: 30, 704: 30, 705: 30, 706: 30, 707: 30, 708: 30, 709: 30, 710: 30, 711: 30, 712: 30, 713: 30, 714: 30, 715: 30, 716: 30, 717: 30, 718: 30, 719: 30, 720: 30, 721: 30, 722: 30, 723: 30, 724: 30, 725: 30, 726: 30, 727: 30, 728: 30, 729: 30, 730: 30, 731: 30, 732: 30, 733: 30, 734: 30, 735: 30, 736: 30, 737: 30, 738: 30, 739: 30, 740: 30, 741: 30, 742: 30, 743: 30, 744: 30, 745: 30, 746: 30, 747: 30, 748: 30, 749: 30, 750: 30, 751: 30, 752: 30, 753: 30, 754: 30, 755: 30, 756: 30, 757: 30, 758: 30, 759: 30, 760: 30, 761: 30, 762: 30, 763: 30, 764: 30, 765: 30, 766: 30, 767: 30, 768: 30, 769: 30, 770: 30, 771: 30, 772: 30, 773: 30, 774: 30, 775: 30, 776: 30, 777: 30, 778: 30, 779: 30, 780: 30, 781: 30, 782: 30, 783: 30, 784: 30, 785: 30, 786: 30, 787: 30, 788: 30, 789: 30, 790: 30, 791: 30, 792: 30, 793: 30, 794: 30, 795: 30, 796: 30, 797: 30, 798: 30, 799: 30, 800: 30, 801: 30, 802: 30, 803: 30, 804: 30, 805: 30, 806: 30, 807: 30, 808: 30, 809: 30, 810: 30, 811: 30, 812: 30, 813: 30, 814: 30, 815: 30, 816: 30, 817: 30, 818: 30, 819: 30, 820: 30, 821: 30, 822: 30, 823: 30, 824: 30, 825: 30, 826: 30, 827: 30, 828: 30, 829: 30, 830: 30, 831: 30, 832: 30, 833: 30, 834: 30, 835: 30, 836: 30, 837: 30, 838: 30, 839: 30, 840: 30, 841: 30, 842: 30, 843: 30, 844: 30, 845: 30, 846: 30, 847: 30, 848: 30, 849: 30, 850: 30, 851: 30, 852: 30, 853: 30, 854: 30, 855: 30, 856: 30, 857: 30, 858: 30, 859: 30, 860: 30, 861: 30, 862: 30, 863: 30, 864: 30, 865: 30, 866: 30, 867: 30, 868: 30, 869: 30, 870: 30, 871: 30, 872: 30, 873: 30, 874: 30, 875: 30, 876: 30, 877: 30, 878: 30, 879: 30, 880: 30, 881: 30, 882: 30, 883: 30, 884: 30, 885: 30, 886: 30, 887: 30, 888: 30, 889: 30, 890: 30, 891: 30, 892: 30, 893: 30, 894: 30, 895: 30, 896: 30, 897: 30, 898: 30, 899: 30, 900: 30, 901: 30, 902: 30, 903: 30, 904: 30, 905: 30, 906: 30, 907: 30, 908: 30, 909: 30, 910: 30, 911: 30, 912: 30, 913: 30, 914: 30, 915: 30, 916: 30, 917: 30, 918: 30, 919: 30, 920: 30, 921: 30, 922: 30, 923: 30, 924: 30, 925: 30, 926: 30, 927: 30, 928: 30, 929: 30, 930: 30, 931: 30, 932: 30, 933: 30, 934: 30, 935: 30, 936: 30, 937: 30, 938: 30, 939: 30, 940: 30, 941: 30, 942: 30, 943: 30, 944: 30, 945: 30, 946: 30, 947: 30, 948: 30, 949: 30, 950: 30, 951: 30, 952: 30, 953: 30, 954: 30, 955: 30, 956: 30, 957: 30, 958: 30, 959: 30, 960: 30, 961: 30, 962: 30, 963: 30, 964: 30, 965: 30, 966: 30, 967: 30, 968: 30, 969: 30, 970: 30, 971: 30, 972: 30, 973: 30, 974: 30, 975: 30, 976: 30, 977: 30, 978: 30, 979: 1}\n",
            "{0: 30, 1: 30, 2: 30, 3: 30, 4: 30, 5: 30, 6: 30, 7: 30, 8: 30, 9: 30, 10: 30, 11: 30, 12: 30, 13: 30, 14: 30, 15: 30, 16: 30, 17: 30, 18: 30, 19: 30, 20: 30, 21: 30, 22: 30, 23: 30, 24: 30, 25: 30, 26: 30, 27: 30, 28: 30, 29: 30, 30: 30, 31: 30, 32: 30, 33: 30, 34: 30, 35: 30, 36: 30, 37: 30, 38: 30, 39: 30, 40: 30, 41: 30, 42: 30, 43: 30, 44: 30, 45: 30, 46: 30, 47: 30, 48: 30, 49: 30, 50: 30, 51: 30, 52: 30, 53: 30, 54: 30, 55: 30, 56: 30, 57: 30, 58: 30, 59: 30, 60: 30, 61: 30, 62: 30, 63: 30, 64: 30, 65: 30, 66: 30, 67: 30, 68: 30, 69: 30, 70: 30, 71: 30, 72: 30, 73: 30, 74: 30, 75: 30, 76: 30, 77: 30, 78: 30, 79: 30, 80: 30, 81: 30, 82: 30, 83: 30, 84: 30, 85: 30, 86: 30, 87: 30, 88: 30, 89: 30, 90: 30, 91: 30, 92: 30, 93: 30, 94: 30, 95: 30, 96: 30, 97: 30, 98: 30, 99: 30, 100: 30, 101: 30, 102: 30, 103: 30, 104: 30, 105: 30, 106: 30, 107: 30, 108: 30, 109: 30, 110: 30, 111: 30, 112: 30, 113: 30, 114: 30, 115: 30, 116: 30, 117: 30, 118: 30, 119: 30, 120: 30, 121: 30, 122: 30, 123: 30, 124: 30, 125: 30, 126: 30, 127: 30, 128: 30, 129: 30, 130: 30, 131: 30, 132: 30, 133: 30, 134: 30, 135: 30, 136: 30, 137: 30, 138: 30, 139: 30, 140: 30, 141: 30, 142: 30, 143: 30, 144: 30, 145: 30, 146: 30, 147: 30, 148: 30, 149: 30, 150: 30, 151: 30, 152: 30, 153: 30, 154: 30, 155: 30, 156: 30, 157: 30, 158: 30, 159: 30, 160: 30, 161: 30, 162: 30, 163: 30, 164: 30, 165: 30, 166: 30, 167: 30, 168: 30, 169: 30, 170: 30, 171: 30, 172: 30, 173: 30, 174: 30, 175: 30, 176: 30, 177: 30, 178: 30, 179: 30, 180: 30, 181: 30, 182: 30, 183: 30, 184: 30, 185: 30, 186: 30, 187: 30, 188: 30, 189: 30, 190: 30, 191: 30, 192: 30, 193: 30, 194: 30, 195: 30, 196: 30, 197: 30, 198: 30, 199: 30, 200: 30, 201: 30, 202: 30, 203: 30, 204: 30, 205: 30, 206: 30, 207: 30, 208: 30, 209: 30, 210: 30, 211: 30, 212: 30, 213: 30, 214: 30, 215: 30, 216: 30, 217: 30, 218: 30, 219: 30, 220: 30, 221: 30, 222: 30, 223: 30, 224: 30, 225: 30, 226: 30, 227: 30, 228: 30, 229: 30, 230: 30, 231: 30, 232: 30, 233: 30, 234: 30, 235: 30, 236: 30, 237: 30, 238: 30, 239: 30, 240: 30, 241: 30, 242: 30, 243: 30, 244: 30, 245: 30, 246: 30, 247: 30, 248: 30, 249: 30, 250: 30, 251: 30, 252: 30, 253: 30, 254: 30, 255: 30, 256: 30, 257: 30, 258: 30, 259: 30, 260: 30, 261: 30, 262: 30, 263: 30, 264: 30, 265: 30, 266: 30, 267: 30, 268: 30, 269: 30, 270: 30, 271: 30, 272: 30, 273: 30, 274: 30, 275: 30, 276: 30, 277: 30, 278: 30, 279: 30, 280: 30, 281: 30, 282: 30, 283: 30, 284: 30, 285: 30, 286: 30, 287: 30, 288: 30, 289: 30, 290: 30, 291: 30, 292: 30, 293: 30, 294: 30, 295: 30, 296: 30, 297: 30, 298: 30, 299: 30, 300: 30, 301: 30, 302: 30, 303: 30, 304: 30, 305: 30, 306: 30, 307: 30, 308: 30, 309: 30, 310: 30, 311: 30, 312: 30, 313: 30, 314: 30, 315: 30, 316: 30, 317: 30, 318: 30, 319: 30, 320: 30, 321: 30, 322: 30, 323: 30, 324: 30, 325: 30, 326: 30, 327: 30, 328: 30, 329: 30, 330: 30, 331: 30, 332: 30, 333: 30, 334: 30, 335: 30, 336: 30, 337: 30, 338: 30, 339: 30, 340: 30, 341: 30, 342: 30, 343: 30, 344: 30, 345: 30, 346: 30, 347: 30, 348: 30, 349: 30, 350: 30, 351: 30, 352: 30, 353: 30, 354: 30, 355: 30, 356: 30, 357: 30, 358: 30, 359: 30, 360: 30, 361: 30, 362: 30, 363: 30, 364: 30, 365: 30, 366: 30, 367: 30, 368: 30, 369: 30, 370: 30, 371: 30, 372: 30, 373: 30, 374: 30, 375: 30, 376: 30, 377: 30, 378: 30, 379: 30, 380: 30, 381: 30, 382: 30, 383: 30, 384: 30, 385: 30, 386: 30, 387: 30, 388: 30, 389: 30, 390: 30, 391: 30, 392: 30, 393: 30, 394: 30, 395: 30, 396: 30, 397: 30, 398: 30, 399: 30, 400: 30, 401: 30, 402: 30, 403: 30, 404: 30, 405: 30, 406: 30, 407: 30, 408: 30, 409: 30, 410: 30, 411: 30, 412: 30, 413: 30, 414: 30, 415: 30, 416: 30, 417: 30, 418: 30, 419: 30, 420: 30, 421: 30, 422: 30, 423: 30, 424: 30, 425: 30, 426: 30, 427: 30, 428: 30, 429: 30, 430: 30, 431: 30, 432: 30, 433: 30, 434: 30, 435: 30, 436: 30, 437: 30, 438: 30, 439: 30, 440: 30, 441: 30, 442: 30, 443: 30, 444: 30, 445: 30, 446: 30, 447: 30, 448: 30, 449: 30, 450: 30, 451: 30, 452: 30, 453: 30, 454: 30, 455: 30, 456: 30, 457: 30, 458: 30, 459: 30, 460: 30, 461: 30, 462: 30, 463: 30, 464: 30, 465: 30, 466: 30, 467: 30, 468: 30, 469: 30, 470: 30, 471: 30, 472: 30, 473: 30, 474: 30, 475: 30, 476: 30, 477: 30, 478: 30, 479: 30, 480: 30, 481: 30, 482: 30, 483: 30, 484: 30, 485: 30, 486: 30, 487: 30, 488: 30, 489: 30, 490: 30, 491: 30, 492: 30, 493: 30, 494: 30, 495: 30, 496: 30, 497: 30, 498: 30, 499: 30, 500: 30, 501: 30, 502: 30, 503: 30, 504: 30, 505: 30, 506: 30, 507: 30, 508: 30, 509: 30, 510: 30, 511: 30, 512: 30, 513: 30, 514: 30, 515: 30, 516: 30, 517: 30, 518: 30, 519: 30, 520: 30, 521: 30, 522: 30, 523: 30, 524: 30, 525: 30, 526: 30, 527: 30, 528: 30, 529: 30, 530: 30, 531: 30, 532: 30, 533: 30, 534: 30, 535: 30, 536: 30, 537: 30, 538: 30, 539: 30, 540: 30, 541: 30, 542: 30, 543: 30, 544: 30, 545: 30, 546: 30, 547: 30, 548: 30, 549: 30, 550: 30, 551: 30, 552: 30, 553: 30, 554: 30, 555: 30, 556: 30, 557: 30, 558: 30, 559: 30, 560: 30, 561: 30, 562: 30, 563: 30, 564: 30, 565: 30, 566: 30, 567: 30, 568: 30, 569: 30, 570: 30, 571: 30, 572: 30, 573: 30, 574: 30, 575: 30, 576: 30, 577: 30, 578: 30, 579: 30, 580: 30, 581: 30, 582: 30, 583: 30, 584: 30, 585: 30, 586: 30, 587: 30, 588: 30, 589: 30, 590: 30, 591: 30, 592: 30, 593: 30, 594: 30, 595: 30, 596: 30, 597: 30, 598: 30, 599: 30, 600: 30, 601: 30, 602: 30, 603: 30, 604: 30, 605: 30, 606: 30, 607: 30, 608: 30, 609: 30, 610: 30, 611: 30, 612: 30, 613: 30, 614: 30, 615: 30, 616: 30, 617: 30, 618: 30, 619: 30, 620: 30, 621: 30, 622: 30, 623: 30, 624: 30, 625: 30, 626: 30, 627: 30, 628: 30, 629: 30, 630: 30, 631: 30, 632: 30, 633: 30, 634: 30, 635: 30, 636: 30, 637: 30, 638: 30, 639: 30, 640: 30, 641: 30, 642: 30, 643: 30, 644: 30, 645: 30, 646: 30, 647: 30, 648: 30, 649: 30, 650: 30, 651: 30, 652: 30, 653: 30, 654: 30, 655: 30, 656: 30, 657: 30, 658: 30, 659: 30, 660: 30, 661: 30, 662: 30, 663: 30, 664: 30, 665: 30, 666: 30, 667: 30, 668: 30, 669: 30, 670: 30, 671: 30, 672: 30, 673: 30, 674: 30, 675: 30, 676: 30, 677: 30, 678: 30, 679: 30, 680: 30, 681: 30, 682: 30, 683: 30, 684: 30, 685: 30, 686: 30, 687: 30, 688: 30, 689: 30, 690: 30, 691: 30, 692: 30, 693: 30, 694: 30, 695: 30, 696: 30, 697: 30, 698: 30, 699: 30, 700: 30, 701: 30, 702: 30, 703: 30, 704: 30, 705: 30, 706: 30, 707: 30, 708: 30, 709: 30, 710: 30, 711: 30, 712: 30, 713: 30, 714: 30, 715: 30, 716: 30, 717: 30, 718: 30, 719: 30, 720: 30, 721: 30, 722: 30, 723: 30, 724: 30, 725: 30, 726: 30, 727: 30, 728: 30, 729: 30, 730: 30, 731: 30, 732: 30, 733: 30, 734: 30, 735: 30, 736: 30, 737: 30, 738: 30, 739: 30, 740: 30, 741: 30, 742: 30, 743: 30, 744: 30, 745: 30, 746: 30, 747: 30, 748: 30, 749: 30, 750: 30, 751: 30, 752: 30, 753: 30, 754: 30, 755: 30, 756: 30, 757: 30, 758: 30, 759: 30, 760: 30, 761: 30, 762: 30, 763: 30, 764: 30, 765: 30, 766: 30, 767: 30, 768: 30, 769: 30, 770: 30, 771: 30, 772: 30, 773: 30, 774: 30, 775: 30, 776: 30, 777: 30, 778: 30, 779: 30, 780: 30, 781: 30, 782: 30, 783: 30, 784: 30, 785: 30, 786: 30, 787: 30, 788: 30, 789: 30, 790: 30, 791: 30, 792: 30, 793: 30, 794: 30, 795: 30, 796: 30, 797: 30, 798: 30, 799: 30, 800: 30, 801: 30, 802: 30, 803: 30, 804: 30, 805: 30, 806: 30, 807: 30, 808: 30, 809: 30, 810: 30, 811: 30, 812: 30, 813: 30, 814: 30, 815: 30, 816: 30, 817: 30, 818: 30, 819: 30, 820: 30, 821: 30, 822: 30, 823: 30, 824: 30, 825: 30, 826: 30, 827: 30, 828: 30, 829: 30, 830: 30, 831: 30, 832: 30, 833: 30, 834: 30, 835: 30, 836: 30, 837: 30, 838: 30, 839: 30, 840: 30, 841: 30, 842: 30, 843: 30, 844: 30, 845: 30, 846: 30, 847: 30, 848: 30, 849: 30, 850: 30, 851: 30, 852: 30, 853: 30, 854: 30, 855: 30, 856: 30, 857: 30, 858: 30, 859: 30, 860: 30, 861: 30, 862: 30, 863: 30, 864: 30, 865: 30, 866: 30, 867: 30, 868: 30, 869: 30, 870: 30, 871: 30, 872: 30, 873: 30, 874: 30, 875: 30, 876: 30, 877: 30, 878: 30, 879: 30, 880: 30, 881: 30, 882: 30, 883: 30, 884: 30, 885: 30, 886: 30, 887: 30, 888: 30, 889: 30, 890: 30, 891: 30, 892: 30, 893: 30, 894: 30, 895: 30, 896: 1}\n",
            "{0: 23, 1: 30, 2: 30, 3: 30, 4: 30, 5: 30, 6: 30, 7: 30, 8: 30, 9: 30, 10: 30, 11: 30, 12: 30, 13: 30, 14: 30, 15: 30, 16: 30, 17: 30, 18: 30, 19: 30, 20: 30, 21: 30, 22: 30, 23: 30, 24: 30, 25: 30, 26: 30, 27: 30, 28: 30, 29: 30, 30: 30, 31: 30, 32: 30, 33: 30, 34: 30, 35: 30, 36: 30, 37: 30, 38: 30, 39: 30, 40: 30, 41: 30, 42: 30, 43: 30, 44: 30, 45: 30, 46: 30, 47: 30, 48: 30, 49: 30, 50: 30, 51: 30, 52: 30, 53: 30, 54: 30, 55: 30, 56: 30, 57: 30, 58: 30, 59: 30, 60: 30, 61: 30, 62: 30, 63: 30, 64: 30, 65: 30, 66: 30, 67: 30, 68: 30, 69: 30, 70: 30, 71: 30, 72: 30, 73: 30, 74: 30, 75: 30, 76: 30, 77: 30, 78: 30, 79: 30, 80: 30, 81: 30, 82: 30, 83: 30, 84: 30, 85: 30, 86: 30, 87: 30, 88: 30, 89: 30, 90: 30, 91: 30, 92: 30, 93: 30, 94: 30, 95: 30, 96: 30, 97: 30, 98: 30, 99: 30, 100: 30, 101: 30, 102: 30, 103: 30, 104: 30, 105: 30, 106: 30, 107: 30, 108: 30, 109: 30, 110: 30, 111: 30, 112: 30, 113: 30, 114: 30, 115: 30, 116: 30, 117: 30, 118: 30, 119: 30, 120: 30, 121: 30, 122: 30, 123: 30, 124: 30, 125: 30, 126: 30, 127: 30, 128: 30, 129: 30, 130: 30, 131: 30, 132: 30, 133: 30, 134: 30, 135: 30, 136: 30, 137: 30, 138: 30, 139: 30, 140: 30, 141: 30, 142: 30, 143: 30, 144: 30, 145: 30, 146: 30, 147: 30, 148: 30, 149: 30, 150: 30, 151: 30, 152: 30, 153: 30, 154: 30, 155: 30, 156: 30, 157: 30, 158: 30, 159: 30, 160: 30, 161: 30, 162: 30, 163: 30, 164: 30, 165: 30, 166: 30, 167: 30, 168: 30, 169: 30, 170: 30, 171: 30, 172: 30, 173: 30, 174: 30, 175: 30, 176: 30, 177: 30, 178: 30, 179: 30, 180: 30, 181: 30, 182: 30, 183: 30, 184: 30, 185: 30, 186: 30, 187: 30, 188: 30, 189: 30, 190: 30, 191: 30, 192: 30, 193: 30, 194: 30, 195: 30, 196: 30, 197: 30, 198: 30, 199: 30, 200: 30, 201: 30, 202: 30, 203: 30, 204: 30, 205: 30, 206: 30, 207: 30, 208: 30, 209: 30, 210: 30, 211: 30, 212: 30, 213: 30, 214: 30, 215: 30, 216: 30, 217: 30, 218: 30, 219: 30, 220: 30, 221: 30, 222: 30, 223: 30, 224: 30, 225: 30, 226: 30, 227: 30, 228: 30, 229: 30, 230: 30, 231: 30, 232: 30, 233: 30, 234: 30, 235: 30, 236: 30, 237: 30, 238: 30, 239: 30, 240: 30, 241: 30, 242: 30, 243: 30, 244: 30, 245: 30, 246: 30, 247: 30, 248: 30, 249: 30, 250: 30, 251: 30, 252: 30, 253: 30, 254: 30, 255: 30, 256: 30, 257: 30, 258: 30, 259: 30, 260: 30, 261: 30, 262: 30, 263: 30, 264: 30, 265: 30, 266: 30, 267: 30, 268: 30, 269: 30, 270: 30, 271: 30, 272: 30, 273: 30, 274: 30, 275: 30, 276: 30, 277: 30, 278: 30, 279: 30, 280: 30, 281: 30, 282: 30, 283: 30, 284: 30, 285: 30, 286: 30, 287: 30, 288: 30, 289: 30, 290: 30, 291: 30, 292: 30, 293: 30, 294: 30, 295: 30, 296: 30, 297: 30, 298: 30, 299: 30, 300: 30, 301: 30, 302: 30, 303: 30, 304: 30, 305: 30, 306: 30, 307: 30, 308: 30, 309: 30, 310: 30, 311: 30, 312: 30, 313: 30, 314: 30, 315: 30, 316: 30, 317: 30, 318: 30, 319: 30, 320: 30, 321: 30, 322: 30, 323: 30, 324: 30, 325: 30, 326: 30, 327: 30, 328: 30, 329: 30, 330: 30, 331: 30, 332: 30, 333: 30, 334: 30, 335: 30, 336: 30, 337: 30, 338: 30, 339: 30, 340: 30, 341: 30, 342: 30, 343: 30, 344: 30, 345: 30, 346: 30, 347: 30, 348: 30, 349: 30, 350: 30, 351: 30, 352: 30, 353: 30, 354: 30, 355: 30, 356: 30, 357: 30, 358: 30, 359: 30, 360: 30, 361: 30, 362: 30, 363: 30, 364: 30, 365: 30, 366: 30, 367: 30, 368: 30, 369: 30, 370: 30, 371: 30, 372: 30, 373: 30, 374: 30, 375: 30, 376: 30, 377: 30, 378: 30, 379: 30, 380: 30, 381: 30, 382: 30, 383: 30, 384: 30, 385: 30, 386: 30, 387: 30, 388: 30, 389: 30, 390: 30, 391: 30, 392: 30, 393: 30, 394: 30, 395: 30, 396: 30, 397: 30, 398: 30, 399: 30, 400: 30, 401: 30, 402: 30, 403: 30, 404: 30, 405: 30, 406: 30, 407: 30, 408: 30, 409: 30, 410: 30, 411: 30, 412: 30, 413: 30, 414: 30, 415: 30, 416: 30, 417: 30, 418: 30, 419: 30, 420: 30, 421: 30, 422: 30, 423: 30, 424: 30, 425: 30, 426: 30, 427: 30, 428: 30, 429: 30, 430: 30, 431: 30, 432: 30, 433: 30, 434: 30, 435: 30, 436: 30, 437: 30, 438: 30, 439: 30, 440: 30, 441: 30, 442: 30, 443: 30, 444: 30, 445: 30, 446: 30, 447: 30, 448: 30, 449: 30, 450: 30, 451: 30, 452: 30, 453: 30, 454: 30, 455: 30, 456: 30, 457: 30, 458: 30, 459: 30, 460: 30, 461: 30, 462: 30, 463: 30, 464: 30, 465: 30, 466: 30, 467: 30, 468: 30, 469: 30, 470: 30, 471: 30, 472: 30, 473: 30, 474: 30, 475: 30, 476: 30, 477: 30, 478: 30, 479: 30, 480: 30, 481: 30, 482: 30, 483: 30, 484: 30, 485: 30, 486: 30, 487: 30, 488: 30, 489: 30, 490: 30, 491: 30, 492: 30, 493: 30, 494: 30, 495: 30, 496: 30, 497: 30, 498: 30, 499: 30, 500: 30, 501: 30, 502: 30, 503: 30, 504: 30, 505: 30, 506: 30, 507: 30, 508: 30, 509: 30, 510: 30, 511: 30, 512: 30, 513: 30, 514: 30, 515: 30, 516: 30, 517: 30, 518: 30, 519: 30, 520: 30, 521: 30, 522: 30, 523: 30, 524: 30, 525: 30, 526: 30, 527: 30, 528: 30, 529: 30, 530: 30, 531: 30, 532: 30, 533: 30, 534: 30, 535: 30, 536: 30, 537: 30, 538: 30, 539: 30, 540: 30, 541: 30, 542: 30, 543: 30, 544: 30, 545: 30, 546: 30, 547: 30, 548: 30, 549: 30, 550: 30, 551: 30, 552: 30, 553: 30, 554: 30, 555: 30, 556: 30, 557: 30, 558: 30, 559: 30, 560: 30, 561: 30, 562: 30, 563: 30, 564: 30, 565: 30, 566: 30, 567: 30, 568: 30, 569: 30, 570: 30, 571: 30, 572: 30, 573: 30, 574: 30, 575: 30, 576: 30, 577: 30, 578: 30, 579: 30, 580: 30, 581: 30, 582: 30, 583: 30, 584: 30, 585: 30, 586: 30, 587: 30, 588: 30, 589: 30, 590: 30, 591: 30, 592: 30, 593: 30, 594: 30, 595: 30, 596: 30, 597: 30, 598: 30, 599: 30, 600: 30, 601: 30, 602: 30, 603: 30, 604: 30, 605: 30, 606: 30, 607: 30, 608: 30, 609: 30, 610: 30, 611: 30, 612: 30, 613: 30, 614: 30, 615: 30, 616: 30, 617: 30, 618: 30, 619: 30, 620: 30, 621: 30, 622: 30, 623: 30, 624: 30, 625: 30, 626: 30, 627: 30, 628: 30, 629: 30, 630: 30, 631: 30, 632: 30, 633: 30, 634: 30, 635: 30, 636: 30, 637: 30, 638: 30, 639: 30, 640: 30, 641: 30, 642: 30, 643: 30, 644: 30, 645: 30, 646: 30, 647: 30, 648: 30, 649: 30, 650: 30, 651: 30, 652: 30, 653: 30, 654: 30, 655: 30, 656: 30, 657: 30, 658: 30, 659: 30, 660: 30, 661: 30, 662: 30, 663: 30, 664: 30, 665: 30, 666: 30, 667: 30, 668: 30, 669: 30, 670: 30, 671: 30, 672: 30, 673: 30, 674: 30, 675: 30, 676: 30, 677: 30, 678: 30, 679: 30, 680: 30, 681: 30, 682: 30, 683: 30, 684: 30, 685: 30, 686: 30, 687: 30, 688: 30, 689: 30, 690: 30, 691: 30, 692: 30, 693: 30, 694: 30, 695: 30, 696: 30, 697: 30, 698: 30, 699: 30, 700: 30, 701: 30, 702: 30, 703: 30, 704: 30, 705: 30, 706: 30, 707: 30, 708: 30, 709: 30, 710: 30, 711: 30, 712: 30, 713: 30, 714: 30, 715: 30, 716: 30, 717: 30, 718: 30, 719: 30, 720: 30, 721: 30, 722: 30, 723: 30, 724: 30, 725: 30, 726: 30, 727: 30, 728: 30, 729: 30, 730: 30, 731: 30, 732: 30, 733: 30, 734: 30, 735: 30, 736: 30, 737: 30, 738: 30, 739: 30, 740: 30, 741: 30, 742: 30, 743: 30, 744: 30, 745: 30, 746: 30, 747: 30, 748: 30, 749: 30, 750: 30, 751: 30, 752: 30, 753: 30, 754: 30, 755: 30, 756: 30, 757: 30, 758: 30, 759: 30, 760: 30, 761: 30, 762: 30, 763: 30, 764: 30, 765: 30, 766: 30, 767: 30, 768: 30, 769: 30, 770: 30, 771: 30, 772: 30, 773: 30, 774: 30, 775: 30, 776: 30, 777: 30, 778: 30, 779: 30, 780: 30, 781: 30, 782: 30, 783: 30, 784: 30, 785: 30, 786: 30, 787: 30, 788: 30, 789: 30, 790: 30, 791: 30, 792: 30, 793: 30, 794: 30, 795: 30, 796: 30, 797: 30, 798: 30, 799: 30, 800: 30, 801: 30, 802: 30, 803: 30, 804: 30, 805: 30, 806: 30, 807: 30, 808: 30, 809: 30, 810: 30, 811: 30, 812: 30, 813: 30, 814: 30, 815: 30, 816: 30, 817: 30, 818: 30, 819: 30, 820: 30, 821: 30, 822: 30, 823: 30, 824: 30, 825: 30, 826: 30, 827: 30, 828: 30, 829: 30, 830: 30, 831: 30, 832: 30, 833: 30, 834: 30, 835: 30, 836: 30, 837: 30, 838: 30, 839: 30, 840: 30, 841: 30, 842: 30, 843: 30, 844: 30, 845: 30, 846: 30, 847: 30, 848: 30, 849: 30, 850: 30, 851: 30, 852: 30, 853: 30, 854: 30, 855: 30, 856: 30, 857: 30, 858: 30, 859: 30, 860: 30, 861: 30, 862: 30, 863: 30, 864: 30, 865: 30, 866: 30, 867: 30, 868: 30, 869: 30, 870: 30, 871: 30, 872: 30, 873: 30, 874: 30, 875: 30, 876: 30, 877: 30, 878: 30, 879: 30, 880: 30, 881: 30, 882: 30, 883: 30, 884: 30, 885: 30, 886: 30, 887: 30, 888: 30, 889: 30, 890: 30, 891: 30, 892: 30, 893: 30, 894: 30, 895: 30, 896: 30, 897: 30, 898: 30, 899: 30, 900: 30, 901: 30, 902: 30, 903: 30, 904: 30, 905: 30, 906: 30, 907: 30, 908: 30, 909: 30, 910: 30, 911: 30, 912: 30, 913: 30, 914: 30, 915: 30, 916: 30, 917: 30, 918: 30, 919: 30, 920: 30, 921: 30, 922: 30, 923: 30, 924: 30, 925: 30, 926: 30, 927: 30, 928: 30, 929: 30, 930: 30, 931: 30, 932: 30, 933: 30, 934: 30, 935: 30, 936: 30, 937: 30, 938: 30, 939: 30, 940: 30, 941: 30, 942: 30, 943: 30, 944: 30, 945: 30, 946: 16}\n",
            "{0: 4, 1: 30, 2: 30, 3: 30, 4: 30, 5: 30, 6: 30, 7: 30, 8: 30, 9: 30, 10: 30, 11: 30, 12: 30, 13: 30, 14: 30, 15: 30, 16: 30, 17: 30, 18: 30, 19: 30, 20: 30, 21: 30, 22: 30, 23: 30, 24: 30, 25: 30, 26: 30, 27: 30, 28: 30, 29: 30, 30: 30, 31: 30, 32: 30, 33: 30, 34: 30, 35: 30, 36: 30, 37: 30, 38: 30, 39: 30, 40: 30, 41: 30, 42: 30, 43: 30, 44: 30, 45: 30, 46: 30, 47: 30, 48: 30, 49: 30, 50: 30, 51: 30, 52: 30, 53: 30, 54: 30, 55: 30, 56: 30, 57: 30, 58: 30, 59: 30, 60: 30, 61: 30, 62: 30, 63: 30, 64: 30, 65: 30, 66: 30, 67: 30, 68: 30, 69: 30, 70: 30, 71: 30, 72: 30, 73: 30, 74: 30, 75: 30, 76: 30, 77: 30, 78: 30, 79: 30, 80: 30, 81: 30, 82: 30, 83: 30, 84: 30, 85: 30, 86: 30, 87: 30, 88: 30, 89: 30, 90: 30, 91: 30, 92: 30, 93: 30, 94: 30, 95: 30, 96: 30, 97: 30, 98: 30, 99: 30, 100: 30, 101: 30, 102: 30, 103: 30, 104: 30, 105: 30, 106: 30, 107: 30, 108: 30, 109: 30, 110: 30, 111: 30, 112: 30, 113: 30, 114: 30, 115: 30, 116: 30, 117: 30, 118: 30, 119: 30, 120: 30, 121: 30, 122: 30, 123: 30, 124: 30, 125: 30, 126: 30, 127: 30, 128: 30, 129: 30, 130: 30, 131: 30, 132: 30, 133: 30, 134: 30, 135: 30, 136: 30, 137: 30, 138: 30, 139: 30, 140: 30, 141: 30, 142: 30, 143: 30, 144: 30, 145: 30, 146: 30, 147: 30, 148: 30, 149: 30, 150: 30, 151: 30, 152: 30, 153: 30, 154: 30, 155: 30, 156: 30, 157: 30, 158: 30, 159: 30, 160: 30, 161: 30, 162: 30, 163: 30, 164: 30, 165: 30, 166: 30, 167: 30, 168: 30, 169: 30, 170: 30, 171: 30, 172: 30, 173: 30, 174: 30, 175: 30, 176: 30, 177: 30, 178: 30, 179: 30, 180: 30, 181: 30, 182: 30, 183: 30, 184: 30, 185: 30, 186: 30, 187: 30, 188: 30, 189: 30, 190: 30, 191: 30, 192: 30, 193: 30, 194: 30, 195: 30, 196: 30, 197: 30, 198: 30, 199: 30, 200: 30, 201: 30, 202: 30, 203: 30, 204: 30, 205: 30, 206: 30, 207: 30, 208: 30, 209: 30, 210: 30, 211: 30, 212: 30, 213: 30, 214: 30, 215: 30, 216: 30, 217: 30, 218: 30, 219: 30, 220: 30, 221: 30, 222: 30, 223: 30, 224: 30, 225: 30, 226: 30, 227: 30, 228: 30, 229: 30, 230: 30, 231: 30, 232: 30, 233: 30, 234: 30, 235: 30, 236: 30, 237: 30, 238: 30, 239: 30, 240: 30, 241: 30, 242: 30, 243: 30, 244: 30, 245: 30, 246: 30, 247: 30, 248: 30, 249: 30, 250: 30, 251: 30, 252: 30, 253: 30, 254: 30, 255: 30, 256: 30, 257: 30, 258: 30, 259: 30, 260: 30, 261: 30, 262: 30, 263: 30, 264: 30, 265: 30, 266: 30, 267: 30, 268: 30, 269: 30, 270: 30, 271: 30, 272: 30, 273: 30, 274: 30, 275: 30, 276: 30, 277: 30, 278: 30, 279: 30, 280: 30, 281: 30, 282: 30, 283: 30, 284: 30, 285: 30, 286: 30, 287: 30, 288: 30, 289: 30, 290: 30, 291: 30, 292: 30, 293: 30, 294: 30, 295: 30, 296: 30, 297: 30, 298: 30, 299: 30, 300: 30, 301: 30, 302: 30, 303: 30, 304: 30, 305: 30, 306: 30, 307: 30, 308: 30, 309: 30, 310: 30, 311: 30, 312: 30, 313: 30, 314: 30, 315: 30, 316: 30, 317: 30, 318: 30, 319: 30, 320: 30, 321: 30, 322: 30, 323: 30, 324: 30, 325: 30, 326: 30, 327: 30, 328: 30, 329: 30, 330: 30, 331: 30, 332: 30, 333: 30, 334: 30, 335: 30, 336: 30, 337: 30, 338: 30, 339: 30, 340: 30, 341: 30, 342: 30, 343: 30, 344: 30, 345: 30, 346: 30, 347: 30, 348: 30, 349: 30, 350: 30, 351: 30, 352: 30, 353: 30, 354: 30, 355: 30, 356: 30, 357: 30, 358: 30, 359: 30, 360: 30, 361: 30, 362: 30, 363: 30, 364: 30, 365: 30, 366: 30, 367: 30, 368: 30, 369: 30, 370: 30, 371: 30, 372: 30, 373: 30, 374: 30, 375: 30, 376: 30, 377: 30, 378: 30, 379: 30, 380: 30, 381: 30, 382: 30, 383: 30, 384: 30, 385: 30, 386: 30, 387: 30, 388: 30, 389: 30, 390: 30, 391: 30, 392: 30, 393: 30, 394: 30, 395: 30, 396: 30, 397: 30, 398: 30, 399: 30, 400: 30, 401: 30, 402: 30, 403: 30, 404: 30, 405: 30, 406: 30, 407: 30, 408: 30, 409: 30, 410: 30, 411: 30, 412: 30, 413: 30, 414: 30, 415: 30, 416: 30, 417: 30, 418: 30, 419: 30, 420: 30, 421: 30, 422: 30, 423: 30, 424: 30, 425: 30, 426: 30, 427: 30, 428: 30, 429: 30, 430: 30, 431: 30, 432: 30, 433: 30, 434: 30, 435: 30, 436: 30, 437: 30, 438: 30, 439: 30, 440: 30, 441: 30, 442: 30, 443: 30, 444: 30, 445: 30, 446: 30, 447: 30, 448: 30, 449: 30, 450: 30, 451: 30, 452: 30, 453: 30, 454: 30, 455: 30, 456: 30, 457: 30, 458: 30, 459: 30, 460: 30, 461: 30, 462: 30, 463: 30, 464: 30, 465: 30, 466: 30, 467: 30, 468: 30, 469: 30, 470: 30, 471: 30, 472: 30, 473: 30, 474: 30, 475: 30, 476: 30, 477: 30, 478: 30, 479: 30, 480: 30, 481: 30, 482: 30, 483: 30, 484: 30, 485: 30, 486: 30, 487: 30, 488: 30, 489: 30, 490: 30, 491: 30, 492: 30, 493: 30, 494: 30, 495: 30, 496: 30, 497: 30, 498: 30, 499: 30, 500: 30, 501: 30, 502: 30, 503: 30, 504: 30, 505: 30, 506: 30, 507: 30, 508: 30, 509: 30, 510: 30, 511: 30, 512: 30, 513: 30, 514: 30, 515: 30, 516: 30, 517: 30, 518: 30, 519: 30, 520: 30, 521: 30, 522: 30, 523: 30, 524: 30, 525: 30, 526: 30, 527: 30, 528: 30, 529: 30, 530: 30, 531: 30, 532: 30, 533: 30, 534: 30, 535: 30, 536: 30, 537: 30, 538: 30, 539: 30, 540: 30, 541: 30, 542: 30, 543: 30, 544: 30, 545: 30, 546: 30, 547: 30, 548: 30, 549: 30, 550: 30, 551: 30, 552: 30, 553: 30, 554: 30, 555: 30, 556: 30, 557: 30, 558: 30, 559: 30, 560: 30, 561: 30, 562: 30, 563: 30, 564: 30, 565: 30, 566: 30, 567: 30, 568: 30, 569: 30, 570: 30, 571: 30, 572: 30, 573: 30, 574: 30, 575: 30, 576: 30, 577: 30, 578: 30, 579: 30, 580: 30, 581: 30, 582: 30, 583: 30, 584: 30, 585: 30, 586: 30, 587: 30, 588: 30, 589: 30, 590: 30, 591: 30, 592: 30, 593: 30, 594: 30, 595: 30, 596: 30, 597: 30, 598: 30, 599: 30, 600: 30, 601: 30, 602: 30, 603: 30, 604: 30, 605: 30, 606: 30, 607: 30, 608: 30, 609: 30, 610: 30, 611: 30, 612: 30, 613: 30, 614: 30, 615: 30, 616: 30, 617: 30, 618: 30, 619: 30, 620: 30, 621: 30, 622: 30, 623: 30, 624: 30, 625: 30, 626: 30, 627: 30, 628: 30, 629: 30, 630: 30, 631: 30, 632: 30, 633: 30, 634: 30, 635: 30, 636: 30, 637: 30, 638: 30, 639: 30, 640: 30, 641: 30, 642: 30, 643: 30, 644: 30, 645: 30, 646: 30, 647: 30, 648: 30, 649: 30, 650: 30, 651: 30, 652: 30, 653: 30, 654: 30, 655: 30, 656: 30, 657: 30, 658: 30, 659: 30, 660: 30, 661: 30, 662: 30, 663: 30, 664: 30, 665: 30, 666: 30, 667: 30, 668: 30, 669: 30, 670: 30, 671: 30, 672: 30, 673: 30, 674: 30, 675: 30, 676: 30, 677: 30, 678: 30, 679: 30, 680: 30, 681: 30, 682: 30, 683: 30, 684: 30, 685: 30, 686: 30, 687: 30, 688: 30, 689: 30, 690: 30, 691: 30, 692: 30, 693: 30, 694: 30, 695: 30, 696: 30, 697: 30, 698: 30, 699: 30, 700: 30, 701: 30, 702: 30, 703: 30, 704: 30, 705: 30, 706: 30, 707: 30, 708: 30, 709: 30, 710: 30, 711: 30, 712: 30, 713: 30, 714: 30, 715: 30, 716: 30, 717: 30, 718: 30, 719: 30, 720: 30, 721: 30, 722: 30, 723: 30, 724: 30, 725: 30, 726: 30, 727: 30, 728: 30, 729: 30, 730: 30, 731: 30, 732: 30, 733: 30, 734: 30, 735: 30, 736: 30, 737: 30, 738: 30, 739: 30, 740: 30, 741: 30, 742: 30, 743: 30, 744: 30, 745: 30, 746: 30, 747: 30, 748: 30, 749: 30, 750: 30, 751: 30, 752: 30, 753: 30, 754: 30, 755: 30, 756: 30, 757: 30, 758: 30, 759: 30, 760: 30, 761: 30, 762: 30, 763: 30, 764: 30, 765: 30, 766: 30, 767: 30, 768: 30, 769: 30, 770: 30, 771: 30, 772: 30, 773: 30, 774: 30, 775: 30, 776: 30, 777: 30, 778: 30, 779: 30, 780: 30, 781: 30, 782: 30, 783: 30, 784: 30, 785: 30, 786: 30, 787: 30, 788: 30, 789: 30, 790: 30, 791: 30, 792: 30, 793: 30, 794: 30, 795: 30, 796: 30, 797: 30, 798: 30, 799: 30, 800: 30, 801: 30, 802: 30, 803: 30, 804: 30, 805: 30, 806: 30, 807: 30, 808: 30, 809: 30, 810: 30, 811: 30, 812: 30, 813: 30, 814: 30, 815: 30, 816: 30, 817: 30, 818: 30, 819: 30, 820: 30, 821: 30, 822: 30, 823: 30, 824: 30, 825: 30, 826: 30, 827: 30, 828: 30, 829: 30, 830: 30, 831: 30, 832: 30, 833: 30, 834: 30, 835: 30, 836: 30, 837: 30, 838: 30, 839: 30, 840: 30, 841: 30, 842: 30, 843: 30, 844: 30, 845: 30, 846: 30, 847: 30, 848: 30, 849: 30, 850: 30, 851: 30, 852: 30, 853: 30, 854: 30, 855: 30, 856: 30, 857: 30, 858: 30, 859: 30, 860: 30, 861: 30, 862: 30, 863: 30, 864: 30, 865: 30, 866: 30, 867: 30, 868: 30, 869: 30, 870: 30, 871: 30, 872: 30, 873: 30, 874: 30, 875: 30, 876: 30, 877: 30, 878: 30, 879: 30, 880: 30, 881: 30, 882: 30, 883: 30, 884: 30, 885: 30, 886: 30, 887: 30, 888: 30, 889: 30, 890: 30, 891: 30, 892: 30, 893: 30, 894: 30, 895: 30, 896: 30, 897: 30, 898: 30, 899: 30, 900: 30, 901: 30, 902: 30, 903: 30, 904: 30, 905: 30, 906: 30, 907: 30, 908: 30, 909: 30, 910: 30, 911: 30, 912: 30, 913: 30, 914: 30, 915: 30, 916: 30, 917: 30, 918: 30, 919: 30, 920: 30, 921: 30, 922: 30, 923: 30, 924: 1}\n",
            "{0: 30, 1: 30, 2: 30, 3: 30, 4: 30, 5: 30, 6: 30, 7: 30, 8: 30, 9: 30, 10: 30, 11: 30, 12: 30, 13: 30, 14: 30, 15: 30, 16: 30, 17: 30, 18: 30, 19: 30, 20: 30, 21: 30, 22: 30, 23: 30, 24: 30, 25: 30, 26: 30, 27: 30, 28: 30, 29: 30, 30: 30, 31: 30, 32: 30, 33: 30, 34: 30, 35: 30, 36: 30, 37: 30, 38: 30, 39: 30, 40: 30, 41: 30, 42: 30, 43: 30, 44: 30, 45: 30, 46: 30, 47: 30, 48: 30, 49: 30, 50: 30, 51: 30, 52: 30, 53: 30, 54: 30, 55: 30, 56: 30, 57: 30, 58: 30, 59: 30, 60: 30, 61: 30, 62: 30, 63: 30, 64: 30, 65: 30, 66: 30, 67: 30, 68: 30, 69: 30, 70: 30, 71: 30, 72: 30, 73: 30, 74: 30, 75: 30, 76: 30, 77: 30, 78: 30, 79: 30, 80: 30, 81: 30, 82: 30, 83: 30, 84: 30, 85: 30, 86: 30, 87: 30, 88: 30, 89: 30, 90: 30, 91: 30, 92: 30, 93: 30, 94: 30, 95: 30, 96: 30, 97: 30, 98: 30, 99: 30, 100: 30, 101: 30, 102: 30, 103: 30, 104: 30, 105: 30, 106: 30, 107: 30, 108: 30, 109: 30, 110: 30, 111: 30, 112: 30, 113: 30, 114: 30, 115: 30, 116: 30, 117: 30, 118: 30, 119: 30, 120: 30, 121: 30, 122: 30, 123: 30, 124: 30, 125: 30, 126: 30, 127: 30, 128: 30, 129: 30, 130: 30, 131: 30, 132: 30, 133: 30, 134: 30, 135: 30, 136: 30, 137: 30, 138: 30, 139: 30, 140: 30, 141: 30, 142: 30, 143: 30, 144: 30, 145: 30, 146: 30, 147: 30, 148: 30, 149: 30, 150: 30, 151: 30, 152: 30, 153: 30, 154: 30, 155: 30, 156: 30, 157: 30, 158: 30, 159: 30, 160: 30, 161: 30, 162: 30, 163: 30, 164: 30, 165: 30, 166: 30, 167: 30, 168: 30, 169: 30, 170: 30, 171: 30, 172: 30, 173: 30, 174: 30, 175: 30, 176: 30, 177: 30, 178: 30, 179: 30, 180: 30, 181: 30, 182: 30, 183: 30, 184: 30, 185: 30, 186: 30, 187: 30, 188: 30, 189: 30, 190: 30, 191: 30, 192: 30, 193: 30, 194: 30, 195: 30, 196: 30, 197: 30, 198: 30, 199: 30, 200: 30, 201: 30, 202: 30, 203: 30, 204: 30, 205: 30, 206: 30, 207: 30, 208: 30, 209: 30, 210: 30, 211: 30, 212: 30, 213: 30, 214: 30, 215: 30, 216: 30, 217: 30, 218: 30, 219: 30, 220: 30, 221: 30, 222: 30, 223: 30, 224: 30, 225: 30, 226: 30, 227: 30, 228: 30, 229: 30, 230: 30, 231: 30, 232: 30, 233: 30, 234: 30, 235: 30, 236: 30, 237: 30, 238: 30, 239: 30, 240: 30, 241: 30, 242: 30, 243: 30, 244: 30, 245: 30, 246: 30, 247: 30, 248: 30, 249: 30, 250: 30, 251: 30, 252: 30, 253: 30, 254: 30, 255: 30, 256: 30, 257: 30, 258: 30, 259: 30, 260: 30, 261: 30, 262: 30, 263: 30, 264: 30, 265: 30, 266: 30, 267: 30, 268: 30, 269: 30, 270: 30, 271: 30, 272: 30, 273: 30, 274: 30, 275: 30, 276: 30, 277: 30, 278: 30, 279: 30, 280: 30, 281: 30, 282: 30, 283: 30, 284: 30, 285: 30, 286: 30, 287: 30, 288: 30, 289: 30, 290: 30, 291: 30, 292: 30, 293: 30, 294: 30, 295: 30, 296: 30, 297: 30, 298: 30, 299: 30, 300: 30, 301: 30, 302: 30, 303: 30, 304: 30, 305: 30, 306: 30, 307: 30, 308: 30, 309: 30, 310: 30, 311: 30, 312: 30, 313: 30, 314: 30, 315: 30, 316: 30, 317: 30, 318: 30, 319: 30, 320: 30, 321: 30, 322: 30, 323: 30, 324: 30, 325: 30, 326: 30, 327: 30, 328: 30, 329: 30, 330: 30, 331: 30, 332: 30, 333: 30, 334: 30, 335: 30, 336: 30, 337: 30, 338: 30, 339: 30, 340: 30, 341: 30, 342: 30, 343: 30, 344: 30, 345: 30, 346: 30, 347: 30, 348: 30, 349: 30, 350: 30, 351: 30, 352: 30, 353: 30, 354: 30, 355: 30, 356: 30, 357: 30, 358: 30, 359: 30, 360: 30, 361: 30, 362: 30, 363: 30, 364: 30, 365: 30, 366: 30, 367: 30, 368: 30, 369: 30, 370: 30, 371: 30, 372: 30, 373: 30, 374: 30, 375: 30, 376: 30, 377: 30, 378: 30, 379: 30, 380: 30, 381: 30, 382: 30, 383: 30, 384: 30, 385: 30, 386: 30, 387: 30, 388: 30, 389: 30, 390: 30, 391: 30, 392: 30, 393: 30, 394: 30, 395: 30, 396: 30, 397: 30, 398: 30, 399: 30, 400: 30, 401: 30, 402: 30, 403: 30, 404: 30, 405: 30, 406: 30, 407: 30, 408: 30, 409: 30, 410: 30, 411: 30, 412: 30, 413: 30, 414: 30, 415: 30, 416: 30, 417: 30, 418: 30, 419: 30, 420: 30, 421: 30, 422: 30, 423: 30, 424: 30, 425: 30, 426: 30, 427: 30, 428: 30, 429: 30, 430: 30, 431: 30, 432: 30, 433: 30, 434: 30, 435: 30, 436: 30, 437: 30, 438: 30, 439: 30, 440: 30, 441: 30, 442: 30, 443: 30, 444: 30, 445: 30, 446: 30, 447: 30, 448: 30, 449: 30, 450: 30, 451: 30, 452: 30, 453: 30, 454: 30, 455: 30, 456: 30, 457: 30, 458: 30, 459: 30, 460: 30, 461: 30, 462: 30, 463: 30, 464: 30, 465: 30, 466: 30, 467: 30, 468: 30, 469: 30, 470: 30, 471: 30, 472: 30, 473: 30, 474: 30, 475: 30, 476: 30, 477: 30, 478: 30, 479: 30, 480: 30, 481: 30, 482: 30, 483: 30, 484: 30, 485: 30, 486: 30, 487: 30, 488: 30, 489: 30, 490: 30, 491: 30, 492: 30, 493: 30, 494: 30, 495: 30, 496: 30, 497: 30, 498: 30, 499: 30, 500: 30, 501: 30, 502: 30, 503: 30, 504: 30, 505: 30, 506: 30, 507: 30, 508: 30, 509: 30, 510: 30, 511: 30, 512: 30, 513: 30, 514: 30, 515: 30, 516: 30, 517: 30, 518: 30, 519: 30, 520: 30, 521: 30, 522: 30, 523: 30, 524: 30, 525: 30, 526: 30, 527: 30, 528: 30, 529: 30, 530: 30, 531: 30, 532: 30, 533: 30, 534: 30, 535: 30, 536: 30, 537: 30, 538: 30, 539: 30, 540: 30, 541: 30, 542: 30, 543: 30, 544: 30, 545: 30, 546: 30, 547: 30, 548: 30, 549: 30, 550: 30, 551: 30, 552: 30, 553: 30, 554: 30, 555: 30, 556: 30, 557: 30, 558: 30, 559: 30, 560: 30, 561: 30, 562: 30, 563: 30, 564: 30, 565: 30, 566: 30, 567: 30, 568: 30, 569: 30, 570: 30, 571: 30, 572: 30, 573: 30, 574: 30, 575: 30, 576: 30, 577: 30, 578: 30, 579: 30, 580: 30, 581: 30, 582: 30, 583: 30, 584: 30, 585: 30, 586: 30, 587: 30, 588: 30, 589: 30, 590: 30, 591: 30, 592: 30, 593: 30, 594: 30, 595: 30, 596: 30, 597: 30, 598: 30, 599: 30, 600: 30, 601: 30, 602: 30, 603: 30, 604: 30, 605: 30, 606: 30, 607: 30, 608: 30, 609: 30, 610: 30, 611: 30, 612: 30, 613: 30, 614: 30, 615: 30, 616: 30, 617: 30, 618: 30, 619: 30, 620: 30, 621: 30, 622: 30, 623: 30, 624: 30, 625: 30, 626: 30, 627: 30, 628: 30, 629: 30, 630: 30, 631: 30, 632: 30, 633: 30, 634: 30, 635: 30, 636: 30, 637: 30, 638: 30, 639: 30, 640: 30, 641: 30, 642: 30, 643: 30, 644: 30, 645: 30, 646: 30, 647: 30, 648: 30, 649: 30, 650: 30, 651: 30, 652: 30, 653: 30, 654: 30, 655: 30, 656: 30, 657: 30, 658: 30, 659: 30, 660: 30, 661: 30, 662: 30, 663: 30, 664: 30, 665: 30, 666: 30, 667: 30, 668: 30, 669: 30, 670: 30, 671: 30, 672: 30, 673: 30, 674: 30, 675: 30, 676: 30, 677: 30, 678: 30, 679: 30, 680: 30, 681: 30, 682: 30, 683: 30, 684: 30, 685: 30, 686: 30, 687: 30, 688: 30, 689: 30, 690: 30, 691: 30, 692: 30, 693: 30, 694: 30, 695: 30, 696: 30, 697: 30, 698: 30, 699: 30, 700: 30, 701: 30, 702: 30, 703: 30, 704: 30, 705: 30, 706: 30, 707: 30, 708: 30, 709: 30, 710: 30, 711: 30, 712: 30, 713: 30, 714: 30, 715: 30, 716: 30, 717: 30, 718: 30, 719: 30, 720: 30, 721: 30, 722: 30, 723: 30, 724: 30, 725: 30, 726: 30, 727: 30, 728: 30, 729: 30, 730: 30, 731: 30, 732: 30, 733: 30, 734: 30, 735: 30, 736: 30, 737: 30, 738: 30, 739: 30, 740: 30, 741: 30, 742: 30, 743: 30, 744: 30, 745: 30, 746: 30, 747: 30, 748: 30, 749: 30, 750: 30, 751: 30, 752: 30, 753: 30, 754: 30, 755: 30, 756: 30, 757: 30, 758: 30, 759: 30, 760: 30, 761: 30, 762: 30, 763: 30, 764: 30, 765: 30, 766: 30, 767: 30, 768: 30, 769: 30, 770: 30, 771: 30, 772: 30, 773: 30, 774: 30, 775: 30, 776: 30, 777: 30, 778: 30, 779: 30, 780: 30, 781: 30, 782: 30, 783: 30, 784: 30, 785: 30, 786: 30, 787: 30, 788: 30, 789: 30, 790: 30, 791: 30, 792: 30, 793: 30, 794: 30, 795: 30, 796: 30, 797: 30, 798: 30, 799: 30, 800: 30, 801: 30, 802: 30, 803: 30, 804: 30, 805: 30, 806: 30, 807: 30, 808: 30, 809: 30, 810: 30, 811: 30, 812: 30, 813: 30, 814: 30, 815: 30, 816: 30, 817: 30, 818: 30, 819: 30, 820: 30, 821: 30, 822: 30, 823: 30, 824: 30, 825: 30, 826: 30, 827: 30, 828: 30, 829: 30, 830: 30, 831: 30, 832: 30, 833: 30, 834: 30, 835: 30, 836: 30, 837: 30, 838: 30, 839: 30, 840: 30, 841: 30, 842: 30, 843: 30, 844: 30, 845: 30, 846: 30, 847: 30, 848: 30, 849: 30, 850: 30, 851: 30, 852: 30, 853: 30, 854: 30, 855: 30, 856: 30, 857: 30, 858: 30, 859: 30, 860: 30, 861: 30, 862: 30, 863: 30, 864: 30, 865: 30, 866: 30, 867: 30, 868: 30, 869: 30, 870: 30, 871: 30, 872: 30, 873: 30, 874: 30, 875: 30, 876: 30, 877: 30, 878: 30, 879: 30, 880: 30, 881: 30, 882: 30, 883: 30, 884: 30, 885: 30, 886: 30, 887: 30, 888: 30, 889: 30, 890: 30, 891: 30, 892: 30, 893: 30, 894: 30, 895: 30, 896: 30, 897: 30, 898: 30, 899: 30, 900: 30, 901: 30, 902: 30, 903: 30, 904: 30, 905: 30, 906: 30, 907: 30, 908: 30, 909: 30, 910: 30, 911: 30, 912: 30, 913: 30, 914: 30, 915: 30, 916: 30, 917: 30, 918: 30, 919: 30, 920: 30, 921: 30, 922: 30, 923: 30, 924: 30, 925: 30, 926: 30, 927: 30, 928: 30, 929: 30, 930: 30, 931: 30, 932: 30, 933: 30, 934: 30, 935: 30, 936: 30, 937: 30, 938: 30, 939: 30, 940: 30, 941: 30, 942: 30, 943: 30, 944: 30, 945: 30, 946: 30, 947: 30, 948: 30, 949: 30, 950: 30, 951: 30, 952: 1}\n",
            "{0: 30, 1: 30, 2: 30, 3: 30, 4: 30, 5: 30, 6: 30, 7: 30, 8: 30, 9: 30, 10: 30, 11: 30, 12: 30, 13: 30, 14: 30, 15: 30, 16: 30, 17: 30, 18: 30, 19: 30, 20: 30, 21: 30, 22: 30, 23: 30, 24: 30, 25: 30, 26: 30, 27: 30, 28: 30, 29: 30, 30: 30, 31: 30, 32: 30, 33: 30, 34: 30, 35: 30, 36: 30, 37: 30, 38: 30, 39: 30, 40: 30, 41: 30, 42: 30, 43: 30, 44: 30, 45: 30, 46: 30, 47: 30, 48: 30, 49: 30, 50: 30, 51: 30, 52: 30, 53: 30, 54: 30, 55: 30, 56: 30, 57: 30, 58: 30, 59: 30, 60: 30, 61: 30, 62: 30, 63: 30, 64: 30, 65: 30, 66: 30, 67: 30, 68: 30, 69: 30, 70: 30, 71: 30, 72: 30, 73: 30, 74: 30, 75: 30, 76: 30, 77: 30, 78: 30, 79: 30, 80: 30, 81: 30, 82: 30, 83: 30, 84: 30, 85: 30, 86: 30, 87: 30, 88: 30, 89: 30, 90: 30, 91: 30, 92: 30, 93: 30, 94: 30, 95: 30, 96: 30, 97: 30, 98: 30, 99: 30, 100: 30, 101: 30, 102: 30, 103: 30, 104: 30, 105: 30, 106: 30, 107: 30, 108: 30, 109: 30, 110: 30, 111: 30, 112: 30, 113: 30, 114: 30, 115: 30, 116: 30, 117: 30, 118: 30, 119: 30, 120: 30, 121: 30, 122: 30, 123: 30, 124: 30, 125: 30, 126: 30, 127: 30, 128: 30, 129: 30, 130: 30, 131: 30, 132: 30, 133: 30, 134: 30, 135: 30, 136: 30, 137: 30, 138: 30, 139: 30, 140: 30, 141: 30, 142: 30, 143: 30, 144: 30, 145: 30, 146: 30, 147: 30, 148: 30, 149: 30, 150: 30, 151: 30, 152: 30, 153: 30, 154: 30, 155: 30, 156: 30, 157: 30, 158: 30, 159: 30, 160: 30, 161: 30, 162: 30, 163: 30, 164: 30, 165: 30, 166: 30, 167: 30, 168: 30, 169: 30, 170: 30, 171: 30, 172: 30, 173: 30, 174: 30, 175: 30, 176: 30, 177: 30, 178: 30, 179: 30, 180: 30, 181: 30, 182: 30, 183: 30, 184: 30, 185: 30, 186: 30, 187: 30, 188: 30, 189: 30, 190: 30, 191: 30, 192: 30, 193: 30, 194: 30, 195: 30, 196: 30, 197: 30, 198: 30, 199: 30, 200: 30, 201: 30, 202: 30, 203: 30, 204: 30, 205: 30, 206: 30, 207: 30, 208: 30, 209: 30, 210: 30, 211: 30, 212: 30, 213: 30, 214: 30, 215: 30, 216: 30, 217: 30, 218: 30, 219: 30, 220: 30, 221: 30, 222: 30, 223: 30, 224: 30, 225: 30, 226: 30, 227: 30, 228: 30, 229: 30, 230: 30, 231: 30, 232: 30, 233: 30, 234: 30, 235: 30, 236: 30, 237: 30, 238: 30, 239: 30, 240: 30, 241: 30, 242: 30, 243: 30, 244: 30, 245: 30, 246: 30, 247: 30, 248: 30, 249: 30, 250: 30, 251: 30, 252: 30, 253: 30, 254: 30, 255: 30, 256: 30, 257: 30, 258: 30, 259: 30, 260: 30, 261: 30, 262: 30, 263: 30, 264: 30, 265: 30, 266: 30, 267: 30, 268: 30, 269: 30, 270: 30, 271: 30, 272: 30, 273: 30, 274: 30, 275: 30, 276: 30, 277: 30, 278: 30, 279: 30, 280: 30, 281: 30, 282: 30, 283: 30, 284: 30, 285: 30, 286: 30, 287: 30, 288: 30, 289: 30, 290: 30, 291: 30, 292: 30, 293: 30, 294: 30, 295: 30, 296: 30, 297: 30, 298: 30, 299: 30, 300: 30, 301: 30, 302: 30, 303: 30, 304: 30, 305: 30, 306: 30, 307: 30, 308: 30, 309: 30, 310: 30, 311: 30, 312: 30, 313: 30, 314: 30, 315: 30, 316: 30, 317: 30, 318: 30, 319: 30, 320: 30, 321: 30, 322: 30, 323: 30, 324: 30, 325: 30, 326: 30, 327: 30, 328: 30, 329: 30, 330: 30, 331: 30, 332: 30, 333: 30, 334: 30, 335: 30, 336: 30, 337: 30, 338: 30, 339: 30, 340: 30, 341: 30, 342: 30, 343: 30, 344: 30, 345: 30, 346: 30, 347: 30, 348: 30, 349: 30, 350: 30, 351: 30, 352: 30, 353: 30, 354: 30, 355: 30, 356: 30, 357: 30, 358: 30, 359: 30, 360: 30, 361: 30, 362: 30, 363: 30, 364: 30, 365: 30, 366: 30, 367: 30, 368: 30, 369: 30, 370: 30, 371: 30, 372: 30, 373: 30, 374: 30, 375: 30, 376: 30, 377: 30, 378: 30, 379: 30, 380: 30, 381: 30, 382: 30, 383: 30, 384: 30, 385: 30, 386: 30, 387: 30, 388: 30, 389: 30, 390: 30, 391: 30, 392: 30, 393: 30, 394: 30, 395: 30, 396: 30, 397: 30, 398: 30, 399: 30, 400: 30, 401: 30, 402: 30, 403: 30, 404: 30, 405: 30, 406: 30, 407: 30, 408: 30, 409: 30, 410: 30, 411: 30, 412: 30, 413: 30, 414: 30, 415: 30, 416: 30, 417: 30, 418: 30, 419: 30, 420: 30, 421: 30, 422: 30, 423: 30, 424: 30, 425: 30, 426: 30, 427: 30, 428: 30, 429: 30, 430: 30, 431: 30, 432: 30, 433: 30, 434: 30, 435: 30, 436: 30, 437: 30, 438: 30, 439: 30, 440: 30, 441: 30, 442: 30, 443: 30, 444: 30, 445: 30, 446: 30, 447: 30, 448: 30, 449: 30, 450: 30, 451: 30, 452: 30, 453: 30, 454: 30, 455: 30, 456: 30, 457: 30, 458: 30, 459: 30, 460: 30, 461: 30, 462: 30, 463: 30, 464: 30, 465: 30, 466: 30, 467: 30, 468: 30, 469: 30, 470: 30, 471: 30, 472: 30, 473: 30, 474: 30, 475: 30, 476: 30, 477: 30, 478: 30, 479: 30, 480: 30, 481: 30, 482: 30, 483: 30, 484: 30, 485: 30, 486: 30, 487: 30, 488: 30, 489: 30, 490: 30, 491: 30, 492: 30, 493: 30, 494: 30, 495: 30, 496: 30, 497: 30, 498: 30, 499: 30, 500: 30, 501: 30, 502: 30, 503: 30, 504: 30, 505: 30, 506: 30, 507: 30, 508: 30, 509: 30, 510: 30, 511: 30, 512: 30, 513: 30, 514: 30, 515: 30, 516: 30, 517: 30, 518: 30, 519: 30, 520: 30, 521: 30, 522: 30, 523: 30, 524: 30, 525: 30, 526: 30, 527: 30, 528: 30, 529: 30, 530: 30, 531: 30, 532: 30, 533: 30, 534: 30, 535: 30, 536: 30, 537: 30, 538: 30, 539: 30, 540: 30, 541: 30, 542: 30, 543: 30, 544: 30, 545: 30, 546: 30, 547: 30, 548: 30, 549: 30, 550: 30, 551: 30, 552: 30, 553: 30, 554: 30, 555: 30, 556: 30, 557: 30, 558: 30, 559: 30, 560: 30, 561: 30, 562: 30, 563: 30, 564: 30, 565: 30, 566: 30, 567: 30, 568: 30, 569: 30, 570: 30, 571: 30, 572: 30, 573: 30, 574: 30, 575: 30, 576: 30, 577: 30, 578: 30, 579: 30, 580: 30, 581: 30, 582: 30, 583: 30, 584: 30, 585: 30, 586: 30, 587: 30, 588: 30, 589: 30, 590: 30, 591: 30, 592: 30, 593: 30, 594: 30, 595: 30, 596: 30, 597: 30, 598: 30, 599: 30, 600: 30, 601: 30, 602: 30, 603: 30, 604: 30, 605: 30, 606: 30, 607: 30, 608: 30, 609: 30, 610: 30, 611: 30, 612: 30, 613: 30, 614: 30, 615: 30, 616: 30, 617: 30, 618: 30, 619: 30, 620: 30, 621: 30, 622: 30, 623: 30, 624: 30, 625: 30, 626: 30, 627: 30, 628: 30, 629: 30, 630: 30, 631: 30, 632: 30, 633: 30, 634: 30, 635: 30, 636: 30, 637: 30, 638: 30, 639: 30, 640: 30, 641: 30, 642: 30, 643: 30, 644: 30, 645: 30, 646: 30, 647: 30, 648: 30, 649: 30, 650: 30, 651: 30, 652: 30, 653: 30, 654: 30, 655: 30, 656: 30, 657: 30, 658: 30, 659: 30, 660: 30, 661: 30, 662: 30, 663: 30, 664: 30, 665: 30, 666: 30, 667: 30, 668: 30, 669: 30, 670: 30, 671: 30, 672: 30, 673: 30, 674: 30, 675: 30, 676: 30, 677: 30, 678: 30, 679: 30, 680: 30, 681: 30, 682: 30, 683: 30, 684: 30, 685: 30, 686: 30, 687: 30, 688: 30, 689: 30, 690: 30, 691: 30, 692: 30, 693: 30, 694: 30, 695: 30, 696: 30, 697: 30, 698: 30, 699: 30, 700: 30, 701: 30, 702: 30, 703: 30, 704: 30, 705: 30, 706: 30, 707: 30, 708: 30, 709: 30, 710: 30, 711: 30, 712: 30, 713: 30, 714: 30, 715: 30, 716: 30, 717: 30, 718: 30, 719: 30, 720: 30, 721: 30, 722: 30, 723: 30, 724: 30, 725: 30, 726: 30, 727: 30, 728: 30, 729: 30, 730: 30, 731: 30, 732: 30, 733: 30, 734: 30, 735: 30, 736: 30, 737: 30, 738: 30, 739: 30, 740: 30, 741: 30, 742: 30, 743: 30, 744: 30, 745: 30, 746: 30, 747: 30, 748: 30, 749: 30, 750: 30, 751: 30, 752: 30, 753: 30, 754: 30, 755: 30, 756: 30, 757: 30, 758: 30, 759: 30, 760: 30, 761: 30, 762: 30, 763: 30, 764: 30, 765: 30, 766: 30, 767: 30, 768: 30, 769: 30, 770: 30, 771: 30, 772: 30, 773: 30, 774: 30, 775: 30, 776: 30, 777: 30, 778: 30, 779: 30, 780: 30, 781: 30, 782: 30, 783: 30, 784: 30, 785: 30, 786: 30, 787: 30, 788: 30, 789: 30, 790: 30, 791: 30, 792: 30, 793: 30, 794: 30, 795: 30, 796: 30, 797: 30, 798: 30, 799: 30, 800: 30, 801: 30, 802: 30, 803: 30, 804: 30, 805: 30, 806: 30, 807: 30, 808: 30, 809: 30, 810: 30, 811: 30, 812: 30, 813: 30, 814: 30, 815: 30, 816: 30, 817: 30, 818: 30, 819: 30, 820: 30, 821: 30, 822: 30, 823: 30, 824: 30, 825: 30, 826: 30, 827: 30, 828: 30, 829: 30, 830: 30, 831: 30, 832: 30, 833: 30, 834: 30, 835: 30, 836: 30, 837: 30, 838: 30, 839: 30, 840: 30, 841: 30, 842: 30, 843: 30, 844: 30, 845: 30, 846: 30, 847: 30, 848: 30, 849: 30, 850: 30, 851: 30, 852: 30, 853: 30, 854: 30, 855: 30, 856: 30, 857: 30, 858: 30, 859: 30, 860: 30, 861: 30, 862: 30, 863: 30, 864: 30, 865: 30, 866: 30, 867: 30, 868: 30, 869: 30, 870: 30, 871: 30, 872: 30, 873: 30, 874: 30, 875: 30, 876: 30, 877: 30, 878: 30, 879: 30, 880: 30, 881: 30, 882: 30, 883: 30, 884: 30, 885: 30, 886: 30, 887: 30, 888: 30, 889: 30, 890: 30, 891: 30, 892: 30, 893: 30, 894: 30, 895: 30, 896: 30, 897: 30, 898: 30, 899: 30, 900: 30, 901: 30, 902: 30, 903: 30, 904: 30, 905: 30, 906: 30, 907: 30, 908: 30, 909: 30, 910: 30, 911: 30, 912: 30, 913: 30, 914: 30, 915: 30, 916: 30, 917: 30, 918: 30, 919: 30, 920: 30, 921: 30, 922: 30, 923: 30, 924: 30, 925: 30, 926: 30, 927: 30, 928: 30, 929: 30, 930: 30, 931: 30, 932: 30, 933: 30, 934: 30, 935: 30, 936: 30, 937: 30, 938: 30, 939: 30, 940: 30, 941: 30, 942: 30, 943: 30, 944: 30, 945: 30, 946: 30, 947: 30, 948: 30, 949: 30, 950: 30, 951: 30, 952: 30, 953: 30, 954: 1}\n",
            "{0: 30, 1: 30, 2: 30, 3: 30, 4: 30, 5: 30, 6: 30, 7: 30, 8: 30, 9: 30, 10: 30, 11: 30, 12: 30, 13: 30, 14: 30, 15: 30, 16: 30, 17: 30, 18: 30, 19: 30, 20: 30, 21: 30, 22: 30, 23: 30, 24: 30, 25: 30, 26: 30, 27: 30, 28: 30, 29: 30, 30: 30, 31: 30, 32: 30, 33: 30, 34: 30, 35: 30, 36: 30, 37: 30, 38: 30, 39: 30, 40: 30, 41: 30, 42: 30, 43: 30, 44: 30, 45: 30, 46: 30, 47: 30, 48: 30, 49: 30, 50: 30, 51: 30, 52: 30, 53: 30, 54: 30, 55: 30, 56: 30, 57: 30, 58: 30, 59: 30, 60: 30, 61: 30, 62: 30, 63: 30, 64: 30, 65: 30, 66: 30, 67: 30, 68: 30, 69: 30, 70: 30, 71: 30, 72: 30, 73: 30, 74: 30, 75: 30, 76: 30, 77: 30, 78: 30, 79: 30, 80: 30, 81: 30, 82: 30, 83: 30, 84: 30, 85: 30, 86: 30, 87: 30, 88: 30, 89: 30, 90: 30, 91: 30, 92: 30, 93: 30, 94: 30, 95: 30, 96: 30, 97: 30, 98: 30, 99: 30, 100: 30, 101: 30, 102: 30, 103: 30, 104: 30, 105: 30, 106: 30, 107: 30, 108: 30, 109: 30, 110: 30, 111: 30, 112: 30, 113: 30, 114: 30, 115: 30, 116: 30, 117: 30, 118: 30, 119: 30, 120: 30, 121: 30, 122: 30, 123: 30, 124: 30, 125: 30, 126: 30, 127: 30, 128: 30, 129: 30, 130: 30, 131: 30, 132: 30, 133: 30, 134: 30, 135: 30, 136: 30, 137: 30, 138: 30, 139: 30, 140: 30, 141: 30, 142: 30, 143: 30, 144: 30, 145: 30, 146: 30, 147: 30, 148: 30, 149: 30, 150: 30, 151: 30, 152: 30, 153: 30, 154: 30, 155: 30, 156: 30, 157: 30, 158: 30, 159: 30, 160: 30, 161: 30, 162: 30, 163: 30, 164: 30, 165: 30, 166: 30, 167: 30, 168: 30, 169: 30, 170: 30, 171: 30, 172: 30, 173: 30, 174: 30, 175: 30, 176: 30, 177: 30, 178: 30, 179: 30, 180: 30, 181: 30, 182: 30, 183: 30, 184: 30, 185: 30, 186: 30, 187: 30, 188: 30, 189: 30, 190: 30, 191: 30, 192: 30, 193: 30, 194: 30, 195: 30, 196: 30, 197: 30, 198: 30, 199: 30, 200: 30, 201: 30, 202: 30, 203: 30, 204: 30, 205: 30, 206: 30, 207: 30, 208: 30, 209: 30, 210: 30, 211: 30, 212: 30, 213: 30, 214: 30, 215: 30, 216: 30, 217: 30, 218: 30, 219: 30, 220: 30, 221: 30, 222: 30, 223: 30, 224: 30, 225: 30, 226: 30, 227: 30, 228: 30, 229: 30, 230: 30, 231: 30, 232: 30, 233: 30, 234: 30, 235: 30, 236: 30, 237: 30, 238: 30, 239: 30, 240: 30, 241: 30, 242: 30, 243: 30, 244: 30, 245: 30, 246: 30, 247: 30, 248: 30, 249: 30, 250: 30, 251: 30, 252: 30, 253: 30, 254: 30, 255: 30, 256: 30, 257: 30, 258: 30, 259: 30, 260: 30, 261: 30, 262: 30, 263: 30, 264: 30, 265: 30, 266: 30, 267: 30, 268: 30, 269: 30, 270: 30, 271: 30, 272: 30, 273: 30, 274: 30, 275: 30, 276: 30, 277: 30, 278: 30, 279: 30, 280: 30, 281: 30, 282: 30, 283: 30, 284: 30, 285: 30, 286: 30, 287: 30, 288: 30, 289: 30, 290: 30, 291: 30, 292: 30, 293: 30, 294: 30, 295: 30, 296: 30, 297: 30, 298: 30, 299: 30, 300: 30, 301: 30, 302: 30, 303: 30, 304: 30, 305: 30, 306: 30, 307: 30, 308: 30, 309: 30, 310: 30, 311: 30, 312: 30, 313: 30, 314: 30, 315: 30, 316: 30, 317: 30, 318: 30, 319: 30, 320: 30, 321: 30, 322: 30, 323: 30, 324: 30, 325: 30, 326: 30, 327: 30, 328: 30, 329: 30, 330: 30, 331: 30, 332: 30, 333: 30, 334: 30, 335: 30, 336: 30, 337: 30, 338: 30, 339: 30, 340: 30, 341: 30, 342: 30, 343: 30, 344: 30, 345: 30, 346: 30, 347: 30, 348: 30, 349: 30, 350: 30, 351: 30, 352: 30, 353: 30, 354: 30, 355: 30, 356: 30, 357: 30, 358: 30, 359: 30, 360: 30, 361: 30, 362: 30, 363: 30, 364: 30, 365: 30, 366: 30, 367: 30, 368: 30, 369: 30, 370: 30, 371: 30, 372: 30, 373: 30, 374: 30, 375: 30, 376: 30, 377: 30, 378: 30, 379: 30, 380: 30, 381: 30, 382: 30, 383: 30, 384: 30, 385: 30, 386: 30, 387: 30, 388: 30, 389: 30, 390: 30, 391: 30, 392: 30, 393: 30, 394: 30, 395: 30, 396: 30, 397: 30, 398: 30, 399: 30, 400: 30, 401: 30, 402: 30, 403: 30, 404: 30, 405: 30, 406: 30, 407: 30, 408: 30, 409: 30, 410: 30, 411: 30, 412: 30, 413: 30, 414: 30, 415: 30, 416: 30, 417: 30, 418: 30, 419: 30, 420: 30, 421: 30, 422: 30, 423: 30, 424: 30, 425: 30, 426: 30, 427: 30, 428: 30, 429: 30, 430: 30, 431: 30, 432: 30, 433: 30, 434: 30, 435: 30, 436: 30, 437: 30, 438: 30, 439: 30, 440: 30, 441: 30, 442: 30, 443: 30, 444: 30, 445: 30, 446: 30, 447: 30, 448: 30, 449: 30, 450: 30, 451: 30, 452: 30, 453: 30, 454: 30, 455: 30, 456: 30, 457: 30, 458: 30, 459: 30, 460: 30, 461: 30, 462: 30, 463: 30, 464: 30, 465: 30, 466: 30, 467: 30, 468: 30, 469: 30, 470: 30, 471: 30, 472: 30, 473: 30, 474: 30, 475: 30, 476: 30, 477: 30, 478: 30, 479: 30, 480: 30, 481: 30, 482: 30, 483: 30, 484: 30, 485: 30, 486: 30, 487: 30, 488: 30, 489: 30, 490: 30, 491: 30, 492: 30, 493: 30, 494: 30, 495: 30, 496: 30, 497: 30, 498: 30, 499: 30, 500: 30, 501: 30, 502: 30, 503: 30, 504: 30, 505: 30, 506: 30, 507: 30, 508: 30, 509: 30, 510: 30, 511: 30, 512: 30, 513: 30, 514: 30, 515: 30, 516: 30, 517: 30, 518: 30, 519: 30, 520: 30, 521: 30, 522: 30, 523: 30, 524: 30, 525: 30, 526: 30, 527: 30, 528: 30, 529: 30, 530: 30, 531: 30, 532: 30, 533: 30, 534: 30, 535: 30, 536: 30, 537: 30, 538: 30, 539: 30, 540: 30, 541: 30, 542: 30, 543: 30, 544: 30, 545: 30, 546: 30, 547: 30, 548: 30, 549: 30, 550: 30, 551: 30, 552: 30, 553: 30, 554: 30, 555: 30, 556: 30, 557: 30, 558: 30, 559: 30, 560: 30, 561: 30, 562: 30, 563: 30, 564: 30, 565: 30, 566: 30, 567: 30, 568: 30, 569: 30, 570: 30, 571: 30, 572: 30, 573: 30, 574: 30, 575: 30, 576: 30, 577: 30, 578: 30, 579: 30, 580: 30, 581: 30, 582: 30, 583: 30, 584: 30, 585: 30, 586: 30, 587: 30, 588: 30, 589: 30, 590: 30, 591: 30, 592: 30, 593: 30, 594: 30, 595: 30, 596: 30, 597: 30, 598: 30, 599: 30, 600: 30, 601: 30, 602: 30, 603: 30, 604: 30, 605: 30, 606: 30, 607: 30, 608: 30, 609: 30, 610: 30, 611: 30, 612: 30, 613: 30, 614: 30, 615: 30, 616: 30, 617: 30, 618: 30, 619: 30, 620: 30, 621: 30, 622: 30, 623: 30, 624: 30, 625: 30, 626: 30, 627: 30, 628: 30, 629: 30, 630: 30, 631: 30, 632: 30, 633: 30, 634: 30, 635: 30, 636: 30, 637: 30, 638: 30, 639: 30, 640: 30, 641: 30, 642: 30, 643: 30, 644: 30, 645: 30, 646: 30, 647: 30, 648: 30, 649: 30, 650: 30, 651: 30, 652: 30, 653: 30, 654: 30, 655: 30, 656: 30, 657: 30, 658: 30, 659: 30, 660: 30, 661: 30, 662: 30, 663: 30, 664: 30, 665: 30, 666: 30, 667: 30, 668: 30, 669: 30, 670: 30, 671: 30, 672: 30, 673: 30, 674: 30, 675: 30, 676: 30, 677: 30, 678: 30, 679: 30, 680: 30, 681: 30, 682: 30, 683: 30, 684: 30, 685: 30, 686: 30, 687: 30, 688: 30, 689: 30, 690: 30, 691: 30, 692: 30, 693: 30, 694: 30, 695: 30, 696: 30, 697: 30, 698: 30, 699: 30, 700: 30, 701: 30, 702: 30, 703: 30, 704: 30, 705: 30, 706: 30, 707: 30, 708: 30, 709: 30, 710: 30, 711: 30, 712: 30, 713: 30, 714: 30, 715: 30, 716: 30, 717: 30, 718: 30, 719: 30, 720: 30, 721: 30, 722: 30, 723: 30, 724: 30, 725: 30, 726: 30, 727: 30, 728: 30, 729: 30, 730: 30, 731: 30, 732: 30, 733: 30, 734: 30, 735: 30, 736: 30, 737: 30, 738: 30, 739: 30, 740: 30, 741: 30, 742: 30, 743: 30, 744: 30, 745: 30, 746: 30, 747: 30, 748: 30, 749: 30, 750: 30, 751: 30, 752: 30, 753: 30, 754: 30, 755: 30, 756: 30, 757: 30, 758: 30, 759: 30, 760: 30, 761: 30, 762: 30, 763: 30, 764: 30, 765: 30, 766: 30, 767: 30, 768: 30, 769: 30, 770: 30, 771: 30, 772: 30, 773: 30, 774: 30, 775: 30, 776: 30, 777: 30, 778: 30, 779: 30, 780: 30, 781: 30, 782: 30, 783: 30, 784: 30, 785: 30, 786: 30, 787: 30, 788: 30, 789: 30, 790: 30, 791: 30, 792: 30, 793: 30, 794: 30, 795: 30, 796: 30, 797: 30, 798: 30, 799: 30, 800: 30, 801: 30, 802: 30, 803: 30, 804: 30, 805: 30, 806: 30, 807: 30, 808: 30, 809: 30, 810: 30, 811: 30, 812: 30, 813: 30, 814: 30, 815: 30, 816: 30, 817: 30, 818: 30, 819: 30, 820: 30, 821: 30, 822: 30, 823: 30, 824: 30, 825: 30, 826: 30, 827: 30, 828: 30, 829: 30, 830: 30, 831: 30, 832: 30, 833: 30, 834: 30, 835: 30, 836: 30, 837: 30, 838: 30, 839: 30, 840: 30, 841: 30, 842: 30, 843: 30, 844: 30, 845: 30, 846: 30, 847: 30, 848: 30, 849: 30, 850: 30, 851: 30, 852: 30, 853: 30, 854: 30, 855: 30, 856: 30, 857: 30, 858: 30, 859: 30, 860: 30, 861: 30, 862: 30, 863: 30, 864: 30, 865: 30, 866: 30, 867: 30, 868: 30, 869: 30, 870: 30, 871: 30, 872: 30, 873: 30, 874: 30, 875: 30, 876: 30, 877: 30, 878: 30, 879: 30, 880: 30, 881: 30, 882: 30, 883: 30, 884: 30, 885: 30, 886: 30, 887: 30, 888: 30, 889: 30, 890: 30, 891: 30, 892: 30, 893: 30, 894: 30, 895: 30, 896: 30, 897: 30, 898: 30, 899: 30, 900: 30, 901: 30, 902: 30, 903: 30, 904: 30, 905: 30, 906: 30, 907: 30, 908: 30, 909: 30, 910: 30, 911: 30, 912: 30, 913: 30, 914: 30, 915: 30, 916: 30, 917: 30, 918: 30, 919: 30, 920: 30, 921: 30, 922: 30, 923: 30, 924: 30, 925: 30, 926: 30, 927: 30, 928: 30, 929: 30, 930: 30, 931: 30, 932: 30, 933: 30, 934: 30, 935: 30, 936: 30, 937: 30, 938: 30, 939: 30, 940: 30, 941: 30, 942: 30, 943: 30, 944: 30, 945: 30, 946: 30, 947: 30, 948: 30, 949: 30, 950: 30, 951: 30, 952: 30, 953: 30, 954: 30, 955: 30, 956: 30, 957: 1}\n",
            "{0: 30, 1: 30, 2: 30, 3: 30, 4: 30, 5: 30, 6: 30, 7: 30, 8: 30, 9: 30, 10: 30, 11: 30, 12: 30, 13: 30, 14: 30, 15: 30, 16: 30, 17: 30, 18: 30, 19: 30, 20: 30, 21: 30, 22: 30, 23: 30, 24: 30, 25: 30, 26: 30, 27: 30, 28: 30, 29: 30, 30: 30, 31: 30, 32: 30, 33: 30, 34: 30, 35: 30, 36: 30, 37: 30, 38: 30, 39: 30, 40: 30, 41: 30, 42: 30, 43: 30, 44: 30, 45: 30, 46: 30, 47: 30, 48: 30, 49: 30, 50: 30, 51: 30, 52: 30, 53: 30, 54: 30, 55: 30, 56: 30, 57: 30, 58: 30, 59: 30, 60: 30, 61: 30, 62: 30, 63: 30, 64: 30, 65: 30, 66: 30, 67: 30, 68: 30, 69: 30, 70: 30, 71: 30, 72: 30, 73: 30, 74: 30, 75: 30, 76: 30, 77: 30, 78: 30, 79: 30, 80: 30, 81: 30, 82: 30, 83: 30, 84: 30, 85: 30, 86: 30, 87: 30, 88: 30, 89: 30, 90: 30, 91: 30, 92: 30, 93: 30, 94: 30, 95: 30, 96: 30, 97: 30, 98: 30, 99: 30, 100: 30, 101: 30, 102: 30, 103: 30, 104: 30, 105: 30, 106: 30, 107: 30, 108: 30, 109: 30, 110: 30, 111: 30, 112: 30, 113: 30, 114: 30, 115: 30, 116: 30, 117: 30, 118: 30, 119: 30, 120: 30, 121: 30, 122: 30, 123: 30, 124: 30, 125: 30, 126: 30, 127: 30, 128: 30, 129: 30, 130: 30, 131: 30, 132: 30, 133: 30, 134: 30, 135: 30, 136: 30, 137: 30, 138: 30, 139: 30, 140: 30, 141: 30, 142: 30, 143: 30, 144: 30, 145: 30, 146: 30, 147: 30, 148: 30, 149: 30, 150: 30, 151: 30, 152: 30, 153: 30, 154: 30, 155: 30, 156: 30, 157: 30, 158: 30, 159: 30, 160: 30, 161: 30, 162: 30, 163: 30, 164: 30, 165: 30, 166: 30, 167: 30, 168: 30, 169: 30, 170: 30, 171: 30, 172: 30, 173: 30, 174: 30, 175: 30, 176: 30, 177: 30, 178: 30, 179: 30, 180: 30, 181: 30, 182: 30, 183: 30, 184: 30, 185: 30, 186: 30, 187: 30, 188: 30, 189: 30, 190: 30, 191: 30, 192: 30, 193: 30, 194: 30, 195: 30, 196: 30, 197: 30, 198: 30, 199: 30, 200: 30, 201: 30, 202: 30, 203: 30, 204: 30, 205: 30, 206: 30, 207: 30, 208: 30, 209: 30, 210: 30, 211: 30, 212: 30, 213: 30, 214: 30, 215: 30, 216: 30, 217: 30, 218: 30, 219: 30, 220: 30, 221: 30, 222: 30, 223: 30, 224: 30, 225: 30, 226: 30, 227: 30, 228: 30, 229: 30, 230: 30, 231: 30, 232: 30, 233: 30, 234: 30, 235: 30, 236: 30, 237: 30, 238: 30, 239: 30, 240: 30, 241: 30, 242: 30, 243: 30, 244: 30, 245: 30, 246: 30, 247: 30, 248: 30, 249: 30, 250: 30, 251: 30, 252: 30, 253: 30, 254: 30, 255: 30, 256: 30, 257: 30, 258: 30, 259: 30, 260: 30, 261: 30, 262: 30, 263: 30, 264: 30, 265: 30, 266: 30, 267: 30, 268: 30, 269: 30, 270: 30, 271: 30, 272: 30, 273: 30, 274: 30, 275: 30, 276: 30, 277: 30, 278: 30, 279: 30, 280: 30, 281: 30, 282: 30, 283: 30, 284: 30, 285: 30, 286: 30, 287: 30, 288: 30, 289: 30, 290: 30, 291: 30, 292: 30, 293: 30, 294: 30, 295: 30, 296: 30, 297: 30, 298: 30, 299: 30, 300: 30, 301: 30, 302: 30, 303: 30, 304: 30, 305: 30, 306: 30, 307: 30, 308: 30, 309: 30, 310: 30, 311: 30, 312: 30, 313: 30, 314: 30, 315: 30, 316: 30, 317: 30, 318: 30, 319: 30, 320: 30, 321: 30, 322: 30, 323: 30, 324: 30, 325: 30, 326: 30, 327: 30, 328: 30, 329: 30, 330: 30, 331: 30, 332: 30, 333: 30, 334: 30, 335: 30, 336: 30, 337: 30, 338: 30, 339: 30, 340: 30, 341: 30, 342: 30, 343: 30, 344: 30, 345: 30, 346: 30, 347: 30, 348: 30, 349: 30, 350: 30, 351: 30, 352: 30, 353: 30, 354: 30, 355: 30, 356: 30, 357: 30, 358: 30, 359: 30, 360: 30, 361: 30, 362: 30, 363: 30, 364: 30, 365: 30, 366: 30, 367: 30, 368: 30, 369: 30, 370: 30, 371: 30, 372: 30, 373: 30, 374: 30, 375: 30, 376: 30, 377: 30, 378: 30, 379: 30, 380: 30, 381: 30, 382: 30, 383: 30, 384: 30, 385: 30, 386: 30, 387: 30, 388: 30, 389: 30, 390: 30, 391: 30, 392: 30, 393: 30, 394: 30, 395: 30, 396: 30, 397: 30, 398: 30, 399: 30, 400: 30, 401: 30, 402: 30, 403: 30, 404: 30, 405: 30, 406: 30, 407: 30, 408: 30, 409: 30, 410: 30, 411: 30, 412: 30, 413: 30, 414: 30, 415: 30, 416: 30, 417: 30, 418: 30, 419: 30, 420: 30, 421: 30, 422: 30, 423: 30, 424: 30, 425: 30, 426: 30, 427: 30, 428: 30, 429: 30, 430: 30, 431: 30, 432: 30, 433: 30, 434: 30, 435: 30, 436: 30, 437: 30, 438: 30, 439: 30, 440: 30, 441: 30, 442: 30, 443: 30, 444: 30, 445: 30, 446: 30, 447: 30, 448: 30, 449: 30, 450: 30, 451: 30, 452: 30, 453: 30, 454: 30, 455: 30, 456: 30, 457: 30, 458: 30, 459: 30, 460: 30, 461: 30, 462: 30, 463: 30, 464: 30, 465: 30, 466: 30, 467: 30, 468: 30, 469: 30, 470: 30, 471: 30, 472: 30, 473: 30, 474: 30, 475: 30, 476: 30, 477: 30, 478: 30, 479: 30, 480: 30, 481: 30, 482: 30, 483: 30, 484: 30, 485: 30, 486: 30, 487: 30, 488: 30, 489: 30, 490: 30, 491: 30, 492: 30, 493: 30, 494: 30, 495: 30, 496: 30, 497: 30, 498: 30, 499: 30, 500: 30, 501: 30, 502: 30, 503: 30, 504: 30, 505: 30, 506: 30, 507: 30, 508: 30, 509: 30, 510: 30, 511: 30, 512: 30, 513: 30, 514: 30, 515: 30, 516: 30, 517: 30, 518: 30, 519: 30, 520: 30, 521: 30, 522: 30, 523: 30, 524: 30, 525: 30, 526: 30, 527: 30, 528: 30, 529: 30, 530: 30, 531: 30, 532: 30, 533: 30, 534: 30, 535: 30, 536: 30, 537: 30, 538: 30, 539: 30, 540: 30, 541: 30, 542: 30, 543: 30, 544: 30, 545: 30, 546: 30, 547: 30, 548: 30, 549: 30, 550: 30, 551: 30, 552: 30, 553: 30, 554: 30, 555: 30, 556: 30, 557: 30, 558: 30, 559: 30, 560: 30, 561: 30, 562: 30, 563: 30, 564: 30, 565: 30, 566: 30, 567: 30, 568: 30, 569: 30, 570: 30, 571: 30, 572: 30, 573: 30, 574: 30, 575: 30, 576: 30, 577: 30, 578: 30, 579: 30, 580: 30, 581: 30, 582: 30, 583: 30, 584: 30, 585: 30, 586: 30, 587: 30, 588: 30, 589: 30, 590: 30, 591: 30, 592: 30, 593: 30, 594: 30, 595: 30, 596: 30, 597: 30, 598: 30, 599: 30, 600: 30, 601: 30, 602: 30, 603: 30, 604: 30, 605: 30, 606: 30, 607: 30, 608: 30, 609: 30, 610: 30, 611: 30, 612: 30, 613: 30, 614: 30, 615: 30, 616: 30, 617: 30, 618: 30, 619: 30, 620: 30, 621: 30, 622: 30, 623: 30, 624: 30, 625: 30, 626: 30, 627: 30, 628: 30, 629: 30, 630: 30, 631: 30, 632: 30, 633: 30, 634: 30, 635: 30, 636: 30, 637: 30, 638: 30, 639: 30, 640: 30, 641: 30, 642: 30, 643: 30, 644: 30, 645: 30, 646: 30, 647: 30, 648: 30, 649: 30, 650: 30, 651: 30, 652: 30, 653: 30, 654: 30, 655: 30, 656: 30, 657: 30, 658: 30, 659: 30, 660: 30, 661: 30, 662: 30, 663: 30, 664: 30, 665: 30, 666: 30, 667: 30, 668: 30, 669: 30, 670: 30, 671: 30, 672: 30, 673: 30, 674: 30, 675: 30, 676: 30, 677: 30, 678: 30, 679: 30, 680: 30, 681: 30, 682: 30, 683: 30, 684: 30, 685: 30, 686: 30, 687: 30, 688: 30, 689: 30, 690: 30, 691: 30, 692: 30, 693: 30, 694: 30, 695: 30, 696: 30, 697: 30, 698: 30, 699: 30, 700: 30, 701: 30, 702: 30, 703: 30, 704: 30, 705: 30, 706: 30, 707: 30, 708: 30, 709: 30, 710: 30, 711: 30, 712: 30, 713: 30, 714: 30, 715: 30, 716: 30, 717: 30, 718: 30, 719: 30, 720: 30, 721: 30, 722: 30, 723: 30, 724: 30, 725: 30, 726: 30, 727: 30, 728: 30, 729: 30, 730: 30, 731: 30, 732: 30, 733: 30, 734: 30, 735: 30, 736: 30, 737: 30, 738: 30, 739: 30, 740: 30, 741: 30, 742: 30, 743: 30, 744: 30, 745: 30, 746: 30, 747: 30, 748: 30, 749: 30, 750: 30, 751: 30, 752: 30, 753: 30, 754: 30, 755: 30, 756: 30, 757: 30, 758: 30, 759: 30, 760: 30, 761: 30, 762: 30, 763: 30, 764: 30, 765: 30, 766: 30, 767: 30, 768: 30, 769: 30, 770: 30, 771: 30, 772: 30, 773: 30, 774: 30, 775: 30, 776: 30, 777: 30, 778: 30, 779: 30, 780: 30, 781: 30, 782: 30, 783: 30, 784: 30, 785: 30, 786: 30, 787: 30, 788: 30, 789: 30, 790: 30, 791: 30, 792: 30, 793: 30, 794: 30, 795: 30, 796: 30, 797: 30, 798: 30, 799: 30, 800: 30, 801: 30, 802: 30, 803: 30, 804: 30, 805: 30, 806: 30, 807: 30, 808: 30, 809: 30, 810: 30, 811: 30, 812: 30, 813: 30, 814: 30, 815: 30, 816: 30, 817: 30, 818: 30, 819: 30, 820: 30, 821: 30, 822: 30, 823: 30, 824: 30, 825: 30, 826: 30, 827: 30, 828: 30, 829: 30, 830: 30, 831: 30, 832: 30, 833: 30, 834: 30, 835: 30, 836: 30, 837: 30, 838: 30, 839: 30, 840: 30, 841: 30, 842: 30, 843: 30, 844: 30, 845: 30, 846: 30, 847: 30, 848: 30, 849: 30, 850: 30, 851: 30, 852: 30, 853: 30, 854: 30, 855: 30, 856: 30, 857: 30, 858: 30, 859: 30, 860: 30, 861: 30, 862: 30, 863: 30, 864: 30, 865: 30, 866: 30, 867: 30, 868: 30, 869: 30, 870: 30, 871: 30, 872: 30, 873: 30, 874: 30, 875: 30, 876: 30, 877: 30, 878: 30, 879: 30, 880: 30, 881: 30, 882: 30, 883: 30, 884: 30, 885: 30, 886: 30, 887: 30, 888: 30, 889: 30, 890: 30, 891: 30, 892: 30, 893: 30, 894: 30, 895: 30, 896: 30, 897: 30, 898: 30, 899: 30, 900: 30, 901: 30, 902: 30, 903: 30, 904: 30, 905: 30, 906: 30, 907: 30, 908: 30, 909: 30, 910: 30, 911: 30, 912: 30, 913: 30, 914: 30, 915: 30, 916: 30, 917: 30, 918: 30, 919: 30, 920: 30, 921: 30, 922: 30, 923: 30, 924: 30, 925: 30, 926: 30, 927: 30, 928: 30, 929: 30, 930: 30, 931: 30, 932: 30, 933: 30, 934: 30, 935: 30, 936: 30, 937: 30, 938: 30, 939: 30, 940: 30, 941: 30, 942: 30, 943: 30, 944: 30, 945: 30, 946: 30, 947: 30, 948: 30, 949: 30, 950: 30, 951: 30, 952: 30, 953: 1}\n",
            "{0: 30, 1: 30, 2: 30, 3: 30, 4: 30, 5: 30, 6: 30, 7: 30, 8: 30, 9: 30, 10: 30, 11: 30, 12: 30, 13: 30, 14: 30, 15: 30, 16: 30, 17: 30, 18: 30, 19: 30, 20: 30, 21: 30, 22: 30, 23: 30, 24: 30, 25: 30, 26: 30, 27: 30, 28: 30, 29: 30, 30: 30, 31: 30, 32: 30, 33: 30, 34: 30, 35: 30, 36: 30, 37: 30, 38: 30, 39: 30, 40: 30, 41: 30, 42: 30, 43: 30, 44: 30, 45: 30, 46: 30, 47: 30, 48: 30, 49: 30, 50: 30, 51: 30, 52: 30, 53: 30, 54: 30, 55: 30, 56: 30, 57: 30, 58: 30, 59: 30, 60: 30, 61: 30, 62: 30, 63: 30, 64: 30, 65: 30, 66: 30, 67: 30, 68: 30, 69: 30, 70: 30, 71: 30, 72: 30, 73: 30, 74: 30, 75: 30, 76: 30, 77: 30, 78: 30, 79: 30, 80: 30, 81: 30, 82: 30, 83: 30, 84: 30, 85: 30, 86: 30, 87: 30, 88: 30, 89: 30, 90: 30, 91: 30, 92: 30, 93: 30, 94: 30, 95: 30, 96: 30, 97: 30, 98: 30, 99: 30, 100: 30, 101: 30, 102: 30, 103: 30, 104: 30, 105: 30, 106: 30, 107: 30, 108: 30, 109: 30, 110: 30, 111: 30, 112: 30, 113: 30, 114: 30, 115: 30, 116: 30, 117: 30, 118: 30, 119: 30, 120: 30, 121: 30, 122: 30, 123: 30, 124: 30, 125: 30, 126: 30, 127: 30, 128: 30, 129: 30, 130: 30, 131: 30, 132: 30, 133: 30, 134: 30, 135: 30, 136: 30, 137: 30, 138: 30, 139: 30, 140: 30, 141: 30, 142: 30, 143: 30, 144: 30, 145: 30, 146: 30, 147: 30, 148: 30, 149: 30, 150: 30, 151: 30, 152: 30, 153: 30, 154: 30, 155: 30, 156: 30, 157: 30, 158: 30, 159: 30, 160: 30, 161: 30, 162: 30, 163: 30, 164: 30, 165: 30, 166: 30, 167: 30, 168: 30, 169: 30, 170: 30, 171: 30, 172: 30, 173: 30, 174: 30, 175: 30, 176: 30, 177: 30, 178: 30, 179: 30, 180: 30, 181: 30, 182: 30, 183: 30, 184: 30, 185: 30, 186: 30, 187: 30, 188: 30, 189: 30, 190: 30, 191: 30, 192: 30, 193: 30, 194: 30, 195: 30, 196: 30, 197: 30, 198: 30, 199: 30, 200: 30, 201: 30, 202: 30, 203: 30, 204: 30, 205: 30, 206: 30, 207: 30, 208: 30, 209: 30, 210: 30, 211: 30, 212: 30, 213: 30, 214: 30, 215: 30, 216: 30, 217: 30, 218: 30, 219: 30, 220: 30, 221: 30, 222: 30, 223: 30, 224: 30, 225: 30, 226: 30, 227: 30, 228: 30, 229: 30, 230: 30, 231: 30, 232: 30, 233: 30, 234: 30, 235: 30, 236: 30, 237: 30, 238: 30, 239: 30, 240: 30, 241: 30, 242: 30, 243: 30, 244: 30, 245: 30, 246: 30, 247: 30, 248: 30, 249: 30, 250: 30, 251: 30, 252: 30, 253: 30, 254: 30, 255: 30, 256: 30, 257: 30, 258: 30, 259: 30, 260: 30, 261: 30, 262: 30, 263: 30, 264: 30, 265: 30, 266: 30, 267: 30, 268: 30, 269: 30, 270: 30, 271: 30, 272: 30, 273: 30, 274: 30, 275: 30, 276: 30, 277: 30, 278: 30, 279: 30, 280: 30, 281: 30, 282: 30, 283: 30, 284: 30, 285: 30, 286: 30, 287: 30, 288: 30, 289: 30, 290: 30, 291: 30, 292: 30, 293: 30, 294: 30, 295: 30, 296: 30, 297: 30, 298: 30, 299: 30, 300: 30, 301: 30, 302: 30, 303: 30, 304: 30, 305: 30, 306: 30, 307: 30, 308: 30, 309: 30, 310: 30, 311: 30, 312: 30, 313: 30, 314: 30, 315: 30, 316: 30, 317: 30, 318: 30, 319: 30, 320: 30, 321: 30, 322: 30, 323: 30, 324: 30, 325: 30, 326: 30, 327: 30, 328: 30, 329: 30, 330: 30, 331: 30, 332: 30, 333: 30, 334: 30, 335: 30, 336: 30, 337: 30, 338: 30, 339: 30, 340: 30, 341: 30, 342: 30, 343: 30, 344: 30, 345: 30, 346: 30, 347: 30, 348: 30, 349: 30, 350: 30, 351: 30, 352: 30, 353: 30, 354: 30, 355: 30, 356: 30, 357: 30, 358: 30, 359: 30, 360: 30, 361: 30, 362: 30, 363: 30, 364: 30, 365: 30, 366: 30, 367: 30, 368: 30, 369: 30, 370: 30, 371: 30, 372: 30, 373: 30, 374: 30, 375: 30, 376: 30, 377: 30, 378: 30, 379: 30, 380: 30, 381: 30, 382: 30, 383: 30, 384: 30, 385: 30, 386: 30, 387: 30, 388: 30, 389: 30, 390: 30, 391: 30, 392: 30, 393: 30, 394: 30, 395: 30, 396: 30, 397: 30, 398: 30, 399: 30, 400: 30, 401: 30, 402: 30, 403: 30, 404: 30, 405: 30, 406: 30, 407: 30, 408: 30, 409: 30, 410: 30, 411: 30, 412: 30, 413: 30, 414: 30, 415: 30, 416: 30, 417: 30, 418: 30, 419: 30, 420: 30, 421: 30, 422: 30, 423: 30, 424: 30, 425: 30, 426: 30, 427: 30, 428: 30, 429: 30, 430: 30, 431: 30, 432: 30, 433: 30, 434: 30, 435: 30, 436: 30, 437: 30, 438: 30, 439: 30, 440: 30, 441: 30, 442: 30, 443: 30, 444: 30, 445: 30, 446: 30, 447: 30, 448: 30, 449: 30, 450: 30, 451: 30, 452: 30, 453: 30, 454: 30, 455: 30, 456: 30, 457: 30, 458: 30, 459: 30, 460: 30, 461: 30, 462: 30, 463: 30, 464: 30, 465: 30, 466: 30, 467: 30, 468: 30, 469: 30, 470: 30, 471: 30, 472: 30, 473: 30, 474: 30, 475: 30, 476: 30, 477: 30, 478: 30, 479: 30, 480: 30, 481: 30, 482: 30, 483: 30, 484: 30, 485: 30, 486: 30, 487: 30, 488: 30, 489: 30, 490: 30, 491: 30, 492: 30, 493: 30, 494: 30, 495: 30, 496: 30, 497: 30, 498: 30, 499: 30, 500: 30, 501: 30, 502: 30, 503: 30, 504: 30, 505: 30, 506: 30, 507: 30, 508: 30, 509: 30, 510: 30, 511: 30, 512: 30, 513: 30, 514: 30, 515: 30, 516: 30, 517: 30, 518: 30, 519: 30, 520: 30, 521: 30, 522: 30, 523: 30, 524: 30, 525: 30, 526: 30, 527: 30, 528: 30, 529: 30, 530: 30, 531: 30, 532: 30, 533: 30, 534: 30, 535: 30, 536: 30, 537: 30, 538: 30, 539: 30, 540: 30, 541: 30, 542: 30, 543: 30, 544: 30, 545: 30, 546: 30, 547: 30, 548: 30, 549: 30, 550: 30, 551: 30, 552: 30, 553: 30, 554: 30, 555: 30, 556: 30, 557: 30, 558: 30, 559: 30, 560: 30, 561: 30, 562: 30, 563: 30, 564: 30, 565: 30, 566: 30, 567: 30, 568: 30, 569: 30, 570: 30, 571: 30, 572: 30, 573: 30, 574: 30, 575: 30, 576: 30, 577: 30, 578: 30, 579: 30, 580: 30, 581: 30, 582: 30, 583: 30, 584: 30, 585: 30, 586: 30, 587: 30, 588: 30, 589: 30, 590: 30, 591: 30, 592: 30, 593: 30, 594: 30, 595: 30, 596: 30, 597: 30, 598: 30, 599: 30, 600: 30, 601: 30, 602: 30, 603: 30, 604: 30, 605: 30, 606: 30, 607: 30, 608: 30, 609: 30, 610: 30, 611: 30, 612: 30, 613: 30, 614: 30, 615: 30, 616: 30, 617: 30, 618: 30, 619: 30, 620: 30, 621: 30, 622: 30, 623: 30, 624: 30, 625: 30, 626: 30, 627: 30, 628: 30, 629: 30, 630: 30, 631: 30, 632: 30, 633: 30, 634: 30, 635: 30, 636: 30, 637: 30, 638: 30, 639: 30, 640: 30, 641: 30, 642: 30, 643: 30, 644: 30, 645: 30, 646: 30, 647: 30, 648: 30, 649: 30, 650: 30, 651: 30, 652: 30, 653: 30, 654: 30, 655: 30, 656: 30, 657: 30, 658: 30, 659: 30, 660: 30, 661: 30, 662: 30, 663: 30, 664: 30, 665: 30, 666: 30, 667: 30, 668: 30, 669: 30, 670: 30, 671: 30, 672: 30, 673: 30, 674: 30, 675: 30, 676: 30, 677: 30, 678: 30, 679: 30, 680: 30, 681: 30, 682: 30, 683: 30, 684: 30, 685: 30, 686: 30, 687: 30, 688: 30, 689: 30, 690: 30, 691: 30, 692: 30, 693: 30, 694: 30, 695: 30, 696: 30, 697: 30, 698: 30, 699: 30, 700: 30, 701: 30, 702: 30, 703: 30, 704: 30, 705: 30, 706: 30, 707: 30, 708: 30, 709: 30, 710: 30, 711: 30, 712: 30, 713: 30, 714: 30, 715: 30, 716: 30, 717: 30, 718: 30, 719: 30, 720: 30, 721: 30, 722: 30, 723: 30, 724: 30, 725: 30, 726: 30, 727: 30, 728: 30, 729: 30, 730: 30, 731: 30, 732: 30, 733: 30, 734: 30, 735: 30, 736: 30, 737: 30, 738: 30, 739: 30, 740: 30, 741: 30, 742: 30, 743: 30, 744: 30, 745: 30, 746: 30, 747: 30, 748: 30, 749: 30, 750: 30, 751: 30, 752: 30, 753: 30, 754: 30, 755: 30, 756: 30, 757: 30, 758: 30, 759: 30, 760: 30, 761: 30, 762: 30, 763: 30, 764: 30, 765: 30, 766: 30, 767: 30, 768: 30, 769: 30, 770: 30, 771: 30, 772: 30, 773: 30, 774: 30, 775: 30, 776: 30, 777: 30, 778: 30, 779: 30, 780: 30, 781: 30, 782: 30, 783: 30, 784: 30, 785: 30, 786: 30, 787: 30, 788: 30, 789: 30, 790: 30, 791: 30, 792: 30, 793: 30, 794: 30, 795: 30, 796: 30, 797: 30, 798: 30, 799: 30, 800: 30, 801: 30, 802: 30, 803: 30, 804: 30, 805: 30, 806: 30, 807: 30, 808: 30, 809: 30, 810: 30, 811: 30, 812: 30, 813: 30, 814: 30, 815: 30, 816: 30, 817: 30, 818: 30, 819: 30, 820: 30, 821: 30, 822: 30, 823: 30, 824: 30, 825: 30, 826: 30, 827: 30, 828: 30, 829: 30, 830: 30, 831: 30, 832: 30, 833: 30, 834: 30, 835: 30, 836: 30, 837: 30, 838: 30, 839: 30, 840: 30, 841: 30, 842: 30, 843: 30, 844: 30, 845: 30, 846: 30, 847: 30, 848: 30, 849: 30, 850: 30, 851: 30, 852: 30, 853: 30, 854: 30, 855: 30, 856: 30, 857: 30, 858: 30, 859: 30, 860: 30, 861: 30, 862: 30, 863: 30, 864: 30, 865: 30, 866: 30, 867: 30, 868: 30, 869: 30, 870: 30, 871: 30, 872: 30, 873: 30, 874: 30, 875: 30, 876: 30, 877: 30, 878: 30, 879: 30, 880: 30, 881: 30, 882: 30, 883: 30, 884: 30, 885: 30, 886: 30, 887: 30, 888: 30, 889: 30, 890: 30, 891: 30, 892: 30, 893: 30, 894: 30, 895: 30, 896: 30, 897: 30, 898: 30, 899: 30, 900: 30, 901: 30, 902: 30, 903: 30, 904: 30, 905: 30, 906: 30, 907: 30, 908: 30, 909: 30, 910: 30, 911: 30, 912: 30, 913: 30, 914: 30, 915: 30, 916: 30, 917: 30, 918: 30, 919: 30, 920: 30, 921: 30, 922: 30, 923: 30, 924: 30, 925: 30, 926: 30, 927: 30, 928: 30, 929: 30, 930: 30, 931: 30, 932: 30, 933: 30, 934: 30, 935: 30, 936: 30, 937: 30, 938: 30, 939: 30, 940: 30, 941: 30, 942: 30, 943: 30, 944: 30, 945: 30, 946: 30, 947: 1}\n",
            "{0: 27, 1: 30, 2: 30, 3: 30, 4: 30, 5: 30, 6: 30, 7: 30, 8: 30, 9: 30, 10: 30, 11: 30, 12: 30, 13: 30, 14: 30, 15: 30, 16: 30, 17: 30, 18: 30, 19: 30, 20: 30, 21: 30, 22: 30, 23: 30, 24: 30, 25: 30, 26: 30, 27: 30, 28: 30, 29: 30, 30: 30, 31: 30, 32: 30, 33: 30, 34: 30, 35: 30, 36: 30, 37: 30, 38: 30, 39: 30, 40: 30, 41: 30, 42: 30, 43: 30, 44: 30, 45: 30, 46: 30, 47: 30, 48: 30, 49: 30, 50: 30, 51: 30, 52: 30, 53: 30, 54: 30, 55: 30, 56: 30, 57: 30, 58: 30, 59: 30, 60: 30, 61: 30, 62: 30, 63: 30, 64: 30, 65: 30, 66: 30, 67: 30, 68: 30, 69: 30, 70: 30, 71: 30, 72: 30, 73: 30, 74: 30, 75: 30, 76: 30, 77: 30, 78: 30, 79: 30, 80: 30, 81: 30, 82: 30, 83: 30, 84: 30, 85: 30, 86: 30, 87: 30, 88: 30, 89: 30, 90: 30, 91: 30, 92: 30, 93: 30, 94: 30, 95: 30, 96: 30, 97: 30, 98: 30, 99: 30, 100: 30, 101: 30, 102: 30, 103: 30, 104: 30, 105: 30, 106: 30, 107: 30, 108: 30, 109: 30, 110: 30, 111: 30, 112: 30, 113: 30, 114: 30, 115: 30, 116: 30, 117: 30, 118: 30, 119: 30, 120: 30, 121: 30, 122: 30, 123: 30, 124: 30, 125: 30, 126: 30, 127: 30, 128: 30, 129: 30, 130: 30, 131: 30, 132: 30, 133: 30, 134: 30, 135: 30, 136: 30, 137: 30, 138: 30, 139: 30, 140: 30, 141: 30, 142: 30, 143: 30, 144: 30, 145: 30, 146: 30, 147: 30, 148: 30, 149: 30, 150: 30, 151: 30, 152: 30, 153: 30, 154: 30, 155: 30, 156: 30, 157: 30, 158: 30, 159: 30, 160: 30, 161: 30, 162: 30, 163: 30, 164: 30, 165: 30, 166: 30, 167: 30, 168: 30, 169: 30, 170: 30, 171: 30, 172: 30, 173: 30, 174: 30, 175: 30, 176: 30, 177: 30, 178: 30, 179: 30, 180: 30, 181: 30, 182: 30, 183: 30, 184: 30, 185: 30, 186: 30, 187: 30, 188: 30, 189: 30, 190: 30, 191: 30, 192: 30, 193: 30, 194: 30, 195: 30, 196: 30, 197: 30, 198: 30, 199: 30, 200: 30, 201: 30, 202: 30, 203: 30, 204: 30, 205: 30, 206: 30, 207: 30, 208: 30, 209: 30, 210: 30, 211: 30, 212: 30, 213: 30, 214: 30, 215: 30, 216: 30, 217: 30, 218: 30, 219: 30, 220: 30, 221: 30, 222: 30, 223: 30, 224: 30, 225: 30, 226: 30, 227: 30, 228: 30, 229: 30, 230: 30, 231: 30, 232: 30, 233: 30, 234: 30, 235: 30, 236: 30, 237: 30, 238: 30, 239: 30, 240: 30, 241: 30, 242: 30, 243: 30, 244: 30, 245: 30, 246: 30, 247: 30, 248: 30, 249: 30, 250: 30, 251: 30, 252: 30, 253: 30, 254: 30, 255: 30, 256: 30, 257: 30, 258: 30, 259: 30, 260: 30, 261: 30, 262: 30, 263: 30, 264: 30, 265: 30, 266: 30, 267: 30, 268: 30, 269: 30, 270: 30, 271: 30, 272: 30, 273: 30, 274: 30, 275: 30, 276: 30, 277: 30, 278: 30, 279: 30, 280: 30, 281: 30, 282: 30, 283: 30, 284: 30, 285: 30, 286: 30, 287: 30, 288: 30, 289: 30, 290: 30, 291: 30, 292: 30, 293: 30, 294: 30, 295: 30, 296: 30, 297: 30, 298: 30, 299: 30, 300: 30, 301: 30, 302: 30, 303: 30, 304: 30, 305: 30, 306: 30, 307: 30, 308: 30, 309: 30, 310: 30, 311: 30, 312: 30, 313: 30, 314: 30, 315: 30, 316: 30, 317: 30, 318: 30, 319: 30, 320: 30, 321: 30, 322: 30, 323: 30, 324: 30, 325: 30, 326: 30, 327: 30, 328: 30, 329: 30, 330: 30, 331: 30, 332: 30, 333: 30, 334: 30, 335: 30, 336: 30, 337: 30, 338: 30, 339: 30, 340: 30, 341: 30, 342: 30, 343: 30, 344: 30, 345: 30, 346: 30, 347: 30, 348: 30, 349: 30, 350: 30, 351: 30, 352: 30, 353: 30, 354: 30, 355: 30, 356: 30, 357: 30, 358: 30, 359: 30, 360: 30, 361: 30, 362: 30, 363: 30, 364: 30, 365: 30, 366: 30, 367: 30, 368: 30, 369: 30, 370: 30, 371: 30, 372: 30, 373: 30, 374: 30, 375: 30, 376: 30, 377: 30, 378: 30, 379: 30, 380: 30, 381: 30, 382: 30, 383: 30, 384: 30, 385: 30, 386: 30, 387: 30, 388: 30, 389: 30, 390: 30, 391: 30, 392: 30, 393: 30, 394: 30, 395: 30, 396: 30, 397: 30, 398: 30, 399: 30, 400: 30, 401: 30, 402: 30, 403: 30, 404: 30, 405: 30, 406: 30, 407: 30, 408: 30, 409: 30, 410: 30, 411: 30, 412: 30, 413: 30, 414: 30, 415: 1}\n",
            "{0: 30, 1: 30, 2: 30, 3: 30, 4: 30, 5: 30, 6: 30, 7: 30, 8: 30, 9: 30, 10: 30, 11: 30, 12: 30, 13: 30, 14: 30, 15: 30, 16: 30, 17: 30, 18: 30, 19: 30, 20: 30, 21: 30, 22: 30, 23: 30, 24: 30, 25: 30, 26: 30, 27: 30, 28: 30, 29: 30, 30: 30, 31: 30, 32: 30, 33: 30, 34: 30, 35: 30, 36: 30, 37: 30, 38: 30, 39: 30, 40: 30, 41: 30, 42: 30, 43: 30, 44: 30, 45: 30, 46: 30, 47: 30, 48: 30, 49: 30, 50: 30, 51: 30, 52: 30, 53: 30, 54: 30, 55: 30, 56: 30, 57: 30, 58: 30, 59: 30, 60: 30, 61: 30, 62: 30, 63: 30, 64: 30, 65: 30, 66: 30, 67: 30, 68: 30, 69: 30, 70: 30, 71: 30, 72: 30, 73: 30, 74: 30, 75: 30, 76: 30, 77: 30, 78: 30, 79: 30, 80: 30, 81: 30, 82: 30, 83: 30, 84: 30, 85: 30, 86: 30, 87: 30, 88: 30, 89: 30, 90: 30, 91: 30, 92: 30, 93: 30, 94: 30, 95: 30, 96: 30, 97: 30, 98: 30, 99: 30, 100: 30, 101: 30, 102: 30, 103: 30, 104: 30, 105: 30, 106: 30, 107: 30, 108: 30, 109: 30, 110: 30, 111: 30, 112: 30, 113: 30, 114: 30, 115: 30, 116: 30, 117: 30, 118: 30, 119: 30, 120: 30, 121: 30, 122: 30, 123: 30, 124: 30, 125: 30, 126: 30, 127: 30, 128: 30, 129: 30, 130: 30, 131: 30, 132: 30, 133: 30, 134: 30, 135: 30, 136: 30, 137: 30, 138: 30, 139: 30, 140: 30, 141: 30, 142: 30, 143: 30, 144: 30, 145: 30, 146: 30, 147: 30, 148: 30, 149: 30, 150: 30, 151: 30, 152: 30, 153: 30, 154: 30, 155: 30, 156: 30, 157: 30, 158: 30, 159: 30, 160: 30, 161: 30, 162: 30, 163: 30, 164: 30, 165: 30, 166: 30, 167: 30, 168: 30, 169: 30, 170: 30, 171: 30, 172: 30, 173: 30, 174: 30, 175: 30, 176: 30, 177: 30, 178: 30, 179: 30, 180: 30, 181: 30, 182: 30, 183: 30, 184: 30, 185: 30, 186: 30, 187: 30, 188: 30, 189: 30, 190: 30, 191: 30, 192: 30, 193: 30, 194: 30, 195: 30, 196: 30, 197: 30, 198: 30, 199: 30, 200: 30, 201: 30, 202: 30, 203: 30, 204: 30, 205: 30, 206: 30, 207: 30, 208: 30, 209: 30, 210: 30, 211: 30, 212: 30, 213: 30, 214: 30, 215: 30, 216: 30, 217: 30, 218: 30, 219: 30, 220: 30, 221: 30, 222: 30, 223: 30, 224: 30, 225: 30, 226: 30, 227: 30, 228: 30, 229: 30, 230: 30, 231: 30, 232: 30, 233: 30, 234: 30, 235: 30, 236: 30, 237: 30, 238: 30, 239: 30, 240: 30, 241: 30, 242: 30, 243: 30, 244: 30, 245: 30, 246: 30, 247: 30, 248: 30, 249: 30, 250: 30, 251: 30, 252: 30, 253: 30, 254: 30, 255: 30, 256: 30, 257: 30, 258: 30, 259: 30, 260: 30, 261: 30, 262: 30, 263: 30, 264: 30, 265: 30, 266: 30, 267: 30, 268: 30, 269: 30, 270: 30, 271: 30, 272: 30, 273: 30, 274: 30, 275: 30, 276: 30, 277: 30, 278: 30, 279: 30, 280: 30, 281: 30, 282: 30, 283: 30, 284: 30, 285: 30, 286: 30, 287: 30, 288: 30, 289: 30, 290: 30, 291: 30, 292: 30, 293: 30, 294: 30, 295: 30, 296: 30, 297: 30, 298: 30, 299: 30, 300: 30, 301: 30, 302: 30, 303: 30, 304: 30, 305: 30, 306: 30, 307: 30, 308: 30, 309: 30, 310: 30, 311: 30, 312: 30, 313: 30, 314: 30, 315: 30, 316: 30, 317: 30, 318: 30, 319: 30, 320: 30, 321: 30, 322: 30, 323: 30, 324: 30, 325: 30, 326: 30, 327: 30, 328: 30, 329: 30, 330: 30, 331: 30, 332: 30, 333: 30, 334: 30, 335: 30, 336: 30, 337: 30, 338: 30, 339: 30, 340: 30, 341: 30, 342: 30, 343: 30, 344: 30, 345: 30, 346: 30, 347: 30, 348: 30, 349: 30, 350: 30, 351: 30, 352: 30, 353: 30, 354: 30, 355: 30, 356: 30, 357: 30, 358: 30, 359: 30, 360: 30, 361: 30, 362: 30, 363: 30, 364: 30, 365: 30, 366: 30, 367: 30, 368: 30, 369: 30, 370: 30, 371: 30, 372: 30, 373: 30, 374: 30, 375: 30, 376: 30, 377: 30, 378: 30, 379: 30, 380: 30, 381: 30, 382: 30, 383: 30, 384: 30, 385: 30, 386: 30, 387: 30, 388: 30, 389: 30, 390: 30, 391: 30, 392: 30, 393: 30, 394: 30, 395: 30, 396: 30, 397: 30, 398: 30, 399: 30, 400: 30, 401: 30, 402: 30, 403: 30, 404: 30, 405: 30, 406: 30, 407: 30, 408: 30, 409: 30, 410: 30, 411: 30, 412: 30, 413: 30, 414: 30, 415: 30, 416: 30, 417: 30, 418: 30, 419: 30, 420: 30, 421: 30, 422: 30, 423: 30, 424: 30, 425: 30, 426: 30, 427: 30, 428: 30, 429: 30, 430: 30, 431: 30, 432: 30, 433: 30, 434: 30, 435: 30, 436: 30, 437: 30, 438: 30, 439: 30, 440: 30, 441: 30, 442: 30, 443: 30, 444: 30, 445: 30, 446: 30, 447: 30, 448: 30, 449: 30, 450: 30, 451: 30, 452: 30, 453: 30, 454: 30, 455: 30, 456: 30, 457: 30, 458: 30, 459: 30, 460: 30, 461: 30, 462: 30, 463: 30, 464: 30, 465: 30, 466: 30, 467: 30, 468: 30, 469: 30, 470: 30, 471: 30, 472: 30, 473: 30, 474: 30, 475: 30, 476: 30, 477: 30, 478: 30, 479: 30, 480: 30, 481: 30, 482: 30, 483: 30, 484: 30, 485: 30, 486: 30, 487: 30, 488: 30, 489: 30, 490: 30, 491: 30, 492: 30, 493: 30, 494: 30, 495: 30, 496: 30, 497: 30, 498: 30, 499: 30, 500: 30, 501: 30, 502: 30, 503: 30, 504: 30, 505: 30, 506: 30, 507: 30, 508: 30, 509: 30, 510: 30, 511: 30, 512: 30, 513: 30, 514: 30, 515: 30, 516: 30, 517: 30, 518: 30, 519: 30, 520: 30, 521: 30, 522: 30, 523: 30, 524: 30, 525: 30, 526: 30, 527: 30, 528: 30, 529: 30, 530: 30, 531: 30, 532: 30, 533: 30, 534: 30, 535: 30, 536: 30, 537: 30, 538: 30, 539: 30, 540: 30, 541: 30, 542: 30, 543: 30, 544: 30, 545: 30, 546: 30, 547: 30, 548: 30, 549: 30, 550: 30, 551: 30, 552: 30, 553: 30, 554: 30, 555: 30, 556: 30, 557: 30, 558: 30, 559: 30, 560: 30, 561: 30, 562: 30, 563: 30, 564: 30, 565: 30, 566: 30, 567: 30, 568: 30, 569: 30, 570: 30, 571: 30, 572: 30, 573: 30, 574: 30, 575: 30, 576: 30, 577: 30, 578: 30, 579: 30, 580: 30, 581: 30, 582: 30, 583: 30, 584: 30, 585: 30, 586: 30, 587: 30, 588: 30, 589: 30, 590: 30, 591: 30, 592: 30, 593: 30, 594: 30, 595: 30, 596: 30, 597: 30, 598: 30, 599: 30, 600: 30, 601: 30, 602: 30, 603: 30, 604: 30, 605: 30, 606: 30, 607: 30, 608: 30, 609: 30, 610: 30, 611: 30, 612: 30, 613: 30, 614: 30, 615: 30, 616: 30, 617: 30, 618: 30, 619: 30, 620: 30, 621: 30, 622: 30, 623: 30, 624: 30, 625: 30, 626: 30, 627: 30, 628: 30, 629: 30, 630: 30, 631: 30, 632: 30, 633: 30, 634: 30, 635: 30, 636: 30, 637: 30, 638: 30, 639: 30, 640: 30, 641: 30, 642: 30, 643: 30, 644: 30, 645: 30, 646: 30, 647: 30, 648: 30, 649: 30, 650: 30, 651: 30, 652: 30, 653: 30, 654: 30, 655: 30, 656: 30, 657: 30, 658: 30, 659: 30, 660: 30, 661: 30, 662: 30, 663: 30, 664: 30, 665: 30, 666: 30, 667: 30, 668: 30, 669: 30, 670: 30, 671: 30, 672: 30, 673: 30, 674: 30, 675: 30, 676: 30, 677: 30, 678: 30, 679: 30, 680: 30, 681: 30, 682: 30, 683: 30, 684: 30, 685: 30, 686: 30, 687: 30, 688: 30, 689: 30, 690: 30, 691: 30, 692: 30, 693: 30, 694: 30, 695: 30, 696: 30, 697: 30, 698: 30, 699: 30, 700: 30, 701: 30, 702: 30, 703: 30, 704: 30, 705: 30, 706: 30, 707: 30, 708: 30, 709: 30, 710: 30, 711: 30, 712: 30, 713: 30, 714: 30, 715: 30, 716: 30, 717: 30, 718: 30, 719: 30, 720: 30, 721: 30, 722: 30, 723: 30, 724: 30, 725: 30, 726: 30, 727: 30, 728: 30, 729: 30, 730: 30, 731: 30, 732: 30, 733: 30, 734: 30, 735: 30, 736: 30, 737: 30, 738: 30, 739: 30, 740: 30, 741: 30, 742: 30, 743: 30, 744: 30, 745: 30, 746: 30, 747: 30, 748: 30, 749: 30, 750: 30, 751: 30, 752: 30, 753: 30, 754: 30, 755: 30, 756: 30, 757: 30, 758: 30, 759: 30, 760: 30, 761: 30, 762: 30, 763: 30, 764: 30, 765: 30, 766: 30, 767: 30, 768: 30, 769: 30, 770: 30, 771: 30, 772: 30, 773: 30, 774: 30, 775: 30, 776: 30, 777: 30, 778: 30, 779: 30, 780: 30, 781: 30, 782: 30, 783: 30, 784: 30, 785: 30, 786: 30, 787: 30, 788: 30, 789: 30, 790: 30, 791: 30, 792: 30, 793: 30, 794: 30, 795: 30, 796: 30, 797: 30, 798: 30, 799: 30, 800: 30, 801: 30, 802: 30, 803: 30, 804: 30, 805: 30, 806: 30, 807: 30, 808: 30, 809: 30, 810: 30, 811: 30, 812: 30, 813: 30, 814: 30, 815: 30, 816: 30, 817: 30, 818: 30, 819: 30, 820: 30, 821: 30, 822: 30, 823: 30, 824: 30, 825: 30, 826: 30, 827: 30, 828: 30, 829: 30, 830: 30, 831: 30, 832: 30, 833: 30, 834: 30, 835: 30, 836: 30, 837: 30, 838: 30, 839: 30, 840: 30, 841: 30, 842: 30, 843: 30, 844: 30, 845: 30, 846: 30, 847: 30, 848: 30, 849: 30, 850: 30, 851: 30, 852: 30, 853: 30, 854: 30, 855: 30, 856: 30, 857: 30, 858: 30, 859: 30, 860: 30, 861: 30, 862: 30, 863: 30, 864: 30, 865: 30, 866: 30, 867: 30, 868: 30, 869: 30, 870: 30, 871: 30, 872: 30, 873: 30, 874: 30, 875: 30, 876: 30, 877: 30, 878: 30, 879: 30, 880: 30, 881: 30, 882: 30, 883: 30, 884: 30, 885: 30, 886: 30, 887: 30, 888: 30, 889: 30, 890: 30, 891: 30, 892: 30, 893: 30, 894: 30, 895: 30, 896: 30, 897: 30, 898: 30, 899: 30, 900: 30, 901: 30, 902: 30, 903: 30, 904: 30, 905: 30, 906: 30, 907: 30, 908: 30, 909: 30, 910: 30, 911: 30, 912: 30, 913: 30, 914: 30, 915: 30, 916: 30, 917: 30, 918: 30, 919: 30, 920: 30, 921: 30, 922: 30, 923: 30, 924: 30, 925: 30, 926: 30, 927: 30, 928: 30, 929: 30, 930: 30, 931: 30, 932: 30, 933: 30, 934: 30, 935: 30, 936: 30, 937: 30, 938: 30, 939: 30, 940: 30, 941: 30, 942: 30, 943: 30, 944: 30, 945: 30, 946: 30, 947: 30, 948: 30, 949: 30, 950: 30, 951: 30, 952: 30, 953: 30, 954: 30, 955: 30, 956: 30, 957: 1}\n",
            "{0: 28, 1: 30, 2: 30, 3: 30, 4: 30, 5: 30, 6: 30, 7: 30, 8: 30, 9: 30, 10: 30, 11: 30, 12: 30, 13: 30, 14: 30, 15: 30, 16: 30, 17: 30, 18: 30, 19: 30, 20: 30, 21: 30, 22: 30, 23: 30, 24: 30, 25: 30, 26: 30, 27: 30, 28: 30, 29: 30, 30: 30, 31: 30, 32: 30, 33: 30, 34: 30, 35: 30, 36: 30, 37: 30, 38: 30, 39: 30, 40: 30, 41: 30, 42: 30, 43: 30, 44: 30, 45: 30, 46: 30, 47: 30, 48: 30, 49: 30, 50: 30, 51: 30, 52: 30, 53: 30, 54: 30, 55: 30, 56: 30, 57: 30, 58: 30, 59: 30, 60: 30, 61: 30, 62: 30, 63: 30, 64: 30, 65: 30, 66: 30, 67: 30, 68: 30, 69: 30, 70: 30, 71: 30, 72: 30, 73: 30, 74: 30, 75: 30, 76: 30, 77: 30, 78: 30, 79: 30, 80: 30, 81: 30, 82: 30, 83: 30, 84: 30, 85: 30, 86: 30, 87: 30, 88: 30, 89: 30, 90: 30, 91: 30, 92: 30, 93: 30, 94: 30, 95: 30, 96: 30, 97: 30, 98: 30, 99: 30, 100: 30, 101: 30, 102: 30, 103: 30, 104: 30, 105: 30, 106: 30, 107: 30, 108: 30, 109: 30, 110: 30, 111: 30, 112: 30, 113: 30, 114: 30, 115: 30, 116: 30, 117: 30, 118: 30, 119: 30, 120: 30, 121: 30, 122: 30, 123: 30, 124: 30, 125: 30, 126: 30, 127: 30, 128: 30, 129: 30, 130: 30, 131: 30, 132: 30, 133: 30, 134: 30, 135: 30, 136: 30, 137: 30, 138: 30, 139: 30, 140: 30, 141: 30, 142: 30, 143: 30, 144: 30, 145: 30, 146: 30, 147: 30, 148: 30, 149: 30, 150: 30, 151: 30, 152: 30, 153: 30, 154: 30, 155: 30, 156: 30, 157: 30, 158: 30, 159: 30, 160: 30, 161: 30, 162: 30, 163: 30, 164: 30, 165: 30, 166: 30, 167: 30, 168: 30, 169: 30, 170: 30, 171: 30, 172: 30, 173: 30, 174: 30, 175: 30, 176: 30, 177: 30, 178: 30, 179: 30, 180: 30, 181: 30, 182: 30, 183: 30, 184: 30, 185: 30, 186: 30, 187: 30, 188: 30, 189: 30, 190: 30, 191: 30, 192: 30, 193: 30, 194: 30, 195: 30, 196: 30, 197: 30, 198: 30, 199: 30, 200: 30, 201: 30, 202: 30, 203: 30, 204: 30, 205: 30, 206: 30, 207: 30, 208: 30, 209: 30, 210: 30, 211: 30, 212: 30, 213: 30, 214: 30, 215: 30, 216: 30, 217: 30, 218: 30, 219: 30, 220: 30, 221: 30, 222: 30, 223: 30, 224: 30, 225: 30, 226: 30, 227: 30, 228: 30, 229: 30, 230: 30, 231: 30, 232: 30, 233: 30, 234: 30, 235: 30, 236: 30, 237: 30, 238: 30, 239: 30, 240: 30, 241: 30, 242: 30, 243: 30, 244: 30, 245: 30, 246: 30, 247: 30, 248: 30, 249: 30, 250: 30, 251: 30, 252: 30, 253: 30, 254: 30, 255: 30, 256: 30, 257: 30, 258: 30, 259: 30, 260: 30, 261: 30, 262: 30, 263: 30, 264: 30, 265: 30, 266: 30, 267: 30, 268: 30, 269: 30, 270: 30, 271: 30, 272: 30, 273: 30, 274: 30, 275: 30, 276: 30, 277: 30, 278: 30, 279: 30, 280: 30, 281: 30, 282: 30, 283: 30, 284: 30, 285: 30, 286: 30, 287: 30, 288: 30, 289: 30, 290: 30, 291: 30, 292: 30, 293: 30, 294: 30, 295: 30, 296: 30, 297: 30, 298: 30, 299: 30, 300: 30, 301: 30, 302: 30, 303: 30, 304: 30, 305: 30, 306: 30, 307: 30, 308: 30, 309: 30, 310: 30, 311: 30, 312: 30, 313: 30, 314: 30, 315: 30, 316: 30, 317: 30, 318: 30, 319: 30, 320: 30, 321: 30, 322: 30, 323: 30, 324: 30, 325: 30, 326: 30, 327: 30, 328: 30, 329: 30, 330: 30, 331: 30, 332: 30, 333: 30, 334: 30, 335: 30, 336: 30, 337: 30, 338: 30, 339: 30, 340: 30, 341: 30, 342: 30, 343: 30, 344: 30, 345: 30, 346: 30, 347: 30, 348: 30, 349: 30, 350: 30, 351: 30, 352: 30, 353: 30, 354: 30, 355: 30, 356: 30, 357: 30, 358: 30, 359: 30, 360: 30, 361: 30, 362: 30, 363: 30, 364: 30, 365: 30, 366: 30, 367: 30, 368: 30, 369: 30, 370: 30, 371: 30, 372: 30, 373: 30, 374: 30, 375: 30, 376: 30, 377: 30, 378: 30, 379: 30, 380: 30, 381: 30, 382: 30, 383: 30, 384: 30, 385: 30, 386: 30, 387: 30, 388: 30, 389: 30, 390: 30, 391: 30, 392: 30, 393: 30, 394: 30, 395: 30, 396: 30, 397: 30, 398: 30, 399: 30, 400: 30, 401: 30, 402: 30, 403: 30, 404: 30, 405: 30, 406: 30, 407: 30, 408: 30, 409: 30, 410: 30, 411: 30, 412: 30, 413: 30, 414: 30, 415: 30, 416: 30, 417: 30, 418: 30, 419: 30, 420: 30, 421: 30, 422: 30, 423: 30, 424: 30, 425: 30, 426: 30, 427: 30, 428: 30, 429: 30, 430: 30, 431: 30, 432: 30, 433: 30, 434: 30, 435: 30, 436: 30, 437: 30, 438: 30, 439: 30, 440: 30, 441: 30, 442: 30, 443: 30, 444: 30, 445: 30, 446: 30, 447: 30, 448: 30, 449: 30, 450: 30, 451: 30, 452: 30, 453: 30, 454: 30, 455: 30, 456: 30, 457: 30, 458: 30, 459: 30, 460: 30, 461: 30, 462: 30, 463: 30, 464: 30, 465: 30, 466: 30, 467: 30, 468: 30, 469: 30, 470: 30, 471: 30, 472: 30, 473: 30, 474: 30, 475: 30, 476: 30, 477: 30, 478: 30, 479: 30, 480: 30, 481: 30, 482: 30, 483: 30, 484: 30, 485: 30, 486: 30, 487: 30, 488: 30, 489: 30, 490: 30, 491: 30, 492: 30, 493: 30, 494: 30, 495: 30, 496: 30, 497: 30, 498: 2}\n",
            "{0: 30, 1: 30, 2: 30, 3: 30, 4: 30, 5: 30, 6: 30, 7: 30, 8: 30, 9: 30, 10: 30, 11: 30, 12: 30, 13: 30, 14: 30, 15: 30, 16: 30, 17: 30, 18: 30, 19: 30, 20: 30, 21: 30, 22: 30, 23: 30, 24: 30, 25: 30, 26: 30, 27: 30, 28: 30, 29: 30, 30: 30, 31: 30, 32: 30, 33: 30, 34: 30, 35: 30, 36: 30, 37: 30, 38: 30, 39: 30, 40: 30, 41: 30, 42: 30, 43: 30, 44: 30, 45: 30, 46: 30, 47: 30, 48: 30, 49: 30, 50: 30, 51: 30, 52: 30, 53: 30, 54: 30, 55: 30, 56: 30, 57: 30, 58: 30, 59: 30, 60: 30, 61: 30, 62: 30, 63: 30, 64: 30, 65: 30, 66: 30, 67: 30, 68: 30, 69: 30, 70: 30, 71: 30, 72: 30, 73: 30, 74: 30, 75: 30, 76: 30, 77: 30, 78: 30, 79: 30, 80: 30, 81: 30, 82: 30, 83: 30, 84: 30, 85: 30, 86: 30, 87: 30, 88: 30, 89: 30, 90: 30, 91: 30, 92: 30, 93: 30, 94: 30, 95: 30, 96: 30, 97: 30, 98: 30, 99: 30, 100: 30, 101: 30, 102: 30, 103: 30, 104: 30, 105: 30, 106: 30, 107: 30, 108: 30, 109: 30, 110: 30, 111: 30, 112: 30, 113: 30, 114: 30, 115: 30, 116: 30, 117: 30, 118: 30, 119: 30, 120: 30, 121: 30, 122: 30, 123: 30, 124: 30, 125: 30, 126: 30, 127: 30, 128: 30, 129: 30, 130: 30, 131: 30, 132: 30, 133: 30, 134: 30, 135: 30, 136: 30, 137: 30, 138: 30, 139: 30, 140: 30, 141: 30, 142: 30, 143: 30, 144: 30, 145: 30, 146: 30, 147: 30, 148: 30, 149: 30, 150: 30, 151: 30, 152: 30, 153: 30, 154: 30, 155: 30, 156: 30, 157: 30, 158: 30, 159: 30, 160: 30, 161: 30, 162: 30, 163: 30, 164: 30, 165: 30, 166: 30, 167: 30, 168: 30, 169: 30, 170: 30, 171: 30, 172: 30, 173: 30, 174: 30, 175: 30, 176: 30, 177: 30, 178: 30, 179: 30, 180: 30, 181: 30, 182: 30, 183: 30, 184: 30, 185: 30, 186: 30, 187: 30, 188: 30, 189: 30, 190: 30, 191: 30, 192: 30, 193: 30, 194: 30, 195: 30, 196: 30, 197: 30, 198: 30, 199: 30, 200: 30, 201: 30, 202: 30, 203: 30, 204: 30, 205: 30, 206: 30, 207: 30, 208: 30, 209: 30, 210: 30, 211: 30, 212: 30, 213: 30, 214: 30, 215: 30, 216: 30, 217: 30, 218: 30, 219: 30, 220: 30, 221: 30, 222: 30, 223: 30, 224: 30, 225: 30, 226: 30, 227: 30, 228: 30, 229: 30, 230: 30, 231: 30, 232: 30, 233: 30, 234: 30, 235: 30, 236: 30, 237: 30, 238: 30, 239: 30, 240: 30, 241: 30, 242: 30, 243: 30, 244: 30, 245: 30, 246: 30, 247: 30, 248: 30, 249: 30, 250: 30, 251: 30, 252: 30, 253: 30, 254: 30, 255: 30, 256: 30, 257: 30, 258: 30, 259: 30, 260: 30, 261: 30, 262: 30, 263: 30, 264: 30, 265: 30, 266: 30, 267: 30, 268: 30, 269: 30, 270: 30, 271: 30, 272: 30, 273: 30, 274: 30, 275: 30, 276: 30, 277: 30, 278: 30, 279: 30, 280: 30, 281: 30, 282: 30, 283: 30, 284: 30, 285: 30, 286: 30, 287: 30, 288: 30, 289: 30, 290: 30, 291: 30, 292: 30, 293: 30, 294: 30, 295: 30, 296: 30, 297: 30, 298: 30, 299: 30, 300: 30, 301: 30, 302: 30, 303: 30, 304: 30, 305: 30, 306: 30, 307: 30, 308: 30, 309: 30, 310: 30, 311: 30, 312: 30, 313: 30, 314: 30, 315: 30, 316: 30, 317: 30, 318: 30, 319: 30, 320: 30, 321: 30, 322: 30, 323: 30, 324: 30, 325: 30, 326: 30, 327: 30, 328: 30, 329: 30, 330: 30, 331: 30, 332: 30, 333: 30, 334: 30, 335: 30, 336: 30, 337: 30, 338: 30, 339: 30, 340: 30, 341: 30, 342: 30, 343: 30, 344: 30, 345: 30, 346: 30, 347: 30, 348: 30, 349: 30, 350: 30, 351: 30, 352: 30, 353: 30, 354: 30, 355: 30, 356: 30, 357: 30, 358: 30, 359: 30, 360: 30, 361: 30, 362: 30, 363: 30, 364: 30, 365: 30, 366: 30, 367: 30, 368: 30, 369: 30, 370: 30, 371: 30, 372: 30, 373: 30, 374: 30, 375: 30, 376: 30, 377: 30, 378: 30, 379: 30, 380: 30, 381: 30, 382: 30, 383: 30, 384: 30, 385: 30, 386: 30, 387: 30, 388: 30, 389: 30, 390: 30, 391: 30, 392: 30, 393: 30, 394: 30, 395: 30, 396: 30, 397: 30, 398: 30, 399: 30, 400: 30, 401: 30, 402: 30, 403: 30, 404: 30, 405: 30, 406: 30, 407: 30, 408: 30, 409: 30, 410: 30, 411: 30, 412: 30, 413: 30, 414: 30, 415: 30, 416: 30, 417: 30, 418: 30, 419: 30, 420: 30, 421: 30, 422: 30, 423: 30, 424: 30, 425: 30, 426: 30, 427: 30, 428: 30, 429: 30, 430: 30, 431: 30, 432: 30, 433: 30, 434: 30, 435: 30, 436: 30, 437: 30, 438: 30, 439: 30, 440: 30, 441: 30, 442: 30, 443: 30, 444: 30, 445: 30, 446: 30, 447: 30, 448: 30, 449: 30, 450: 30, 451: 30, 452: 30, 453: 30, 454: 30, 455: 30, 456: 30, 457: 30, 458: 30, 459: 30, 460: 30, 461: 30, 462: 30, 463: 30, 464: 30, 465: 30, 466: 30, 467: 30, 468: 30, 469: 30, 470: 30, 471: 30, 472: 30, 473: 30, 474: 30, 475: 30, 476: 30, 477: 30, 478: 30, 479: 30, 480: 30, 481: 30, 482: 30, 483: 30, 484: 30, 485: 30, 486: 30, 487: 30, 488: 30, 489: 30, 490: 30, 491: 30, 492: 30, 493: 30, 494: 30, 495: 30, 496: 30, 497: 30, 498: 30, 499: 30, 500: 30, 501: 30, 502: 30, 503: 30, 504: 30, 505: 30, 506: 30, 507: 30, 508: 30, 509: 30, 510: 30, 511: 30, 512: 30, 513: 30, 514: 30, 515: 30, 516: 30, 517: 30, 518: 30, 519: 30, 520: 30, 521: 30, 522: 30, 523: 30, 524: 30, 525: 30, 526: 30, 527: 30, 528: 30, 529: 30, 530: 30, 531: 30, 532: 30, 533: 30, 534: 30, 535: 30, 536: 30, 537: 30, 538: 30, 539: 30, 540: 30, 541: 30, 542: 30, 543: 30, 544: 30, 545: 30, 546: 30, 547: 30, 548: 30, 549: 30, 550: 30, 551: 30, 552: 30, 553: 30, 554: 30, 555: 30, 556: 30, 557: 30, 558: 30, 559: 30, 560: 30, 561: 30, 562: 30, 563: 30, 564: 30, 565: 30, 566: 30, 567: 30, 568: 30, 569: 30, 570: 30, 571: 30, 572: 30, 573: 30, 574: 30, 575: 30, 576: 30, 577: 30, 578: 30, 579: 30, 580: 30, 581: 30, 582: 30, 583: 30, 584: 30, 585: 30, 586: 30, 587: 30, 588: 30, 589: 30, 590: 30, 591: 30, 592: 30, 593: 30, 594: 30, 595: 30, 596: 30, 597: 30, 598: 30, 599: 30, 600: 30, 601: 30, 602: 30, 603: 30, 604: 30, 605: 30, 606: 30, 607: 30, 608: 30, 609: 30, 610: 30, 611: 30, 612: 30, 613: 30, 614: 30, 615: 30, 616: 30, 617: 30, 618: 30, 619: 30, 620: 30, 621: 30, 622: 30, 623: 30, 624: 30, 625: 30, 626: 30, 627: 30, 628: 30, 629: 30, 630: 30, 631: 30, 632: 30, 633: 30, 634: 30, 635: 30, 636: 30, 637: 30, 638: 30, 639: 30, 640: 30, 641: 30, 642: 30, 643: 30, 644: 30, 645: 30, 646: 30, 647: 30, 648: 30, 649: 30, 650: 30, 651: 30, 652: 30, 653: 30, 654: 30, 655: 30, 656: 30, 657: 30, 658: 30, 659: 30, 660: 30, 661: 30, 662: 30, 663: 30, 664: 30, 665: 30, 666: 30, 667: 30, 668: 30, 669: 30, 670: 30, 671: 30, 672: 30, 673: 30, 674: 30, 675: 30, 676: 30, 677: 30, 678: 30, 679: 30, 680: 30, 681: 30, 682: 30, 683: 30, 684: 30, 685: 30, 686: 30, 687: 30, 688: 30, 689: 30, 690: 30, 691: 30, 692: 30, 693: 30, 694: 30, 695: 30, 696: 30, 697: 30, 698: 30, 699: 30, 700: 30, 701: 30, 702: 30, 703: 30, 704: 30, 705: 30, 706: 30, 707: 30, 708: 30, 709: 30, 710: 30, 711: 30, 712: 30, 713: 30, 714: 30, 715: 30, 716: 30, 717: 30, 718: 30, 719: 30, 720: 30, 721: 30, 722: 30, 723: 30, 724: 30, 725: 30, 726: 30, 727: 30, 728: 30, 729: 30, 730: 30, 731: 30, 732: 30, 733: 30, 734: 30, 735: 30, 736: 30, 737: 30, 738: 30, 739: 30, 740: 30, 741: 30, 742: 30, 743: 30, 744: 30, 745: 30, 746: 30, 747: 30, 748: 30, 749: 30, 750: 30, 751: 30, 752: 30, 753: 30, 754: 30, 755: 30, 756: 30, 757: 30, 758: 30, 759: 30, 760: 30, 761: 30, 762: 30, 763: 30, 764: 30, 765: 30, 766: 30, 767: 30, 768: 30, 769: 30, 770: 30, 771: 30, 772: 30, 773: 30, 774: 30, 775: 30, 776: 30, 777: 30, 778: 30, 779: 30, 780: 30, 781: 30, 782: 30, 783: 30, 784: 30, 785: 30, 786: 30, 787: 30, 788: 30, 789: 30, 790: 30, 791: 30, 792: 30, 793: 30, 794: 30, 795: 30, 796: 30, 797: 30, 798: 30, 799: 30, 800: 30, 801: 30, 802: 30, 803: 30, 804: 30, 805: 30, 806: 30, 807: 30, 808: 30, 809: 30, 810: 30, 811: 30, 812: 30, 813: 30, 814: 30, 815: 30, 816: 30, 817: 30, 818: 30, 819: 30, 820: 30, 821: 30, 822: 30, 823: 30, 824: 30, 825: 30, 826: 30, 827: 30, 828: 30, 829: 30, 830: 30, 831: 30, 832: 30, 833: 30, 834: 30, 835: 30, 836: 30, 837: 30, 838: 30, 839: 30, 840: 30, 841: 30, 842: 30, 843: 30, 844: 30, 845: 30, 846: 30, 847: 30, 848: 30, 849: 30, 850: 30, 851: 30, 852: 30, 853: 30, 854: 30, 855: 30, 856: 30, 857: 30, 858: 30, 859: 30, 860: 30, 861: 30, 862: 30, 863: 30, 864: 30, 865: 30, 866: 30, 867: 30, 868: 30, 869: 30, 870: 30, 871: 30, 872: 30, 873: 30, 874: 30, 875: 30, 876: 30, 877: 30, 878: 30, 879: 30, 880: 30, 881: 30, 882: 30, 883: 30, 884: 30, 885: 30, 886: 30, 887: 30, 888: 30, 889: 30, 890: 30, 891: 30, 892: 30, 893: 30, 894: 30, 895: 30, 896: 30, 897: 30, 898: 30, 899: 30, 900: 30, 901: 30, 902: 30, 903: 30, 904: 30, 905: 30, 906: 30, 907: 30, 908: 30, 909: 30, 910: 30, 911: 30, 912: 30, 913: 30, 914: 30, 915: 30, 916: 30, 917: 30, 918: 30, 919: 30, 920: 30, 921: 30, 922: 30, 923: 30, 924: 30, 925: 30, 926: 30, 927: 30, 928: 30, 929: 30, 930: 30, 931: 30, 932: 30, 933: 30, 934: 30, 935: 30, 936: 30, 937: 30, 938: 30, 939: 30, 940: 30, 941: 30, 942: 30, 943: 30, 944: 30, 945: 30, 946: 30, 947: 30, 948: 30, 949: 30, 950: 30, 951: 30, 952: 30, 953: 30, 954: 30, 955: 30, 956: 30, 957: 30, 958: 30, 959: 30, 960: 1}\n",
            "{0: 26, 1: 30, 2: 30, 3: 30, 4: 30, 5: 30, 6: 30, 7: 30, 8: 30, 9: 30, 10: 30, 11: 30, 12: 30, 13: 30, 14: 30, 15: 30, 16: 30, 17: 30, 18: 30, 19: 30, 20: 30, 21: 30, 22: 30, 23: 30, 24: 30, 25: 30, 26: 30, 27: 30, 28: 30, 29: 30, 30: 30, 31: 30, 32: 30, 33: 30, 34: 30, 35: 30, 36: 30, 37: 30, 38: 30, 39: 30, 40: 30, 41: 30, 42: 30, 43: 30, 44: 30, 45: 30, 46: 30, 47: 30, 48: 30, 49: 30, 50: 30, 51: 30, 52: 30, 53: 30, 54: 30, 55: 30, 56: 30, 57: 30, 58: 30, 59: 30, 60: 30, 61: 30, 62: 30, 63: 30, 64: 30, 65: 30, 66: 30, 67: 30, 68: 30, 69: 30, 70: 30, 71: 30, 72: 30, 73: 30, 74: 30, 75: 30, 76: 30, 77: 30, 78: 30, 79: 30, 80: 30, 81: 30, 82: 30, 83: 30, 84: 30, 85: 30, 86: 30, 87: 30, 88: 30, 89: 30, 90: 30, 91: 30, 92: 30, 93: 30, 94: 30, 95: 30, 96: 30, 97: 30, 98: 30, 99: 30, 100: 30, 101: 30, 102: 30, 103: 30, 104: 30, 105: 30, 106: 30, 107: 30, 108: 30, 109: 30, 110: 30, 111: 30, 112: 30, 113: 30, 114: 30, 115: 30, 116: 30, 117: 30, 118: 30, 119: 30, 120: 30, 121: 30, 122: 30, 123: 30, 124: 30, 125: 30, 126: 30, 127: 30, 128: 30, 129: 30, 130: 30, 131: 30, 132: 30, 133: 30, 134: 30, 135: 30, 136: 30, 137: 30, 138: 30, 139: 30, 140: 30, 141: 30, 142: 30, 143: 30, 144: 30, 145: 30, 146: 30, 147: 30, 148: 30, 149: 30, 150: 30, 151: 30, 152: 30, 153: 30, 154: 30, 155: 30, 156: 30, 157: 30, 158: 30, 159: 30, 160: 30, 161: 30, 162: 30, 163: 30, 164: 30, 165: 30, 166: 30, 167: 30, 168: 30, 169: 30, 170: 30, 171: 30, 172: 30, 173: 30, 174: 30, 175: 30, 176: 30, 177: 30, 178: 30, 179: 30, 180: 30, 181: 30, 182: 30, 183: 30, 184: 30, 185: 30, 186: 30, 187: 30, 188: 30, 189: 30, 190: 30, 191: 30, 192: 30, 193: 30, 194: 30, 195: 30, 196: 30, 197: 30, 198: 30, 199: 30, 200: 30, 201: 30, 202: 30, 203: 30, 204: 30, 205: 30, 206: 30, 207: 30, 208: 30, 209: 30, 210: 30, 211: 30, 212: 30, 213: 30, 214: 30, 215: 30, 216: 30, 217: 30, 218: 30, 219: 30, 220: 30, 221: 30, 222: 30, 223: 30, 224: 30, 225: 30, 226: 30, 227: 30, 228: 30, 229: 30, 230: 30, 231: 30, 232: 30, 233: 30, 234: 30, 235: 30, 236: 30, 237: 30, 238: 30, 239: 30, 240: 30, 241: 30, 242: 30, 243: 30, 244: 30, 245: 30, 246: 30, 247: 30, 248: 30, 249: 30, 250: 30, 251: 30, 252: 30, 253: 30, 254: 30, 255: 30, 256: 30, 257: 30, 258: 30, 259: 30, 260: 30, 261: 30, 262: 30, 263: 30, 264: 30, 265: 30, 266: 30, 267: 30, 268: 30, 269: 30, 270: 30, 271: 30, 272: 30, 273: 30, 274: 30, 275: 30, 276: 30, 277: 30, 278: 30, 279: 30, 280: 30, 281: 30, 282: 30, 283: 30, 284: 30, 285: 30, 286: 30, 287: 30, 288: 30, 289: 30, 290: 30, 291: 30, 292: 30, 293: 30, 294: 30, 295: 30, 296: 30, 297: 30, 298: 30, 299: 30, 300: 30, 301: 30, 302: 30, 303: 30, 304: 30, 305: 30, 306: 30, 307: 30, 308: 30, 309: 30, 310: 30, 311: 30, 312: 30, 313: 30, 314: 30, 315: 30, 316: 30, 317: 30, 318: 30, 319: 30, 320: 30, 321: 30, 322: 30, 323: 30, 324: 30, 325: 30, 326: 30, 327: 30, 328: 30, 329: 30, 330: 30, 331: 30, 332: 30, 333: 30, 334: 30, 335: 30, 336: 30, 337: 30, 338: 30, 339: 30, 340: 30, 341: 30, 342: 30, 343: 30, 344: 30, 345: 30, 346: 30, 347: 30, 348: 30, 349: 30, 350: 30, 351: 30, 352: 30, 353: 30, 354: 30, 355: 30, 356: 30, 357: 30, 358: 30, 359: 30, 360: 30, 361: 30, 362: 30, 363: 30, 364: 30, 365: 30, 366: 30, 367: 30, 368: 30, 369: 30, 370: 30, 371: 30, 372: 30, 373: 30, 374: 30, 375: 30, 376: 30, 377: 30, 378: 30, 379: 30, 380: 30, 381: 30, 382: 30, 383: 30, 384: 30, 385: 30, 386: 30, 387: 30, 388: 30, 389: 30, 390: 30, 391: 30, 392: 30, 393: 30, 394: 30, 395: 30, 396: 30, 397: 30, 398: 30, 399: 30, 400: 30, 401: 30, 402: 30, 403: 30, 404: 30, 405: 30, 406: 30, 407: 30, 408: 30, 409: 30, 410: 30, 411: 30, 412: 30, 413: 30, 414: 30, 415: 30, 416: 30, 417: 30, 418: 30, 419: 30, 420: 30, 421: 30, 422: 30, 423: 30, 424: 30, 425: 30, 426: 30, 427: 30, 428: 30, 429: 30, 430: 30, 431: 30, 432: 30, 433: 30, 434: 30, 435: 30, 436: 30, 437: 30, 438: 30, 439: 30, 440: 30, 441: 30, 442: 30, 443: 30, 444: 30, 445: 30, 446: 30, 447: 30, 448: 30, 449: 30, 450: 30, 451: 30, 452: 30, 453: 30, 454: 30, 455: 30, 456: 30, 457: 30, 458: 30, 459: 30, 460: 30, 461: 30, 462: 30, 463: 30, 464: 30, 465: 30, 466: 30, 467: 30, 468: 30, 469: 30, 470: 30, 471: 30, 472: 30, 473: 30, 474: 30, 475: 30, 476: 30, 477: 30, 478: 30, 479: 30, 480: 30, 481: 30, 482: 30, 483: 30, 484: 30, 485: 30, 486: 30, 487: 30, 488: 30, 489: 30, 490: 30, 491: 30, 492: 30, 493: 30, 494: 30, 495: 30, 496: 30, 497: 30, 498: 30, 499: 30, 500: 30, 501: 30, 502: 30, 503: 30, 504: 30, 505: 30, 506: 30, 507: 30, 508: 30, 509: 30, 510: 30, 511: 30, 512: 30, 513: 30, 514: 30, 515: 30, 516: 30, 517: 30, 518: 30, 519: 30, 520: 30, 521: 30, 522: 30, 523: 30, 524: 30, 525: 30, 526: 30, 527: 30, 528: 30, 529: 30, 530: 30, 531: 30, 532: 30, 533: 30, 534: 30, 535: 30, 536: 30, 537: 30, 538: 30, 539: 30, 540: 30, 541: 30, 542: 30, 543: 30, 544: 30, 545: 30, 546: 30, 547: 30, 548: 30, 549: 30, 550: 30, 551: 30, 552: 30, 553: 30, 554: 30, 555: 30, 556: 30, 557: 30, 558: 30, 559: 30, 560: 30, 561: 30, 562: 30, 563: 30, 564: 30, 565: 30, 566: 30, 567: 30, 568: 30, 569: 30, 570: 30, 571: 30, 572: 30, 573: 30, 574: 30, 575: 30, 576: 30, 577: 30, 578: 30, 579: 30, 580: 30, 581: 30, 582: 30, 583: 30, 584: 30, 585: 30, 586: 30, 587: 30, 588: 30, 589: 30, 590: 30, 591: 30, 592: 30, 593: 30, 594: 30, 595: 30, 596: 30, 597: 30, 598: 30, 599: 30, 600: 30, 601: 30, 602: 30, 603: 30, 604: 30, 605: 30, 606: 30, 607: 30, 608: 30, 609: 30, 610: 30, 611: 30, 612: 30, 613: 30, 614: 30, 615: 30, 616: 30, 617: 30, 618: 30, 619: 30, 620: 30, 621: 30, 622: 30, 623: 30, 624: 30, 625: 30, 626: 30, 627: 30, 628: 30, 629: 30, 630: 30, 631: 30, 632: 30, 633: 30, 634: 30, 635: 30, 636: 30, 637: 30, 638: 30, 639: 30, 640: 30, 641: 30, 642: 30, 643: 30, 644: 30, 645: 30, 646: 30, 647: 30, 648: 30, 649: 30, 650: 30, 651: 30, 652: 30, 653: 30, 654: 30, 655: 30, 656: 30, 657: 30, 658: 30, 659: 30, 660: 30, 661: 30, 662: 30, 663: 30, 664: 30, 665: 30, 666: 30, 667: 30, 668: 30, 669: 30, 670: 30, 671: 30, 672: 30, 673: 30, 674: 30, 675: 30, 676: 30, 677: 30, 678: 30, 679: 30, 680: 30, 681: 30, 682: 30, 683: 30, 684: 30, 685: 30, 686: 30, 687: 30, 688: 30, 689: 30, 690: 30, 691: 30, 692: 30, 693: 30, 694: 30, 695: 30, 696: 30, 697: 30, 698: 30, 699: 30, 700: 30, 701: 30, 702: 30, 703: 30, 704: 30, 705: 30, 706: 30, 707: 30, 708: 30, 709: 30, 710: 30, 711: 30, 712: 30, 713: 30, 714: 30, 715: 30, 716: 30, 717: 30, 718: 30, 719: 30, 720: 30, 721: 30, 722: 30, 723: 30, 724: 30, 725: 30, 726: 30, 727: 30, 728: 30, 729: 30, 730: 30, 731: 30, 732: 30, 733: 30, 734: 30, 735: 30, 736: 30, 737: 30, 738: 30, 739: 30, 740: 30, 741: 30, 742: 30, 743: 30, 744: 30, 745: 30, 746: 30, 747: 30, 748: 30, 749: 30, 750: 30, 751: 30, 752: 30, 753: 30, 754: 30, 755: 30, 756: 30, 757: 30, 758: 30, 759: 30, 760: 30, 761: 30, 762: 30, 763: 30, 764: 30, 765: 30, 766: 30, 767: 30, 768: 30, 769: 30, 770: 30, 771: 30, 772: 30, 773: 30, 774: 30, 775: 30, 776: 30, 777: 30, 778: 30, 779: 30, 780: 30, 781: 30, 782: 30, 783: 30, 784: 30, 785: 30, 786: 30, 787: 30, 788: 30, 789: 30, 790: 30, 791: 30, 792: 30, 793: 30, 794: 30, 795: 30, 796: 30, 797: 30, 798: 30, 799: 30, 800: 30, 801: 30, 802: 30, 803: 30, 804: 30, 805: 30, 806: 30, 807: 30, 808: 30, 809: 30, 810: 30, 811: 30, 812: 30, 813: 30, 814: 30, 815: 30, 816: 30, 817: 30, 818: 30, 819: 30, 820: 30, 821: 30, 822: 30, 823: 30, 824: 30, 825: 30, 826: 30, 827: 30, 828: 30, 829: 30, 830: 30, 831: 30, 832: 30, 833: 30, 834: 30, 835: 30, 836: 30, 837: 30, 838: 30, 839: 30, 840: 30, 841: 30, 842: 30, 843: 30, 844: 30, 845: 30, 846: 30, 847: 30, 848: 30, 849: 30, 850: 30, 851: 30, 852: 30, 853: 30, 854: 30, 855: 30, 856: 30, 857: 30, 858: 30, 859: 30, 860: 30, 861: 30, 862: 30, 863: 30, 864: 30, 865: 30, 866: 30, 867: 30, 868: 30, 869: 30, 870: 30, 871: 30, 872: 30, 873: 30, 874: 30, 875: 30, 876: 30, 877: 30, 878: 30, 879: 30, 880: 30, 881: 30, 882: 30, 883: 30, 884: 30, 885: 30, 886: 30, 887: 30, 888: 30, 889: 30, 890: 30, 891: 30, 892: 30, 893: 30, 894: 30, 895: 30, 896: 30, 897: 30, 898: 30, 899: 30, 900: 30, 901: 30, 902: 30, 903: 30, 904: 30, 905: 30, 906: 30, 907: 30, 908: 30, 909: 30, 910: 30, 911: 30, 912: 30, 913: 30, 914: 30, 915: 30, 916: 30, 917: 30, 918: 30, 919: 30, 920: 30, 921: 30, 922: 30, 923: 30, 924: 30, 925: 30, 926: 30, 927: 30, 928: 30, 929: 30, 930: 30, 931: 30, 932: 30, 933: 30, 934: 30, 935: 30, 936: 30, 937: 30, 938: 30, 939: 30, 940: 30, 941: 30, 942: 30, 943: 30, 944: 30, 945: 30, 946: 30, 947: 30, 948: 30, 949: 30, 950: 30, 951: 30, 952: 30, 953: 30, 954: 30, 955: 30, 956: 30, 957: 30, 958: 30, 959: 30, 960: 30, 961: 30, 962: 30, 963: 30, 964: 30, 965: 30, 966: 30, 967: 30, 968: 30, 969: 30, 970: 30, 971: 30, 972: 30, 973: 30, 974: 30, 975: 30, 976: 30, 977: 30, 978: 1}\n",
            "{0: 23, 1: 30, 2: 30, 3: 30, 4: 30, 5: 30, 6: 30, 7: 30, 8: 30, 9: 30, 10: 30, 11: 30, 12: 30, 13: 30, 14: 30, 15: 30, 16: 30, 17: 30, 18: 30, 19: 30, 20: 30, 21: 30, 22: 30, 23: 30, 24: 30, 25: 30, 26: 30, 27: 30, 28: 30, 29: 30, 30: 30, 31: 30, 32: 30, 33: 30, 34: 30, 35: 30, 36: 30, 37: 30, 38: 30, 39: 30, 40: 30, 41: 30, 42: 30, 43: 30, 44: 30, 45: 30, 46: 30, 47: 30, 48: 30, 49: 30, 50: 30, 51: 30, 52: 30, 53: 30, 54: 30, 55: 30, 56: 30, 57: 30, 58: 30, 59: 30, 60: 30, 61: 30, 62: 30, 63: 30, 64: 30, 65: 30, 66: 30, 67: 30, 68: 30, 69: 30, 70: 30, 71: 30, 72: 30, 73: 30, 74: 30, 75: 30, 76: 30, 77: 30, 78: 30, 79: 30, 80: 30, 81: 30, 82: 30, 83: 30, 84: 30, 85: 30, 86: 30, 87: 30, 88: 30, 89: 30, 90: 30, 91: 30, 92: 30, 93: 30, 94: 30, 95: 30, 96: 30, 97: 30, 98: 30, 99: 30, 100: 30, 101: 30, 102: 30, 103: 30, 104: 30, 105: 30, 106: 30, 107: 30, 108: 30, 109: 30, 110: 30, 111: 30, 112: 30, 113: 30, 114: 30, 115: 30, 116: 30, 117: 30, 118: 30, 119: 30, 120: 30, 121: 30, 122: 30, 123: 30, 124: 30, 125: 30, 126: 30, 127: 30, 128: 30, 129: 30, 130: 30, 131: 30, 132: 30, 133: 30, 134: 30, 135: 30, 136: 30, 137: 30, 138: 30, 139: 30, 140: 30, 141: 30, 142: 30, 143: 30, 144: 30, 145: 30, 146: 30, 147: 30, 148: 30, 149: 30, 150: 30, 151: 30, 152: 30, 153: 30, 154: 30, 155: 30, 156: 30, 157: 30, 158: 30, 159: 30, 160: 30, 161: 30, 162: 30, 163: 30, 164: 30, 165: 30, 166: 30, 167: 30, 168: 30, 169: 30, 170: 30, 171: 30, 172: 30, 173: 30, 174: 30, 175: 30, 176: 30, 177: 30, 178: 30, 179: 30, 180: 30, 181: 30, 182: 30, 183: 30, 184: 30, 185: 30, 186: 30, 187: 30, 188: 30, 189: 30, 190: 30, 191: 30, 192: 30, 193: 30, 194: 30, 195: 30, 196: 30, 197: 30, 198: 30, 199: 30, 200: 30, 201: 30, 202: 30, 203: 30, 204: 30, 205: 30, 206: 30, 207: 30, 208: 30, 209: 30, 210: 30, 211: 30, 212: 30, 213: 30, 214: 30, 215: 30, 216: 30, 217: 30, 218: 30, 219: 30, 220: 30, 221: 30, 222: 30, 223: 30, 224: 30, 225: 30, 226: 30, 227: 30, 228: 30, 229: 30, 230: 30, 231: 30, 232: 30, 233: 30, 234: 30, 235: 30, 236: 30, 237: 30, 238: 30, 239: 30, 240: 30, 241: 30, 242: 30, 243: 30, 244: 30, 245: 30, 246: 30, 247: 30, 248: 30, 249: 30, 250: 30, 251: 30, 252: 30, 253: 30, 254: 30, 255: 30, 256: 30, 257: 30, 258: 30, 259: 30, 260: 30, 261: 30, 262: 30, 263: 30, 264: 30, 265: 30, 266: 30, 267: 30, 268: 30, 269: 30, 270: 30, 271: 30, 272: 30, 273: 30, 274: 30, 275: 30, 276: 30, 277: 30, 278: 30, 279: 30, 280: 30, 281: 30, 282: 30, 283: 30, 284: 30, 285: 30, 286: 30, 287: 30, 288: 30, 289: 30, 290: 30, 291: 30, 292: 30, 293: 30, 294: 30, 295: 30, 296: 30, 297: 30, 298: 30, 299: 30, 300: 30, 301: 30, 302: 30, 303: 30, 304: 30, 305: 30, 306: 30, 307: 30, 308: 30, 309: 30, 310: 30, 311: 30, 312: 30, 313: 30, 314: 30, 315: 30, 316: 30, 317: 30, 318: 30, 319: 30, 320: 30, 321: 30, 322: 30, 323: 30, 324: 30, 325: 30, 326: 30, 327: 30, 328: 30, 329: 30, 330: 30, 331: 30, 332: 30, 333: 30, 334: 30, 335: 30, 336: 30, 337: 30, 338: 30, 339: 30, 340: 30, 341: 30, 342: 30, 343: 30, 344: 30, 345: 30, 346: 30, 347: 30, 348: 30, 349: 30, 350: 30, 351: 30, 352: 30, 353: 30, 354: 30, 355: 30, 356: 30, 357: 30, 358: 30, 359: 30, 360: 30, 361: 30, 362: 30, 363: 30, 364: 30, 365: 30, 366: 30, 367: 30, 368: 30, 369: 30, 370: 30, 371: 30, 372: 30, 373: 30, 374: 30, 375: 30, 376: 30, 377: 30, 378: 30, 379: 30, 380: 30, 381: 30, 382: 30, 383: 30, 384: 30, 385: 30, 386: 30, 387: 30, 388: 30, 389: 30, 390: 30, 391: 30, 392: 30, 393: 30, 394: 30, 395: 30, 396: 30, 397: 30, 398: 30, 399: 30, 400: 30, 401: 30, 402: 30, 403: 30, 404: 30, 405: 30, 406: 30, 407: 30, 408: 30, 409: 30, 410: 30, 411: 30, 412: 30, 413: 30, 414: 30, 415: 30, 416: 30, 417: 30, 418: 30, 419: 30, 420: 30, 421: 30, 422: 30, 423: 30, 424: 30, 425: 30, 426: 30, 427: 30, 428: 30, 429: 30, 430: 30, 431: 30, 432: 30, 433: 30, 434: 30, 435: 30, 436: 30, 437: 30, 438: 30, 439: 30, 440: 30, 441: 30, 442: 30, 443: 30, 444: 30, 445: 30, 446: 30, 447: 30, 448: 30, 449: 30, 450: 30, 451: 30, 452: 30, 453: 30, 454: 30, 455: 30, 456: 30, 457: 30, 458: 30, 459: 30, 460: 30, 461: 30, 462: 30, 463: 1}\n",
            "{0: 28, 1: 30, 2: 30, 3: 30, 4: 30, 5: 30, 6: 30, 7: 30, 8: 30, 9: 30, 10: 30, 11: 30, 12: 30, 13: 30, 14: 30, 15: 30, 16: 30, 17: 30, 18: 30, 19: 30, 20: 30, 21: 30, 22: 30, 23: 30, 24: 30, 25: 30, 26: 30, 27: 30, 28: 30, 29: 30, 30: 30, 31: 30, 32: 30, 33: 30, 34: 30, 35: 30, 36: 30, 37: 30, 38: 30, 39: 30, 40: 30, 41: 30, 42: 30, 43: 30, 44: 30, 45: 30, 46: 30, 47: 30, 48: 30, 49: 30, 50: 30, 51: 30, 52: 30, 53: 30, 54: 30, 55: 30, 56: 30, 57: 30, 58: 30, 59: 30, 60: 30, 61: 30, 62: 30, 63: 30, 64: 30, 65: 30, 66: 30, 67: 30, 68: 30, 69: 30, 70: 30, 71: 30, 72: 30, 73: 30, 74: 30, 75: 30, 76: 30, 77: 30, 78: 30, 79: 30, 80: 30, 81: 30, 82: 30, 83: 30, 84: 30, 85: 30, 86: 30, 87: 30, 88: 30, 89: 30, 90: 30, 91: 30, 92: 30, 93: 30, 94: 30, 95: 30, 96: 30, 97: 30, 98: 30, 99: 30, 100: 30, 101: 30, 102: 30, 103: 30, 104: 30, 105: 30, 106: 30, 107: 30, 108: 30, 109: 30, 110: 30, 111: 30, 112: 30, 113: 30, 114: 30, 115: 30, 116: 30, 117: 30, 118: 30, 119: 30, 120: 30, 121: 30, 122: 30, 123: 30, 124: 30, 125: 30, 126: 30, 127: 30, 128: 30, 129: 30, 130: 30, 131: 30, 132: 30, 133: 30, 134: 30, 135: 30, 136: 30, 137: 30, 138: 30, 139: 30, 140: 30, 141: 30, 142: 30, 143: 30, 144: 30, 145: 30, 146: 30, 147: 30, 148: 30, 149: 30, 150: 30, 151: 30, 152: 30, 153: 30, 154: 30, 155: 30, 156: 30, 157: 30, 158: 30, 159: 30, 160: 30, 161: 30, 162: 30, 163: 30, 164: 30, 165: 30, 166: 30, 167: 30, 168: 30, 169: 30, 170: 30, 171: 30, 172: 30, 173: 30, 174: 30, 175: 30, 176: 30, 177: 30, 178: 30, 179: 30, 180: 30, 181: 30, 182: 30, 183: 30, 184: 30, 185: 30, 186: 30, 187: 30, 188: 30, 189: 30, 190: 30, 191: 30, 192: 30, 193: 30, 194: 30, 195: 30, 196: 30, 197: 30, 198: 30, 199: 30, 200: 30, 201: 30, 202: 30, 203: 30, 204: 30, 205: 30, 206: 30, 207: 30, 208: 30, 209: 30, 210: 30, 211: 30, 212: 30, 213: 30, 214: 30, 215: 30, 216: 30, 217: 30, 218: 30, 219: 30, 220: 30, 221: 30, 222: 30, 223: 30, 224: 30, 225: 30, 226: 30, 227: 30, 228: 30, 229: 30, 230: 30, 231: 30, 232: 30, 233: 30, 234: 30, 235: 30, 236: 30, 237: 30, 238: 30, 239: 30, 240: 30, 241: 30, 242: 30, 243: 30, 244: 30, 245: 30, 246: 30, 247: 30, 248: 30, 249: 30, 250: 30, 251: 30, 252: 30, 253: 30, 254: 30, 255: 30, 256: 30, 257: 30, 258: 30, 259: 30, 260: 30, 261: 30, 262: 30, 263: 30, 264: 30, 265: 30, 266: 30, 267: 30, 268: 30, 269: 30, 270: 30, 271: 30, 272: 30, 273: 30, 274: 30, 275: 30, 276: 30, 277: 30, 278: 30, 279: 30, 280: 30, 281: 30, 282: 30, 283: 30, 284: 30, 285: 30, 286: 30, 287: 30, 288: 30, 289: 30, 290: 30, 291: 30, 292: 30, 293: 30, 294: 30, 295: 30, 296: 30, 297: 30, 298: 30, 299: 30, 300: 30, 301: 30, 302: 30, 303: 30, 304: 30, 305: 30, 306: 30, 307: 30, 308: 30, 309: 30, 310: 30, 311: 30, 312: 30, 313: 30, 314: 30, 315: 30, 316: 30, 317: 30, 318: 30, 319: 30, 320: 30, 321: 30, 322: 30, 323: 30, 324: 30, 325: 30, 326: 30, 327: 30, 328: 30, 329: 30, 330: 30, 331: 30, 332: 30, 333: 30, 334: 30, 335: 30, 336: 30, 337: 30, 338: 30, 339: 30, 340: 30, 341: 30, 342: 30, 343: 30, 344: 30, 345: 30, 346: 30, 347: 30, 348: 30, 349: 30, 350: 30, 351: 30, 352: 30, 353: 30, 354: 30, 355: 30, 356: 30, 357: 30, 358: 30, 359: 30, 360: 30, 361: 30, 362: 30, 363: 30, 364: 30, 365: 30, 366: 30, 367: 30, 368: 30, 369: 30, 370: 30, 371: 30, 372: 30, 373: 30, 374: 30, 375: 30, 376: 30, 377: 30, 378: 30, 379: 30, 380: 30, 381: 30, 382: 30, 383: 30, 384: 30, 385: 30, 386: 30, 387: 30, 388: 30, 389: 30, 390: 30, 391: 30, 392: 30, 393: 30, 394: 30, 395: 30, 396: 30, 397: 30, 398: 30, 399: 30, 400: 30, 401: 30, 402: 30, 403: 30, 404: 30, 405: 30, 406: 30, 407: 30, 408: 30, 409: 30, 410: 30, 411: 30, 412: 30, 413: 30, 414: 30, 415: 30, 416: 30, 417: 30, 418: 30, 419: 30, 420: 30, 421: 30, 422: 30, 423: 30, 424: 30, 425: 30, 426: 30, 427: 30, 428: 30, 429: 30, 430: 30, 431: 30, 432: 30, 433: 30, 434: 30, 435: 30, 436: 30, 437: 30, 438: 30, 439: 30, 440: 30, 441: 30, 442: 30, 443: 30, 444: 30, 445: 30, 446: 30, 447: 30, 448: 30, 449: 30, 450: 30, 451: 30, 452: 30, 453: 30, 454: 30, 455: 30, 456: 30, 457: 30, 458: 30, 459: 30, 460: 30, 461: 30, 462: 30, 463: 30, 464: 30, 465: 30, 466: 30, 467: 30, 468: 30, 469: 30, 470: 30, 471: 30, 472: 30, 473: 30, 474: 30, 475: 30, 476: 30, 477: 30, 478: 30, 479: 30, 480: 30, 481: 30, 482: 30, 483: 30, 484: 30, 485: 30, 486: 30, 487: 30, 488: 30, 489: 30, 490: 30, 491: 30, 492: 30, 493: 30, 494: 30, 495: 30, 496: 30, 497: 30, 498: 30, 499: 30, 500: 30, 501: 30, 502: 30, 503: 30, 504: 30, 505: 30, 506: 30, 507: 30, 508: 30, 509: 30, 510: 30, 511: 30, 512: 30, 513: 30, 514: 30, 515: 30, 516: 30, 517: 30, 518: 30, 519: 30, 520: 30, 521: 30, 522: 30, 523: 30, 524: 30, 525: 30, 526: 30, 527: 30, 528: 30, 529: 30, 530: 30, 531: 30, 532: 30, 533: 30, 534: 30, 535: 30, 536: 30, 537: 30, 538: 30, 539: 30, 540: 30, 541: 30, 542: 30, 543: 30, 544: 30, 545: 30, 546: 30, 547: 30, 548: 30, 549: 30, 550: 30, 551: 30, 552: 30, 553: 30, 554: 30, 555: 30, 556: 30, 557: 30, 558: 30, 559: 30, 560: 30, 561: 30, 562: 30, 563: 30, 564: 30, 565: 30, 566: 30, 567: 30, 568: 30, 569: 30, 570: 30, 571: 30, 572: 30, 573: 30, 574: 30, 575: 30, 576: 30, 577: 30, 578: 30, 579: 30, 580: 30, 581: 30, 582: 30, 583: 30, 584: 30, 585: 30, 586: 30, 587: 30, 588: 30, 589: 30, 590: 30, 591: 30, 592: 30, 593: 30, 594: 30, 595: 30, 596: 30, 597: 30, 598: 30, 599: 30, 600: 30, 601: 30, 602: 30, 603: 30, 604: 30, 605: 30, 606: 30, 607: 30, 608: 30, 609: 30, 610: 30, 611: 30, 612: 30, 613: 30, 614: 30, 615: 30, 616: 30, 617: 30, 618: 30, 619: 30, 620: 30, 621: 30, 622: 30, 623: 30, 624: 30, 625: 30, 626: 30, 627: 30, 628: 30, 629: 30, 630: 30, 631: 30, 632: 30, 633: 30, 634: 30, 635: 30, 636: 30, 637: 30, 638: 30, 639: 30, 640: 30, 641: 30, 642: 30, 643: 30, 644: 30, 645: 30, 646: 30, 647: 30, 648: 30, 649: 30, 650: 30, 651: 30, 652: 30, 653: 30, 654: 30, 655: 30, 656: 30, 657: 30, 658: 30, 659: 30, 660: 30, 661: 30, 662: 30, 663: 30, 664: 30, 665: 30, 666: 30, 667: 30, 668: 30, 669: 30, 670: 30, 671: 30, 672: 30, 673: 30, 674: 30, 675: 30, 676: 30, 677: 30, 678: 30, 679: 30, 680: 30, 681: 30, 682: 30, 683: 30, 684: 30, 685: 30, 686: 30, 687: 30, 688: 30, 689: 30, 690: 30, 691: 30, 692: 30, 693: 30, 694: 30, 695: 30, 696: 30, 697: 30, 698: 30, 699: 30, 700: 30, 701: 30, 702: 30, 703: 30, 704: 30, 705: 30, 706: 30, 707: 30, 708: 30, 709: 30, 710: 30, 711: 30, 712: 30, 713: 30, 714: 30, 715: 30, 716: 30, 717: 30, 718: 30, 719: 30, 720: 30, 721: 30, 722: 30, 723: 30, 724: 30, 725: 30, 726: 30, 727: 30, 728: 30, 729: 30, 730: 30, 731: 30, 732: 30, 733: 30, 734: 30, 735: 30, 736: 30, 737: 30, 738: 30, 739: 30, 740: 30, 741: 30, 742: 30, 743: 30, 744: 30, 745: 30, 746: 30, 747: 30, 748: 30, 749: 30, 750: 30, 751: 30, 752: 30, 753: 30, 754: 30, 755: 30, 756: 30, 757: 30, 758: 30, 759: 30, 760: 30, 761: 30, 762: 30, 763: 30, 764: 30, 765: 30, 766: 30, 767: 30, 768: 30, 769: 30, 770: 30, 771: 30, 772: 30, 773: 30, 774: 30, 775: 30, 776: 30, 777: 30, 778: 30, 779: 30, 780: 30, 781: 30, 782: 30, 783: 30, 784: 30, 785: 30, 786: 30, 787: 30, 788: 30, 789: 30, 790: 30, 791: 30, 792: 30, 793: 30, 794: 30, 795: 30, 796: 30, 797: 30, 798: 30, 799: 30, 800: 30, 801: 30, 802: 30, 803: 30, 804: 30, 805: 30, 806: 30, 807: 30, 808: 30, 809: 30, 810: 30, 811: 30, 812: 30, 813: 30, 814: 30, 815: 30, 816: 30, 817: 30, 818: 30, 819: 30, 820: 30, 821: 30, 822: 30, 823: 30, 824: 30, 825: 30, 826: 30, 827: 30, 828: 30, 829: 30, 830: 30, 831: 30, 832: 30, 833: 30, 834: 30, 835: 30, 836: 30, 837: 30, 838: 30, 839: 30, 840: 30, 841: 30, 842: 30, 843: 30, 844: 30, 845: 30, 846: 30, 847: 30, 848: 30, 849: 30, 850: 30, 851: 30, 852: 30, 853: 30, 854: 30, 855: 30, 856: 30, 857: 30, 858: 30, 859: 30, 860: 30, 861: 30, 862: 30, 863: 30, 864: 30, 865: 30, 866: 30, 867: 30, 868: 30, 869: 30, 870: 30, 871: 30, 872: 30, 873: 30, 874: 30, 875: 30, 876: 30, 877: 30, 878: 30, 879: 30, 880: 30, 881: 30, 882: 30, 883: 30, 884: 30, 885: 30, 886: 30, 887: 30, 888: 30, 889: 30, 890: 30, 891: 30, 892: 30, 893: 30, 894: 30, 895: 30, 896: 30, 897: 30, 898: 30, 899: 30, 900: 30, 901: 30, 902: 30, 903: 30, 904: 30, 905: 30, 906: 30, 907: 30, 908: 30, 909: 30, 910: 30, 911: 30, 912: 30, 913: 30, 914: 30, 915: 30, 916: 30, 917: 30, 918: 30, 919: 30, 920: 30, 921: 30, 922: 30, 923: 30, 924: 30, 925: 30, 926: 30, 927: 30, 928: 30, 929: 30, 930: 30, 931: 30, 932: 30, 933: 30, 934: 30, 935: 30, 936: 30, 937: 30, 938: 30, 939: 30, 940: 30, 941: 30, 942: 30, 943: 30, 944: 30, 945: 30, 946: 30, 947: 30, 948: 30, 949: 30, 950: 30, 951: 30, 952: 30, 953: 30, 954: 30, 955: 30, 956: 30, 957: 30, 958: 30, 959: 30, 960: 30, 961: 30, 962: 30, 963: 30, 964: 30, 965: 30, 966: 30, 967: 30, 968: 30, 969: 30, 970: 30, 971: 30, 972: 30, 973: 30, 974: 30, 975: 30, 976: 1}\n",
            "{0: 30, 1: 30, 2: 30, 3: 30, 4: 30, 5: 30, 6: 30, 7: 30, 8: 30, 9: 30, 10: 30, 11: 30, 12: 30, 13: 30, 14: 30, 15: 30, 16: 30, 17: 30, 18: 30, 19: 30, 20: 30, 21: 30, 22: 30, 23: 30, 24: 30, 25: 30, 26: 30, 27: 30, 28: 30, 29: 30, 30: 30, 31: 30, 32: 30, 33: 30, 34: 30, 35: 30, 36: 30, 37: 30, 38: 30, 39: 30, 40: 30, 41: 30, 42: 30, 43: 30, 44: 30, 45: 30, 46: 30, 47: 30, 48: 30, 49: 30, 50: 30, 51: 30, 52: 30, 53: 30, 54: 30, 55: 30, 56: 30, 57: 30, 58: 30, 59: 30, 60: 30, 61: 30, 62: 30, 63: 30, 64: 30, 65: 30, 66: 30, 67: 30, 68: 30, 69: 30, 70: 30, 71: 30, 72: 30, 73: 30, 74: 30, 75: 30, 76: 30, 77: 30, 78: 30, 79: 30, 80: 30, 81: 30, 82: 30, 83: 30, 84: 30, 85: 30, 86: 30, 87: 30, 88: 30, 89: 30, 90: 30, 91: 30, 92: 30, 93: 30, 94: 30, 95: 30, 96: 30, 97: 30, 98: 30, 99: 30, 100: 30, 101: 30, 102: 30, 103: 30, 104: 30, 105: 30, 106: 30, 107: 30, 108: 30, 109: 30, 110: 30, 111: 30, 112: 30, 113: 30, 114: 30, 115: 30, 116: 30, 117: 30, 118: 30, 119: 30, 120: 30, 121: 30, 122: 30, 123: 30, 124: 30, 125: 30, 126: 30, 127: 30, 128: 30, 129: 30, 130: 30, 131: 30, 132: 30, 133: 30, 134: 30, 135: 30, 136: 30, 137: 30, 138: 30, 139: 30, 140: 30, 141: 30, 142: 30, 143: 30, 144: 30, 145: 30, 146: 30, 147: 30, 148: 30, 149: 30, 150: 30, 151: 30, 152: 30, 153: 30, 154: 30, 155: 30, 156: 30, 157: 30, 158: 30, 159: 30, 160: 30, 161: 30, 162: 30, 163: 30, 164: 30, 165: 30, 166: 30, 167: 30, 168: 30, 169: 30, 170: 30, 171: 30, 172: 30, 173: 30, 174: 30, 175: 30, 176: 30, 177: 30, 178: 30, 179: 30, 180: 30, 181: 30, 182: 30, 183: 30, 184: 30, 185: 30, 186: 30, 187: 30, 188: 30, 189: 30, 190: 30, 191: 30, 192: 30, 193: 30, 194: 30, 195: 30, 196: 30, 197: 30, 198: 30, 199: 30, 200: 30, 201: 30, 202: 30, 203: 30, 204: 30, 205: 30, 206: 30, 207: 30, 208: 30, 209: 30, 210: 30, 211: 30, 212: 30, 213: 30, 214: 30, 215: 30, 216: 30, 217: 30, 218: 30, 219: 30, 220: 30, 221: 30, 222: 30, 223: 30, 224: 30, 225: 30, 226: 30, 227: 30, 228: 30, 229: 30, 230: 30, 231: 30, 232: 30, 233: 30, 234: 30, 235: 30, 236: 30, 237: 30, 238: 30, 239: 30, 240: 30, 241: 30, 242: 30, 243: 30, 244: 30, 245: 30, 246: 30, 247: 30, 248: 30, 249: 30, 250: 30, 251: 30, 252: 30, 253: 30, 254: 30, 255: 30, 256: 30, 257: 30, 258: 30, 259: 30, 260: 30, 261: 30, 262: 30, 263: 30, 264: 30, 265: 30, 266: 30, 267: 30, 268: 30, 269: 30, 270: 30, 271: 30, 272: 30, 273: 30, 274: 30, 275: 30, 276: 30, 277: 30, 278: 30, 279: 30, 280: 30, 281: 30, 282: 30, 283: 30, 284: 30, 285: 30, 286: 30, 287: 30, 288: 30, 289: 30, 290: 30, 291: 30, 292: 30, 293: 30, 294: 30, 295: 30, 296: 30, 297: 30, 298: 30, 299: 30, 300: 30, 301: 30, 302: 30, 303: 30, 304: 30, 305: 30, 306: 30, 307: 30, 308: 30, 309: 30, 310: 30, 311: 30, 312: 30, 313: 30, 314: 30, 315: 30, 316: 30, 317: 30, 318: 30, 319: 30, 320: 30, 321: 30, 322: 30, 323: 30, 324: 30, 325: 30, 326: 30, 327: 30, 328: 30, 329: 30, 330: 30, 331: 30, 332: 30, 333: 30, 334: 30, 335: 30, 336: 30, 337: 30, 338: 30, 339: 30, 340: 30, 341: 30, 342: 30, 343: 30, 344: 30, 345: 30, 346: 30, 347: 30, 348: 30, 349: 30, 350: 30, 351: 30, 352: 30, 353: 30, 354: 30, 355: 30, 356: 30, 357: 30, 358: 30, 359: 30, 360: 30, 361: 30, 362: 30, 363: 30, 364: 30, 365: 30, 366: 30, 367: 30, 368: 30, 369: 30, 370: 30, 371: 30, 372: 30, 373: 30, 374: 30, 375: 30, 376: 30, 377: 30, 378: 30, 379: 30, 380: 30, 381: 30, 382: 30, 383: 30, 384: 30, 385: 30, 386: 30, 387: 30, 388: 30, 389: 30, 390: 30, 391: 30, 392: 30, 393: 30, 394: 30, 395: 30, 396: 30, 397: 30, 398: 30, 399: 30, 400: 30, 401: 30, 402: 30, 403: 30, 404: 30, 405: 30, 406: 30, 407: 30, 408: 30, 409: 30, 410: 30, 411: 30, 412: 30, 413: 30, 414: 30, 415: 30, 416: 30, 417: 30, 418: 30, 419: 30, 420: 30, 421: 30, 422: 30, 423: 30, 424: 30, 425: 30, 426: 30, 427: 30, 428: 30, 429: 30, 430: 30, 431: 30, 432: 30, 433: 30, 434: 30, 435: 30, 436: 30, 437: 30, 438: 30, 439: 30, 440: 30, 441: 30, 442: 30, 443: 30, 444: 30, 445: 30, 446: 30, 447: 30, 448: 30, 449: 30, 450: 30, 451: 30, 452: 30, 453: 30, 454: 30, 455: 30, 456: 30, 457: 30, 458: 30, 459: 30, 460: 30, 461: 30, 462: 30, 463: 30, 464: 30, 465: 30, 466: 30, 467: 30, 468: 30, 469: 30, 470: 30, 471: 30, 472: 30, 473: 30, 474: 30, 475: 30, 476: 30, 477: 30, 478: 30, 479: 30, 480: 30, 481: 30, 482: 30, 483: 30, 484: 30, 485: 30, 486: 30, 487: 30, 488: 30, 489: 30, 490: 30, 491: 30, 492: 30, 493: 30, 494: 30, 495: 30, 496: 30, 497: 30, 498: 30, 499: 30, 500: 30, 501: 30, 502: 30, 503: 30, 504: 30, 505: 30, 506: 30, 507: 30, 508: 30, 509: 30, 510: 30, 511: 30, 512: 30, 513: 30, 514: 30, 515: 30, 516: 30, 517: 30, 518: 30, 519: 30, 520: 30, 521: 30, 522: 30, 523: 30, 524: 30, 525: 30, 526: 30, 527: 30, 528: 30, 529: 30, 530: 30, 531: 30, 532: 30, 533: 30, 534: 30, 535: 30, 536: 30, 537: 30, 538: 30, 539: 30, 540: 30, 541: 30, 542: 30, 543: 30, 544: 30, 545: 30, 546: 30, 547: 30, 548: 30, 549: 30, 550: 30, 551: 30, 552: 30, 553: 30, 554: 30, 555: 30, 556: 30, 557: 30, 558: 30, 559: 30, 560: 30, 561: 30, 562: 30, 563: 30, 564: 30, 565: 30, 566: 30, 567: 30, 568: 30, 569: 30, 570: 30, 571: 30, 572: 30, 573: 30, 574: 30, 575: 30, 576: 30, 577: 30, 578: 30, 579: 30, 580: 30, 581: 30, 582: 30, 583: 30, 584: 30, 585: 30, 586: 30, 587: 30, 588: 30, 589: 30, 590: 30, 591: 30, 592: 30, 593: 30, 594: 30, 595: 30, 596: 30, 597: 30, 598: 30, 599: 30, 600: 30, 601: 30, 602: 30, 603: 30, 604: 30, 605: 30, 606: 30, 607: 30, 608: 30, 609: 30, 610: 30, 611: 30, 612: 30, 613: 30, 614: 30, 615: 30, 616: 30, 617: 30, 618: 30, 619: 30, 620: 30, 621: 30, 622: 30, 623: 30, 624: 30, 625: 30, 626: 30, 627: 30, 628: 30, 629: 30, 630: 30, 631: 30, 632: 30, 633: 30, 634: 30, 635: 30, 636: 30, 637: 30, 638: 30, 639: 30, 640: 30, 641: 30, 642: 30, 643: 30, 644: 30, 645: 30, 646: 30, 647: 30, 648: 30, 649: 30, 650: 30, 651: 30, 652: 30, 653: 30, 654: 30, 655: 30, 656: 30, 657: 30, 658: 30, 659: 30, 660: 30, 661: 30, 662: 30, 663: 30, 664: 30, 665: 30, 666: 30, 667: 30, 668: 30, 669: 30, 670: 30, 671: 30, 672: 30, 673: 30, 674: 30, 675: 30, 676: 30, 677: 30, 678: 30, 679: 30, 680: 30, 681: 30, 682: 30, 683: 30, 684: 30, 685: 30, 686: 30, 687: 30, 688: 30, 689: 30, 690: 30, 691: 30, 692: 30, 693: 30, 694: 30, 695: 30, 696: 30, 697: 30, 698: 30, 699: 30, 700: 30, 701: 30, 702: 30, 703: 30, 704: 30, 705: 30, 706: 30, 707: 30, 708: 30, 709: 30, 710: 30, 711: 30, 712: 30, 713: 30, 714: 30, 715: 30, 716: 30, 717: 30, 718: 30, 719: 30, 720: 30, 721: 30, 722: 30, 723: 30, 724: 30, 725: 30, 726: 30, 727: 30, 728: 30, 729: 30, 730: 30, 731: 30, 732: 30, 733: 30, 734: 30, 735: 30, 736: 30, 737: 30, 738: 30, 739: 30, 740: 30, 741: 30, 742: 30, 743: 1}\n",
            "{0: 30, 1: 30, 2: 30, 3: 30, 4: 30, 5: 30, 6: 30, 7: 30, 8: 30, 9: 30, 10: 30, 11: 30, 12: 30, 13: 30, 14: 30, 15: 30, 16: 30, 17: 30, 18: 30, 19: 30, 20: 30, 21: 30, 22: 30, 23: 30, 24: 30, 25: 30, 26: 30, 27: 30, 28: 30, 29: 30, 30: 30, 31: 30, 32: 30, 33: 30, 34: 30, 35: 30, 36: 30, 37: 30, 38: 30, 39: 30, 40: 30, 41: 30, 42: 30, 43: 30, 44: 30, 45: 30, 46: 30, 47: 30, 48: 30, 49: 30, 50: 30, 51: 30, 52: 30, 53: 30, 54: 30, 55: 30, 56: 30, 57: 30, 58: 30, 59: 30, 60: 30, 61: 30, 62: 30, 63: 30, 64: 30, 65: 30, 66: 30, 67: 30, 68: 30, 69: 30, 70: 30, 71: 30, 72: 30, 73: 30, 74: 30, 75: 30, 76: 30, 77: 30, 78: 30, 79: 30, 80: 30, 81: 30, 82: 30, 83: 30, 84: 30, 85: 30, 86: 30, 87: 30, 88: 30, 89: 30, 90: 30, 91: 30, 92: 30, 93: 30, 94: 30, 95: 30, 96: 30, 97: 30, 98: 30, 99: 30, 100: 30, 101: 30, 102: 30, 103: 30, 104: 30, 105: 30, 106: 30, 107: 30, 108: 30, 109: 30, 110: 30, 111: 30, 112: 30, 113: 30, 114: 30, 115: 30, 116: 30, 117: 30, 118: 30, 119: 30, 120: 30, 121: 30, 122: 30, 123: 30, 124: 30, 125: 30, 126: 30, 127: 30, 128: 30, 129: 30, 130: 30, 131: 30, 132: 30, 133: 30, 134: 30, 135: 30, 136: 30, 137: 30, 138: 30, 139: 30, 140: 30, 141: 30, 142: 30, 143: 30, 144: 30, 145: 30, 146: 30, 147: 30, 148: 30, 149: 30, 150: 30, 151: 30, 152: 30, 153: 30, 154: 30, 155: 30, 156: 30, 157: 30, 158: 30, 159: 30, 160: 30, 161: 30, 162: 30, 163: 30, 164: 30, 165: 30, 166: 30, 167: 30, 168: 30, 169: 30, 170: 30, 171: 30, 172: 30, 173: 30, 174: 30, 175: 30, 176: 30, 177: 30, 178: 30, 179: 30, 180: 30, 181: 30, 182: 30, 183: 30, 184: 30, 185: 30, 186: 30, 187: 30, 188: 30, 189: 30, 190: 30, 191: 30, 192: 30, 193: 30, 194: 30, 195: 30, 196: 30, 197: 30, 198: 30, 199: 30, 200: 30, 201: 30, 202: 30, 203: 30, 204: 30, 205: 30, 206: 30, 207: 30, 208: 30, 209: 30, 210: 30, 211: 30, 212: 30, 213: 30, 214: 30, 215: 30, 216: 30, 217: 30, 218: 30, 219: 30, 220: 30, 221: 30, 222: 30, 223: 30, 224: 30, 225: 30, 226: 30, 227: 30, 228: 30, 229: 30, 230: 30, 231: 30, 232: 30, 233: 30, 234: 30, 235: 30, 236: 30, 237: 30, 238: 30, 239: 30, 240: 30, 241: 30, 242: 30, 243: 30, 244: 30, 245: 30, 246: 30, 247: 30, 248: 30, 249: 30, 250: 30, 251: 30, 252: 30, 253: 30, 254: 30, 255: 30, 256: 30, 257: 30, 258: 30, 259: 30, 260: 30, 261: 30, 262: 30, 263: 30, 264: 30, 265: 30, 266: 30, 267: 30, 268: 30, 269: 30, 270: 30, 271: 30, 272: 30, 273: 30, 274: 30, 275: 30, 276: 30, 277: 30, 278: 30, 279: 30, 280: 30, 281: 30, 282: 30, 283: 30, 284: 30, 285: 30, 286: 30, 287: 30, 288: 30, 289: 30, 290: 30, 291: 30, 292: 30, 293: 30, 294: 30, 295: 30, 296: 30, 297: 30, 298: 30, 299: 30, 300: 30, 301: 30, 302: 30, 303: 30, 304: 30, 305: 30, 306: 30, 307: 30, 308: 30, 309: 30, 310: 30, 311: 30, 312: 30, 313: 30, 314: 30, 315: 30, 316: 30, 317: 30, 318: 30, 319: 30, 320: 30, 321: 30, 322: 30, 323: 30, 324: 30, 325: 30, 326: 30, 327: 30, 328: 30, 329: 30, 330: 30, 331: 30, 332: 30, 333: 30, 334: 30, 335: 30, 336: 30, 337: 30, 338: 30, 339: 30, 340: 30, 341: 30, 342: 30, 343: 30, 344: 30, 345: 30, 346: 30, 347: 30, 348: 30, 349: 30, 350: 30, 351: 30, 352: 30, 353: 30, 354: 30, 355: 30, 356: 30, 357: 30, 358: 30, 359: 30, 360: 30, 361: 30, 362: 30, 363: 30, 364: 30, 365: 30, 366: 30, 367: 30, 368: 30, 369: 30, 370: 30, 371: 30, 372: 30, 373: 30, 374: 30, 375: 30, 376: 30, 377: 30, 378: 30, 379: 30, 380: 30, 381: 30, 382: 30, 383: 30, 384: 30, 385: 30, 386: 30, 387: 30, 388: 30, 389: 30, 390: 30, 391: 30, 392: 30, 393: 30, 394: 30, 395: 30, 396: 30, 397: 30, 398: 30, 399: 30, 400: 30, 401: 30, 402: 30, 403: 30, 404: 30, 405: 30, 406: 30, 407: 30, 408: 30, 409: 30, 410: 30, 411: 30, 412: 30, 413: 30, 414: 30, 415: 30, 416: 30, 417: 30, 418: 30, 419: 30, 420: 30, 421: 30, 422: 30, 423: 30, 424: 30, 425: 30, 426: 30, 427: 30, 428: 30, 429: 30, 430: 30, 431: 30, 432: 30, 433: 30, 434: 30, 435: 30, 436: 30, 437: 30, 438: 30, 439: 30, 440: 30, 441: 30, 442: 30, 443: 30, 444: 30, 445: 30, 446: 30, 447: 30, 448: 30, 449: 30, 450: 30, 451: 30, 452: 30, 453: 30, 454: 30, 455: 30, 456: 30, 457: 30, 458: 30, 459: 30, 460: 30, 461: 30, 462: 30, 463: 30, 464: 30, 465: 30, 466: 30, 467: 30, 468: 30, 469: 30, 470: 30, 471: 30, 472: 30, 473: 30, 474: 30, 475: 30, 476: 30, 477: 30, 478: 30, 479: 30, 480: 30, 481: 30, 482: 30, 483: 30, 484: 30, 485: 30, 486: 30, 487: 30, 488: 30, 489: 30, 490: 30, 491: 30, 492: 30, 493: 30, 494: 30, 495: 30, 496: 30, 497: 30, 498: 30, 499: 30, 500: 30, 501: 30, 502: 30, 503: 30, 504: 30, 505: 30, 506: 30, 507: 30, 508: 30, 509: 30, 510: 30, 511: 30, 512: 30, 513: 30, 514: 30, 515: 30, 516: 30, 517: 30, 518: 30, 519: 30, 520: 30, 521: 30, 522: 30, 523: 30, 524: 30, 525: 30, 526: 30, 527: 30, 528: 30, 529: 30, 530: 30, 531: 30, 532: 30, 533: 30, 534: 30, 535: 30, 536: 30, 537: 30, 538: 30, 539: 30, 540: 30, 541: 30, 542: 30, 543: 30, 544: 30, 545: 30, 546: 30, 547: 30, 548: 30, 549: 30, 550: 30, 551: 30, 552: 30, 553: 30, 554: 30, 555: 30, 556: 30, 557: 30, 558: 30, 559: 30, 560: 30, 561: 30, 562: 30, 563: 30, 564: 30, 565: 30, 566: 30, 567: 30, 568: 30, 569: 30, 570: 30, 571: 30, 572: 30, 573: 30, 574: 30, 575: 30, 576: 30, 577: 30, 578: 30, 579: 30, 580: 30, 581: 30, 582: 30, 583: 30, 584: 30, 585: 30, 586: 30, 587: 30, 588: 30, 589: 30, 590: 30, 591: 30, 592: 30, 593: 30, 594: 30, 595: 30, 596: 30, 597: 30, 598: 30, 599: 30, 600: 30, 601: 30, 602: 30, 603: 30, 604: 30, 605: 30, 606: 30, 607: 30, 608: 30, 609: 30, 610: 30, 611: 30, 612: 30, 613: 30, 614: 30, 615: 30, 616: 30, 617: 30, 618: 30, 619: 30, 620: 30, 621: 30, 622: 30, 623: 30, 624: 30, 625: 30, 626: 30, 627: 30, 628: 30, 629: 30, 630: 30, 631: 30, 632: 30, 633: 30, 634: 30, 635: 30, 636: 30, 637: 30, 638: 30, 639: 30, 640: 30, 641: 30, 642: 30, 643: 30, 644: 30, 645: 30, 646: 30, 647: 30, 648: 30, 649: 30, 650: 30, 651: 30, 652: 30, 653: 30, 654: 30, 655: 30, 656: 30, 657: 30, 658: 30, 659: 30, 660: 30, 661: 30, 662: 30, 663: 30, 664: 30, 665: 30, 666: 30, 667: 30, 668: 30, 669: 30, 670: 30, 671: 30, 672: 30, 673: 30, 674: 30, 675: 30, 676: 30, 677: 30, 678: 30, 679: 30, 680: 30, 681: 30, 682: 30, 683: 30, 684: 30, 685: 30, 686: 30, 687: 30, 688: 30, 689: 30, 690: 30, 691: 30, 692: 30, 693: 30, 694: 30, 695: 30, 696: 30, 697: 30, 698: 30, 699: 30, 700: 30, 701: 30, 702: 30, 703: 30, 704: 30, 705: 30, 706: 30, 707: 30, 708: 30, 709: 30, 710: 30, 711: 30, 712: 30, 713: 30, 714: 30, 715: 30, 716: 30, 717: 30, 718: 30, 719: 30, 720: 30, 721: 30, 722: 30, 723: 30, 724: 30, 725: 30, 726: 30, 727: 30, 728: 30, 729: 30, 730: 30, 731: 30, 732: 30, 733: 30, 734: 30, 735: 30, 736: 30, 737: 30, 738: 30, 739: 30, 740: 30, 741: 30, 742: 30, 743: 30, 744: 30, 745: 30, 746: 30, 747: 30, 748: 30, 749: 30, 750: 30, 751: 30, 752: 30, 753: 30, 754: 30, 755: 30, 756: 30, 757: 30, 758: 30, 759: 30, 760: 30, 761: 30, 762: 30, 763: 30, 764: 30, 765: 30, 766: 30, 767: 30, 768: 30, 769: 30, 770: 30, 771: 30, 772: 30, 773: 30, 774: 30, 775: 30, 776: 30, 777: 30, 778: 30, 779: 30, 780: 30, 781: 30, 782: 30, 783: 30, 784: 30, 785: 30, 786: 30, 787: 30, 788: 30, 789: 30, 790: 30, 791: 30, 792: 30, 793: 30, 794: 30, 795: 30, 796: 30, 797: 30, 798: 30, 799: 30, 800: 30, 801: 30, 802: 30, 803: 30, 804: 30, 805: 30, 806: 30, 807: 30, 808: 30, 809: 30, 810: 30, 811: 30, 812: 30, 813: 30, 814: 30, 815: 30, 816: 30, 817: 30, 818: 30, 819: 30, 820: 30, 821: 30, 822: 30, 823: 30, 824: 30, 825: 30, 826: 30, 827: 30, 828: 30, 829: 30, 830: 30, 831: 30, 832: 30, 833: 30, 834: 30, 835: 30, 836: 30, 837: 30, 838: 30, 839: 30, 840: 30, 841: 30, 842: 30, 843: 30, 844: 30, 845: 30, 846: 30, 847: 30, 848: 30, 849: 30, 850: 30, 851: 30, 852: 30, 853: 30, 854: 30, 855: 30, 856: 30, 857: 30, 858: 30, 859: 30, 860: 30, 861: 30, 862: 30, 863: 30, 864: 30, 865: 30, 866: 30, 867: 30, 868: 30, 869: 30, 870: 30, 871: 30, 872: 30, 873: 30, 874: 30, 875: 30, 876: 30, 877: 30, 878: 30, 879: 30, 880: 30, 881: 30, 882: 30, 883: 30, 884: 30, 885: 30, 886: 30, 887: 30, 888: 30, 889: 30, 890: 30, 891: 30, 892: 30, 893: 30, 894: 30, 895: 30, 896: 30, 897: 30, 898: 30, 899: 30, 900: 30, 901: 30, 902: 30, 903: 30, 904: 30, 905: 30, 906: 30, 907: 30, 908: 30, 909: 30, 910: 30, 911: 30, 912: 30, 913: 30, 914: 30, 915: 30, 916: 30, 917: 30, 918: 30, 919: 30, 920: 30, 921: 30, 922: 30, 923: 30, 924: 30, 925: 30, 926: 30, 927: 30, 928: 30, 929: 30, 930: 30, 931: 30, 932: 30, 933: 30, 934: 30, 935: 30, 936: 30, 937: 30, 938: 1}\n",
            "{0: 30, 1: 30, 2: 30, 3: 30, 4: 30, 5: 30, 6: 30, 7: 30, 8: 30, 9: 30, 10: 30, 11: 30, 12: 30, 13: 30, 14: 30, 15: 30, 16: 30, 17: 30, 18: 30, 19: 30, 20: 30, 21: 30, 22: 30, 23: 30, 24: 30, 25: 30, 26: 30, 27: 30, 28: 30, 29: 30, 30: 30, 31: 30, 32: 30, 33: 30, 34: 30, 35: 30, 36: 30, 37: 30, 38: 30, 39: 30, 40: 30, 41: 30, 42: 30, 43: 30, 44: 30, 45: 30, 46: 30, 47: 30, 48: 30, 49: 30, 50: 30, 51: 30, 52: 30, 53: 30, 54: 30, 55: 30, 56: 30, 57: 30, 58: 30, 59: 30, 60: 30, 61: 30, 62: 30, 63: 30, 64: 30, 65: 30, 66: 30, 67: 30, 68: 30, 69: 30, 70: 30, 71: 30, 72: 30, 73: 30, 74: 30, 75: 30, 76: 30, 77: 30, 78: 30, 79: 30, 80: 30, 81: 30, 82: 30, 83: 30, 84: 30, 85: 30, 86: 30, 87: 30, 88: 30, 89: 30, 90: 30, 91: 30, 92: 30, 93: 30, 94: 30, 95: 30, 96: 30, 97: 30, 98: 30, 99: 30, 100: 30, 101: 30, 102: 30, 103: 30, 104: 30, 105: 30, 106: 30, 107: 30, 108: 30, 109: 30, 110: 30, 111: 30, 112: 30, 113: 30, 114: 30, 115: 30, 116: 30, 117: 30, 118: 30, 119: 30, 120: 30, 121: 30, 122: 30, 123: 30, 124: 30, 125: 30, 126: 30, 127: 30, 128: 30, 129: 30, 130: 30, 131: 30, 132: 30, 133: 30, 134: 30, 135: 30, 136: 30, 137: 30, 138: 30, 139: 30, 140: 30, 141: 30, 142: 30, 143: 30, 144: 30, 145: 30, 146: 30, 147: 30, 148: 30, 149: 30, 150: 30, 151: 30, 152: 30, 153: 30, 154: 30, 155: 30, 156: 30, 157: 30, 158: 30, 159: 30, 160: 30, 161: 30, 162: 30, 163: 30, 164: 30, 165: 30, 166: 30, 167: 30, 168: 30, 169: 30, 170: 30, 171: 30, 172: 30, 173: 30, 174: 30, 175: 30, 176: 30, 177: 30, 178: 30, 179: 30, 180: 30, 181: 30, 182: 30, 183: 30, 184: 30, 185: 30, 186: 30, 187: 30, 188: 30, 189: 30, 190: 30, 191: 30, 192: 30, 193: 30, 194: 30, 195: 30, 196: 30, 197: 30, 198: 30, 199: 30, 200: 30, 201: 30, 202: 30, 203: 30, 204: 30, 205: 30, 206: 30, 207: 30, 208: 30, 209: 30, 210: 30, 211: 30, 212: 30, 213: 30, 214: 30, 215: 30, 216: 30, 217: 30, 218: 30, 219: 30, 220: 30, 221: 30, 222: 30, 223: 30, 224: 30, 225: 30, 226: 30, 227: 30, 228: 30, 229: 30, 230: 30, 231: 30, 232: 30, 233: 30, 234: 30, 235: 30, 236: 30, 237: 30, 238: 30, 239: 30, 240: 30, 241: 30, 242: 30, 243: 30, 244: 30, 245: 30, 246: 30, 247: 30, 248: 30, 249: 30, 250: 30, 251: 30, 252: 30, 253: 30, 254: 30, 255: 30, 256: 30, 257: 30, 258: 30, 259: 30, 260: 30, 261: 30, 262: 30, 263: 30, 264: 30, 265: 30, 266: 30, 267: 30, 268: 30, 269: 30, 270: 30, 271: 30, 272: 30, 273: 30, 274: 30, 275: 30, 276: 30, 277: 30, 278: 30, 279: 30, 280: 30, 281: 30, 282: 30, 283: 30, 284: 30, 285: 30, 286: 30, 287: 30, 288: 30, 289: 30, 290: 30, 291: 30, 292: 30, 293: 30, 294: 30, 295: 30, 296: 30, 297: 30, 298: 30, 299: 30, 300: 30, 301: 30, 302: 30, 303: 30, 304: 30, 305: 30, 306: 30, 307: 30, 308: 30, 309: 30, 310: 30, 311: 30, 312: 30, 313: 30, 314: 30, 315: 30, 316: 30, 317: 30, 318: 30, 319: 30, 320: 30, 321: 30, 322: 30, 323: 30, 324: 30, 325: 30, 326: 30, 327: 30, 328: 30, 329: 30, 330: 30, 331: 30, 332: 30, 333: 30, 334: 30, 335: 30, 336: 30, 337: 30, 338: 30, 339: 30, 340: 30, 341: 30, 342: 30, 343: 30, 344: 30, 345: 30, 346: 30, 347: 30, 348: 30, 349: 30, 350: 30, 351: 30, 352: 30, 353: 30, 354: 30, 355: 30, 356: 30, 357: 30, 358: 30, 359: 30, 360: 30, 361: 30, 362: 30, 363: 30, 364: 30, 365: 30, 366: 30, 367: 30, 368: 30, 369: 30, 370: 30, 371: 30, 372: 30, 373: 30, 374: 30, 375: 30, 376: 30, 377: 30, 378: 30, 379: 30, 380: 30, 381: 30, 382: 30, 383: 30, 384: 30, 385: 30, 386: 30, 387: 30, 388: 30, 389: 30, 390: 30, 391: 30, 392: 30, 393: 30, 394: 30, 395: 30, 396: 30, 397: 30, 398: 30, 399: 30, 400: 30, 401: 30, 402: 30, 403: 30, 404: 30, 405: 30, 406: 30, 407: 30, 408: 30, 409: 30, 410: 30, 411: 30, 412: 30, 413: 30, 414: 30, 415: 30, 416: 30, 417: 30, 418: 30, 419: 30, 420: 30, 421: 30, 422: 30, 423: 30, 424: 30, 425: 30, 426: 30, 427: 30, 428: 30, 429: 30, 430: 30, 431: 30, 432: 30, 433: 30, 434: 30, 435: 30, 436: 30, 437: 30, 438: 30, 439: 30, 440: 30, 441: 30, 442: 30, 443: 30, 444: 30, 445: 30, 446: 30, 447: 30, 448: 30, 449: 30, 450: 30, 451: 30, 452: 30, 453: 30, 454: 30, 455: 30, 456: 30, 457: 30, 458: 30, 459: 30, 460: 30, 461: 30, 462: 30, 463: 30, 464: 30, 465: 30, 466: 30, 467: 30, 468: 30, 469: 30, 470: 30, 471: 30, 472: 30, 473: 30, 474: 30, 475: 30, 476: 30, 477: 30, 478: 30, 479: 30, 480: 30, 481: 30, 482: 30, 483: 30, 484: 30, 485: 30, 486: 30, 487: 30, 488: 30, 489: 30, 490: 30, 491: 30, 492: 30, 493: 30, 494: 30, 495: 30, 496: 30, 497: 30, 498: 30, 499: 30, 500: 30, 501: 30, 502: 30, 503: 30, 504: 30, 505: 30, 506: 30, 507: 30, 508: 30, 509: 30, 510: 30, 511: 30, 512: 30, 513: 30, 514: 30, 515: 30, 516: 30, 517: 30, 518: 30, 519: 30, 520: 30, 521: 30, 522: 30, 523: 30, 524: 30, 525: 30, 526: 30, 527: 30, 528: 30, 529: 30, 530: 30, 531: 30, 532: 30, 533: 30, 534: 30, 535: 30, 536: 30, 537: 30, 538: 30, 539: 30, 540: 30, 541: 30, 542: 30, 543: 30, 544: 30, 545: 30, 546: 30, 547: 30, 548: 30, 549: 30, 550: 30, 551: 30, 552: 30, 553: 30, 554: 30, 555: 30, 556: 30, 557: 30, 558: 30, 559: 30, 560: 30, 561: 30, 562: 30, 563: 30, 564: 30, 565: 30, 566: 30, 567: 30, 568: 30, 569: 30, 570: 30, 571: 30, 572: 30, 573: 30, 574: 30, 575: 30, 576: 30, 577: 30, 578: 30, 579: 30, 580: 30, 581: 30, 582: 30, 583: 30, 584: 30, 585: 30, 586: 30, 587: 30, 588: 30, 589: 30, 590: 30, 591: 30, 592: 30, 593: 30, 594: 30, 595: 30, 596: 30, 597: 30, 598: 30, 599: 30, 600: 30, 601: 30, 602: 30, 603: 30, 604: 30, 605: 30, 606: 30, 607: 30, 608: 30, 609: 30, 610: 30, 611: 30, 612: 30, 613: 30, 614: 30, 615: 30, 616: 30, 617: 30, 618: 30, 619: 30, 620: 30, 621: 30, 622: 30, 623: 30, 624: 30, 625: 30, 626: 30, 627: 30, 628: 30, 629: 30, 630: 30, 631: 30, 632: 30, 633: 30, 634: 30, 635: 30, 636: 30, 637: 30, 638: 30, 639: 30, 640: 30, 641: 30, 642: 30, 643: 30, 644: 30, 645: 30, 646: 30, 647: 30, 648: 30, 649: 30, 650: 30, 651: 30, 652: 30, 653: 30, 654: 30, 655: 30, 656: 30, 657: 30, 658: 30, 659: 30, 660: 30, 661: 30, 662: 30, 663: 30, 664: 30, 665: 30, 666: 30, 667: 30, 668: 30, 669: 30, 670: 30, 671: 30, 672: 30, 673: 30, 674: 30, 675: 30, 676: 30, 677: 30, 678: 30, 679: 30, 680: 30, 681: 30, 682: 30, 683: 30, 684: 30, 685: 30, 686: 30, 687: 30, 688: 30, 689: 30, 690: 30, 691: 30, 692: 30, 693: 30, 694: 30, 695: 30, 696: 30, 697: 30, 698: 30, 699: 30, 700: 30, 701: 30, 702: 30, 703: 30, 704: 30, 705: 30, 706: 30, 707: 30, 708: 30, 709: 30, 710: 30, 711: 30, 712: 30, 713: 30, 714: 30, 715: 30, 716: 30, 717: 30, 718: 30, 719: 30, 720: 30, 721: 30, 722: 30, 723: 30, 724: 30, 725: 30, 726: 30, 727: 30, 728: 30, 729: 30, 730: 30, 731: 30, 732: 30, 733: 30, 734: 30, 735: 30, 736: 30, 737: 30, 738: 30, 739: 30, 740: 30, 741: 30, 742: 30, 743: 30, 744: 30, 745: 30, 746: 30, 747: 30, 748: 30, 749: 30, 750: 30, 751: 30, 752: 30, 753: 30, 754: 30, 755: 30, 756: 30, 757: 30, 758: 30, 759: 30, 760: 30, 761: 30, 762: 30, 763: 30, 764: 30, 765: 30, 766: 30, 767: 30, 768: 30, 769: 30, 770: 30, 771: 30, 772: 30, 773: 30, 774: 30, 775: 30, 776: 30, 777: 30, 778: 30, 779: 30, 780: 30, 781: 30, 782: 30, 783: 30, 784: 30, 785: 30, 786: 30, 787: 30, 788: 30, 789: 30, 790: 30, 791: 30, 792: 30, 793: 30, 794: 30, 795: 30, 796: 30, 797: 30, 798: 30, 799: 30, 800: 30, 801: 30, 802: 30, 803: 30, 804: 30, 805: 30, 806: 30, 807: 30, 808: 30, 809: 30, 810: 30, 811: 30, 812: 30, 813: 30, 814: 30, 815: 30, 816: 30, 817: 30, 818: 30, 819: 30, 820: 30, 821: 30, 822: 30, 823: 30, 824: 30, 825: 30, 826: 30, 827: 30, 828: 30, 829: 30, 830: 30, 831: 30, 832: 30, 833: 30, 834: 30, 835: 30, 836: 30, 837: 30, 838: 30, 839: 30, 840: 30, 841: 30, 842: 30, 843: 30, 844: 30, 845: 30, 846: 30, 847: 30, 848: 30, 849: 30, 850: 30, 851: 30, 852: 30, 853: 30, 854: 30, 855: 30, 856: 30, 857: 30, 858: 30, 859: 30, 860: 30, 861: 30, 862: 30, 863: 30, 864: 30, 865: 30, 866: 30, 867: 30, 868: 30, 869: 30, 870: 30, 871: 30, 872: 30, 873: 30, 874: 30, 875: 30, 876: 30, 877: 30, 878: 30, 879: 30, 880: 30, 881: 30, 882: 30, 883: 30, 884: 30, 885: 30, 886: 30, 887: 30, 888: 30, 889: 30, 890: 30, 891: 30, 892: 30, 893: 30, 894: 30, 895: 30, 896: 30, 897: 30, 898: 30, 899: 30, 900: 30, 901: 30, 902: 30, 903: 30, 904: 30, 905: 30, 906: 30, 907: 30, 908: 30, 909: 30, 910: 30, 911: 30, 912: 30, 913: 30, 914: 30, 915: 30, 916: 30, 917: 30, 918: 30, 919: 30, 920: 30, 921: 30, 922: 30, 923: 30, 924: 30, 925: 30, 926: 30, 927: 30, 928: 30, 929: 30, 930: 30, 931: 30, 932: 30, 933: 30, 934: 30, 935: 30, 936: 30, 937: 30, 938: 30, 939: 30, 940: 30, 941: 30, 942: 30, 943: 30, 944: 30, 945: 30, 946: 30, 947: 30, 948: 30, 949: 30, 950: 30, 951: 30, 952: 30, 953: 1}\n",
            "{0: 30, 1: 30, 2: 30, 3: 30, 4: 30, 5: 30, 6: 30, 7: 30, 8: 30, 9: 30, 10: 30, 11: 30, 12: 30, 13: 30, 14: 30, 15: 30, 16: 30, 17: 30, 18: 30, 19: 30, 20: 30, 21: 30, 22: 30, 23: 30, 24: 30, 25: 30, 26: 30, 27: 30, 28: 30, 29: 30, 30: 30, 31: 30, 32: 30, 33: 30, 34: 30, 35: 30, 36: 30, 37: 30, 38: 30, 39: 30, 40: 30, 41: 30, 42: 30, 43: 30, 44: 30, 45: 30, 46: 30, 47: 30, 48: 30, 49: 30, 50: 30, 51: 30, 52: 30, 53: 30, 54: 30, 55: 30, 56: 30, 57: 30, 58: 30, 59: 30, 60: 30, 61: 30, 62: 30, 63: 30, 64: 30, 65: 30, 66: 30, 67: 30, 68: 30, 69: 30, 70: 30, 71: 30, 72: 30, 73: 30, 74: 30, 75: 30, 76: 30, 77: 30, 78: 30, 79: 30, 80: 30, 81: 30, 82: 30, 83: 30, 84: 30, 85: 30, 86: 30, 87: 30, 88: 30, 89: 30, 90: 30, 91: 30, 92: 30, 93: 30, 94: 30, 95: 30, 96: 30, 97: 30, 98: 30, 99: 30, 100: 30, 101: 30, 102: 30, 103: 30, 104: 30, 105: 30, 106: 30, 107: 30, 108: 30, 109: 30, 110: 30, 111: 30, 112: 30, 113: 30, 114: 30, 115: 30, 116: 30, 117: 30, 118: 30, 119: 30, 120: 30, 121: 30, 122: 6}\n",
            "{0: 30, 1: 30, 2: 30, 3: 30, 4: 30, 5: 30, 6: 30, 7: 30, 8: 30, 9: 30, 10: 30, 11: 30, 12: 30, 13: 30, 14: 30, 15: 30, 16: 30, 17: 30, 18: 30, 19: 30, 20: 30, 21: 30, 22: 30, 23: 30, 24: 30, 25: 30, 26: 30, 27: 30, 28: 30, 29: 30, 30: 30, 31: 30, 32: 30, 33: 30, 34: 30, 35: 30, 36: 30, 37: 30, 38: 30, 39: 30, 40: 30, 41: 30, 42: 30, 43: 30, 44: 30, 45: 30, 46: 30, 47: 30, 48: 30, 49: 30, 50: 30, 51: 30, 52: 30, 53: 30, 54: 30, 55: 30, 56: 30, 57: 30, 58: 30, 59: 30, 60: 30, 61: 30, 62: 30, 63: 30, 64: 30, 65: 30, 66: 30, 67: 30, 68: 30, 69: 30, 70: 30, 71: 30, 72: 30, 73: 30, 74: 30, 75: 30, 76: 30, 77: 30, 78: 30, 79: 30, 80: 30, 81: 30, 82: 30, 83: 30, 84: 30, 85: 30, 86: 30, 87: 30, 88: 30, 89: 30, 90: 30, 91: 30, 92: 30, 93: 30, 94: 30, 95: 30, 96: 30, 97: 30, 98: 30, 99: 30, 100: 30, 101: 30, 102: 30, 103: 30, 104: 30, 105: 30, 106: 30, 107: 30, 108: 30, 109: 30, 110: 30, 111: 30, 112: 30, 113: 30, 114: 30, 115: 30, 116: 30, 117: 30, 118: 30, 119: 30, 120: 30, 121: 30, 122: 30, 123: 30, 124: 30, 125: 30, 126: 30, 127: 30, 128: 30, 129: 30, 130: 30, 131: 30, 132: 30, 133: 30, 134: 30, 135: 30, 136: 30, 137: 30, 138: 30, 139: 30, 140: 30, 141: 30, 142: 30, 143: 30, 144: 30, 145: 30, 146: 30, 147: 30, 148: 30, 149: 30, 150: 30, 151: 30, 152: 30, 153: 30, 154: 30, 155: 30, 156: 30, 157: 30, 158: 30, 159: 30, 160: 30, 161: 30, 162: 30, 163: 30, 164: 30, 165: 30, 166: 30, 167: 30, 168: 30, 169: 30, 170: 30, 171: 30, 172: 30, 173: 30, 174: 30, 175: 30, 176: 30, 177: 30, 178: 30, 179: 30, 180: 30, 181: 30, 182: 30, 183: 30, 184: 30, 185: 30, 186: 30, 187: 30, 188: 30, 189: 30, 190: 30, 191: 30, 192: 30, 193: 30, 194: 30, 195: 30, 196: 30, 197: 30, 198: 30, 199: 30, 200: 30, 201: 30, 202: 30, 203: 30, 204: 30, 205: 30, 206: 30, 207: 30, 208: 30, 209: 30, 210: 30, 211: 30, 212: 30, 213: 30, 214: 30, 215: 30, 216: 30, 217: 30, 218: 30, 219: 30, 220: 30, 221: 30, 222: 30, 223: 30, 224: 30, 225: 30, 226: 30, 227: 30, 228: 30, 229: 30, 230: 30, 231: 30, 232: 30, 233: 30, 234: 30, 235: 30, 236: 30, 237: 30, 238: 30, 239: 30, 240: 30, 241: 30, 242: 30, 243: 30, 244: 30, 245: 30, 246: 30, 247: 30, 248: 30, 249: 30, 250: 30, 251: 30, 252: 30, 253: 30, 254: 30, 255: 30, 256: 30, 257: 30, 258: 30, 259: 30, 260: 30, 261: 30, 262: 30, 263: 30, 264: 30, 265: 30, 266: 30, 267: 30, 268: 30, 269: 30, 270: 30, 271: 30, 272: 30, 273: 30, 274: 30, 275: 30, 276: 30, 277: 30, 278: 30, 279: 30, 280: 30, 281: 30, 282: 30, 283: 30, 284: 30, 285: 30, 286: 30, 287: 30, 288: 30, 289: 30, 290: 30, 291: 30, 292: 30, 293: 30, 294: 30, 295: 30, 296: 30, 297: 30, 298: 30, 299: 30, 300: 30, 301: 30, 302: 30, 303: 30, 304: 30, 305: 30, 306: 30, 307: 30, 308: 30, 309: 30, 310: 30, 311: 30, 312: 30, 313: 30, 314: 30, 315: 30, 316: 30, 317: 30, 318: 30, 319: 30, 320: 30, 321: 30, 322: 30, 323: 30, 324: 30, 325: 30, 326: 30, 327: 30, 328: 30, 329: 30, 330: 30, 331: 30, 332: 30, 333: 30, 334: 30, 335: 30, 336: 30, 337: 30, 338: 30, 339: 30, 340: 30, 341: 30, 342: 30, 343: 30, 344: 30, 345: 30, 346: 30, 347: 30, 348: 30, 349: 30, 350: 30, 351: 30, 352: 30, 353: 30, 354: 30, 355: 30, 356: 30, 357: 30, 358: 30, 359: 30, 360: 30, 361: 30, 362: 30, 363: 30, 364: 30, 365: 30, 366: 30, 367: 30, 368: 30, 369: 30, 370: 30, 371: 30, 372: 30, 373: 30, 374: 30, 375: 30, 376: 30, 377: 30, 378: 30, 379: 30, 380: 30, 381: 30, 382: 30, 383: 30, 384: 30, 385: 30, 386: 30, 387: 30, 388: 30, 389: 30, 390: 30, 391: 30, 392: 30, 393: 30, 394: 30, 395: 30, 396: 30, 397: 30, 398: 30, 399: 30, 400: 30, 401: 30, 402: 30, 403: 30, 404: 30, 405: 30, 406: 30, 407: 30, 408: 30, 409: 30, 410: 30, 411: 30, 412: 30, 413: 30, 414: 30, 415: 30, 416: 30, 417: 30, 418: 30, 419: 30, 420: 30, 421: 30, 422: 30, 423: 30, 424: 30, 425: 30, 426: 30, 427: 30, 428: 30, 429: 30, 430: 30, 431: 30, 432: 30, 433: 30, 434: 30, 435: 30, 436: 30, 437: 30, 438: 30, 439: 30, 440: 30, 441: 30, 442: 30, 443: 30, 444: 30, 445: 30, 446: 30, 447: 30, 448: 30, 449: 30, 450: 30, 451: 30, 452: 30, 453: 30, 454: 30, 455: 30, 456: 30, 457: 30, 458: 30, 459: 30, 460: 30, 461: 30, 462: 30, 463: 30, 464: 30, 465: 30, 466: 30, 467: 30, 468: 30, 469: 30, 470: 30, 471: 30, 472: 30, 473: 30, 474: 30, 475: 30, 476: 30, 477: 30, 478: 30, 479: 30, 480: 30, 481: 30, 482: 30, 483: 30, 484: 30, 485: 30, 486: 30, 487: 30, 488: 30, 489: 30, 490: 30, 491: 30, 492: 30, 493: 30, 494: 30, 495: 30, 496: 30, 497: 30, 498: 30, 499: 30, 500: 30, 501: 30, 502: 30, 503: 30, 504: 30, 505: 30, 506: 30, 507: 30, 508: 30, 509: 30, 510: 30, 511: 30, 512: 30, 513: 30, 514: 30, 515: 30, 516: 30, 517: 30, 518: 30, 519: 30, 520: 30, 521: 30, 522: 30, 523: 30, 524: 30, 525: 30, 526: 30, 527: 30, 528: 30, 529: 30, 530: 30, 531: 30, 532: 30, 533: 30, 534: 30, 535: 30, 536: 30, 537: 30, 538: 30, 539: 30, 540: 30, 541: 30, 542: 30, 543: 30, 544: 30, 545: 30, 546: 30, 547: 30, 548: 30, 549: 30, 550: 30, 551: 30, 552: 30, 553: 30, 554: 30, 555: 30, 556: 30, 557: 30, 558: 30, 559: 30, 560: 30, 561: 30, 562: 30, 563: 30, 564: 30, 565: 30, 566: 30, 567: 30, 568: 30, 569: 30, 570: 30, 571: 30, 572: 30, 573: 30, 574: 30, 575: 30, 576: 30, 577: 30, 578: 30, 579: 30, 580: 30, 581: 30, 582: 30, 583: 30, 584: 30, 585: 30, 586: 30, 587: 30, 588: 30, 589: 30, 590: 30, 591: 30, 592: 30, 593: 30, 594: 30, 595: 30, 596: 30, 597: 30, 598: 30, 599: 30, 600: 30, 601: 30, 602: 30, 603: 30, 604: 30, 605: 30, 606: 30, 607: 30, 608: 30, 609: 30, 610: 30, 611: 30, 612: 30, 613: 30, 614: 30, 615: 30, 616: 30, 617: 30, 618: 30, 619: 30, 620: 30, 621: 30, 622: 30, 623: 30, 624: 30, 625: 30, 626: 30, 627: 30, 628: 30, 629: 30, 630: 30, 631: 30, 632: 30, 633: 30, 634: 30, 635: 30, 636: 30, 637: 30, 638: 30, 639: 30, 640: 30, 641: 30, 642: 30, 643: 30, 644: 30, 645: 30, 646: 30, 647: 30, 648: 30, 649: 30, 650: 30, 651: 30, 652: 30, 653: 30, 654: 30, 655: 30, 656: 30, 657: 30, 658: 30, 659: 30, 660: 30, 661: 30, 662: 30, 663: 30, 664: 30, 665: 30, 666: 30, 667: 30, 668: 30, 669: 30, 670: 30, 671: 30, 672: 30, 673: 30, 674: 30, 675: 30, 676: 30, 677: 30, 678: 30, 679: 30, 680: 30, 681: 30, 682: 30, 683: 30, 684: 30, 685: 30, 686: 30, 687: 30, 688: 30, 689: 30, 690: 30, 691: 30, 692: 30, 693: 30, 694: 30, 695: 30, 696: 30, 697: 30, 698: 30, 699: 30, 700: 30, 701: 30, 702: 30, 703: 30, 704: 30, 705: 30, 706: 30, 707: 30, 708: 30, 709: 30, 710: 30, 711: 30, 712: 30, 713: 30, 714: 30, 715: 30, 716: 30, 717: 30, 718: 30, 719: 30, 720: 30, 721: 30, 722: 30, 723: 30, 724: 30, 725: 30, 726: 30, 727: 30, 728: 30, 729: 30, 730: 30, 731: 30, 732: 30, 733: 30, 734: 30, 735: 30, 736: 30, 737: 30, 738: 30, 739: 30, 740: 30, 741: 30, 742: 30, 743: 30, 744: 30, 745: 30, 746: 30, 747: 30, 748: 30, 749: 30, 750: 30, 751: 30, 752: 30, 753: 30, 754: 30, 755: 30, 756: 30, 757: 30, 758: 30, 759: 30, 760: 30, 761: 30, 762: 30, 763: 30, 764: 30, 765: 30, 766: 30, 767: 30, 768: 30, 769: 30, 770: 30, 771: 30, 772: 30, 773: 30, 774: 30, 775: 30, 776: 30, 777: 30, 778: 30, 779: 30, 780: 30, 781: 30, 782: 30, 783: 30, 784: 30, 785: 30, 786: 30, 787: 30, 788: 30, 789: 30, 790: 30, 791: 30, 792: 30, 793: 30, 794: 30, 795: 30, 796: 30, 797: 30, 798: 30, 799: 30, 800: 30, 801: 30, 802: 30, 803: 30, 804: 30, 805: 30, 806: 30, 807: 30, 808: 30, 809: 30, 810: 30, 811: 30, 812: 30, 813: 30, 814: 30, 815: 30, 816: 30, 817: 30, 818: 30, 819: 30, 820: 30, 821: 30, 822: 30, 823: 30, 824: 30, 825: 30, 826: 30, 827: 30, 828: 30, 829: 30, 830: 30, 831: 30, 832: 30, 833: 30, 834: 30, 835: 30, 836: 30, 837: 30, 838: 30, 839: 30, 840: 30, 841: 30, 842: 30, 843: 30, 844: 30, 845: 30, 846: 30, 847: 30, 848: 30, 849: 30, 850: 30, 851: 30, 852: 30, 853: 30, 854: 30, 855: 30, 856: 30, 857: 30, 858: 30, 859: 30, 860: 30, 861: 30, 862: 30, 863: 30, 864: 30, 865: 30, 866: 30, 867: 30, 868: 30, 869: 30, 870: 30, 871: 30, 872: 30, 873: 30, 874: 30, 875: 30, 876: 30, 877: 30, 878: 30, 879: 30, 880: 30, 881: 30, 882: 30, 883: 30, 884: 30, 885: 30, 886: 30, 887: 30, 888: 30, 889: 30, 890: 30, 891: 30, 892: 30, 893: 30, 894: 30, 895: 30, 896: 30, 897: 30, 898: 30, 899: 30, 900: 30, 901: 30, 902: 30, 903: 30, 904: 30, 905: 30, 906: 30, 907: 30, 908: 30, 909: 30, 910: 30, 911: 30, 912: 30, 913: 30, 914: 30, 915: 30, 916: 30, 917: 30, 918: 30, 919: 30, 920: 30, 921: 30, 922: 30, 923: 30, 924: 30, 925: 30, 926: 30, 927: 30, 928: 30, 929: 30, 930: 30, 931: 30, 932: 30, 933: 30, 934: 30, 935: 30, 936: 30, 937: 30, 938: 30, 939: 30, 940: 30, 941: 30, 942: 30, 943: 30, 944: 30, 945: 30, 946: 30, 947: 30, 948: 30, 949: 30, 950: 30, 951: 30, 952: 30, 953: 30, 954: 30, 955: 30, 956: 30, 957: 1}\n",
            "{0: 30, 1: 30, 2: 30, 3: 30, 4: 30, 5: 30, 6: 30, 7: 30, 8: 30, 9: 30, 10: 30, 11: 30, 12: 30, 13: 30, 14: 30, 15: 30, 16: 30, 17: 30, 18: 30, 19: 30, 20: 30, 21: 30, 22: 30, 23: 30, 24: 30, 25: 30, 26: 30, 27: 30, 28: 30, 29: 30, 30: 30, 31: 30, 32: 30, 33: 30, 34: 30, 35: 30, 36: 30, 37: 30, 38: 30, 39: 30, 40: 30, 41: 30, 42: 30, 43: 30, 44: 30, 45: 30, 46: 30, 47: 30, 48: 30, 49: 30, 50: 30, 51: 30, 52: 30, 53: 30, 54: 30, 55: 30, 56: 30, 57: 30, 58: 30, 59: 30, 60: 30, 61: 30, 62: 30, 63: 30, 64: 30, 65: 30, 66: 30, 67: 30, 68: 30, 69: 30, 70: 30, 71: 30, 72: 30, 73: 30, 74: 30, 75: 30, 76: 30, 77: 30, 78: 30, 79: 30, 80: 30, 81: 30, 82: 30, 83: 30, 84: 30, 85: 30, 86: 30, 87: 30, 88: 30, 89: 30, 90: 30, 91: 30, 92: 30, 93: 30, 94: 30, 95: 30, 96: 30, 97: 30, 98: 30, 99: 30, 100: 30, 101: 30, 102: 30, 103: 30, 104: 30, 105: 30, 106: 30, 107: 30, 108: 30, 109: 30, 110: 30, 111: 30, 112: 30, 113: 30, 114: 30, 115: 30, 116: 30, 117: 30, 118: 30, 119: 30, 120: 30, 121: 30, 122: 30, 123: 30, 124: 30, 125: 30, 126: 30, 127: 30, 128: 30, 129: 30, 130: 30, 131: 30, 132: 30, 133: 30, 134: 30, 135: 30, 136: 30, 137: 30, 138: 30, 139: 30, 140: 30, 141: 30, 142: 30, 143: 30, 144: 30, 145: 30, 146: 30, 147: 30, 148: 30, 149: 30, 150: 30, 151: 30, 152: 30, 153: 30, 154: 30, 155: 30, 156: 30, 157: 30, 158: 30, 159: 30, 160: 30, 161: 30, 162: 30, 163: 30, 164: 30, 165: 30, 166: 30, 167: 30, 168: 30, 169: 30, 170: 30, 171: 30, 172: 30, 173: 30, 174: 30, 175: 30, 176: 30, 177: 30, 178: 30, 179: 30, 180: 30, 181: 30, 182: 30, 183: 30, 184: 30, 185: 30, 186: 30, 187: 30, 188: 30, 189: 30, 190: 30, 191: 30, 192: 30, 193: 30, 194: 30, 195: 30, 196: 30, 197: 30, 198: 30, 199: 30, 200: 30, 201: 30, 202: 30, 203: 30, 204: 30, 205: 30, 206: 30, 207: 30, 208: 30, 209: 30, 210: 30, 211: 30, 212: 30, 213: 30, 214: 30, 215: 30, 216: 30, 217: 30, 218: 30, 219: 30, 220: 30, 221: 30, 222: 30, 223: 30, 224: 30, 225: 30, 226: 30, 227: 30, 228: 30, 229: 30, 230: 30, 231: 30, 232: 30, 233: 30, 234: 30, 235: 30, 236: 30, 237: 30, 238: 30, 239: 30, 240: 30, 241: 30, 242: 30, 243: 30, 244: 30, 245: 30, 246: 30, 247: 30, 248: 30, 249: 30, 250: 30, 251: 30, 252: 30, 253: 30, 254: 30, 255: 30, 256: 30, 257: 30, 258: 30, 259: 30, 260: 30, 261: 30, 262: 30, 263: 30, 264: 30, 265: 30, 266: 30, 267: 30, 268: 30, 269: 30, 270: 30, 271: 30, 272: 30, 273: 30, 274: 30, 275: 30, 276: 30, 277: 30, 278: 30, 279: 30, 280: 30, 281: 30, 282: 30, 283: 30, 284: 30, 285: 30, 286: 30, 287: 30, 288: 30, 289: 30, 290: 30, 291: 30, 292: 30, 293: 30, 294: 30, 295: 30, 296: 30, 297: 30, 298: 30, 299: 30, 300: 30, 301: 30, 302: 30, 303: 30, 304: 30, 305: 30, 306: 30, 307: 30, 308: 30, 309: 30, 310: 30, 311: 30, 312: 30, 313: 30, 314: 30, 315: 30, 316: 30, 317: 30, 318: 30, 319: 30, 320: 30, 321: 30, 322: 30, 323: 30, 324: 30, 325: 30, 326: 30, 327: 30, 328: 30, 329: 30, 330: 30, 331: 30, 332: 30, 333: 30, 334: 30, 335: 30, 336: 30, 337: 30, 338: 30, 339: 30, 340: 30, 341: 30, 342: 30, 343: 30, 344: 30, 345: 30, 346: 30, 347: 30, 348: 30, 349: 30, 350: 30, 351: 30, 352: 30, 353: 30, 354: 30, 355: 30, 356: 30, 357: 30, 358: 30, 359: 30, 360: 30, 361: 30, 362: 30, 363: 30, 364: 30, 365: 30, 366: 30, 367: 30, 368: 30, 369: 30, 370: 30, 371: 30, 372: 30, 373: 30, 374: 30, 375: 30, 376: 30, 377: 30, 378: 30, 379: 30, 380: 30, 381: 30, 382: 30, 383: 30, 384: 30, 385: 30, 386: 30, 387: 30, 388: 30, 389: 30, 390: 30, 391: 30, 392: 30, 393: 30, 394: 30, 395: 30, 396: 30, 397: 30, 398: 30, 399: 30, 400: 30, 401: 30, 402: 30, 403: 30, 404: 30, 405: 30, 406: 30, 407: 30, 408: 30, 409: 30, 410: 30, 411: 30, 412: 30, 413: 30, 414: 30, 415: 30, 416: 30, 417: 30, 418: 30, 419: 30, 420: 30, 421: 30, 422: 30, 423: 30, 424: 30, 425: 30, 426: 30, 427: 30, 428: 30, 429: 30, 430: 30, 431: 30, 432: 30, 433: 30, 434: 30, 435: 30, 436: 30, 437: 30, 438: 30, 439: 30, 440: 30, 441: 30, 442: 30, 443: 30, 444: 30, 445: 30, 446: 30, 447: 30, 448: 30, 449: 30, 450: 30, 451: 30, 452: 30, 453: 30, 454: 30, 455: 30, 456: 30, 457: 30, 458: 30, 459: 30, 460: 30, 461: 30, 462: 30, 463: 30, 464: 30, 465: 30, 466: 30, 467: 30, 468: 30, 469: 30, 470: 30, 471: 30, 472: 30, 473: 30, 474: 30, 475: 30, 476: 30, 477: 30, 478: 30, 479: 30, 480: 30, 481: 30, 482: 30, 483: 30, 484: 30, 485: 30, 486: 30, 487: 30, 488: 30, 489: 30, 490: 30, 491: 30, 492: 30, 493: 30, 494: 30, 495: 30, 496: 30, 497: 30, 498: 30, 499: 30, 500: 30, 501: 30, 502: 30, 503: 30, 504: 30, 505: 30, 506: 30, 507: 30, 508: 30, 509: 30, 510: 30, 511: 30, 512: 30, 513: 30, 514: 30, 515: 30, 516: 30, 517: 30, 518: 30, 519: 30, 520: 30, 521: 30, 522: 30, 523: 30, 524: 30, 525: 30, 526: 30, 527: 30, 528: 30, 529: 30, 530: 30, 531: 30, 532: 30, 533: 30, 534: 30, 535: 30, 536: 30, 537: 30, 538: 30, 539: 30, 540: 30, 541: 30, 542: 30, 543: 30, 544: 30, 545: 30, 546: 30, 547: 30, 548: 30, 549: 30, 550: 30, 551: 30, 552: 30, 553: 30, 554: 30, 555: 30, 556: 30, 557: 30, 558: 30, 559: 30, 560: 30, 561: 30, 562: 30, 563: 30, 564: 30, 565: 30, 566: 30, 567: 30, 568: 30, 569: 30, 570: 30, 571: 30, 572: 30, 573: 30, 574: 30, 575: 30, 576: 30, 577: 30, 578: 30, 579: 30, 580: 30, 581: 30, 582: 30, 583: 30, 584: 30, 585: 30, 586: 30, 587: 30, 588: 30, 589: 30, 590: 30, 591: 30, 592: 30, 593: 30, 594: 30, 595: 30, 596: 30, 597: 30, 598: 30, 599: 30, 600: 30, 601: 30, 602: 30, 603: 30, 604: 30, 605: 30, 606: 30, 607: 30, 608: 30, 609: 30, 610: 30, 611: 30, 612: 30, 613: 30, 614: 30, 615: 30, 616: 30, 617: 30, 618: 30, 619: 30, 620: 30, 621: 30, 622: 30, 623: 30, 624: 30, 625: 30, 626: 30, 627: 30, 628: 30, 629: 30, 630: 30, 631: 30, 632: 30, 633: 30, 634: 30, 635: 30, 636: 30, 637: 30, 638: 30, 639: 30, 640: 30, 641: 30, 642: 30, 643: 30, 644: 30, 645: 30, 646: 30, 647: 30, 648: 30, 649: 30, 650: 30, 651: 30, 652: 30, 653: 30, 654: 30, 655: 30, 656: 30, 657: 30, 658: 30, 659: 30, 660: 30, 661: 30, 662: 30, 663: 30, 664: 30, 665: 30, 666: 30, 667: 30, 668: 30, 669: 30, 670: 30, 671: 30, 672: 30, 673: 30, 674: 30, 675: 30, 676: 30, 677: 30, 678: 30, 679: 30, 680: 30, 681: 30, 682: 30, 683: 30, 684: 30, 685: 30, 686: 30, 687: 30, 688: 30, 689: 30, 690: 30, 691: 30, 692: 30, 693: 30, 694: 30, 695: 30, 696: 30, 697: 30, 698: 30, 699: 30, 700: 30, 701: 30, 702: 30, 703: 30, 704: 30, 705: 30, 706: 30, 707: 30, 708: 30, 709: 30, 710: 30, 711: 30, 712: 30, 713: 30, 714: 30, 715: 30, 716: 30, 717: 30, 718: 30, 719: 30, 720: 30, 721: 30, 722: 30, 723: 30, 724: 30, 725: 30, 726: 30, 727: 30, 728: 30, 729: 30, 730: 30, 731: 30, 732: 30, 733: 30, 734: 30, 735: 30, 736: 30, 737: 30, 738: 30, 739: 30, 740: 30, 741: 30, 742: 30, 743: 30, 744: 30, 745: 30, 746: 30, 747: 30, 748: 30, 749: 30, 750: 30, 751: 30, 752: 30, 753: 30, 754: 30, 755: 30, 756: 30, 757: 30, 758: 30, 759: 30, 760: 30, 761: 30, 762: 30, 763: 30, 764: 30, 765: 30, 766: 30, 767: 30, 768: 30, 769: 30, 770: 30, 771: 30, 772: 30, 773: 30, 774: 30, 775: 30, 776: 30, 777: 30, 778: 30, 779: 30, 780: 30, 781: 30, 782: 30, 783: 30, 784: 30, 785: 30, 786: 30, 787: 30, 788: 30, 789: 30, 790: 30, 791: 30, 792: 30, 793: 30, 794: 30, 795: 30, 796: 30, 797: 30, 798: 30, 799: 30, 800: 30, 801: 30, 802: 30, 803: 30, 804: 30, 805: 30, 806: 30, 807: 30, 808: 30, 809: 30, 810: 30, 811: 30, 812: 30, 813: 30, 814: 30, 815: 30, 816: 30, 817: 30, 818: 30, 819: 30, 820: 30, 821: 30, 822: 30, 823: 30, 824: 30, 825: 30, 826: 30, 827: 30, 828: 30, 829: 30, 830: 30, 831: 30, 832: 30, 833: 30, 834: 30, 835: 30, 836: 30, 837: 30, 838: 30, 839: 30, 840: 30, 841: 30, 842: 30, 843: 30, 844: 30, 845: 30, 846: 30, 847: 30, 848: 30, 849: 30, 850: 30, 851: 30, 852: 30, 853: 30, 854: 30, 855: 30, 856: 30, 857: 30, 858: 30, 859: 30, 860: 30, 861: 30, 862: 30, 863: 30, 864: 30, 865: 30, 866: 30, 867: 30, 868: 30, 869: 30, 870: 30, 871: 30, 872: 30, 873: 30, 874: 30, 875: 30, 876: 30, 877: 30, 878: 30, 879: 30, 880: 30, 881: 30, 882: 30, 883: 30, 884: 30, 885: 30, 886: 30, 887: 30, 888: 30, 889: 30, 890: 30, 891: 30, 892: 30, 893: 30, 894: 30, 895: 30, 896: 30, 897: 30, 898: 30, 899: 30, 900: 30, 901: 30, 902: 30, 903: 30, 904: 30, 905: 30, 906: 30, 907: 30, 908: 30, 909: 30, 910: 30, 911: 30, 912: 30, 913: 30, 914: 30, 915: 30, 916: 30, 917: 30, 918: 30, 919: 30, 920: 30, 921: 30, 922: 30, 923: 30, 924: 30, 925: 30, 926: 30, 927: 30, 928: 30, 929: 30, 930: 30, 931: 30, 932: 30, 933: 30, 934: 30, 935: 30, 936: 30, 937: 30, 938: 30, 939: 30, 940: 30, 941: 30, 942: 30, 943: 30, 944: 30, 945: 30, 946: 30, 947: 30, 948: 30, 949: 30, 950: 30, 951: 30, 952: 30, 953: 30, 954: 1}\n",
            "{0: 29, 1: 30, 2: 30, 3: 30, 4: 30, 5: 30, 6: 30, 7: 30, 8: 30, 9: 30, 10: 30, 11: 30, 12: 30, 13: 30, 14: 30, 15: 30, 16: 30, 17: 30, 18: 30, 19: 30, 20: 30, 21: 30, 22: 30, 23: 30, 24: 30, 25: 30, 26: 30, 27: 30, 28: 30, 29: 30, 30: 30, 31: 30, 32: 30, 33: 30, 34: 30, 35: 30, 36: 30, 37: 30, 38: 30, 39: 30, 40: 30, 41: 30, 42: 30, 43: 30, 44: 30, 45: 30, 46: 30, 47: 30, 48: 30, 49: 30, 50: 30, 51: 30, 52: 30, 53: 30, 54: 30, 55: 30, 56: 30, 57: 30, 58: 30, 59: 30, 60: 30, 61: 30, 62: 30, 63: 30, 64: 30, 65: 30, 66: 30, 67: 30, 68: 30, 69: 30, 70: 30, 71: 30, 72: 30, 73: 30, 74: 30, 75: 30, 76: 30, 77: 30, 78: 30, 79: 30, 80: 30, 81: 30, 82: 30, 83: 30, 84: 30, 85: 30, 86: 30, 87: 30, 88: 30, 89: 30, 90: 30, 91: 30, 92: 30, 93: 30, 94: 30, 95: 30, 96: 30, 97: 30, 98: 30, 99: 30, 100: 30, 101: 30, 102: 30, 103: 30, 104: 30, 105: 30, 106: 30, 107: 30, 108: 30, 109: 30, 110: 30, 111: 30, 112: 30, 113: 30, 114: 30, 115: 30, 116: 30, 117: 30, 118: 30, 119: 30, 120: 30, 121: 30, 122: 30, 123: 30, 124: 30, 125: 30, 126: 30, 127: 30, 128: 30, 129: 30, 130: 30, 131: 30, 132: 30, 133: 30, 134: 30, 135: 30, 136: 30, 137: 30, 138: 30, 139: 30, 140: 30, 141: 30, 142: 30, 143: 30, 144: 30, 145: 30, 146: 30, 147: 30, 148: 30, 149: 30, 150: 30, 151: 30, 152: 30, 153: 30, 154: 30, 155: 30, 156: 30, 157: 30, 158: 30, 159: 30, 160: 30, 161: 30, 162: 30, 163: 30, 164: 30, 165: 30, 166: 30, 167: 30, 168: 30, 169: 30, 170: 30, 171: 30, 172: 30, 173: 30, 174: 30, 175: 30, 176: 30, 177: 30, 178: 30, 179: 30, 180: 30, 181: 30, 182: 30, 183: 30, 184: 30, 185: 30, 186: 30, 187: 30, 188: 30, 189: 30, 190: 30, 191: 30, 192: 30, 193: 30, 194: 30, 195: 30, 196: 30, 197: 30, 198: 30, 199: 30, 200: 30, 201: 30, 202: 30, 203: 30, 204: 30, 205: 30, 206: 30, 207: 30, 208: 30, 209: 30, 210: 30, 211: 30, 212: 30, 213: 30, 214: 30, 215: 30, 216: 30, 217: 30, 218: 30, 219: 30, 220: 30, 221: 30, 222: 30, 223: 30, 224: 30, 225: 30, 226: 30, 227: 30, 228: 30, 229: 30, 230: 30, 231: 30, 232: 30, 233: 30, 234: 30, 235: 30, 236: 30, 237: 30, 238: 30, 239: 30, 240: 30, 241: 30, 242: 30, 243: 30, 244: 30, 245: 30, 246: 30, 247: 30, 248: 30, 249: 30, 250: 30, 251: 30, 252: 30, 253: 30, 254: 30, 255: 30, 256: 30, 257: 30, 258: 30, 259: 30, 260: 30, 261: 30, 262: 30, 263: 30, 264: 30, 265: 30, 266: 30, 267: 30, 268: 30, 269: 30, 270: 30, 271: 30, 272: 30, 273: 30, 274: 30, 275: 30, 276: 30, 277: 30, 278: 30, 279: 30, 280: 30, 281: 30, 282: 30, 283: 30, 284: 30, 285: 30, 286: 30, 287: 30, 288: 30, 289: 30, 290: 30, 291: 30, 292: 30, 293: 30, 294: 30, 295: 30, 296: 30, 297: 30, 298: 30, 299: 30, 300: 30, 301: 30, 302: 30, 303: 30, 304: 30, 305: 30, 306: 30, 307: 30, 308: 30, 309: 30, 310: 30, 311: 30, 312: 30, 313: 30, 314: 30, 315: 30, 316: 30, 317: 30, 318: 30, 319: 30, 320: 30, 321: 30, 322: 30, 323: 30, 324: 30, 325: 30, 326: 30, 327: 30, 328: 30, 329: 30, 330: 30, 331: 30, 332: 30, 333: 30, 334: 30, 335: 30, 336: 30, 337: 30, 338: 30, 339: 30, 340: 30, 341: 30, 342: 30, 343: 30, 344: 30, 345: 30, 346: 30, 347: 30, 348: 30, 349: 30, 350: 30, 351: 30, 352: 30, 353: 30, 354: 30, 355: 30, 356: 30, 357: 30, 358: 30, 359: 30, 360: 30, 361: 30, 362: 30, 363: 30, 364: 30, 365: 30, 366: 30, 367: 30, 368: 30, 369: 30, 370: 30, 371: 30, 372: 30, 373: 30, 374: 30, 375: 30, 376: 30, 377: 30, 378: 30, 379: 30, 380: 30, 381: 30, 382: 30, 383: 30, 384: 30, 385: 30, 386: 30, 387: 30, 388: 30, 389: 30, 390: 30, 391: 30, 392: 30, 393: 30, 394: 30, 395: 30, 396: 30, 397: 30, 398: 30, 399: 30, 400: 30, 401: 30, 402: 30, 403: 30, 404: 30, 405: 30, 406: 30, 407: 30, 408: 30, 409: 30, 410: 30, 411: 30, 412: 30, 413: 30, 414: 30, 415: 30, 416: 30, 417: 30, 418: 30, 419: 30, 420: 30, 421: 30, 422: 30, 423: 30, 424: 30, 425: 30, 426: 30, 427: 30, 428: 30, 429: 30, 430: 30, 431: 30, 432: 30, 433: 30, 434: 30, 435: 30, 436: 30, 437: 30, 438: 30, 439: 30, 440: 30, 441: 30, 442: 30, 443: 30, 444: 30, 445: 30, 446: 30, 447: 30, 448: 30, 449: 30, 450: 30, 451: 30, 452: 30, 453: 30, 454: 30, 455: 30, 456: 30, 457: 30, 458: 30, 459: 30, 460: 30, 461: 30, 462: 30, 463: 30, 464: 30, 465: 30, 466: 30, 467: 30, 468: 30, 469: 30, 470: 30, 471: 30, 472: 30, 473: 30, 474: 30, 475: 30, 476: 30, 477: 30, 478: 30, 479: 30, 480: 30, 481: 30, 482: 30, 483: 30, 484: 30, 485: 30, 486: 30, 487: 30, 488: 30, 489: 30, 490: 30, 491: 30, 492: 30, 493: 30, 494: 30, 495: 30, 496: 30, 497: 30, 498: 30, 499: 30, 500: 30, 501: 30, 502: 30, 503: 30, 504: 30, 505: 30, 506: 30, 507: 30, 508: 30, 509: 30, 510: 30, 511: 30, 512: 30, 513: 30, 514: 30, 515: 30, 516: 30, 517: 30, 518: 30, 519: 30, 520: 30, 521: 30, 522: 30, 523: 30, 524: 30, 525: 30, 526: 30, 527: 30, 528: 30, 529: 30, 530: 30, 531: 30, 532: 30, 533: 30, 534: 30, 535: 30, 536: 30, 537: 30, 538: 30, 539: 30, 540: 30, 541: 30, 542: 30, 543: 30, 544: 30, 545: 30, 546: 30, 547: 30, 548: 30, 549: 30, 550: 30, 551: 30, 552: 30, 553: 30, 554: 30, 555: 30, 556: 30, 557: 30, 558: 30, 559: 30, 560: 30, 561: 30, 562: 30, 563: 30, 564: 30, 565: 30, 566: 30, 567: 30, 568: 30, 569: 30, 570: 30, 571: 30, 572: 30, 573: 30, 574: 30, 575: 30, 576: 30, 577: 30, 578: 30, 579: 30, 580: 30, 581: 30, 582: 30, 583: 30, 584: 30, 585: 30, 586: 30, 587: 30, 588: 30, 589: 30, 590: 30, 591: 30, 592: 30, 593: 30, 594: 30, 595: 30, 596: 30, 597: 30, 598: 30, 599: 30, 600: 30, 601: 30, 602: 30, 603: 30, 604: 30, 605: 30, 606: 30, 607: 30, 608: 30, 609: 30, 610: 30, 611: 30, 612: 30, 613: 30, 614: 30, 615: 30, 616: 30, 617: 30, 618: 30, 619: 30, 620: 30, 621: 30, 622: 30, 623: 30, 624: 30, 625: 30, 626: 30, 627: 30, 628: 30, 629: 30, 630: 30, 631: 30, 632: 30, 633: 30, 634: 30, 635: 30, 636: 30, 637: 30, 638: 30, 639: 30, 640: 30, 641: 30, 642: 30, 643: 30, 644: 30, 645: 30, 646: 30, 647: 30, 648: 30, 649: 30, 650: 30, 651: 30, 652: 30, 653: 30, 654: 30, 655: 30, 656: 30, 657: 30, 658: 30, 659: 30, 660: 30, 661: 30, 662: 30, 663: 30, 664: 30, 665: 30, 666: 30, 667: 30, 668: 30, 669: 30, 670: 30, 671: 30, 672: 30, 673: 30, 674: 30, 675: 30, 676: 30, 677: 30, 678: 30, 679: 30, 680: 30, 681: 30, 682: 30, 683: 30, 684: 30, 685: 30, 686: 30, 687: 30, 688: 30, 689: 30, 690: 30, 691: 30, 692: 30, 693: 30, 694: 30, 695: 30, 696: 30, 697: 30, 698: 30, 699: 30, 700: 30, 701: 30, 702: 30, 703: 30, 704: 30, 705: 30, 706: 30, 707: 30, 708: 30, 709: 30, 710: 30, 711: 30, 712: 30, 713: 30, 714: 30, 715: 30, 716: 30, 717: 30, 718: 30, 719: 30, 720: 30, 721: 30, 722: 30, 723: 30, 724: 30, 725: 30, 726: 30, 727: 30, 728: 30, 729: 30, 730: 30, 731: 30, 732: 30, 733: 30, 734: 30, 735: 30, 736: 30, 737: 30, 738: 30, 739: 30, 740: 30, 741: 30, 742: 30, 743: 30, 744: 30, 745: 30, 746: 30, 747: 30, 748: 30, 749: 30, 750: 30, 751: 30, 752: 30, 753: 30, 754: 30, 755: 30, 756: 30, 757: 30, 758: 30, 759: 30, 760: 30, 761: 30, 762: 30, 763: 30, 764: 30, 765: 30, 766: 30, 767: 30, 768: 30, 769: 30, 770: 30, 771: 30, 772: 30, 773: 30, 774: 30, 775: 30, 776: 30, 777: 30, 778: 30, 779: 30, 780: 30, 781: 30, 782: 30, 783: 30, 784: 30, 785: 30, 786: 30, 787: 30, 788: 30, 789: 30, 790: 30, 791: 30, 792: 30, 793: 30, 794: 30, 795: 30, 796: 30, 797: 30, 798: 30, 799: 30, 800: 30, 801: 30, 802: 30, 803: 30, 804: 30, 805: 30, 806: 30, 807: 30, 808: 30, 809: 30, 810: 30, 811: 30, 812: 30, 813: 30, 814: 30, 815: 30, 816: 30, 817: 30, 818: 30, 819: 30, 820: 30, 821: 30, 822: 30, 823: 30, 824: 30, 825: 30, 826: 30, 827: 30, 828: 30, 829: 30, 830: 30, 831: 30, 832: 30, 833: 30, 834: 30, 835: 30, 836: 30, 837: 30, 838: 30, 839: 30, 840: 30, 841: 30, 842: 30, 843: 30, 844: 30, 845: 30, 846: 30, 847: 30, 848: 30, 849: 30, 850: 30, 851: 30, 852: 30, 853: 30, 854: 30, 855: 30, 856: 30, 857: 30, 858: 30, 859: 30, 860: 30, 861: 30, 862: 30, 863: 30, 864: 30, 865: 30, 866: 30, 867: 30, 868: 30, 869: 30, 870: 30, 871: 30, 872: 30, 873: 30, 874: 30, 875: 30, 876: 30, 877: 30, 878: 30, 879: 30, 880: 30, 881: 30, 882: 30, 883: 30, 884: 30, 885: 30, 886: 30, 887: 30, 888: 30, 889: 30, 890: 30, 891: 30, 892: 30, 893: 30, 894: 30, 895: 30, 896: 30, 897: 30, 898: 30, 899: 30, 900: 30, 901: 30, 902: 30, 903: 30, 904: 30, 905: 30, 906: 30, 907: 30, 908: 30, 909: 30, 910: 30, 911: 30, 912: 30, 913: 30, 914: 30, 915: 30, 916: 30, 917: 30, 918: 30, 919: 30, 920: 30, 921: 30, 922: 30, 923: 30, 924: 30, 925: 30, 926: 30, 927: 30, 928: 30, 929: 30, 930: 30, 931: 30, 932: 30, 933: 30, 934: 30, 935: 30, 936: 30, 937: 30, 938: 30, 939: 30, 940: 30, 941: 30, 942: 30, 943: 30, 944: 30, 945: 30, 946: 30, 947: 30, 948: 30, 949: 30, 950: 30, 951: 30, 952: 30, 953: 30, 954: 30, 955: 30, 956: 30, 957: 30, 958: 30, 959: 30, 960: 30, 961: 30, 962: 30, 963: 30, 964: 30, 965: 30, 966: 30, 967: 30, 968: 30, 969: 30, 970: 1}\n",
            "{0: 30, 1: 30, 2: 30, 3: 30, 4: 30, 5: 30, 6: 30, 7: 30, 8: 30, 9: 30, 10: 30, 11: 30, 12: 30, 13: 30, 14: 30, 15: 30, 16: 30, 17: 30, 18: 30, 19: 30, 20: 30, 21: 30, 22: 30, 23: 30, 24: 30, 25: 30, 26: 30, 27: 30, 28: 30, 29: 30, 30: 30, 31: 30, 32: 30, 33: 30, 34: 30, 35: 30, 36: 30, 37: 30, 38: 30, 39: 30, 40: 30, 41: 30, 42: 30, 43: 30, 44: 30, 45: 30, 46: 30, 47: 30, 48: 30, 49: 30, 50: 30, 51: 30, 52: 30, 53: 30, 54: 30, 55: 30, 56: 30, 57: 30, 58: 30, 59: 30, 60: 30, 61: 30, 62: 30, 63: 30, 64: 30, 65: 30, 66: 30, 67: 30, 68: 30, 69: 30, 70: 30, 71: 30, 72: 30, 73: 30, 74: 30, 75: 30, 76: 30, 77: 30, 78: 30, 79: 30, 80: 30, 81: 30, 82: 30, 83: 30, 84: 30, 85: 30, 86: 30, 87: 30, 88: 30, 89: 30, 90: 30, 91: 30, 92: 30, 93: 30, 94: 30, 95: 30, 96: 30, 97: 30, 98: 30, 99: 30, 100: 30, 101: 30, 102: 30, 103: 30, 104: 30, 105: 30, 106: 30, 107: 30, 108: 30, 109: 30, 110: 30, 111: 30, 112: 30, 113: 30, 114: 30, 115: 30, 116: 30, 117: 30, 118: 30, 119: 30, 120: 30, 121: 30, 122: 30, 123: 30, 124: 30, 125: 30, 126: 30, 127: 30, 128: 30, 129: 30, 130: 30, 131: 30, 132: 30, 133: 30, 134: 30, 135: 30, 136: 30, 137: 30, 138: 30, 139: 30, 140: 30, 141: 30, 142: 30, 143: 30, 144: 30, 145: 30, 146: 30, 147: 30, 148: 30, 149: 30, 150: 30, 151: 30, 152: 30, 153: 30, 154: 30, 155: 30, 156: 30, 157: 30, 158: 30, 159: 30, 160: 30, 161: 30, 162: 30, 163: 30, 164: 30, 165: 30, 166: 30, 167: 30, 168: 30, 169: 30, 170: 30, 171: 30, 172: 30, 173: 30, 174: 30, 175: 30, 176: 30, 177: 30, 178: 30, 179: 30, 180: 30, 181: 30, 182: 30, 183: 30, 184: 30, 185: 30, 186: 30, 187: 30, 188: 30, 189: 30, 190: 30, 191: 30, 192: 30, 193: 30, 194: 30, 195: 30, 196: 30, 197: 30, 198: 30, 199: 30, 200: 30, 201: 30, 202: 30, 203: 30, 204: 30, 205: 30, 206: 30, 207: 30, 208: 30, 209: 30, 210: 30, 211: 30, 212: 30, 213: 30, 214: 30, 215: 30, 216: 30, 217: 30, 218: 30, 219: 30, 220: 30, 221: 30, 222: 30, 223: 30, 224: 30, 225: 30, 226: 30, 227: 30, 228: 30, 229: 30, 230: 30, 231: 30, 232: 30, 233: 30, 234: 30, 235: 30, 236: 30, 237: 30, 238: 30, 239: 30, 240: 30, 241: 30, 242: 30, 243: 30, 244: 30, 245: 30, 246: 30, 247: 30, 248: 30, 249: 30, 250: 30, 251: 30, 252: 30, 253: 30, 254: 30, 255: 30, 256: 30, 257: 30, 258: 30, 259: 30, 260: 30, 261: 30, 262: 30, 263: 30, 264: 30, 265: 30, 266: 30, 267: 30, 268: 30, 269: 30, 270: 30, 271: 30, 272: 30, 273: 30, 274: 30, 275: 30, 276: 30, 277: 30, 278: 30, 279: 30, 280: 30, 281: 30, 282: 30, 283: 30, 284: 30, 285: 30, 286: 30, 287: 30, 288: 30, 289: 30, 290: 30, 291: 30, 292: 30, 293: 30, 294: 30, 295: 30, 296: 30, 297: 30, 298: 30, 299: 30, 300: 30, 301: 30, 302: 30, 303: 30, 304: 30, 305: 30, 306: 30, 307: 30, 308: 30, 309: 30, 310: 30, 311: 30, 312: 30, 313: 30, 314: 30, 315: 30, 316: 30, 317: 30, 318: 30, 319: 30, 320: 30, 321: 30, 322: 30, 323: 30, 324: 30, 325: 30, 326: 30, 327: 30, 328: 30, 329: 30, 330: 30, 331: 30, 332: 30, 333: 30, 334: 30, 335: 30, 336: 30, 337: 30, 338: 30, 339: 30, 340: 30, 341: 30, 342: 30, 343: 30, 344: 30, 345: 30, 346: 30, 347: 30, 348: 30, 349: 30, 350: 30, 351: 30, 352: 30, 353: 30, 354: 30, 355: 30, 356: 30, 357: 30, 358: 30, 359: 30, 360: 30, 361: 30, 362: 30, 363: 30, 364: 30, 365: 30, 366: 30, 367: 30, 368: 30, 369: 30, 370: 30, 371: 30, 372: 30, 373: 30, 374: 30, 375: 30, 376: 30, 377: 30, 378: 30, 379: 30, 380: 30, 381: 30, 382: 30, 383: 30, 384: 30, 385: 30, 386: 30, 387: 30, 388: 30, 389: 30, 390: 30, 391: 30, 392: 30, 393: 30, 394: 30, 395: 30, 396: 30, 397: 30, 398: 30, 399: 30, 400: 30, 401: 30, 402: 30, 403: 30, 404: 30, 405: 30, 406: 30, 407: 30, 408: 30, 409: 30, 410: 30, 411: 30, 412: 30, 413: 30, 414: 30, 415: 30, 416: 30, 417: 30, 418: 30, 419: 30, 420: 30, 421: 30, 422: 30, 423: 30, 424: 30, 425: 30, 426: 30, 427: 30, 428: 30, 429: 30, 430: 30, 431: 30, 432: 30, 433: 30, 434: 30, 435: 30, 436: 30, 437: 30, 438: 30, 439: 30, 440: 30, 441: 30, 442: 30, 443: 30, 444: 30, 445: 30, 446: 30, 447: 30, 448: 30, 449: 30, 450: 30, 451: 30, 452: 30, 453: 30, 454: 30, 455: 30, 456: 30, 457: 30, 458: 30, 459: 30, 460: 30, 461: 30, 462: 30, 463: 30, 464: 30, 465: 30, 466: 30, 467: 30, 468: 30, 469: 30, 470: 30, 471: 30, 472: 30, 473: 30, 474: 30, 475: 30, 476: 30, 477: 30, 478: 30, 479: 30, 480: 30, 481: 30, 482: 30, 483: 30, 484: 30, 485: 30, 486: 30, 487: 30, 488: 30, 489: 30, 490: 30, 491: 30, 492: 30, 493: 30, 494: 30, 495: 30, 496: 30, 497: 30, 498: 30, 499: 30, 500: 30, 501: 30, 502: 30, 503: 30, 504: 30, 505: 30, 506: 30, 507: 30, 508: 30, 509: 30, 510: 30, 511: 30, 512: 30, 513: 30, 514: 30, 515: 30, 516: 30, 517: 30, 518: 30, 519: 30, 520: 30, 521: 30, 522: 30, 523: 30, 524: 30, 525: 30, 526: 30, 527: 30, 528: 30, 529: 30, 530: 30, 531: 30, 532: 30, 533: 30, 534: 30, 535: 30, 536: 30, 537: 30, 538: 30, 539: 30, 540: 30, 541: 30, 542: 30, 543: 30, 544: 30, 545: 30, 546: 30, 547: 30, 548: 30, 549: 30, 550: 30, 551: 30, 552: 30, 553: 30, 554: 30, 555: 30, 556: 30, 557: 30, 558: 30, 559: 30, 560: 30, 561: 30, 562: 30, 563: 30, 564: 30, 565: 30, 566: 30, 567: 30, 568: 30, 569: 30, 570: 30, 571: 30, 572: 30, 573: 30, 574: 30, 575: 30, 576: 30, 577: 30, 578: 30, 579: 30, 580: 30, 581: 30, 582: 30, 583: 30, 584: 30, 585: 30, 586: 30, 587: 30, 588: 30, 589: 30, 590: 30, 591: 30, 592: 30, 593: 30, 594: 30, 595: 30, 596: 30, 597: 30, 598: 30, 599: 30, 600: 30, 601: 30, 602: 30, 603: 30, 604: 30, 605: 30, 606: 30, 607: 30, 608: 30, 609: 30, 610: 30, 611: 30, 612: 30, 613: 30, 614: 30, 615: 30, 616: 30, 617: 30, 618: 30, 619: 30, 620: 30, 621: 30, 622: 30, 623: 30, 624: 30, 625: 30, 626: 30, 627: 30, 628: 30, 629: 30, 630: 30, 631: 30, 632: 30, 633: 30, 634: 30, 635: 30, 636: 30, 637: 30, 638: 30, 639: 30, 640: 30, 641: 30, 642: 30, 643: 30, 644: 30, 645: 30, 646: 30, 647: 30, 648: 30, 649: 30, 650: 30, 651: 30, 652: 30, 653: 30, 654: 30, 655: 30, 656: 30, 657: 30, 658: 30, 659: 30, 660: 30, 661: 30, 662: 30, 663: 30, 664: 30, 665: 30, 666: 30, 667: 30, 668: 30, 669: 30, 670: 30, 671: 30, 672: 30, 673: 30, 674: 30, 675: 30, 676: 30, 677: 30, 678: 30, 679: 30, 680: 30, 681: 30, 682: 30, 683: 30, 684: 30, 685: 30, 686: 30, 687: 30, 688: 30, 689: 30, 690: 30, 691: 30, 692: 30, 693: 30, 694: 30, 695: 30, 696: 30, 697: 30, 698: 30, 699: 30, 700: 30, 701: 30, 702: 30, 703: 30, 704: 30, 705: 30, 706: 30, 707: 30, 708: 30, 709: 30, 710: 30, 711: 30, 712: 30, 713: 30, 714: 30, 715: 30, 716: 30, 717: 30, 718: 30, 719: 30, 720: 30, 721: 30, 722: 30, 723: 30, 724: 30, 725: 30, 726: 30, 727: 30, 728: 30, 729: 30, 730: 30, 731: 30, 732: 30, 733: 30, 734: 30, 735: 30, 736: 30, 737: 30, 738: 30, 739: 30, 740: 30, 741: 30, 742: 30, 743: 30, 744: 30, 745: 30, 746: 30, 747: 30, 748: 30, 749: 30, 750: 30, 751: 30, 752: 30, 753: 30, 754: 30, 755: 30, 756: 30, 757: 30, 758: 30, 759: 30, 760: 30, 761: 30, 762: 30, 763: 30, 764: 30, 765: 30, 766: 30, 767: 30, 768: 30, 769: 30, 770: 30, 771: 30, 772: 30, 773: 30, 774: 30, 775: 30, 776: 30, 777: 30, 778: 30, 779: 30, 780: 30, 781: 30, 782: 30, 783: 30, 784: 30, 785: 30, 786: 30, 787: 30, 788: 30, 789: 30, 790: 30, 791: 30, 792: 30, 793: 30, 794: 30, 795: 30, 796: 30, 797: 30, 798: 30, 799: 30, 800: 30, 801: 30, 802: 30, 803: 30, 804: 30, 805: 30, 806: 30, 807: 30, 808: 30, 809: 30, 810: 30, 811: 30, 812: 30, 813: 30, 814: 30, 815: 30, 816: 30, 817: 30, 818: 30, 819: 30, 820: 30, 821: 30, 822: 30, 823: 30, 824: 30, 825: 30, 826: 30, 827: 30, 828: 30, 829: 30, 830: 30, 831: 30, 832: 30, 833: 30, 834: 30, 835: 30, 836: 30, 837: 30, 838: 30, 839: 30, 840: 30, 841: 30, 842: 30, 843: 30, 844: 30, 845: 30, 846: 30, 847: 30, 848: 30, 849: 30, 850: 30, 851: 30, 852: 30, 853: 30, 854: 30, 855: 30, 856: 30, 857: 30, 858: 30, 859: 30, 860: 30, 861: 30, 862: 30, 863: 30, 864: 30, 865: 30, 866: 30, 867: 30, 868: 30, 869: 30, 870: 30, 871: 30, 872: 30, 873: 30, 874: 30, 875: 30, 876: 30, 877: 30, 878: 30, 879: 30, 880: 30, 881: 30, 882: 30, 883: 30, 884: 30, 885: 30, 886: 30, 887: 30, 888: 30, 889: 30, 890: 30, 891: 30, 892: 30, 893: 30, 894: 30, 895: 30, 896: 30, 897: 30, 898: 30, 899: 30, 900: 30, 901: 30, 902: 30, 903: 30, 904: 30, 905: 30, 906: 30, 907: 30, 908: 30, 909: 30, 910: 30, 911: 30, 912: 30, 913: 30, 914: 30, 915: 30, 916: 30, 917: 30, 918: 30, 919: 30, 920: 30, 921: 30, 922: 30, 923: 30, 924: 30, 925: 30, 926: 30, 927: 30, 928: 30, 929: 30, 930: 30, 931: 30, 932: 30, 933: 30, 934: 30, 935: 30, 936: 30, 937: 30, 938: 30, 939: 30, 940: 30, 941: 30, 942: 30, 943: 30, 944: 30, 945: 30, 946: 30, 947: 30, 948: 1}\n",
            "{0: 30, 1: 30, 2: 30, 3: 30, 4: 30, 5: 30, 6: 30, 7: 30, 8: 30, 9: 30, 10: 30, 11: 30, 12: 30, 13: 30, 14: 30, 15: 30, 16: 30, 17: 30, 18: 30, 19: 30, 20: 30, 21: 30, 22: 30, 23: 30, 24: 30, 25: 30, 26: 30, 27: 30, 28: 30, 29: 30, 30: 30, 31: 30, 32: 30, 33: 30, 34: 30, 35: 30, 36: 30, 37: 30, 38: 30, 39: 30, 40: 30, 41: 30, 42: 30, 43: 30, 44: 30, 45: 30, 46: 30, 47: 30, 48: 30, 49: 30, 50: 30, 51: 30, 52: 30, 53: 30, 54: 30, 55: 30, 56: 30, 57: 30, 58: 30, 59: 30, 60: 30, 61: 30, 62: 30, 63: 30, 64: 30, 65: 30, 66: 30, 67: 30, 68: 30, 69: 30, 70: 30, 71: 30, 72: 30, 73: 30, 74: 30, 75: 30, 76: 30, 77: 30, 78: 30, 79: 30, 80: 30, 81: 30, 82: 30, 83: 30, 84: 30, 85: 30, 86: 30, 87: 30, 88: 30, 89: 30, 90: 30, 91: 30, 92: 30, 93: 30, 94: 30, 95: 30, 96: 30, 97: 30, 98: 30, 99: 30, 100: 30, 101: 30, 102: 30, 103: 30, 104: 30, 105: 30, 106: 30, 107: 30, 108: 30, 109: 30, 110: 30, 111: 30, 112: 30, 113: 30, 114: 30, 115: 30, 116: 30, 117: 30, 118: 30, 119: 30, 120: 30, 121: 30, 122: 30, 123: 30, 124: 30, 125: 30, 126: 30, 127: 30, 128: 30, 129: 30, 130: 30, 131: 30, 132: 30, 133: 30, 134: 30, 135: 30, 136: 30, 137: 30, 138: 30, 139: 30, 140: 30, 141: 30, 142: 30, 143: 30, 144: 30, 145: 30, 146: 30, 147: 30, 148: 30, 149: 30, 150: 30, 151: 30, 152: 30, 153: 30, 154: 30, 155: 30, 156: 30, 157: 30, 158: 30, 159: 30, 160: 30, 161: 30, 162: 30, 163: 30, 164: 30, 165: 30, 166: 30, 167: 30, 168: 30, 169: 30, 170: 30, 171: 30, 172: 30, 173: 30, 174: 30, 175: 30, 176: 30, 177: 30, 178: 30, 179: 30, 180: 30, 181: 30, 182: 30, 183: 30, 184: 30, 185: 30, 186: 30, 187: 30, 188: 30, 189: 30, 190: 30, 191: 30, 192: 30, 193: 30, 194: 30, 195: 30, 196: 30, 197: 30, 198: 30, 199: 30, 200: 30, 201: 30, 202: 30, 203: 30, 204: 30, 205: 30, 206: 30, 207: 30, 208: 30, 209: 30, 210: 30, 211: 30, 212: 30, 213: 30, 214: 30, 215: 30, 216: 30, 217: 30, 218: 30, 219: 30, 220: 30, 221: 30, 222: 30, 223: 30, 224: 30, 225: 30, 226: 30, 227: 30, 228: 30, 229: 30, 230: 30, 231: 30, 232: 30, 233: 30, 234: 30, 235: 30, 236: 30, 237: 30, 238: 30, 239: 30, 240: 30, 241: 30, 242: 30, 243: 30, 244: 30, 245: 30, 246: 30, 247: 30, 248: 30, 249: 30, 250: 30, 251: 30, 252: 30, 253: 30, 254: 30, 255: 30, 256: 30, 257: 30, 258: 30, 259: 30, 260: 30, 261: 30, 262: 30, 263: 30, 264: 30, 265: 30, 266: 30, 267: 30, 268: 30, 269: 30, 270: 30, 271: 30, 272: 30, 273: 30, 274: 30, 275: 30, 276: 30, 277: 30, 278: 30, 279: 30, 280: 30, 281: 30, 282: 30, 283: 30, 284: 30, 285: 30, 286: 30, 287: 30, 288: 30, 289: 30, 290: 30, 291: 30, 292: 30, 293: 30, 294: 30, 295: 30, 296: 30, 297: 30, 298: 30, 299: 30, 300: 30, 301: 30, 302: 30, 303: 30, 304: 30, 305: 30, 306: 30, 307: 30, 308: 30, 309: 30, 310: 30, 311: 30, 312: 30, 313: 30, 314: 30, 315: 30, 316: 30, 317: 30, 318: 30, 319: 30, 320: 30, 321: 30, 322: 30, 323: 30, 324: 30, 325: 30, 326: 30, 327: 30, 328: 30, 329: 30, 330: 30, 331: 30, 332: 30, 333: 30, 334: 30, 335: 30, 336: 30, 337: 30, 338: 30, 339: 30, 340: 30, 341: 30, 342: 30, 343: 30, 344: 30, 345: 30, 346: 30, 347: 30, 348: 30, 349: 30, 350: 30, 351: 30, 352: 30, 353: 30, 354: 30, 355: 30, 356: 30, 357: 30, 358: 30, 359: 30, 360: 30, 361: 30, 362: 30, 363: 30, 364: 30, 365: 30, 366: 30, 367: 30, 368: 30, 369: 30, 370: 30, 371: 30, 372: 30, 373: 30, 374: 30, 375: 30, 376: 30, 377: 30, 378: 30, 379: 30, 380: 30, 381: 30, 382: 30, 383: 30, 384: 30, 385: 30, 386: 30, 387: 30, 388: 30, 389: 30, 390: 30, 391: 30, 392: 30, 393: 30, 394: 30, 395: 30, 396: 30, 397: 30, 398: 30, 399: 30, 400: 30, 401: 30, 402: 30, 403: 30, 404: 30, 405: 30, 406: 30, 407: 30, 408: 30, 409: 30, 410: 30, 411: 30, 412: 30, 413: 30, 414: 30, 415: 30, 416: 30, 417: 30, 418: 30, 419: 30, 420: 30, 421: 30, 422: 30, 423: 30, 424: 30, 425: 30, 426: 30, 427: 30, 428: 30, 429: 30, 430: 30, 431: 30, 432: 30, 433: 30, 434: 30, 435: 30, 436: 30, 437: 30, 438: 30, 439: 30, 440: 30, 441: 30, 442: 30, 443: 30, 444: 30, 445: 30, 446: 30, 447: 30, 448: 30, 449: 30, 450: 30, 451: 30, 452: 30, 453: 30, 454: 30, 455: 30, 456: 30, 457: 30, 458: 30, 459: 30, 460: 30, 461: 30, 462: 30, 463: 30, 464: 30, 465: 30, 466: 30, 467: 30, 468: 30, 469: 30, 470: 30, 471: 30, 472: 30, 473: 30, 474: 30, 475: 30, 476: 30, 477: 30, 478: 30, 479: 30, 480: 30, 481: 30, 482: 30, 483: 30, 484: 30, 485: 30, 486: 30, 487: 30, 488: 30, 489: 30, 490: 30, 491: 30, 492: 30, 493: 30, 494: 30, 495: 30, 496: 30, 497: 30, 498: 30, 499: 30, 500: 30, 501: 30, 502: 30, 503: 30, 504: 30, 505: 30, 506: 30, 507: 30, 508: 30, 509: 30, 510: 30, 511: 30, 512: 30, 513: 30, 514: 30, 515: 30, 516: 30, 517: 30, 518: 30, 519: 30, 520: 30, 521: 30, 522: 30, 523: 30, 524: 30, 525: 30, 526: 30, 527: 30, 528: 30, 529: 30, 530: 30, 531: 30, 532: 30, 533: 30, 534: 30, 535: 30, 536: 30, 537: 30, 538: 30, 539: 30, 540: 30, 541: 30, 542: 30, 543: 30, 544: 30, 545: 30, 546: 30, 547: 30, 548: 30, 549: 30, 550: 30, 551: 30, 552: 30, 553: 30, 554: 30, 555: 30, 556: 30, 557: 30, 558: 30, 559: 30, 560: 30, 561: 30, 562: 30, 563: 30, 564: 30, 565: 30, 566: 30, 567: 30, 568: 30, 569: 30, 570: 30, 571: 30, 572: 30, 573: 30, 574: 30, 575: 30, 576: 30, 577: 30, 578: 30, 579: 30, 580: 30, 581: 30, 582: 30, 583: 30, 584: 30, 585: 30, 586: 30, 587: 30, 588: 30, 589: 30, 590: 30, 591: 30, 592: 30, 593: 30, 594: 30, 595: 30, 596: 30, 597: 30, 598: 30, 599: 30, 600: 30, 601: 30, 602: 30, 603: 30, 604: 30, 605: 30, 606: 30, 607: 30, 608: 30, 609: 30, 610: 30, 611: 30, 612: 30, 613: 30, 614: 30, 615: 30, 616: 30, 617: 30, 618: 30, 619: 30, 620: 30, 621: 30, 622: 30, 623: 30, 624: 30, 625: 30, 626: 30, 627: 30, 628: 30, 629: 30, 630: 30, 631: 30, 632: 30, 633: 30, 634: 30, 635: 30, 636: 30, 637: 30, 638: 30, 639: 30, 640: 30, 641: 30, 642: 30, 643: 30, 644: 30, 645: 30, 646: 30, 647: 30, 648: 30, 649: 30, 650: 30, 651: 30, 652: 30, 653: 30, 654: 30, 655: 30, 656: 30, 657: 30, 658: 30, 659: 30, 660: 30, 661: 30, 662: 30, 663: 30, 664: 30, 665: 30, 666: 30, 667: 30, 668: 30, 669: 30, 670: 30, 671: 30, 672: 30, 673: 30, 674: 30, 675: 30, 676: 30, 677: 30, 678: 30, 679: 30, 680: 30, 681: 30, 682: 30, 683: 30, 684: 30, 685: 30, 686: 30, 687: 30, 688: 30, 689: 30, 690: 30, 691: 30, 692: 30, 693: 30, 694: 30, 695: 30, 696: 30, 697: 30, 698: 30, 699: 30, 700: 30, 701: 30, 702: 30, 703: 30, 704: 30, 705: 30, 706: 30, 707: 30, 708: 30, 709: 30, 710: 30, 711: 30, 712: 30, 713: 30, 714: 30, 715: 30, 716: 30, 717: 30, 718: 30, 719: 30, 720: 30, 721: 30, 722: 30, 723: 30, 724: 30, 725: 30, 726: 30, 727: 30, 728: 30, 729: 30, 730: 30, 731: 30, 732: 30, 733: 30, 734: 30, 735: 30, 736: 30, 737: 30, 738: 30, 739: 30, 740: 30, 741: 30, 742: 30, 743: 30, 744: 30, 745: 30, 746: 30, 747: 30, 748: 30, 749: 30, 750: 30, 751: 30, 752: 30, 753: 30, 754: 30, 755: 30, 756: 30, 757: 30, 758: 30, 759: 30, 760: 30, 761: 30, 762: 30, 763: 30, 764: 30, 765: 30, 766: 30, 767: 30, 768: 30, 769: 30, 770: 30, 771: 30, 772: 30, 773: 30, 774: 30, 775: 30, 776: 30, 777: 30, 778: 30, 779: 30, 780: 30, 781: 30, 782: 30, 783: 30, 784: 30, 785: 30, 786: 30, 787: 30, 788: 30, 789: 30, 790: 30, 791: 30, 792: 30, 793: 30, 794: 30, 795: 30, 796: 30, 797: 30, 798: 30, 799: 30, 800: 30, 801: 30, 802: 30, 803: 30, 804: 30, 805: 30, 806: 30, 807: 30, 808: 30, 809: 30, 810: 30, 811: 30, 812: 30, 813: 30, 814: 30, 815: 30, 816: 30, 817: 30, 818: 30, 819: 30, 820: 30, 821: 30, 822: 30, 823: 30, 824: 30, 825: 30, 826: 30, 827: 30, 828: 30, 829: 30, 830: 30, 831: 30, 832: 30, 833: 30, 834: 30, 835: 30, 836: 30, 837: 30, 838: 30, 839: 30, 840: 30, 841: 30, 842: 30, 843: 30, 844: 30, 845: 30, 846: 30, 847: 30, 848: 30, 849: 30, 850: 30, 851: 30, 852: 30, 853: 30, 854: 30, 855: 30, 856: 30, 857: 30, 858: 30, 859: 30, 860: 30, 861: 30, 862: 30, 863: 30, 864: 30, 865: 30, 866: 30, 867: 30, 868: 30, 869: 30, 870: 30, 871: 30, 872: 30, 873: 30, 874: 30, 875: 30, 876: 30, 877: 30, 878: 30, 879: 30, 880: 30, 881: 30, 882: 30, 883: 30, 884: 30, 885: 30, 886: 30, 887: 30, 888: 30, 889: 30, 890: 30, 891: 30, 892: 30, 893: 30, 894: 30, 895: 30, 896: 30, 897: 30, 898: 30, 899: 30, 900: 30, 901: 30, 902: 30, 903: 30, 904: 30, 905: 30, 906: 30, 907: 30, 908: 30, 909: 30, 910: 30, 911: 30, 912: 30, 913: 30, 914: 30, 915: 30, 916: 30, 917: 30, 918: 30, 919: 30, 920: 30, 921: 30, 922: 30, 923: 30, 924: 30, 925: 30, 926: 30, 927: 30, 928: 30, 929: 30, 930: 30, 931: 30, 932: 30, 933: 30, 934: 30, 935: 30, 936: 30, 937: 30, 938: 30, 939: 30, 940: 30, 941: 30, 942: 30, 943: 30, 944: 30, 945: 30, 946: 30, 947: 30, 948: 30, 949: 30, 950: 30, 951: 30, 952: 30, 953: 30, 954: 1}\n",
            "{0: 30, 1: 30, 2: 30, 3: 30, 4: 30, 5: 30, 6: 30, 7: 30, 8: 30, 9: 30, 10: 30, 11: 30, 12: 30, 13: 30, 14: 30, 15: 30, 16: 30, 17: 30, 18: 30, 19: 30, 20: 30, 21: 30, 22: 30, 23: 30, 24: 30, 25: 30, 26: 30, 27: 30, 28: 30, 29: 30, 30: 30, 31: 30, 32: 30, 33: 30, 34: 30, 35: 30, 36: 30, 37: 30, 38: 30, 39: 30, 40: 30, 41: 30, 42: 30, 43: 30, 44: 30, 45: 30, 46: 30, 47: 30, 48: 30, 49: 30, 50: 30, 51: 30, 52: 30, 53: 30, 54: 30, 55: 30, 56: 30, 57: 30, 58: 30, 59: 30, 60: 30, 61: 30, 62: 30, 63: 30, 64: 30, 65: 30, 66: 30, 67: 30, 68: 30, 69: 30, 70: 30, 71: 30, 72: 30, 73: 30, 74: 30, 75: 30, 76: 30, 77: 30, 78: 30, 79: 30, 80: 30, 81: 30, 82: 30, 83: 30, 84: 30, 85: 30, 86: 30, 87: 30, 88: 30, 89: 30, 90: 30, 91: 30, 92: 30, 93: 30, 94: 30, 95: 30, 96: 30, 97: 30, 98: 30, 99: 30, 100: 30, 101: 30, 102: 30, 103: 30, 104: 30, 105: 30, 106: 30, 107: 30, 108: 30, 109: 30, 110: 30, 111: 30, 112: 30, 113: 30, 114: 30, 115: 30, 116: 30, 117: 30, 118: 30, 119: 30, 120: 30, 121: 30, 122: 30, 123: 30, 124: 30, 125: 30, 126: 30, 127: 30, 128: 30, 129: 30, 130: 30, 131: 30, 132: 30, 133: 30, 134: 30, 135: 30, 136: 30, 137: 30, 138: 30, 139: 30, 140: 30, 141: 30, 142: 30, 143: 30, 144: 30, 145: 30, 146: 30, 147: 30, 148: 30, 149: 30, 150: 30, 151: 30, 152: 30, 153: 30, 154: 30, 155: 30, 156: 30, 157: 30, 158: 30, 159: 30, 160: 30, 161: 30, 162: 30, 163: 30, 164: 30, 165: 30, 166: 30, 167: 30, 168: 30, 169: 30, 170: 30, 171: 30, 172: 30, 173: 30, 174: 30, 175: 30, 176: 30, 177: 30, 178: 30, 179: 30, 180: 30, 181: 30, 182: 30, 183: 30, 184: 30, 185: 30, 186: 30, 187: 30, 188: 30, 189: 30, 190: 30, 191: 30, 192: 30, 193: 30, 194: 30, 195: 30, 196: 30, 197: 30, 198: 30, 199: 30, 200: 30, 201: 30, 202: 30, 203: 30, 204: 30, 205: 30, 206: 30, 207: 30, 208: 30, 209: 30, 210: 30, 211: 30, 212: 30, 213: 30, 214: 30, 215: 30, 216: 30, 217: 30, 218: 30, 219: 30, 220: 30, 221: 30, 222: 30, 223: 30, 224: 30, 225: 30, 226: 30, 227: 30, 228: 30, 229: 30, 230: 30, 231: 30, 232: 30, 233: 30, 234: 30, 235: 30, 236: 30, 237: 30, 238: 30, 239: 30, 240: 30, 241: 30, 242: 30, 243: 30, 244: 30, 245: 30, 246: 30, 247: 30, 248: 30, 249: 30, 250: 30, 251: 30, 252: 30, 253: 30, 254: 30, 255: 30, 256: 30, 257: 30, 258: 30, 259: 30, 260: 30, 261: 30, 262: 30, 263: 30, 264: 30, 265: 30, 266: 30, 267: 30, 268: 30, 269: 30, 270: 30, 271: 30, 272: 30, 273: 30, 274: 30, 275: 30, 276: 30, 277: 30, 278: 30, 279: 30, 280: 30, 281: 30, 282: 30, 283: 30, 284: 30, 285: 30, 286: 30, 287: 30, 288: 30, 289: 30, 290: 30, 291: 30, 292: 30, 293: 30, 294: 30, 295: 30, 296: 30, 297: 30, 298: 30, 299: 30, 300: 30, 301: 30, 302: 30, 303: 30, 304: 30, 305: 30, 306: 30, 307: 30, 308: 30, 309: 30, 310: 30, 311: 30, 312: 30, 313: 30, 314: 30, 315: 30, 316: 30, 317: 30, 318: 30, 319: 30, 320: 30, 321: 30, 322: 30, 323: 30, 324: 30, 325: 30, 326: 30, 327: 30, 328: 30, 329: 30, 330: 30, 331: 30, 332: 30, 333: 30, 334: 30, 335: 30, 336: 30, 337: 30, 338: 30, 339: 30, 340: 30, 341: 30, 342: 30, 343: 30, 344: 30, 345: 30, 346: 30, 347: 30, 348: 30, 349: 30, 350: 30, 351: 30, 352: 30, 353: 30, 354: 30, 355: 30, 356: 30, 357: 30, 358: 30, 359: 30, 360: 30, 361: 30, 362: 30, 363: 30, 364: 30, 365: 30, 366: 30, 367: 30, 368: 30, 369: 30, 370: 30, 371: 30, 372: 30, 373: 30, 374: 30, 375: 30, 376: 30, 377: 30, 378: 30, 379: 30, 380: 30, 381: 30, 382: 30, 383: 30, 384: 30, 385: 30, 386: 30, 387: 30, 388: 30, 389: 30, 390: 30, 391: 30, 392: 30, 393: 30, 394: 30, 395: 30, 396: 30, 397: 30, 398: 30, 399: 30, 400: 30, 401: 30, 402: 30, 403: 30, 404: 30, 405: 30, 406: 30, 407: 30, 408: 30, 409: 30, 410: 30, 411: 30, 412: 30, 413: 30, 414: 30, 415: 30, 416: 30, 417: 30, 418: 30, 419: 30, 420: 30, 421: 30, 422: 30, 423: 30, 424: 30, 425: 30, 426: 30, 427: 30, 428: 30, 429: 30, 430: 30, 431: 30, 432: 30, 433: 30, 434: 30, 435: 30, 436: 30, 437: 30, 438: 30, 439: 30, 440: 30, 441: 30, 442: 30, 443: 30, 444: 30, 445: 30, 446: 30, 447: 30, 448: 30, 449: 30, 450: 30, 451: 30, 452: 30, 453: 30, 454: 30, 455: 30, 456: 30, 457: 30, 458: 30, 459: 30, 460: 30, 461: 30, 462: 30, 463: 30, 464: 30, 465: 30, 466: 30, 467: 30, 468: 30, 469: 30, 470: 30, 471: 30, 472: 30, 473: 30, 474: 30, 475: 30, 476: 30, 477: 30, 478: 30, 479: 30, 480: 30, 481: 30, 482: 30, 483: 30, 484: 30, 485: 30, 486: 30, 487: 30, 488: 30, 489: 30, 490: 30, 491: 30, 492: 30, 493: 30, 494: 30, 495: 30, 496: 30, 497: 30, 498: 30, 499: 30, 500: 30, 501: 30, 502: 30, 503: 30, 504: 30, 505: 30, 506: 30, 507: 30, 508: 30, 509: 30, 510: 30, 511: 30, 512: 30, 513: 30, 514: 30, 515: 30, 516: 30, 517: 30, 518: 30, 519: 30, 520: 30, 521: 30, 522: 30, 523: 30, 524: 30, 525: 30, 526: 30, 527: 30, 528: 30, 529: 30, 530: 30, 531: 30, 532: 30, 533: 30, 534: 30, 535: 30, 536: 30, 537: 30, 538: 30, 539: 30, 540: 30, 541: 30, 542: 30, 543: 30, 544: 30, 545: 30, 546: 30, 547: 30, 548: 30, 549: 30, 550: 30, 551: 30, 552: 30, 553: 30, 554: 30, 555: 30, 556: 30, 557: 30, 558: 30, 559: 30, 560: 30, 561: 30, 562: 30, 563: 30, 564: 30, 565: 30, 566: 30, 567: 30, 568: 30, 569: 30, 570: 30, 571: 30, 572: 30, 573: 30, 574: 30, 575: 30, 576: 30, 577: 30, 578: 30, 579: 30, 580: 30, 581: 30, 582: 30, 583: 30, 584: 30, 585: 30, 586: 30, 587: 30, 588: 30, 589: 30, 590: 30, 591: 30, 592: 30, 593: 30, 594: 30, 595: 30, 596: 30, 597: 30, 598: 30, 599: 30, 600: 30, 601: 30, 602: 30, 603: 30, 604: 30, 605: 30, 606: 30, 607: 30, 608: 30, 609: 30, 610: 30, 611: 30, 612: 30, 613: 30, 614: 30, 615: 30, 616: 30, 617: 30, 618: 30, 619: 30, 620: 30, 621: 30, 622: 30, 623: 30, 624: 30, 625: 30, 626: 30, 627: 30, 628: 30, 629: 30, 630: 30, 631: 30, 632: 30, 633: 30, 634: 30, 635: 30, 636: 30, 637: 30, 638: 30, 639: 30, 640: 30, 641: 30, 642: 30, 643: 30, 644: 30, 645: 30, 646: 30, 647: 30, 648: 30, 649: 30, 650: 30, 651: 30, 652: 30, 653: 30, 654: 30, 655: 30, 656: 30, 657: 30, 658: 30, 659: 30, 660: 30, 661: 30, 662: 30, 663: 30, 664: 30, 665: 30, 666: 30, 667: 30, 668: 30, 669: 30, 670: 30, 671: 30, 672: 30, 673: 30, 674: 30, 675: 30, 676: 30, 677: 30, 678: 30, 679: 30, 680: 30, 681: 30, 682: 30, 683: 30, 684: 30, 685: 30, 686: 30, 687: 30, 688: 30, 689: 30, 690: 30, 691: 30, 692: 30, 693: 30, 694: 30, 695: 30, 696: 30, 697: 30, 698: 30, 699: 30, 700: 30, 701: 30, 702: 30, 703: 30, 704: 30, 705: 30, 706: 30, 707: 30, 708: 30, 709: 30, 710: 30, 711: 30, 712: 30, 713: 30, 714: 30, 715: 30, 716: 30, 717: 30, 718: 30, 719: 30, 720: 30, 721: 30, 722: 30, 723: 30, 724: 30, 725: 30, 726: 30, 727: 30, 728: 30, 729: 30, 730: 30, 731: 30, 732: 30, 733: 30, 734: 30, 735: 30, 736: 30, 737: 30, 738: 30, 739: 30, 740: 30, 741: 30, 742: 30, 743: 30, 744: 30, 745: 30, 746: 30, 747: 30, 748: 30, 749: 30, 750: 30, 751: 30, 752: 30, 753: 30, 754: 30, 755: 30, 756: 30, 757: 30, 758: 30, 759: 30, 760: 30, 761: 30, 762: 30, 763: 30, 764: 30, 765: 30, 766: 30, 767: 30, 768: 30, 769: 30, 770: 30, 771: 30, 772: 30, 773: 30, 774: 30, 775: 30, 776: 30, 777: 30, 778: 30, 779: 30, 780: 30, 781: 30, 782: 30, 783: 30, 784: 30, 785: 30, 786: 30, 787: 30, 788: 30, 789: 30, 790: 30, 791: 30, 792: 30, 793: 30, 794: 30, 795: 30, 796: 30, 797: 30, 798: 30, 799: 30, 800: 30, 801: 30, 802: 30, 803: 30, 804: 30, 805: 30, 806: 30, 807: 30, 808: 30, 809: 30, 810: 30, 811: 30, 812: 30, 813: 30, 814: 30, 815: 30, 816: 30, 817: 30, 818: 30, 819: 30, 820: 30, 821: 30, 822: 30, 823: 30, 824: 30, 825: 30, 826: 30, 827: 30, 828: 30, 829: 30, 830: 30, 831: 30, 832: 30, 833: 30, 834: 30, 835: 30, 836: 30, 837: 30, 838: 30, 839: 30, 840: 30, 841: 30, 842: 30, 843: 30, 844: 30, 845: 30, 846: 30, 847: 30, 848: 30, 849: 30, 850: 30, 851: 30, 852: 30, 853: 30, 854: 30, 855: 30, 856: 30, 857: 30, 858: 30, 859: 30, 860: 30, 861: 30, 862: 30, 863: 30, 864: 30, 865: 30, 866: 30, 867: 30, 868: 30, 869: 30, 870: 30, 871: 30, 872: 30, 873: 30, 874: 30, 875: 30, 876: 30, 877: 30, 878: 30, 879: 30, 880: 30, 881: 30, 882: 30, 883: 30, 884: 30, 885: 30, 886: 30, 887: 30, 888: 30, 889: 30, 890: 30, 891: 30, 892: 30, 893: 30, 894: 30, 895: 30, 896: 30, 897: 30, 898: 30, 899: 30, 900: 30, 901: 30, 902: 30, 903: 30, 904: 30, 905: 30, 906: 30, 907: 30, 908: 30, 909: 30, 910: 30, 911: 30, 912: 30, 913: 30, 914: 30, 915: 30, 916: 30, 917: 30, 918: 30, 919: 30, 920: 30, 921: 30, 922: 30, 923: 30, 924: 30, 925: 30, 926: 30, 927: 30, 928: 30, 929: 30, 930: 30, 931: 30, 932: 30, 933: 30, 934: 1}\n",
            "{0: 30, 1: 30, 2: 30, 3: 30, 4: 30, 5: 30, 6: 30, 7: 30, 8: 30, 9: 30, 10: 30, 11: 30, 12: 30, 13: 30, 14: 30, 15: 30, 16: 30, 17: 30, 18: 30, 19: 30, 20: 30, 21: 30, 22: 30, 23: 30, 24: 30, 25: 30, 26: 30, 27: 30, 28: 30, 29: 30, 30: 30, 31: 30, 32: 30, 33: 30, 34: 30, 35: 30, 36: 30, 37: 30, 38: 30, 39: 30, 40: 30, 41: 30, 42: 30, 43: 30, 44: 30, 45: 30, 46: 30, 47: 30, 48: 30, 49: 30, 50: 30, 51: 30, 52: 30, 53: 30, 54: 30, 55: 30, 56: 30, 57: 30, 58: 30, 59: 30, 60: 30, 61: 30, 62: 30, 63: 30, 64: 30, 65: 30, 66: 30, 67: 30, 68: 30, 69: 30, 70: 30, 71: 30, 72: 30, 73: 30, 74: 30, 75: 30, 76: 30, 77: 30, 78: 30, 79: 30, 80: 30, 81: 30, 82: 30, 83: 30, 84: 30, 85: 30, 86: 30, 87: 30, 88: 30, 89: 30, 90: 30, 91: 30, 92: 30, 93: 30, 94: 30, 95: 30, 96: 30, 97: 30, 98: 30, 99: 30, 100: 30, 101: 30, 102: 30, 103: 30, 104: 30, 105: 30, 106: 30, 107: 30, 108: 30, 109: 30, 110: 30, 111: 30, 112: 30, 113: 30, 114: 30, 115: 30, 116: 30, 117: 30, 118: 30, 119: 30, 120: 30, 121: 30, 122: 30, 123: 30, 124: 30, 125: 30, 126: 30, 127: 30, 128: 30, 129: 30, 130: 30, 131: 30, 132: 30, 133: 30, 134: 30, 135: 30, 136: 30, 137: 30, 138: 30, 139: 30, 140: 30, 141: 30, 142: 30, 143: 30, 144: 30, 145: 30, 146: 30, 147: 30, 148: 30, 149: 30, 150: 30, 151: 30, 152: 30, 153: 30, 154: 30, 155: 30, 156: 30, 157: 30, 158: 30, 159: 30, 160: 30, 161: 30, 162: 30, 163: 30, 164: 30, 165: 30, 166: 30, 167: 30, 168: 30, 169: 30, 170: 30, 171: 30, 172: 30, 173: 30, 174: 30, 175: 30, 176: 30, 177: 30, 178: 30, 179: 30, 180: 30, 181: 30, 182: 30, 183: 30, 184: 30, 185: 30, 186: 30, 187: 30, 188: 30, 189: 30, 190: 30, 191: 30, 192: 30, 193: 30, 194: 30, 195: 30, 196: 30, 197: 30, 198: 30, 199: 30, 200: 30, 201: 30, 202: 30, 203: 30, 204: 30, 205: 30, 206: 30, 207: 30, 208: 30, 209: 30, 210: 30, 211: 30, 212: 30, 213: 30, 214: 30, 215: 30, 216: 30, 217: 30, 218: 30, 219: 30, 220: 30, 221: 30, 222: 30, 223: 30, 224: 30, 225: 30, 226: 30, 227: 30, 228: 30, 229: 30, 230: 30, 231: 30, 232: 30, 233: 30, 234: 30, 235: 30, 236: 30, 237: 30, 238: 30, 239: 30, 240: 30, 241: 30, 242: 30, 243: 30, 244: 30, 245: 30, 246: 30, 247: 30, 248: 30, 249: 30, 250: 30, 251: 30, 252: 30, 253: 30, 254: 30, 255: 30, 256: 30, 257: 30, 258: 30, 259: 30, 260: 30, 261: 30, 262: 30, 263: 30, 264: 30, 265: 30, 266: 30, 267: 30, 268: 30, 269: 30, 270: 30, 271: 30, 272: 30, 273: 30, 274: 30, 275: 30, 276: 30, 277: 30, 278: 30, 279: 30, 280: 30, 281: 30, 282: 30, 283: 30, 284: 30, 285: 30, 286: 30, 287: 30, 288: 30, 289: 30, 290: 30, 291: 30, 292: 30, 293: 30, 294: 30, 295: 30, 296: 30, 297: 30, 298: 30, 299: 30, 300: 30, 301: 30, 302: 30, 303: 30, 304: 30, 305: 30, 306: 30, 307: 30, 308: 30, 309: 30, 310: 30, 311: 30, 312: 30, 313: 30, 314: 30, 315: 30, 316: 30, 317: 30, 318: 30, 319: 30, 320: 30, 321: 30, 322: 30, 323: 30, 324: 30, 325: 30, 326: 30, 327: 30, 328: 30, 329: 30, 330: 30, 331: 30, 332: 30, 333: 30, 334: 30, 335: 30, 336: 30, 337: 30, 338: 30, 339: 30, 340: 30, 341: 30, 342: 30, 343: 30, 344: 30, 345: 30, 346: 30, 347: 30, 348: 30, 349: 30, 350: 30, 351: 30, 352: 30, 353: 30, 354: 30, 355: 30, 356: 30, 357: 30, 358: 30, 359: 30, 360: 30, 361: 30, 362: 30, 363: 30, 364: 30, 365: 30, 366: 30, 367: 30, 368: 30, 369: 30, 370: 30, 371: 30, 372: 30, 373: 30, 374: 30, 375: 30, 376: 30, 377: 30, 378: 30, 379: 30, 380: 30, 381: 30, 382: 30, 383: 30, 384: 30, 385: 30, 386: 30, 387: 30, 388: 30, 389: 30, 390: 30, 391: 30, 392: 30, 393: 30, 394: 30, 395: 30, 396: 30, 397: 30, 398: 30, 399: 30, 400: 30, 401: 30, 402: 30, 403: 30, 404: 30, 405: 30, 406: 30, 407: 30, 408: 30, 409: 30, 410: 30, 411: 30, 412: 30, 413: 30, 414: 30, 415: 30, 416: 30, 417: 30, 418: 30, 419: 30, 420: 30, 421: 30, 422: 30, 423: 30, 424: 30, 425: 30, 426: 30, 427: 30, 428: 30, 429: 30, 430: 30, 431: 30, 432: 30, 433: 30, 434: 30, 435: 30, 436: 30, 437: 30, 438: 30, 439: 30, 440: 30, 441: 30, 442: 30, 443: 30, 444: 30, 445: 30, 446: 30, 447: 30, 448: 30, 449: 30, 450: 30, 451: 30, 452: 30, 453: 30, 454: 30, 455: 30, 456: 30, 457: 30, 458: 30, 459: 30, 460: 30, 461: 30, 462: 30, 463: 30, 464: 30, 465: 30, 466: 30, 467: 30, 468: 30, 469: 30, 470: 30, 471: 30, 472: 30, 473: 30, 474: 30, 475: 30, 476: 30, 477: 30, 478: 30, 479: 30, 480: 30, 481: 30, 482: 30, 483: 30, 484: 30, 485: 30, 486: 30, 487: 30, 488: 30, 489: 30, 490: 30, 491: 30, 492: 30, 493: 30, 494: 30, 495: 30, 496: 30, 497: 30, 498: 30, 499: 30, 500: 30, 501: 30, 502: 30, 503: 30, 504: 30, 505: 30, 506: 30, 507: 30, 508: 30, 509: 30, 510: 30, 511: 30, 512: 30, 513: 30, 514: 30, 515: 30, 516: 30, 517: 30, 518: 30, 519: 30, 520: 30, 521: 30, 522: 30, 523: 30, 524: 30, 525: 30, 526: 30, 527: 30, 528: 30, 529: 30, 530: 30, 531: 30, 532: 30, 533: 30, 534: 30, 535: 30, 536: 30, 537: 30, 538: 30, 539: 30, 540: 30, 541: 30, 542: 30, 543: 30, 544: 30, 545: 30, 546: 30, 547: 30, 548: 30, 549: 30, 550: 30, 551: 30, 552: 30, 553: 30, 554: 30, 555: 30, 556: 30, 557: 30, 558: 30, 559: 30, 560: 30, 561: 30, 562: 30, 563: 30, 564: 30, 565: 30, 566: 30, 567: 30, 568: 30, 569: 30, 570: 30, 571: 30, 572: 30, 573: 30, 574: 30, 575: 30, 576: 30, 577: 30, 578: 30, 579: 30, 580: 30, 581: 30, 582: 30, 583: 30, 584: 30, 585: 30, 586: 30, 587: 30, 588: 30, 589: 30, 590: 30, 591: 30, 592: 30, 593: 30, 594: 30, 595: 30, 596: 30, 597: 30, 598: 30, 599: 30, 600: 30, 601: 30, 602: 30, 603: 30, 604: 30, 605: 30, 606: 30, 607: 30, 608: 30, 609: 30, 610: 30, 611: 30, 612: 30, 613: 30, 614: 30, 615: 30, 616: 30, 617: 30, 618: 30, 619: 30, 620: 30, 621: 30, 622: 30, 623: 30, 624: 30, 625: 30, 626: 30, 627: 30, 628: 30, 629: 30, 630: 30, 631: 30, 632: 30, 633: 30, 634: 30, 635: 30, 636: 30, 637: 30, 638: 30, 639: 30, 640: 30, 641: 30, 642: 30, 643: 30, 644: 30, 645: 30, 646: 30, 647: 30, 648: 30, 649: 30, 650: 30, 651: 30, 652: 30, 653: 30, 654: 30, 655: 30, 656: 30, 657: 30, 658: 30, 659: 30, 660: 30, 661: 30, 662: 30, 663: 30, 664: 30, 665: 30, 666: 30, 667: 30, 668: 30, 669: 30, 670: 30, 671: 30, 672: 30, 673: 30, 674: 30, 675: 30, 676: 30, 677: 30, 678: 30, 679: 30, 680: 30, 681: 30, 682: 30, 683: 30, 684: 30, 685: 30, 686: 30, 687: 30, 688: 30, 689: 30, 690: 30, 691: 30, 692: 30, 693: 30, 694: 30, 695: 30, 696: 30, 697: 30, 698: 30, 699: 30, 700: 30, 701: 30, 702: 30, 703: 30, 704: 30, 705: 30, 706: 30, 707: 30, 708: 30, 709: 30, 710: 30, 711: 30, 712: 30, 713: 30, 714: 30, 715: 30, 716: 30, 717: 30, 718: 30, 719: 30, 720: 30, 721: 30, 722: 30, 723: 30, 724: 30, 725: 30, 726: 30, 727: 30, 728: 30, 729: 30, 730: 30, 731: 30, 732: 30, 733: 30, 734: 30, 735: 30, 736: 30, 737: 30, 738: 30, 739: 30, 740: 30, 741: 30, 742: 30, 743: 30, 744: 30, 745: 30, 746: 30, 747: 30, 748: 30, 749: 30, 750: 30, 751: 30, 752: 30, 753: 30, 754: 30, 755: 30, 756: 30, 757: 30, 758: 30, 759: 30, 760: 30, 761: 30, 762: 30, 763: 30, 764: 30, 765: 30, 766: 30, 767: 30, 768: 30, 769: 30, 770: 30, 771: 30, 772: 30, 773: 30, 774: 30, 775: 30, 776: 30, 777: 30, 778: 30, 779: 30, 780: 30, 781: 30, 782: 30, 783: 30, 784: 30, 785: 30, 786: 30, 787: 30, 788: 30, 789: 30, 790: 30, 791: 30, 792: 30, 793: 30, 794: 30, 795: 30, 796: 30, 797: 30, 798: 30, 799: 30, 800: 30, 801: 30, 802: 30, 803: 30, 804: 30, 805: 30, 806: 30, 807: 30, 808: 30, 809: 30, 810: 30, 811: 30, 812: 30, 813: 30, 814: 30, 815: 30, 816: 30, 817: 30, 818: 30, 819: 30, 820: 30, 821: 30, 822: 30, 823: 30, 824: 30, 825: 30, 826: 30, 827: 30, 828: 30, 829: 30, 830: 30, 831: 30, 832: 30, 833: 30, 834: 30, 835: 30, 836: 30, 837: 30, 838: 30, 839: 30, 840: 30, 841: 30, 842: 30, 843: 30, 844: 30, 845: 30, 846: 30, 847: 30, 848: 30, 849: 30, 850: 30, 851: 30, 852: 30, 853: 30, 854: 30, 855: 30, 856: 30, 857: 30, 858: 30, 859: 30, 860: 30, 861: 30, 862: 30, 863: 30, 864: 30, 865: 30, 866: 30, 867: 30, 868: 30, 869: 30, 870: 30, 871: 30, 872: 30, 873: 30, 874: 30, 875: 30, 876: 30, 877: 30, 878: 30, 879: 30, 880: 30, 881: 30, 882: 30, 883: 30, 884: 30, 885: 30, 886: 30, 887: 30, 888: 30, 889: 30, 890: 30, 891: 30, 892: 30, 893: 30, 894: 30, 895: 30, 896: 30, 897: 30, 898: 30, 899: 30, 900: 30, 901: 30, 902: 30, 903: 30, 904: 30, 905: 30, 906: 30, 907: 30, 908: 30, 909: 30, 910: 30, 911: 30, 912: 30, 913: 30, 914: 30, 915: 30, 916: 30, 917: 30, 918: 30, 919: 30, 920: 30, 921: 30, 922: 30, 923: 30, 924: 30, 925: 30, 926: 30, 927: 30, 928: 30, 929: 30, 930: 30, 931: 30, 932: 30, 933: 30, 934: 30, 935: 30, 936: 30, 937: 30, 938: 30, 939: 30, 940: 30, 941: 30, 942: 30, 943: 30, 944: 30, 945: 30, 946: 30, 947: 30, 948: 30, 949: 30, 950: 30, 951: 30, 952: 30, 953: 30, 954: 30, 955: 30, 956: 30, 957: 30, 958: 30, 959: 1}\n",
            "{0: 29, 1: 30, 2: 30, 3: 30, 4: 30, 5: 30, 6: 30, 7: 30, 8: 30, 9: 30, 10: 30, 11: 30, 12: 30, 13: 30, 14: 30, 15: 30, 16: 30, 17: 30, 18: 30, 19: 30, 20: 30, 21: 30, 22: 30, 23: 30, 24: 30, 25: 30, 26: 30, 27: 30, 28: 30, 29: 30, 30: 30, 31: 30, 32: 30, 33: 30, 34: 30, 35: 30, 36: 30, 37: 30, 38: 30, 39: 30, 40: 30, 41: 30, 42: 30, 43: 30, 44: 30, 45: 30, 46: 30, 47: 30, 48: 30, 49: 30, 50: 30, 51: 30, 52: 30, 53: 30, 54: 30, 55: 30, 56: 30, 57: 30, 58: 30, 59: 30, 60: 30, 61: 30, 62: 30, 63: 30, 64: 30, 65: 30, 66: 30, 67: 30, 68: 30, 69: 30, 70: 30, 71: 30, 72: 30, 73: 30, 74: 30, 75: 30, 76: 30, 77: 30, 78: 30, 79: 30, 80: 30, 81: 30, 82: 30, 83: 30, 84: 30, 85: 30, 86: 30, 87: 30, 88: 30, 89: 30, 90: 30, 91: 30, 92: 30, 93: 30, 94: 30, 95: 30, 96: 30, 97: 30, 98: 30, 99: 30, 100: 30, 101: 30, 102: 30, 103: 30, 104: 30, 105: 30, 106: 30, 107: 30, 108: 30, 109: 30, 110: 30, 111: 30, 112: 30, 113: 30, 114: 30, 115: 30, 116: 30, 117: 30, 118: 30, 119: 30, 120: 30, 121: 30, 122: 30, 123: 30, 124: 30, 125: 30, 126: 30, 127: 30, 128: 30, 129: 30, 130: 30, 131: 30, 132: 30, 133: 30, 134: 30, 135: 30, 136: 30, 137: 30, 138: 30, 139: 30, 140: 30, 141: 30, 142: 30, 143: 30, 144: 30, 145: 30, 146: 30, 147: 30, 148: 30, 149: 30, 150: 30, 151: 30, 152: 30, 153: 30, 154: 30, 155: 30, 156: 30, 157: 30, 158: 30, 159: 30, 160: 30, 161: 30, 162: 30, 163: 30, 164: 30, 165: 30, 166: 30, 167: 30, 168: 30, 169: 30, 170: 30, 171: 30, 172: 30, 173: 30, 174: 30, 175: 30, 176: 30, 177: 30, 178: 30, 179: 30, 180: 30, 181: 30, 182: 30, 183: 30, 184: 30, 185: 30, 186: 30, 187: 30, 188: 30, 189: 30, 190: 30, 191: 30, 192: 30, 193: 30, 194: 30, 195: 30, 196: 30, 197: 30, 198: 30, 199: 30, 200: 30, 201: 30, 202: 30, 203: 30, 204: 30, 205: 30, 206: 30, 207: 30, 208: 30, 209: 30, 210: 30, 211: 30, 212: 30, 213: 30, 214: 30, 215: 30, 216: 30, 217: 30, 218: 30, 219: 30, 220: 30, 221: 30, 222: 30, 223: 30, 224: 30, 225: 30, 226: 30, 227: 30, 228: 30, 229: 30, 230: 30, 231: 30, 232: 30, 233: 30, 234: 30, 235: 30, 236: 30, 237: 30, 238: 30, 239: 30, 240: 30, 241: 30, 242: 30, 243: 30, 244: 30, 245: 30, 246: 30, 247: 30, 248: 30, 249: 30, 250: 30, 251: 30, 252: 30, 253: 30, 254: 30, 255: 30, 256: 30, 257: 30, 258: 30, 259: 30, 260: 30, 261: 30, 262: 30, 263: 30, 264: 30, 265: 30, 266: 30, 267: 30, 268: 30, 269: 30, 270: 30, 271: 30, 272: 30, 273: 30, 274: 30, 275: 30, 276: 30, 277: 30, 278: 30, 279: 30, 280: 30, 281: 30, 282: 30, 283: 30, 284: 30, 285: 30, 286: 30, 287: 30, 288: 30, 289: 30, 290: 30, 291: 30, 292: 30, 293: 30, 294: 30, 295: 30, 296: 30, 297: 30, 298: 30, 299: 30, 300: 30, 301: 30, 302: 30, 303: 30, 304: 30, 305: 30, 306: 30, 307: 30, 308: 30, 309: 30, 310: 30, 311: 30, 312: 30, 313: 30, 314: 30, 315: 30, 316: 30, 317: 30, 318: 30, 319: 30, 320: 30, 321: 30, 322: 30, 323: 30, 324: 30, 325: 30, 326: 30, 327: 30, 328: 30, 329: 30, 330: 30, 331: 30, 332: 30, 333: 30, 334: 30, 335: 30, 336: 30, 337: 30, 338: 30, 339: 30, 340: 30, 341: 30, 342: 30, 343: 30, 344: 30, 345: 30, 346: 30, 347: 30, 348: 30, 349: 30, 350: 30, 351: 30, 352: 30, 353: 30, 354: 30, 355: 30, 356: 30, 357: 30, 358: 30, 359: 30, 360: 30, 361: 30, 362: 30, 363: 30, 364: 30, 365: 30, 366: 30, 367: 30, 368: 30, 369: 30, 370: 30, 371: 30, 372: 30, 373: 30, 374: 30, 375: 30, 376: 30, 377: 30, 378: 30, 379: 30, 380: 30, 381: 30, 382: 30, 383: 30, 384: 30, 385: 30, 386: 30, 387: 30, 388: 30, 389: 30, 390: 30, 391: 30, 392: 30, 393: 30, 394: 30, 395: 30, 396: 30, 397: 30, 398: 30, 399: 30, 400: 30, 401: 30, 402: 30, 403: 30, 404: 30, 405: 30, 406: 30, 407: 30, 408: 30, 409: 30, 410: 30, 411: 30, 412: 30, 413: 30, 414: 30, 415: 30, 416: 30, 417: 30, 418: 30, 419: 30, 420: 30, 421: 30, 422: 30, 423: 30, 424: 30, 425: 30, 426: 30, 427: 30, 428: 30, 429: 30, 430: 30, 431: 30, 432: 30, 433: 30, 434: 30, 435: 30, 436: 30, 437: 30, 438: 30, 439: 30, 440: 30, 441: 30, 442: 30, 443: 30, 444: 30, 445: 30, 446: 30, 447: 30, 448: 30, 449: 30, 450: 30, 451: 30, 452: 30, 453: 30, 454: 30, 455: 30, 456: 30, 457: 30, 458: 30, 459: 30, 460: 30, 461: 30, 462: 30, 463: 30, 464: 30, 465: 30, 466: 30, 467: 30, 468: 30, 469: 30, 470: 30, 471: 30, 472: 30, 473: 30, 474: 30, 475: 30, 476: 30, 477: 30, 478: 30, 479: 30, 480: 30, 481: 30, 482: 30, 483: 30, 484: 30, 485: 30, 486: 30, 487: 30, 488: 30, 489: 30, 490: 30, 491: 30, 492: 30, 493: 30, 494: 30, 495: 30, 496: 30, 497: 30, 498: 30, 499: 30, 500: 30, 501: 30, 502: 30, 503: 30, 504: 30, 505: 30, 506: 30, 507: 30, 508: 30, 509: 30, 510: 30, 511: 30, 512: 30, 513: 30, 514: 30, 515: 30, 516: 30, 517: 30, 518: 30, 519: 30, 520: 30, 521: 30, 522: 30, 523: 30, 524: 30, 525: 30, 526: 30, 527: 30, 528: 30, 529: 30, 530: 30, 531: 30, 532: 30, 533: 30, 534: 30, 535: 30, 536: 30, 537: 30, 538: 30, 539: 30, 540: 30, 541: 30, 542: 30, 543: 30, 544: 30, 545: 30, 546: 30, 547: 30, 548: 30, 549: 30, 550: 30, 551: 30, 552: 30, 553: 30, 554: 30, 555: 30, 556: 30, 557: 30, 558: 30, 559: 30, 560: 30, 561: 30, 562: 30, 563: 30, 564: 30, 565: 30, 566: 30, 567: 30, 568: 30, 569: 30, 570: 30, 571: 30, 572: 30, 573: 30, 574: 30, 575: 30, 576: 30, 577: 30, 578: 30, 579: 30, 580: 30, 581: 30, 582: 30, 583: 30, 584: 30, 585: 30, 586: 30, 587: 30, 588: 30, 589: 30, 590: 30, 591: 30, 592: 30, 593: 30, 594: 30, 595: 30, 596: 30, 597: 30, 598: 30, 599: 30, 600: 30, 601: 30, 602: 30, 603: 30, 604: 30, 605: 30, 606: 30, 607: 30, 608: 30, 609: 30, 610: 30, 611: 30, 612: 30, 613: 30, 614: 30, 615: 30, 616: 30, 617: 30, 618: 30, 619: 30, 620: 30, 621: 30, 622: 30, 623: 30, 624: 30, 625: 30, 626: 30, 627: 30, 628: 30, 629: 30, 630: 30, 631: 30, 632: 30, 633: 30, 634: 30, 635: 30, 636: 30, 637: 30, 638: 30, 639: 30, 640: 30, 641: 30, 642: 30, 643: 30, 644: 30, 645: 30, 646: 30, 647: 30, 648: 30, 649: 30, 650: 30, 651: 30, 652: 30, 653: 30, 654: 30, 655: 30, 656: 30, 657: 30, 658: 30, 659: 30, 660: 30, 661: 30, 662: 30, 663: 30, 664: 30, 665: 30, 666: 30, 667: 30, 668: 30, 669: 30, 670: 30, 671: 30, 672: 30, 673: 30, 674: 30, 675: 30, 676: 30, 677: 30, 678: 30, 679: 30, 680: 30, 681: 30, 682: 30, 683: 30, 684: 30, 685: 30, 686: 30, 687: 30, 688: 30, 689: 30, 690: 30, 691: 30, 692: 30, 693: 30, 694: 30, 695: 30, 696: 30, 697: 30, 698: 30, 699: 30, 700: 30, 701: 30, 702: 30, 703: 30, 704: 30, 705: 30, 706: 30, 707: 30, 708: 30, 709: 30, 710: 30, 711: 30, 712: 30, 713: 30, 714: 30, 715: 30, 716: 30, 717: 30, 718: 30, 719: 30, 720: 30, 721: 30, 722: 30, 723: 30, 724: 30, 725: 30, 726: 30, 727: 30, 728: 30, 729: 30, 730: 30, 731: 30, 732: 30, 733: 30, 734: 30, 735: 30, 736: 30, 737: 30, 738: 30, 739: 30, 740: 30, 741: 30, 742: 30, 743: 30, 744: 30, 745: 30, 746: 30, 747: 30, 748: 30, 749: 30, 750: 30, 751: 30, 752: 30, 753: 30, 754: 30, 755: 30, 756: 30, 757: 30, 758: 30, 759: 30, 760: 30, 761: 30, 762: 30, 763: 30, 764: 30, 765: 30, 766: 30, 767: 30, 768: 30, 769: 30, 770: 30, 771: 30, 772: 30, 773: 30, 774: 30, 775: 30, 776: 30, 777: 30, 778: 30, 779: 30, 780: 30, 781: 30, 782: 30, 783: 30, 784: 30, 785: 30, 786: 30, 787: 30, 788: 30, 789: 30, 790: 30, 791: 30, 792: 30, 793: 30, 794: 30, 795: 30, 796: 30, 797: 30, 798: 30, 799: 30, 800: 30, 801: 30, 802: 30, 803: 30, 804: 30, 805: 30, 806: 30, 807: 30, 808: 30, 809: 30, 810: 30, 811: 30, 812: 30, 813: 30, 814: 30, 815: 30, 816: 30, 817: 30, 818: 30, 819: 30, 820: 30, 821: 30, 822: 30, 823: 30, 824: 30, 825: 30, 826: 30, 827: 30, 828: 30, 829: 30, 830: 30, 831: 30, 832: 30, 833: 30, 834: 30, 835: 30, 836: 30, 837: 30, 838: 30, 839: 30, 840: 30, 841: 30, 842: 30, 843: 30, 844: 30, 845: 30, 846: 30, 847: 30, 848: 30, 849: 30, 850: 30, 851: 30, 852: 30, 853: 30, 854: 30, 855: 30, 856: 30, 857: 30, 858: 30, 859: 30, 860: 30, 861: 30, 862: 30, 863: 30, 864: 30, 865: 30, 866: 30, 867: 30, 868: 30, 869: 30, 870: 30, 871: 30, 872: 30, 873: 30, 874: 30, 875: 30, 876: 30, 877: 30, 878: 30, 879: 30, 880: 30, 881: 30, 882: 30, 883: 30, 884: 30, 885: 30, 886: 30, 887: 30, 888: 30, 889: 30, 890: 30, 891: 30, 892: 30, 893: 30, 894: 30, 895: 30, 896: 30, 897: 30, 898: 30, 899: 30, 900: 30, 901: 30, 902: 30, 903: 30, 904: 30, 905: 30, 906: 30, 907: 30, 908: 30, 909: 30, 910: 30, 911: 30, 912: 30, 913: 30, 914: 30, 915: 30, 916: 30, 917: 30, 918: 30, 919: 30, 920: 30, 921: 30, 922: 30, 923: 30, 924: 30, 925: 30, 926: 30, 927: 30, 928: 30, 929: 30, 930: 30, 931: 30, 932: 30, 933: 30, 934: 30, 935: 30, 936: 30, 937: 30, 938: 30, 939: 30, 940: 30, 941: 30, 942: 30, 943: 1}\n",
            "{0: 29, 1: 30, 2: 30, 3: 30, 4: 30, 5: 30, 6: 30, 7: 30, 8: 30, 9: 30, 10: 30, 11: 30, 12: 30, 13: 30, 14: 30, 15: 30, 16: 30, 17: 30, 18: 30, 19: 30, 20: 30, 21: 30, 22: 30, 23: 30, 24: 30, 25: 30, 26: 30, 27: 30, 28: 30, 29: 30, 30: 30, 31: 30, 32: 30, 33: 30, 34: 30, 35: 30, 36: 30, 37: 30, 38: 30, 39: 30, 40: 30, 41: 30, 42: 30, 43: 30, 44: 30, 45: 30, 46: 30, 47: 30, 48: 30, 49: 30, 50: 30, 51: 30, 52: 30, 53: 30, 54: 30, 55: 30, 56: 30, 57: 30, 58: 30, 59: 30, 60: 30, 61: 30, 62: 30, 63: 30, 64: 30, 65: 30, 66: 30, 67: 30, 68: 30, 69: 30, 70: 30, 71: 30, 72: 30, 73: 30, 74: 30, 75: 30, 76: 30, 77: 30, 78: 30, 79: 30, 80: 30, 81: 30, 82: 30, 83: 30, 84: 30, 85: 30, 86: 30, 87: 30, 88: 30, 89: 30, 90: 30, 91: 30, 92: 30, 93: 30, 94: 30, 95: 30, 96: 30, 97: 30, 98: 30, 99: 30, 100: 30, 101: 30, 102: 30, 103: 30, 104: 30, 105: 30, 106: 30, 107: 30, 108: 30, 109: 30, 110: 30, 111: 30, 112: 30, 113: 30, 114: 30, 115: 30, 116: 30, 117: 30, 118: 30, 119: 30, 120: 30, 121: 30, 122: 30, 123: 30, 124: 30, 125: 30, 126: 30, 127: 30, 128: 30, 129: 30, 130: 30, 131: 30, 132: 30, 133: 30, 134: 30, 135: 30, 136: 30, 137: 30, 138: 30, 139: 30, 140: 30, 141: 30, 142: 30, 143: 30, 144: 30, 145: 30, 146: 30, 147: 30, 148: 30, 149: 30, 150: 30, 151: 30, 152: 30, 153: 30, 154: 30, 155: 30, 156: 30, 157: 30, 158: 30, 159: 30, 160: 30, 161: 30, 162: 30, 163: 30, 164: 30, 165: 30, 166: 30, 167: 30, 168: 30, 169: 30, 170: 30, 171: 30, 172: 30, 173: 30, 174: 30, 175: 30, 176: 30, 177: 30, 178: 30, 179: 30, 180: 30, 181: 30, 182: 30, 183: 30, 184: 30, 185: 30, 186: 30, 187: 30, 188: 30, 189: 30, 190: 30, 191: 30, 192: 30, 193: 30, 194: 30, 195: 30, 196: 30, 197: 30, 198: 30, 199: 30, 200: 30, 201: 30, 202: 30, 203: 30, 204: 30, 205: 30, 206: 30, 207: 30, 208: 30, 209: 30, 210: 30, 211: 30, 212: 30, 213: 30, 214: 30, 215: 30, 216: 30, 217: 30, 218: 30, 219: 30, 220: 30, 221: 30, 222: 30, 223: 30, 224: 30, 225: 30, 226: 30, 227: 30, 228: 30, 229: 30, 230: 30, 231: 30, 232: 30, 233: 30, 234: 30, 235: 30, 236: 30, 237: 30, 238: 30, 239: 30, 240: 30, 241: 30, 242: 30, 243: 30, 244: 30, 245: 30, 246: 30, 247: 30, 248: 30, 249: 30, 250: 30, 251: 30, 252: 30, 253: 30, 254: 30, 255: 30, 256: 30, 257: 30, 258: 30, 259: 30, 260: 30, 261: 30, 262: 30, 263: 30, 264: 30, 265: 30, 266: 30, 267: 30, 268: 30, 269: 30, 270: 30, 271: 30, 272: 30, 273: 30, 274: 30, 275: 30, 276: 30, 277: 30, 278: 30, 279: 30, 280: 30, 281: 30, 282: 30, 283: 30, 284: 30, 285: 30, 286: 30, 287: 30, 288: 30, 289: 30, 290: 30, 291: 30, 292: 30, 293: 30, 294: 30, 295: 30, 296: 30, 297: 30, 298: 30, 299: 30, 300: 30, 301: 30, 302: 30, 303: 30, 304: 30, 305: 30, 306: 30, 307: 30, 308: 30, 309: 30, 310: 30, 311: 30, 312: 30, 313: 30, 314: 30, 315: 30, 316: 30, 317: 30, 318: 30, 319: 30, 320: 30, 321: 30, 322: 30, 323: 30, 324: 30, 325: 30, 326: 30, 327: 30, 328: 30, 329: 30, 330: 30, 331: 30, 332: 30, 333: 30, 334: 30, 335: 30, 336: 30, 337: 30, 338: 30, 339: 30, 340: 30, 341: 30, 342: 30, 343: 30, 344: 30, 345: 30, 346: 30, 347: 30, 348: 30, 349: 30, 350: 30, 351: 30, 352: 30, 353: 30, 354: 30, 355: 30, 356: 30, 357: 30, 358: 30, 359: 30, 360: 30, 361: 30, 362: 30, 363: 30, 364: 30, 365: 30, 366: 30, 367: 30, 368: 30, 369: 30, 370: 30, 371: 30, 372: 30, 373: 30, 374: 30, 375: 30, 376: 30, 377: 30, 378: 30, 379: 30, 380: 30, 381: 30, 382: 30, 383: 30, 384: 30, 385: 30, 386: 30, 387: 30, 388: 30, 389: 30, 390: 30, 391: 30, 392: 30, 393: 30, 394: 30, 395: 30, 396: 30, 397: 30, 398: 30, 399: 30, 400: 30, 401: 30, 402: 30, 403: 30, 404: 30, 405: 30, 406: 30, 407: 30, 408: 30, 409: 30, 410: 30, 411: 30, 412: 30, 413: 30, 414: 30, 415: 30, 416: 30, 417: 30, 418: 30, 419: 30, 420: 30, 421: 30, 422: 30, 423: 30, 424: 30, 425: 30, 426: 30, 427: 30, 428: 30, 429: 30, 430: 30, 431: 30, 432: 30, 433: 30, 434: 30, 435: 30, 436: 30, 437: 30, 438: 30, 439: 30, 440: 30, 441: 30, 442: 30, 443: 30, 444: 30, 445: 30, 446: 30, 447: 30, 448: 30, 449: 30, 450: 30, 451: 30, 452: 30, 453: 30, 454: 30, 455: 30, 456: 30, 457: 30, 458: 30, 459: 30, 460: 30, 461: 30, 462: 30, 463: 30, 464: 30, 465: 30, 466: 30, 467: 30, 468: 30, 469: 30, 470: 30, 471: 30, 472: 30, 473: 30, 474: 30, 475: 30, 476: 30, 477: 30, 478: 30, 479: 30, 480: 30, 481: 30, 482: 30, 483: 30, 484: 30, 485: 30, 486: 30, 487: 30, 488: 30, 489: 30, 490: 30, 491: 30, 492: 30, 493: 30, 494: 30, 495: 30, 496: 30, 497: 30, 498: 30, 499: 30, 500: 30, 501: 30, 502: 30, 503: 30, 504: 30, 505: 30, 506: 30, 507: 30, 508: 30, 509: 30, 510: 30, 511: 30, 512: 30, 513: 30, 514: 30, 515: 30, 516: 30, 517: 30, 518: 30, 519: 30, 520: 30, 521: 30, 522: 30, 523: 30, 524: 30, 525: 30, 526: 30, 527: 30, 528: 30, 529: 30, 530: 30, 531: 30, 532: 30, 533: 30, 534: 30, 535: 30, 536: 30, 537: 30, 538: 30, 539: 30, 540: 30, 541: 30, 542: 30, 543: 30, 544: 30, 545: 30, 546: 30, 547: 30, 548: 30, 549: 30, 550: 30, 551: 30, 552: 30, 553: 30, 554: 30, 555: 30, 556: 30, 557: 30, 558: 30, 559: 30, 560: 30, 561: 30, 562: 30, 563: 30, 564: 30, 565: 30, 566: 30, 567: 30, 568: 30, 569: 30, 570: 30, 571: 30, 572: 30, 573: 30, 574: 30, 575: 30, 576: 30, 577: 30, 578: 30, 579: 30, 580: 30, 581: 30, 582: 30, 583: 30, 584: 30, 585: 30, 586: 30, 587: 30, 588: 30, 589: 30, 590: 30, 591: 30, 592: 30, 593: 30, 594: 30, 595: 30, 596: 30, 597: 30, 598: 30, 599: 30, 600: 30, 601: 30, 602: 30, 603: 30, 604: 30, 605: 30, 606: 30, 607: 30, 608: 30, 609: 30, 610: 30, 611: 30, 612: 30, 613: 30, 614: 30, 615: 30, 616: 30, 617: 30, 618: 30, 619: 30, 620: 30, 621: 30, 622: 30, 623: 30, 624: 30, 625: 30, 626: 30, 627: 30, 628: 30, 629: 30, 630: 30, 631: 30, 632: 30, 633: 30, 634: 30, 635: 30, 636: 30, 637: 30, 638: 30, 639: 30, 640: 30, 641: 30, 642: 30, 643: 30, 644: 30, 645: 30, 646: 30, 647: 30, 648: 30, 649: 30, 650: 30, 651: 30, 652: 30, 653: 30, 654: 30, 655: 30, 656: 30, 657: 30, 658: 30, 659: 30, 660: 30, 661: 30, 662: 30, 663: 30, 664: 30, 665: 30, 666: 30, 667: 30, 668: 30, 669: 30, 670: 30, 671: 30, 672: 30, 673: 30, 674: 30, 675: 30, 676: 30, 677: 30, 678: 30, 679: 30, 680: 30, 681: 30, 682: 30, 683: 30, 684: 30, 685: 30, 686: 30, 687: 30, 688: 30, 689: 30, 690: 30, 691: 30, 692: 30, 693: 30, 694: 30, 695: 30, 696: 30, 697: 30, 698: 30, 699: 30, 700: 30, 701: 30, 702: 30, 703: 30, 704: 30, 705: 30, 706: 30, 707: 30, 708: 30, 709: 30, 710: 30, 711: 30, 712: 30, 713: 30, 714: 30, 715: 30, 716: 30, 717: 30, 718: 1}\n"
          ],
          "name": "stdout"
        }
      ]
    },
    {
      "cell_type": "markdown",
      "metadata": {
        "id": "bJhXGOpZnC-h"
      },
      "source": [
        "---\n",
        "---\n",
        "\n",
        "# 4. Create a map of 'session_id' to 'psg_status' for each student_id\n",
        "\n",
        "---\n",
        "---"
      ]
    },
    {
      "cell_type": "markdown",
      "metadata": {
        "id": "83GOPRBXwwP_"
      },
      "source": [
        "### For each subject, create a map between each of their session_ids and that sessions psg_status"
      ]
    },
    {
      "cell_type": "code",
      "metadata": {
        "id": "_rSke05sobaa",
        "colab": {
          "base_uri": "https://localhost:8080/",
          "height": 66,
          "referenced_widgets": [
            "5d80e01edaac430282b4493d7eec7833",
            "5138581f68674be49356171927ee6e7a",
            "e24d31207e7d4c958eb4a79278855bb7",
            "d36338f88e41476ea59318d0d5d6b17f",
            "18b75323f1834f59ae394d19284bd85f",
            "84b0c365d97a45e8a2b167bdba7a3f49",
            "a49fd1236017480e96c73c382337640c",
            "d5b02bdcf36a445db1ad60c1e1fa38be"
          ]
        },
        "outputId": "0c129bb8-16a6-4851-a3fc-e0372a0ac126"
      },
      "source": [
        "map_subject_id_to_a_map_of_the_session_id_to_psg_status = {}\n",
        "\n",
        "for subject_id, sensor_df in tqdm(map_subject_to_df_with_id.items()):\n",
        "\n",
        "    # for this subject, create a dictionary to map their sessions to their psg status'\n",
        "    subjects_session_to_psg_map = {}\n",
        "\n",
        "    for session_id in list(set(sensor_df.session_id)):\n",
        "    \n",
        "        # get all id entries in df where psg_status = sleep_state\n",
        "        all_psg_status = sensor_df[sensor_df['session_id'] == session_id]['psg_status']\n",
        "\n",
        "        # get the most common psg_status across all rows with this session_id\n",
        "        most_common_psg_status = Counter(all_psg_status).most_common(1)[0][0]\n",
        "\n",
        "        # create an entry in the subject dictionary of a map between the session_id and the most common psg_status\n",
        "        subjects_session_to_psg_map[session_id] = most_common_psg_status\n",
        "\n",
        "    # add this subjects dictionaries to the map of each subject_id to their dictionaries\n",
        "    map_subject_id_to_a_map_of_the_session_id_to_psg_status[subject_id] = subjects_session_to_psg_map"
      ],
      "execution_count": null,
      "outputs": [
        {
          "output_type": "display_data",
          "data": {
            "application/vnd.jupyter.widget-view+json": {
              "model_id": "5d80e01edaac430282b4493d7eec7833",
              "version_minor": 0,
              "version_major": 2
            },
            "text/plain": [
              "HBox(children=(FloatProgress(value=0.0, max=31.0), HTML(value='')))"
            ]
          },
          "metadata": {
            "tags": []
          }
        },
        {
          "output_type": "stream",
          "text": [
            "\n"
          ],
          "name": "stdout"
        }
      ]
    },
    {
      "cell_type": "markdown",
      "metadata": {
        "id": "qIV0PXB1rU5K"
      },
      "source": [
        "##### Manually inspect this dictionary"
      ]
    },
    {
      "cell_type": "code",
      "metadata": {
        "colab": {
          "base_uri": "https://localhost:8080/"
        },
        "id": "35eHv0iirQrl",
        "outputId": "2cddfe66-36e6-4d26-92c8-feb8ca088837"
      },
      "source": [
        "for sub_id, id_to_psg_dict in map_subject_id_to_a_map_of_the_session_id_to_psg_status.items():\n",
        "\n",
        "    # print the subject_id\n",
        "    print(\"----------------\", sub_id, \"---------------------\")\n",
        "    \n",
        "    # iterate through the dictionary and print the values\n",
        "    for session_id, psg_status in id_to_psg_dict.items():\n",
        "        print(session_id, \"->\", psg_status)\n",
        "\n",
        "    # stop after one subject_id\n",
        "    break"
      ],
      "execution_count": null,
      "outputs": [
        {
          "output_type": "stream",
          "text": [
            "---------------- 46343 ---------------------\n",
            "0 -> 0\n",
            "1 -> 0\n",
            "2 -> 0\n",
            "3 -> 0\n",
            "4 -> 0\n",
            "5 -> 0\n",
            "6 -> 0\n",
            "7 -> 0\n",
            "8 -> 0\n",
            "9 -> 0\n",
            "10 -> 0\n",
            "11 -> 0\n",
            "12 -> 0\n",
            "13 -> 0\n",
            "14 -> 0\n",
            "15 -> 0\n",
            "16 -> 0\n",
            "17 -> 0\n",
            "18 -> 0\n",
            "19 -> 0\n",
            "20 -> 0\n",
            "21 -> 0\n",
            "22 -> 0\n",
            "23 -> 0\n",
            "24 -> 0\n",
            "25 -> 0\n",
            "26 -> 0\n",
            "27 -> 0\n",
            "28 -> 0\n",
            "29 -> 0\n",
            "30 -> 0\n",
            "31 -> 0\n",
            "32 -> 0\n",
            "33 -> 0\n",
            "34 -> 1\n",
            "35 -> 1\n",
            "36 -> 1\n",
            "37 -> 1\n",
            "38 -> 2\n",
            "39 -> 2\n",
            "40 -> 2\n",
            "41 -> 2\n",
            "42 -> 2\n",
            "43 -> 2\n",
            "44 -> 2\n",
            "45 -> 2\n",
            "46 -> 2\n",
            "47 -> 2\n",
            "48 -> 2\n",
            "49 -> 2\n",
            "50 -> 2\n",
            "51 -> 2\n",
            "52 -> 2\n",
            "53 -> 2\n",
            "54 -> 2\n",
            "55 -> 2\n",
            "56 -> 3\n",
            "57 -> 3\n",
            "58 -> 3\n",
            "59 -> 3\n",
            "60 -> 3\n",
            "61 -> 3\n",
            "62 -> 3\n",
            "63 -> 3\n",
            "64 -> 3\n",
            "65 -> 3\n",
            "66 -> 3\n",
            "67 -> 3\n",
            "68 -> 3\n",
            "69 -> 3\n",
            "70 -> 3\n",
            "71 -> 3\n",
            "72 -> 3\n",
            "73 -> 3\n",
            "74 -> 3\n",
            "75 -> 3\n",
            "76 -> 3\n",
            "77 -> 3\n",
            "78 -> 3\n",
            "79 -> 3\n",
            "80 -> 3\n",
            "81 -> 3\n",
            "82 -> 3\n",
            "83 -> 3\n",
            "84 -> 3\n",
            "85 -> 3\n",
            "86 -> 3\n",
            "87 -> 3\n",
            "88 -> 3\n",
            "89 -> 3\n",
            "90 -> 3\n",
            "91 -> 3\n",
            "92 -> 3\n",
            "93 -> 3\n",
            "94 -> 3\n",
            "95 -> 3\n",
            "96 -> 3\n",
            "97 -> 3\n",
            "98 -> 3\n",
            "99 -> 3\n",
            "100 -> 3\n",
            "101 -> 3\n",
            "102 -> 3\n",
            "103 -> 3\n",
            "104 -> 3\n",
            "105 -> 3\n",
            "106 -> 3\n",
            "107 -> 3\n",
            "108 -> 3\n",
            "109 -> 3\n",
            "110 -> 0\n",
            "111 -> 0\n",
            "112 -> 0\n",
            "113 -> 0\n",
            "114 -> 1\n",
            "115 -> 2\n",
            "116 -> 2\n",
            "117 -> 2\n",
            "118 -> 2\n",
            "119 -> 2\n",
            "120 -> 3\n",
            "121 -> 3\n",
            "122 -> 3\n",
            "123 -> 3\n",
            "124 -> 3\n",
            "125 -> 3\n",
            "126 -> 3\n",
            "127 -> 3\n",
            "128 -> 3\n",
            "129 -> 3\n",
            "130 -> 3\n",
            "131 -> 3\n",
            "132 -> 0\n",
            "133 -> 2\n",
            "134 -> 2\n",
            "135 -> 5\n",
            "136 -> 5\n",
            "137 -> 5\n",
            "138 -> 5\n",
            "139 -> 5\n",
            "140 -> 5\n",
            "141 -> 5\n",
            "142 -> 5\n",
            "143 -> 5\n",
            "144 -> 5\n",
            "145 -> 5\n",
            "146 -> 5\n",
            "147 -> 5\n",
            "148 -> 5\n",
            "149 -> 5\n",
            "150 -> 5\n",
            "151 -> 5\n",
            "152 -> 5\n",
            "153 -> 5\n",
            "154 -> 5\n",
            "155 -> 5\n",
            "156 -> 5\n",
            "157 -> 5\n",
            "158 -> 5\n",
            "159 -> 5\n",
            "160 -> 5\n",
            "161 -> 5\n",
            "162 -> 5\n",
            "163 -> 5\n",
            "164 -> 5\n",
            "165 -> 5\n",
            "166 -> 5\n",
            "167 -> 5\n",
            "168 -> 5\n",
            "169 -> 5\n",
            "170 -> 5\n",
            "171 -> 5\n",
            "172 -> 5\n",
            "173 -> 5\n",
            "174 -> 5\n",
            "175 -> 5\n",
            "176 -> 5\n",
            "177 -> 5\n",
            "178 -> 5\n",
            "179 -> 5\n",
            "180 -> 5\n",
            "181 -> 5\n",
            "182 -> 5\n",
            "183 -> 5\n",
            "184 -> 5\n",
            "185 -> 5\n",
            "186 -> 5\n",
            "187 -> 5\n",
            "188 -> 5\n",
            "189 -> 5\n",
            "190 -> 5\n",
            "191 -> 5\n",
            "192 -> 5\n",
            "193 -> 5\n",
            "194 -> 2\n",
            "195 -> 2\n",
            "196 -> 2\n",
            "197 -> 2\n",
            "198 -> 2\n",
            "199 -> 2\n",
            "200 -> 2\n",
            "201 -> 2\n",
            "202 -> 2\n",
            "203 -> 2\n",
            "204 -> 2\n",
            "205 -> 2\n",
            "206 -> 2\n",
            "207 -> 2\n",
            "208 -> 2\n",
            "209 -> 2\n",
            "210 -> 2\n",
            "211 -> 2\n",
            "212 -> 2\n",
            "213 -> 2\n",
            "214 -> 2\n",
            "215 -> 2\n",
            "216 -> 2\n",
            "217 -> 2\n",
            "218 -> 2\n",
            "219 -> 2\n",
            "220 -> 2\n",
            "221 -> 2\n",
            "222 -> 2\n",
            "223 -> 2\n",
            "224 -> 2\n",
            "225 -> 2\n",
            "226 -> 2\n",
            "227 -> 2\n",
            "228 -> 2\n",
            "229 -> 3\n",
            "230 -> 3\n",
            "231 -> 3\n",
            "232 -> 3\n",
            "233 -> 3\n",
            "234 -> 3\n",
            "235 -> 3\n",
            "236 -> 3\n",
            "237 -> 3\n",
            "238 -> 3\n",
            "239 -> 3\n",
            "240 -> 3\n",
            "241 -> 3\n",
            "242 -> 3\n",
            "243 -> 3\n",
            "244 -> 3\n",
            "245 -> 3\n",
            "246 -> 3\n",
            "247 -> 3\n",
            "248 -> 3\n",
            "249 -> 3\n",
            "250 -> 3\n",
            "251 -> 3\n",
            "252 -> 3\n",
            "253 -> 3\n",
            "254 -> 3\n",
            "255 -> 3\n",
            "256 -> 3\n",
            "257 -> 3\n",
            "258 -> 3\n",
            "259 -> 3\n",
            "260 -> 3\n",
            "261 -> 3\n",
            "262 -> 3\n",
            "263 -> 3\n",
            "264 -> 3\n",
            "265 -> 3\n",
            "266 -> 3\n",
            "267 -> 3\n",
            "268 -> 3\n",
            "269 -> 3\n",
            "270 -> 3\n",
            "271 -> 3\n",
            "272 -> 3\n",
            "273 -> 3\n",
            "274 -> 3\n",
            "275 -> 3\n",
            "276 -> 3\n",
            "277 -> 3\n",
            "278 -> 3\n",
            "279 -> 3\n",
            "280 -> 3\n",
            "281 -> 3\n",
            "282 -> 3\n",
            "283 -> 3\n",
            "284 -> 3\n",
            "285 -> 3\n",
            "286 -> 3\n",
            "287 -> 3\n",
            "288 -> 3\n",
            "289 -> 3\n",
            "290 -> 3\n",
            "291 -> 3\n",
            "292 -> 3\n",
            "293 -> 3\n",
            "294 -> 3\n",
            "295 -> 3\n",
            "296 -> 3\n",
            "297 -> 3\n",
            "298 -> 3\n",
            "299 -> 3\n",
            "300 -> 3\n",
            "301 -> 3\n",
            "302 -> 3\n",
            "303 -> 3\n",
            "304 -> 3\n",
            "305 -> 0\n",
            "306 -> 1\n",
            "307 -> 1\n",
            "308 -> 2\n",
            "309 -> 2\n",
            "310 -> 2\n",
            "311 -> 2\n",
            "312 -> 2\n",
            "313 -> 2\n",
            "314 -> 2\n",
            "315 -> 2\n",
            "316 -> 2\n",
            "317 -> 2\n",
            "318 -> 2\n",
            "319 -> 2\n",
            "320 -> 1\n",
            "321 -> 2\n",
            "322 -> 2\n",
            "323 -> 1\n",
            "324 -> 1\n",
            "325 -> 1\n",
            "326 -> 2\n",
            "327 -> 1\n",
            "328 -> 1\n",
            "329 -> 5\n",
            "330 -> 5\n",
            "331 -> 5\n",
            "332 -> 5\n",
            "333 -> 5\n",
            "334 -> 5\n",
            "335 -> 5\n",
            "336 -> 5\n",
            "337 -> 5\n",
            "338 -> 5\n",
            "339 -> 5\n",
            "340 -> 5\n",
            "341 -> 5\n",
            "342 -> 5\n",
            "343 -> 5\n",
            "344 -> 5\n",
            "345 -> 5\n",
            "346 -> 5\n",
            "347 -> 5\n",
            "348 -> 5\n",
            "349 -> 5\n",
            "350 -> 5\n",
            "351 -> 5\n",
            "352 -> 5\n",
            "353 -> 5\n",
            "354 -> 5\n",
            "355 -> 5\n",
            "356 -> 5\n",
            "357 -> 5\n",
            "358 -> 5\n",
            "359 -> 5\n",
            "360 -> 5\n",
            "361 -> 5\n",
            "362 -> 5\n",
            "363 -> 5\n",
            "364 -> 5\n",
            "365 -> 5\n",
            "366 -> 5\n",
            "367 -> 5\n",
            "368 -> 5\n",
            "369 -> 5\n",
            "370 -> 5\n",
            "371 -> 5\n",
            "372 -> 5\n",
            "373 -> 5\n",
            "374 -> 5\n",
            "375 -> 5\n",
            "376 -> 5\n",
            "377 -> 5\n",
            "378 -> 5\n",
            "379 -> 5\n",
            "380 -> 5\n",
            "381 -> 5\n",
            "382 -> 5\n",
            "383 -> 5\n",
            "384 -> 0\n",
            "385 -> 1\n",
            "386 -> 1\n",
            "387 -> 2\n",
            "388 -> 2\n",
            "389 -> 2\n",
            "390 -> 2\n",
            "391 -> 2\n",
            "392 -> 2\n",
            "393 -> 2\n",
            "394 -> 2\n",
            "395 -> 2\n",
            "396 -> 2\n",
            "397 -> 0\n",
            "398 -> 0\n",
            "399 -> 0\n",
            "400 -> 1\n",
            "401 -> 2\n",
            "402 -> 2\n",
            "403 -> 2\n",
            "404 -> 2\n",
            "405 -> 2\n",
            "406 -> 2\n",
            "407 -> 2\n",
            "408 -> 2\n",
            "409 -> 2\n",
            "410 -> 2\n",
            "411 -> 2\n",
            "412 -> 2\n",
            "413 -> 1\n",
            "414 -> 2\n",
            "415 -> 2\n",
            "416 -> 2\n",
            "417 -> 2\n",
            "418 -> 2\n",
            "419 -> 2\n",
            "420 -> 2\n",
            "421 -> 2\n",
            "422 -> 2\n",
            "423 -> 2\n",
            "424 -> 2\n",
            "425 -> 2\n",
            "426 -> 2\n",
            "427 -> 2\n",
            "428 -> 2\n",
            "429 -> 2\n",
            "430 -> 2\n",
            "431 -> 2\n",
            "432 -> 2\n",
            "433 -> 2\n",
            "434 -> 2\n",
            "435 -> 2\n",
            "436 -> 2\n",
            "437 -> 2\n",
            "438 -> 2\n",
            "439 -> 2\n",
            "440 -> 2\n",
            "441 -> 2\n",
            "442 -> 2\n",
            "443 -> 2\n",
            "444 -> 2\n",
            "445 -> 2\n",
            "446 -> 2\n",
            "447 -> 3\n",
            "448 -> 3\n",
            "449 -> 3\n",
            "450 -> 3\n",
            "451 -> 3\n",
            "452 -> 3\n",
            "453 -> 3\n",
            "454 -> 3\n",
            "455 -> 3\n",
            "456 -> 3\n",
            "457 -> 3\n",
            "458 -> 3\n",
            "459 -> 3\n",
            "460 -> 3\n",
            "461 -> 0\n",
            "462 -> 0\n",
            "463 -> 1\n",
            "464 -> 1\n",
            "465 -> 2\n",
            "466 -> 2\n",
            "467 -> 2\n",
            "468 -> 2\n",
            "469 -> 2\n",
            "470 -> 2\n",
            "471 -> 2\n",
            "472 -> 2\n",
            "473 -> 2\n",
            "474 -> 2\n",
            "475 -> 2\n",
            "476 -> 2\n",
            "477 -> 2\n",
            "478 -> 2\n",
            "479 -> 2\n",
            "480 -> 2\n",
            "481 -> 2\n",
            "482 -> 2\n",
            "483 -> 2\n",
            "484 -> 2\n",
            "485 -> 2\n",
            "486 -> 2\n",
            "487 -> 2\n",
            "488 -> 2\n",
            "489 -> 2\n",
            "490 -> 2\n",
            "491 -> 2\n",
            "492 -> 2\n",
            "493 -> 0\n",
            "494 -> 0\n",
            "495 -> 1\n",
            "496 -> 1\n",
            "497 -> 2\n",
            "498 -> 2\n",
            "499 -> 2\n",
            "500 -> 1\n",
            "501 -> 2\n",
            "502 -> 2\n",
            "503 -> 2\n",
            "504 -> 2\n",
            "505 -> 2\n",
            "506 -> 2\n",
            "507 -> 2\n",
            "508 -> 2\n",
            "509 -> 2\n",
            "510 -> 0\n",
            "511 -> 0\n",
            "512 -> 1\n",
            "513 -> 1\n",
            "514 -> 1\n",
            "515 -> 0\n",
            "516 -> 1\n",
            "517 -> 1\n",
            "518 -> 1\n",
            "519 -> 1\n",
            "520 -> 0\n",
            "521 -> 0\n",
            "522 -> 0\n",
            "523 -> 0\n",
            "524 -> 0\n",
            "525 -> 0\n",
            "526 -> 0\n",
            "527 -> 0\n",
            "528 -> 0\n",
            "529 -> 0\n",
            "530 -> 0\n",
            "531 -> 0\n",
            "532 -> 0\n",
            "533 -> 0\n",
            "534 -> 0\n",
            "535 -> 0\n",
            "536 -> 0\n",
            "537 -> 0\n",
            "538 -> 0\n",
            "539 -> 0\n",
            "540 -> 0\n",
            "541 -> 0\n",
            "542 -> 0\n",
            "543 -> 0\n",
            "544 -> 0\n",
            "545 -> 0\n",
            "546 -> 0\n",
            "547 -> 0\n",
            "548 -> 0\n",
            "549 -> 0\n",
            "550 -> 0\n",
            "551 -> 0\n",
            "552 -> 0\n"
          ],
          "name": "stdout"
        }
      ]
    },
    {
      "cell_type": "markdown",
      "metadata": {
        "id": "WxA9RM7DXvGw"
      },
      "source": [
        "---\n",
        "---\n",
        "\n",
        "# 5. Extract the features \n",
        "\n",
        "---\n",
        "---"
      ]
    },
    {
      "cell_type": "markdown",
      "metadata": {
        "id": "j3RunwNFZDi-"
      },
      "source": [
        "### Extract the features for each sensor"
      ]
    },
    {
      "cell_type": "code",
      "metadata": {
        "id": "qBTLMGuTPHxw",
        "colab": {
          "base_uri": "https://localhost:8080/",
          "height": 1000,
          "referenced_widgets": [
            "cf5ce30c097349db91b277b2ad48934e",
            "f3f592b60d474e119fdeeefd48dc85b7",
            "169a64c3fc554417845b110ec5fbfcd0",
            "af41be1e33e749669396c80bec86e070",
            "d550b68c52024e1e8c36b1d8374c60e3",
            "6b7f63dba19147868a997484b3711564",
            "cbe78c49335042c88b3fb6806f88cc54",
            "1bce595500ff4165953386791e9478e1"
          ]
        },
        "outputId": "99143a6c-aef7-47a6-bf4b-da6b3a19650c"
      },
      "source": [
        "map_id_to_extracted_features = {}\n",
        "for subject_id, cleaned_sensor_df in tqdm(map_subject_to_df_with_id.items()):\n",
        "\n",
        "    print(\"---------------------------------------------------\")\n",
        "    print(\"======================\", subject_id, \"======================\")\n",
        "    print(\"---------------------------------------------------\")\n",
        "\n",
        "    no_psg_status_cleaned_df = cleaned_sensor_df.drop(columns=[\"psg_status\"], axis=1).dropna()\n",
        "\n",
        "    no_psg_status_cleaned_df[\"session_id\"] = no_psg_status_cleaned_df[\"session_id\"].astype(str)\n",
        "\n",
        "    extracted_features = extract_features(no_psg_status_cleaned_df, column_value=None, column_sort=\"second\", column_id=\"session_id\")\n",
        "\n",
        "    print(extracted_features.shape)\n",
        "    extracted_features = extracted_features.dropna(axis='columns')\n",
        "    \n",
        "    print(extracted_features.shape)\n",
        "\n",
        "    map_id_to_extracted_features[subject_id] = extracted_features"
      ],
      "execution_count": null,
      "outputs": [
        {
          "output_type": "display_data",
          "data": {
            "application/vnd.jupyter.widget-view+json": {
              "model_id": "cf5ce30c097349db91b277b2ad48934e",
              "version_minor": 0,
              "version_major": 2
            },
            "text/plain": [
              "HBox(children=(FloatProgress(value=0.0, max=31.0), HTML(value='')))"
            ]
          },
          "metadata": {
            "tags": []
          }
        },
        {
          "output_type": "stream",
          "text": [
            "---------------------------------------------------\n",
            "====================== 46343 ======================\n",
            "---------------------------------------------------\n"
          ],
          "name": "stdout"
        },
        {
          "output_type": "stream",
          "text": [
            "Feature Extraction: 100%|██████████| 5/5 [02:36<00:00, 31.23s/it]\n"
          ],
          "name": "stderr"
        },
        {
          "output_type": "stream",
          "text": [
            "(553, 3895)\n",
            "(553, 1058)\n",
            "---------------------------------------------------\n",
            "====================== 759667 ======================\n",
            "---------------------------------------------------\n"
          ],
          "name": "stdout"
        },
        {
          "output_type": "stream",
          "text": [
            "Feature Extraction: 100%|██████████| 5/5 [02:12<00:00, 26.44s/it]\n"
          ],
          "name": "stderr"
        },
        {
          "output_type": "stream",
          "text": [
            "(474, 3895)\n",
            "(474, 1058)\n",
            "---------------------------------------------------\n",
            "====================== 781756 ======================\n",
            "---------------------------------------------------\n"
          ],
          "name": "stdout"
        },
        {
          "output_type": "stream",
          "text": [
            "Feature Extraction: 100%|██████████| 5/5 [04:36<00:00, 55.28s/it]\n"
          ],
          "name": "stderr"
        },
        {
          "output_type": "stream",
          "text": [
            "(980, 3895)\n",
            "(980, 1058)\n",
            "---------------------------------------------------\n",
            "====================== 844359 ======================\n",
            "---------------------------------------------------\n"
          ],
          "name": "stdout"
        },
        {
          "output_type": "stream",
          "text": [
            "Feature Extraction: 100%|██████████| 5/5 [04:12<00:00, 50.43s/it]\n"
          ],
          "name": "stderr"
        },
        {
          "output_type": "stream",
          "text": [
            "(897, 3895)\n",
            "(897, 1058)\n",
            "---------------------------------------------------\n",
            "====================== 1066528 ======================\n",
            "---------------------------------------------------\n"
          ],
          "name": "stdout"
        },
        {
          "output_type": "stream",
          "text": [
            "Feature Extraction: 100%|██████████| 5/5 [04:13<00:00, 50.61s/it]\n"
          ],
          "name": "stderr"
        },
        {
          "output_type": "stream",
          "text": [
            "(947, 3895)\n",
            "(947, 1755)\n",
            "---------------------------------------------------\n",
            "====================== 1360686 ======================\n",
            "---------------------------------------------------\n"
          ],
          "name": "stdout"
        },
        {
          "output_type": "stream",
          "text": [
            "Feature Extraction: 100%|██████████| 5/5 [04:17<00:00, 51.46s/it]\n"
          ],
          "name": "stderr"
        },
        {
          "output_type": "stream",
          "text": [
            "(925, 3895)\n",
            "(925, 1058)\n",
            "---------------------------------------------------\n",
            "====================== 1449548 ======================\n",
            "---------------------------------------------------\n"
          ],
          "name": "stdout"
        },
        {
          "output_type": "stream",
          "text": [
            "Feature Extraction: 100%|██████████| 5/5 [04:18<00:00, 51.80s/it]\n"
          ],
          "name": "stderr"
        },
        {
          "output_type": "stream",
          "text": [
            "(953, 3895)\n",
            "(953, 1058)\n",
            "---------------------------------------------------\n",
            "====================== 1455390 ======================\n",
            "---------------------------------------------------\n"
          ],
          "name": "stdout"
        },
        {
          "output_type": "stream",
          "text": [
            "Feature Extraction: 100%|██████████| 5/5 [04:27<00:00, 53.42s/it]\n"
          ],
          "name": "stderr"
        },
        {
          "output_type": "stream",
          "text": [
            "(955, 3895)\n",
            "(955, 1058)\n",
            "---------------------------------------------------\n",
            "====================== 1818471 ======================\n",
            "---------------------------------------------------\n"
          ],
          "name": "stdout"
        },
        {
          "output_type": "stream",
          "text": [
            "Feature Extraction: 100%|██████████| 5/5 [04:28<00:00, 53.66s/it]\n"
          ],
          "name": "stderr"
        },
        {
          "output_type": "stream",
          "text": [
            "(958, 3895)\n",
            "(958, 1058)\n",
            "---------------------------------------------------\n",
            "====================== 2598705 ======================\n",
            "---------------------------------------------------\n"
          ],
          "name": "stdout"
        },
        {
          "output_type": "stream",
          "text": [
            "Feature Extraction: 100%|██████████| 5/5 [04:14<00:00, 50.85s/it]\n"
          ],
          "name": "stderr"
        },
        {
          "output_type": "stream",
          "text": [
            "(954, 3895)\n",
            "(954, 1058)\n",
            "---------------------------------------------------\n",
            "====================== 2638030 ======================\n",
            "---------------------------------------------------\n"
          ],
          "name": "stdout"
        },
        {
          "output_type": "stream",
          "text": [
            "Feature Extraction: 100%|██████████| 5/5 [04:24<00:00, 52.95s/it]\n"
          ],
          "name": "stderr"
        },
        {
          "output_type": "stream",
          "text": [
            "(948, 3895)\n",
            "(948, 1058)\n",
            "---------------------------------------------------\n",
            "====================== 3509524 ======================\n",
            "---------------------------------------------------\n"
          ],
          "name": "stdout"
        },
        {
          "output_type": "stream",
          "text": [
            "Feature Extraction: 100%|██████████| 5/5 [01:57<00:00, 23.41s/it]\n"
          ],
          "name": "stderr"
        },
        {
          "output_type": "stream",
          "text": [
            "(416, 3895)\n",
            "(416, 1058)\n",
            "---------------------------------------------------\n",
            "====================== 3997827 ======================\n",
            "---------------------------------------------------\n"
          ],
          "name": "stdout"
        },
        {
          "output_type": "stream",
          "text": [
            "Feature Extraction: 100%|██████████| 5/5 [04:27<00:00, 53.55s/it]\n"
          ],
          "name": "stderr"
        },
        {
          "output_type": "stream",
          "text": [
            "(958, 3895)\n",
            "(958, 1058)\n",
            "---------------------------------------------------\n",
            "====================== 4018081 ======================\n",
            "---------------------------------------------------\n"
          ],
          "name": "stdout"
        },
        {
          "output_type": "stream",
          "text": [
            "Feature Extraction: 100%|██████████| 5/5 [02:18<00:00, 27.70s/it]\n"
          ],
          "name": "stderr"
        },
        {
          "output_type": "stream",
          "text": [
            "(499, 3895)\n",
            "(499, 1138)\n",
            "---------------------------------------------------\n",
            "====================== 4314139 ======================\n",
            "---------------------------------------------------\n"
          ],
          "name": "stdout"
        },
        {
          "output_type": "stream",
          "text": [
            "Feature Extraction: 100%|██████████| 5/5 [04:27<00:00, 53.45s/it]\n"
          ],
          "name": "stderr"
        },
        {
          "output_type": "stream",
          "text": [
            "(961, 3895)\n",
            "(961, 1058)\n",
            "---------------------------------------------------\n",
            "====================== 4426783 ======================\n",
            "---------------------------------------------------\n"
          ],
          "name": "stdout"
        },
        {
          "output_type": "stream",
          "text": [
            "Feature Extraction: 100%|██████████| 5/5 [04:33<00:00, 54.66s/it]\n"
          ],
          "name": "stderr"
        },
        {
          "output_type": "stream",
          "text": [
            "(979, 3895)\n",
            "(979, 1058)\n",
            "---------------------------------------------------\n",
            "====================== 5132496 ======================\n",
            "---------------------------------------------------\n"
          ],
          "name": "stdout"
        },
        {
          "output_type": "stream",
          "text": [
            "Feature Extraction: 100%|██████████| 5/5 [02:09<00:00, 25.94s/it]\n"
          ],
          "name": "stderr"
        },
        {
          "output_type": "stream",
          "text": [
            "(464, 3895)\n",
            "(464, 1058)\n",
            "---------------------------------------------------\n",
            "====================== 5383425 ======================\n",
            "---------------------------------------------------\n"
          ],
          "name": "stdout"
        },
        {
          "output_type": "stream",
          "text": [
            "Feature Extraction: 100%|██████████| 5/5 [04:32<00:00, 54.59s/it]\n"
          ],
          "name": "stderr"
        },
        {
          "output_type": "stream",
          "text": [
            "(977, 3895)\n",
            "(977, 1058)\n",
            "---------------------------------------------------\n",
            "====================== 5498603 ======================\n",
            "---------------------------------------------------\n"
          ],
          "name": "stdout"
        },
        {
          "output_type": "stream",
          "text": [
            "Feature Extraction: 100%|██████████| 5/5 [03:27<00:00, 41.57s/it]\n"
          ],
          "name": "stderr"
        },
        {
          "output_type": "stream",
          "text": [
            "(744, 3895)\n",
            "(744, 1058)\n",
            "---------------------------------------------------\n",
            "====================== 5797046 ======================\n",
            "---------------------------------------------------\n"
          ],
          "name": "stdout"
        },
        {
          "output_type": "stream",
          "text": [
            "Feature Extraction: 100%|██████████| 5/5 [04:23<00:00, 52.72s/it]\n"
          ],
          "name": "stderr"
        },
        {
          "output_type": "stream",
          "text": [
            "(939, 3895)\n",
            "(939, 1058)\n",
            "---------------------------------------------------\n",
            "====================== 6220552 ======================\n",
            "---------------------------------------------------\n"
          ],
          "name": "stdout"
        },
        {
          "output_type": "stream",
          "text": [
            "Feature Extraction: 100%|██████████| 5/5 [04:25<00:00, 53.16s/it]\n"
          ],
          "name": "stderr"
        },
        {
          "output_type": "stream",
          "text": [
            "(954, 3895)\n",
            "(954, 1058)\n",
            "---------------------------------------------------\n",
            "====================== 7749105 ======================\n",
            "---------------------------------------------------\n"
          ],
          "name": "stdout"
        },
        {
          "output_type": "stream",
          "text": [
            "Feature Extraction: 100%|██████████| 5/5 [00:33<00:00,  6.75s/it]\n"
          ],
          "name": "stderr"
        },
        {
          "output_type": "stream",
          "text": [
            "(123, 3895)\n",
            "(123, 1395)\n",
            "---------------------------------------------------\n",
            "====================== 8000685 ======================\n",
            "---------------------------------------------------\n"
          ],
          "name": "stdout"
        },
        {
          "output_type": "stream",
          "text": [
            "Feature Extraction: 100%|██████████| 5/5 [04:26<00:00, 53.32s/it]\n"
          ],
          "name": "stderr"
        },
        {
          "output_type": "stream",
          "text": [
            "(958, 3895)\n",
            "(958, 1058)\n",
            "---------------------------------------------------\n",
            "====================== 8173033 ======================\n",
            "---------------------------------------------------\n"
          ],
          "name": "stdout"
        },
        {
          "output_type": "stream",
          "text": [
            "Feature Extraction: 100%|██████████| 5/5 [04:25<00:00, 53.05s/it]\n"
          ],
          "name": "stderr"
        },
        {
          "output_type": "stream",
          "text": [
            "(955, 3895)\n",
            "(955, 1058)\n",
            "---------------------------------------------------\n",
            "====================== 8258170 ======================\n",
            "---------------------------------------------------\n"
          ],
          "name": "stdout"
        },
        {
          "output_type": "stream",
          "text": [
            "Feature Extraction: 100%|██████████| 5/5 [04:30<00:00, 54.09s/it]\n"
          ],
          "name": "stderr"
        },
        {
          "output_type": "stream",
          "text": [
            "(971, 3895)\n",
            "(971, 1058)\n",
            "---------------------------------------------------\n",
            "====================== 8530312 ======================\n",
            "---------------------------------------------------\n"
          ],
          "name": "stdout"
        },
        {
          "output_type": "stream",
          "text": [
            "Feature Extraction: 100%|██████████| 5/5 [04:20<00:00, 52.17s/it]\n"
          ],
          "name": "stderr"
        },
        {
          "output_type": "stream",
          "text": [
            "(949, 3895)\n",
            "(949, 1058)\n",
            "---------------------------------------------------\n",
            "====================== 8686948 ======================\n",
            "---------------------------------------------------\n"
          ],
          "name": "stdout"
        },
        {
          "output_type": "stream",
          "text": [
            "Feature Extraction: 100%|██████████| 5/5 [04:25<00:00, 53.18s/it]\n"
          ],
          "name": "stderr"
        },
        {
          "output_type": "stream",
          "text": [
            "(955, 3895)\n",
            "(955, 1058)\n",
            "---------------------------------------------------\n",
            "====================== 8692923 ======================\n",
            "---------------------------------------------------\n"
          ],
          "name": "stdout"
        },
        {
          "output_type": "stream",
          "text": [
            "Feature Extraction: 100%|██████████| 5/5 [04:21<00:00, 52.28s/it]\n"
          ],
          "name": "stderr"
        },
        {
          "output_type": "stream",
          "text": [
            "(935, 3895)\n",
            "(935, 1058)\n",
            "---------------------------------------------------\n",
            "====================== 9106476 ======================\n",
            "---------------------------------------------------\n"
          ],
          "name": "stdout"
        },
        {
          "output_type": "stream",
          "text": [
            "Feature Extraction: 100%|██████████| 5/5 [04:28<00:00, 53.75s/it]\n"
          ],
          "name": "stderr"
        },
        {
          "output_type": "stream",
          "text": [
            "(960, 3895)\n",
            "(960, 1058)\n",
            "---------------------------------------------------\n",
            "====================== 9618981 ======================\n",
            "---------------------------------------------------\n"
          ],
          "name": "stdout"
        },
        {
          "output_type": "stream",
          "text": [
            "Feature Extraction: 100%|██████████| 5/5 [04:23<00:00, 52.64s/it]\n"
          ],
          "name": "stderr"
        },
        {
          "output_type": "stream",
          "text": [
            "(944, 3895)\n",
            "(944, 1058)\n",
            "---------------------------------------------------\n",
            "====================== 9961348 ======================\n",
            "---------------------------------------------------\n"
          ],
          "name": "stdout"
        },
        {
          "output_type": "stream",
          "text": [
            "Feature Extraction: 100%|██████████| 5/5 [03:21<00:00, 40.22s/it]\n"
          ],
          "name": "stderr"
        },
        {
          "output_type": "stream",
          "text": [
            "(719, 3895)\n",
            "(719, 1058)\n",
            "\n"
          ],
          "name": "stdout"
        }
      ]
    },
    {
      "cell_type": "markdown",
      "metadata": {
        "id": "T1oYByXIMSEB"
      },
      "source": [
        "### Store the extracted features in a dictionary"
      ]
    },
    {
      "cell_type": "code",
      "metadata": {
        "id": "ao8sAjEbfo-I"
      },
      "source": [
        "# put the dataframe in the json file\n",
        "with open('map_subject_id_to_its_unfiltered_extracted_features_df.json', 'w') as fp:\n",
        "    json.dump(map_id_to_extracted_features, fp, cls=JSONEncoder)"
      ],
      "execution_count": null,
      "outputs": []
    },
    {
      "cell_type": "code",
      "metadata": {
        "id": "LhNLAviRn6c0"
      },
      "source": [
        "# for the no step data\n",
        "# with open('no_step_map_subject_id_to_its_unfiltered_extracted_features_df.json', 'w') as fp:\n",
        "#    json.dump(map_id_to_extracted_features, fp, cls=JSONEncoder)"
      ],
      "execution_count": null,
      "outputs": []
    },
    {
      "cell_type": "markdown",
      "metadata": {
        "id": "3KiVs-u_wV7S"
      },
      "source": [
        "---\n",
        "---\n",
        "\n",
        "# 6. Select the most relevant features from all of these extracted features\n",
        "\n",
        "---\n",
        "---"
      ]
    },
    {
      "cell_type": "code",
      "metadata": {
        "id": "7T4zgKMfxEfY",
        "colab": {
          "base_uri": "https://localhost:8080/",
          "height": 1000,
          "referenced_widgets": [
            "15338ed7b74542a4a504764ef43242af",
            "e416b584f57e4322adb2dd695b00779e",
            "855c97c9afff4a768c867dcf0c0775fa",
            "90b8ff2a3eca4d02b08c17a9daabd7fb",
            "1cc020a067da4578b0d9121b4940df41",
            "bdcf45715a0d4023a5b83d8325bcffe2",
            "95a2904066c3417f86f7bf90942145c8",
            "5a877267fb3345dc93a9c927b784230c"
          ]
        },
        "outputId": "903620cf-e334-4b91-e7fe-a7ec7d738118"
      },
      "source": [
        "map_id_to_filtered_extracted_features = {}\n",
        "for subject_id, extracted_features_df in tqdm(map_id_to_extracted_features.items()):\n",
        "\n",
        "    print(\"---------------------------------------------------\")\n",
        "    print(\"======================\", subject_id, \"======================\")\n",
        "    print(\"---------------------------------------------------\")\n",
        "    \n",
        "    map_of_session_id_to_psg_status = map_subject_id_to_a_map_of_the_session_id_to_psg_status[subject_id]\n",
        "\n",
        "    target_array = np.array(list(map_of_session_id_to_psg_status.values()))\n",
        "\n",
        "    print(extracted_features_df.shape)\n",
        "    features_filtered = select_features(extracted_features_df, target_array)\n",
        "    print(features_filtered.shape)\n",
        "\n",
        "    map_id_to_filtered_extracted_features[subject_id] = features_filtered"
      ],
      "execution_count": null,
      "outputs": [
        {
          "output_type": "display_data",
          "data": {
            "application/vnd.jupyter.widget-view+json": {
              "model_id": "15338ed7b74542a4a504764ef43242af",
              "version_minor": 0,
              "version_major": 2
            },
            "text/plain": [
              "HBox(children=(FloatProgress(value=0.0, max=31.0), HTML(value='')))"
            ]
          },
          "metadata": {
            "tags": []
          }
        },
        {
          "output_type": "stream",
          "text": [
            "---------------------------------------------------\n",
            "====================== 46343 ======================\n",
            "---------------------------------------------------\n",
            "(553, 1058)\n",
            "(553, 357)\n",
            "---------------------------------------------------\n",
            "====================== 759667 ======================\n",
            "---------------------------------------------------\n",
            "(474, 1058)\n",
            "(474, 385)\n",
            "---------------------------------------------------\n",
            "====================== 781756 ======================\n",
            "---------------------------------------------------\n",
            "(980, 1058)\n",
            "(980, 270)\n",
            "---------------------------------------------------\n",
            "====================== 844359 ======================\n",
            "---------------------------------------------------\n",
            "(897, 1058)\n",
            "(897, 362)\n",
            "---------------------------------------------------\n",
            "====================== 1066528 ======================\n",
            "---------------------------------------------------\n",
            "(947, 1755)\n",
            "(947, 653)\n",
            "---------------------------------------------------\n",
            "====================== 1360686 ======================\n",
            "---------------------------------------------------\n",
            "(925, 1058)\n",
            "(925, 263)\n",
            "---------------------------------------------------\n",
            "====================== 1449548 ======================\n",
            "---------------------------------------------------\n",
            "(953, 1058)\n",
            "(953, 395)\n",
            "---------------------------------------------------\n",
            "====================== 1455390 ======================\n",
            "---------------------------------------------------\n",
            "(955, 1058)\n",
            "(955, 207)\n",
            "---------------------------------------------------\n",
            "====================== 1818471 ======================\n",
            "---------------------------------------------------\n",
            "(958, 1058)\n",
            "(958, 293)\n",
            "---------------------------------------------------\n",
            "====================== 2598705 ======================\n",
            "---------------------------------------------------\n",
            "(954, 1058)\n",
            "(954, 384)\n",
            "---------------------------------------------------\n",
            "====================== 2638030 ======================\n",
            "---------------------------------------------------\n",
            "(948, 1058)\n",
            "(948, 183)\n",
            "---------------------------------------------------\n",
            "====================== 3509524 ======================\n",
            "---------------------------------------------------\n",
            "(416, 1058)\n",
            "(416, 168)\n",
            "---------------------------------------------------\n",
            "====================== 3997827 ======================\n",
            "---------------------------------------------------\n",
            "(958, 1058)\n",
            "(958, 249)\n",
            "---------------------------------------------------\n",
            "====================== 4018081 ======================\n",
            "---------------------------------------------------\n",
            "(499, 1138)\n",
            "(499, 254)\n",
            "---------------------------------------------------\n",
            "====================== 4314139 ======================\n",
            "---------------------------------------------------\n",
            "(961, 1058)\n",
            "(961, 304)\n",
            "---------------------------------------------------\n",
            "====================== 4426783 ======================\n",
            "---------------------------------------------------\n",
            "(979, 1058)\n",
            "(979, 202)\n",
            "---------------------------------------------------\n",
            "====================== 5132496 ======================\n",
            "---------------------------------------------------\n",
            "(464, 1058)\n",
            "(464, 118)\n",
            "---------------------------------------------------\n",
            "====================== 5383425 ======================\n",
            "---------------------------------------------------\n",
            "(977, 1058)\n",
            "(977, 255)\n",
            "---------------------------------------------------\n",
            "====================== 5498603 ======================\n",
            "---------------------------------------------------\n",
            "(744, 1058)\n",
            "(744, 310)\n",
            "---------------------------------------------------\n",
            "====================== 5797046 ======================\n",
            "---------------------------------------------------\n",
            "(939, 1058)\n",
            "(939, 251)\n",
            "---------------------------------------------------\n",
            "====================== 6220552 ======================\n",
            "---------------------------------------------------\n",
            "(954, 1058)\n",
            "(954, 364)\n",
            "---------------------------------------------------\n",
            "====================== 7749105 ======================\n",
            "---------------------------------------------------\n",
            "(123, 1395)\n",
            "(123, 58)\n",
            "---------------------------------------------------\n",
            "====================== 8000685 ======================\n",
            "---------------------------------------------------\n",
            "(958, 1058)\n",
            "(958, 204)\n",
            "---------------------------------------------------\n",
            "====================== 8173033 ======================\n",
            "---------------------------------------------------\n",
            "(955, 1058)\n",
            "(955, 203)\n",
            "---------------------------------------------------\n",
            "====================== 8258170 ======================\n",
            "---------------------------------------------------\n",
            "(971, 1058)\n",
            "(971, 282)\n",
            "---------------------------------------------------\n",
            "====================== 8530312 ======================\n",
            "---------------------------------------------------\n",
            "(949, 1058)\n",
            "(949, 167)\n",
            "---------------------------------------------------\n",
            "====================== 8686948 ======================\n",
            "---------------------------------------------------\n",
            "(955, 1058)\n",
            "(955, 143)\n",
            "---------------------------------------------------\n",
            "====================== 8692923 ======================\n",
            "---------------------------------------------------\n",
            "(935, 1058)\n",
            "(935, 215)\n",
            "---------------------------------------------------\n",
            "====================== 9106476 ======================\n",
            "---------------------------------------------------\n",
            "(960, 1058)\n",
            "(960, 223)\n",
            "---------------------------------------------------\n",
            "====================== 9618981 ======================\n",
            "---------------------------------------------------\n",
            "(944, 1058)\n",
            "(944, 300)\n",
            "---------------------------------------------------\n",
            "====================== 9961348 ======================\n",
            "---------------------------------------------------\n",
            "(719, 1058)\n",
            "(719, 403)\n",
            "\n"
          ],
          "name": "stdout"
        }
      ]
    },
    {
      "cell_type": "markdown",
      "metadata": {
        "id": "D-55gPKrnclE"
      },
      "source": [
        "---\n",
        "---\n",
        "\n",
        "# 7. Store this data in a json file\n",
        "\n",
        "---\n",
        "---"
      ]
    },
    {
      "cell_type": "markdown",
      "metadata": {
        "id": "3xIiAWnenlrc"
      },
      "source": [
        "### Store the extracted features dictionary in a Json file"
      ]
    },
    {
      "cell_type": "code",
      "metadata": {
        "id": "R_X9cii1rlie"
      },
      "source": [
        "# put the dataframe in the json file\n",
        "with open('map_subject_id_to_its_filtered_extracted_features_df.json', 'w') as fp:\n",
        "    json.dump(map_id_to_filtered_extracted_features, fp, cls=JSONEncoder)\n",
        "# for the no step data\n",
        "# with open('no_step_map_subject_id_to_its_filtered_extracted_features_df.json', 'w') as fp:\n",
        "#     json.dump(map_id_to_filtered_extracted_features, fp, cls=JSONEncoder)"
      ],
      "execution_count": null,
      "outputs": []
    },
    {
      "cell_type": "markdown",
      "metadata": {
        "id": "UCUQNKm4xKsX"
      },
      "source": [
        "### Store the psg_status map to all of the sessions with that status in a Json file"
      ]
    },
    {
      "cell_type": "code",
      "metadata": {
        "id": "ng5asu_TxKsX"
      },
      "source": [
        "# put the dataframe in the json file\n",
        "with open('map_subject_id_to_a_map_of_the_session_id_to_psg_status.json', 'w') as fp:\n",
        "    json.dump(map_subject_id_to_a_map_of_the_session_id_to_psg_status, fp, cls=JSONEncoder)"
      ],
      "execution_count": null,
      "outputs": []
    },
    {
      "cell_type": "code",
      "metadata": {
        "id": "mVrlsooMirnk"
      },
      "source": [
        ""
      ],
      "execution_count": null,
      "outputs": []
    }
  ]
}